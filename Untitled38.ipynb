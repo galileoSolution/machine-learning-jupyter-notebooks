{
 "cells": [
  {
   "cell_type": "code",
   "execution_count": 24,
   "metadata": {},
   "outputs": [],
   "source": [
    "import pandas as pd\n",
    "import numpy as np\n",
    "import seaborn as sns\n",
    "import matplotlib.pyplot as plt"
   ]
  },
  {
   "cell_type": "code",
   "execution_count": 2,
   "metadata": {},
   "outputs": [],
   "source": [
    "data1 = pd.read_csv('mr_copy.csv')"
   ]
  },
  {
   "cell_type": "code",
   "execution_count": 4,
   "metadata": {},
   "outputs": [],
   "source": [
    "data1.drop('Unnamed: 0',axis = 1,inplace = True)"
   ]
  },
  {
   "cell_type": "code",
   "execution_count": 5,
   "metadata": {},
   "outputs": [
    {
     "data": {
      "text/html": [
       "<div>\n",
       "<style scoped>\n",
       "    .dataframe tbody tr th:only-of-type {\n",
       "        vertical-align: middle;\n",
       "    }\n",
       "\n",
       "    .dataframe tbody tr th {\n",
       "        vertical-align: top;\n",
       "    }\n",
       "\n",
       "    .dataframe thead th {\n",
       "        text-align: right;\n",
       "    }\n",
       "</style>\n",
       "<table border=\"1\" class=\"dataframe\">\n",
       "  <thead>\n",
       "    <tr style=\"text-align: right;\">\n",
       "      <th></th>\n",
       "      <th>Product_Weight</th>\n",
       "      <th>Product_Shelf_Visibility</th>\n",
       "      <th>Product_Price</th>\n",
       "      <th>Supermarket_Opening_Year</th>\n",
       "      <th>Supermarket _Size</th>\n",
       "      <th>Product_Supermarket_Sales</th>\n",
       "      <th>b</th>\n",
       "      <th>d</th>\n",
       "      <th>Low Fat</th>\n",
       "      <th>Normal Fat</th>\n",
       "      <th>Ultra Low fat</th>\n",
       "      <th>Cluster 1</th>\n",
       "      <th>Cluster 2</th>\n",
       "      <th>Cluster 3</th>\n",
       "      <th>Grocery Store</th>\n",
       "      <th>Supermarket Type1</th>\n",
       "      <th>Supermarket Type2</th>\n",
       "      <th>Supermarket Type3</th>\n",
       "    </tr>\n",
       "  </thead>\n",
       "  <tbody>\n",
       "    <tr>\n",
       "      <th>0</th>\n",
       "      <td>8.270</td>\n",
       "      <td>0.214125</td>\n",
       "      <td>459.98</td>\n",
       "      <td>2005</td>\n",
       "      <td>1.0</td>\n",
       "      <td>1469.9090</td>\n",
       "      <td>0.270</td>\n",
       "      <td>0.98</td>\n",
       "      <td>0</td>\n",
       "      <td>1</td>\n",
       "      <td>0</td>\n",
       "      <td>0</td>\n",
       "      <td>0</td>\n",
       "      <td>1</td>\n",
       "      <td>1</td>\n",
       "      <td>0</td>\n",
       "      <td>0</td>\n",
       "      <td>0</td>\n",
       "    </tr>\n",
       "    <tr>\n",
       "      <th>1</th>\n",
       "      <td>8.270</td>\n",
       "      <td>0.127821</td>\n",
       "      <td>464.98</td>\n",
       "      <td>1994</td>\n",
       "      <td>2.0</td>\n",
       "      <td>9260.5360</td>\n",
       "      <td>0.270</td>\n",
       "      <td>0.98</td>\n",
       "      <td>0</td>\n",
       "      <td>1</td>\n",
       "      <td>0</td>\n",
       "      <td>0</td>\n",
       "      <td>0</td>\n",
       "      <td>1</td>\n",
       "      <td>0</td>\n",
       "      <td>1</td>\n",
       "      <td>0</td>\n",
       "      <td>0</td>\n",
       "    </tr>\n",
       "    <tr>\n",
       "      <th>2</th>\n",
       "      <td>7.390</td>\n",
       "      <td>0.082171</td>\n",
       "      <td>477.38</td>\n",
       "      <td>1994</td>\n",
       "      <td>2.0</td>\n",
       "      <td>8655.6650</td>\n",
       "      <td>0.390</td>\n",
       "      <td>0.38</td>\n",
       "      <td>1</td>\n",
       "      <td>0</td>\n",
       "      <td>0</td>\n",
       "      <td>0</td>\n",
       "      <td>0</td>\n",
       "      <td>1</td>\n",
       "      <td>0</td>\n",
       "      <td>1</td>\n",
       "      <td>0</td>\n",
       "      <td>0</td>\n",
       "    </tr>\n",
       "    <tr>\n",
       "      <th>3</th>\n",
       "      <td>6.115</td>\n",
       "      <td>0.011791</td>\n",
       "      <td>472.63</td>\n",
       "      <td>2005</td>\n",
       "      <td>1.0</td>\n",
       "      <td>1328.2487</td>\n",
       "      <td>0.115</td>\n",
       "      <td>0.63</td>\n",
       "      <td>0</td>\n",
       "      <td>1</td>\n",
       "      <td>0</td>\n",
       "      <td>0</td>\n",
       "      <td>0</td>\n",
       "      <td>1</td>\n",
       "      <td>1</td>\n",
       "      <td>0</td>\n",
       "      <td>0</td>\n",
       "      <td>0</td>\n",
       "    </tr>\n",
       "    <tr>\n",
       "      <th>4</th>\n",
       "      <td>6.115</td>\n",
       "      <td>0.007038</td>\n",
       "      <td>473.13</td>\n",
       "      <td>1994</td>\n",
       "      <td>2.0</td>\n",
       "      <td>8439.3490</td>\n",
       "      <td>0.115</td>\n",
       "      <td>0.13</td>\n",
       "      <td>0</td>\n",
       "      <td>1</td>\n",
       "      <td>0</td>\n",
       "      <td>0</td>\n",
       "      <td>0</td>\n",
       "      <td>1</td>\n",
       "      <td>0</td>\n",
       "      <td>1</td>\n",
       "      <td>0</td>\n",
       "      <td>0</td>\n",
       "    </tr>\n",
       "  </tbody>\n",
       "</table>\n",
       "</div>"
      ],
      "text/plain": [
       "   Product_Weight  Product_Shelf_Visibility  Product_Price  \\\n",
       "0           8.270                  0.214125         459.98   \n",
       "1           8.270                  0.127821         464.98   \n",
       "2           7.390                  0.082171         477.38   \n",
       "3           6.115                  0.011791         472.63   \n",
       "4           6.115                  0.007038         473.13   \n",
       "\n",
       "   Supermarket_Opening_Year  Supermarket _Size  Product_Supermarket_Sales  \\\n",
       "0                      2005                1.0                  1469.9090   \n",
       "1                      1994                2.0                  9260.5360   \n",
       "2                      1994                2.0                  8655.6650   \n",
       "3                      2005                1.0                  1328.2487   \n",
       "4                      1994                2.0                  8439.3490   \n",
       "\n",
       "       b     d  Low Fat  Normal Fat  Ultra Low fat  Cluster 1  Cluster 2  \\\n",
       "0  0.270  0.98        0           1              0          0          0   \n",
       "1  0.270  0.98        0           1              0          0          0   \n",
       "2  0.390  0.38        1           0              0          0          0   \n",
       "3  0.115  0.63        0           1              0          0          0   \n",
       "4  0.115  0.13        0           1              0          0          0   \n",
       "\n",
       "   Cluster 3  Grocery Store  Supermarket Type1  Supermarket Type2  \\\n",
       "0          1              1                  0                  0   \n",
       "1          1              0                  1                  0   \n",
       "2          1              0                  1                  0   \n",
       "3          1              1                  0                  0   \n",
       "4          1              0                  1                  0   \n",
       "\n",
       "   Supermarket Type3  \n",
       "0                  0  \n",
       "1                  0  \n",
       "2                  0  \n",
       "3                  0  \n",
       "4                  0  "
      ]
     },
     "execution_count": 5,
     "metadata": {},
     "output_type": "execute_result"
    }
   ],
   "source": [
    "data1.head()"
   ]
  },
  {
   "cell_type": "code",
   "execution_count": 6,
   "metadata": {},
   "outputs": [],
   "source": [
    "data2 = pd.read_csv('kaggled1.csv')"
   ]
  },
  {
   "cell_type": "code",
   "execution_count": 7,
   "metadata": {},
   "outputs": [
    {
     "data": {
      "text/html": [
       "<div>\n",
       "<style scoped>\n",
       "    .dataframe tbody tr th:only-of-type {\n",
       "        vertical-align: middle;\n",
       "    }\n",
       "\n",
       "    .dataframe tbody tr th {\n",
       "        vertical-align: top;\n",
       "    }\n",
       "\n",
       "    .dataframe thead th {\n",
       "        text-align: right;\n",
       "    }\n",
       "</style>\n",
       "<table border=\"1\" class=\"dataframe\">\n",
       "  <thead>\n",
       "    <tr style=\"text-align: right;\">\n",
       "      <th></th>\n",
       "      <th>Product_Supermarket_Identifier</th>\n",
       "      <th>Product_Supermarket_Sales</th>\n",
       "    </tr>\n",
       "  </thead>\n",
       "  <tbody>\n",
       "    <tr>\n",
       "      <th>0</th>\n",
       "      <td>DRA59_CHUKWUDI010</td>\n",
       "      <td>1467.0317</td>\n",
       "    </tr>\n",
       "    <tr>\n",
       "      <th>1</th>\n",
       "      <td>DRA59_CHUKWUDI013</td>\n",
       "      <td>9107.4100</td>\n",
       "    </tr>\n",
       "    <tr>\n",
       "      <th>2</th>\n",
       "      <td>DRB01_CHUKWUDI013</td>\n",
       "      <td>8542.2510</td>\n",
       "    </tr>\n",
       "    <tr>\n",
       "      <th>3</th>\n",
       "      <td>DRB13_CHUKWUDI010</td>\n",
       "      <td>1485.2194</td>\n",
       "    </tr>\n",
       "    <tr>\n",
       "      <th>4</th>\n",
       "      <td>DRB13_CHUKWUDI013</td>\n",
       "      <td>8646.8530</td>\n",
       "    </tr>\n",
       "  </tbody>\n",
       "</table>\n",
       "</div>"
      ],
      "text/plain": [
       "  Product_Supermarket_Identifier  Product_Supermarket_Sales\n",
       "0              DRA59_CHUKWUDI010                  1467.0317\n",
       "1              DRA59_CHUKWUDI013                  9107.4100\n",
       "2              DRB01_CHUKWUDI013                  8542.2510\n",
       "3              DRB13_CHUKWUDI010                  1485.2194\n",
       "4              DRB13_CHUKWUDI013                  8646.8530"
      ]
     },
     "execution_count": 7,
     "metadata": {},
     "output_type": "execute_result"
    }
   ],
   "source": [
    "data2.head()"
   ]
  },
  {
   "cell_type": "code",
   "execution_count": 8,
   "metadata": {},
   "outputs": [],
   "source": [
    "data1['Product_Supermarket_Sales'] =  data2['Product_Supermarket_Sales']"
   ]
  },
  {
   "cell_type": "code",
   "execution_count": 11,
   "metadata": {},
   "outputs": [],
   "source": [
    "data = data1 "
   ]
  },
  {
   "cell_type": "code",
   "execution_count": 12,
   "metadata": {},
   "outputs": [],
   "source": [
    "X = data.drop('Product_Supermarket_Sales',axis = 1)"
   ]
  },
  {
   "cell_type": "code",
   "execution_count": 13,
   "metadata": {},
   "outputs": [],
   "source": [
    "y = data['Product_Supermarket_Sales']"
   ]
  },
  {
   "cell_type": "code",
   "execution_count": 15,
   "metadata": {},
   "outputs": [],
   "source": [
    "from sklearn.cross_validation import train_test_split"
   ]
  },
  {
   "cell_type": "code",
   "execution_count": 16,
   "metadata": {},
   "outputs": [],
   "source": [
    "X_train, X_test, y_train, y_test = train_test_split(X, y, test_size=0.3, random_state=42)"
   ]
  },
  {
   "cell_type": "code",
   "execution_count": 17,
   "metadata": {},
   "outputs": [],
   "source": [
    "from sklearn.linear_model import LinearRegression"
   ]
  },
  {
   "cell_type": "code",
   "execution_count": 18,
   "metadata": {},
   "outputs": [],
   "source": [
    "mod = LinearRegression()"
   ]
  },
  {
   "cell_type": "code",
   "execution_count": 19,
   "metadata": {},
   "outputs": [
    {
     "data": {
      "text/plain": [
       "LinearRegression(copy_X=True, fit_intercept=True, n_jobs=1, normalize=False)"
      ]
     },
     "execution_count": 19,
     "metadata": {},
     "output_type": "execute_result"
    }
   ],
   "source": [
    "mod.fit(X_train,y_train)"
   ]
  },
  {
   "cell_type": "code",
   "execution_count": 20,
   "metadata": {},
   "outputs": [],
   "source": [
    "pred = mod.predict(X_test)"
   ]
  },
  {
   "cell_type": "code",
   "execution_count": 25,
   "metadata": {},
   "outputs": [
    {
     "data": {
      "text/plain": [
       "<matplotlib.collections.PathCollection at 0x24593c1e9b0>"
      ]
     },
     "execution_count": 25,
     "metadata": {},
     "output_type": "execute_result"
    },
    {
     "data": {
      "image/png": "[encoded data removed]",
      "text/plain": [
       "<matplotlib.figure.Figure at 0x245938d7128>"
      ]
     },
     "metadata": {},
     "output_type": "display_data"
    }
   ],
   "source": [
    "plt.scatter(y_test,pred)"
   ]
  },
  {
   "cell_type": "code",
   "execution_count": 26,
   "metadata": {},
   "outputs": [],
   "source": [
    "from sklearn.cross_validation import cross_val_score\n",
    "s = cross_val_score(mod,X_test,y_test,cv =10)"
   ]
  },
  {
   "cell_type": "code",
   "execution_count": 27,
   "metadata": {},
   "outputs": [
    {
     "name": "stdout",
     "output_type": "stream",
     "text": [
      "95.71290211038162\n"
     ]
    }
   ],
   "source": [
    "print(s.mean()*100)"
   ]
  },
  {
   "cell_type": "code",
   "execution_count": 28,
   "metadata": {},
   "outputs": [],
   "source": [
    "from xgboost import XGBRegressor"
   ]
  },
  {
   "cell_type": "code",
   "execution_count": 29,
   "metadata": {},
   "outputs": [],
   "source": [
    "model = XGBRegressor()"
   ]
  },
  {
   "cell_type": "code",
   "execution_count": 30,
   "metadata": {},
   "outputs": [
    {
     "data": {
      "text/plain": [
       "XGBRegressor(base_score=0.5, booster='gbtree', colsample_bylevel=1,\n",
       "       colsample_bytree=1, gamma=0, learning_rate=0.1, max_delta_step=0,\n",
       "       max_depth=3, min_child_weight=1, missing=None, n_estimators=100,\n",
       "       n_jobs=1, nthread=None, objective='reg:linear', random_state=0,\n",
       "       reg_alpha=0, reg_lambda=1, scale_pos_weight=1, seed=None,\n",
       "       silent=True, subsample=1)"
      ]
     },
     "execution_count": 30,
     "metadata": {},
     "output_type": "execute_result"
    }
   ],
   "source": [
    "model.fit(X_train,y_train)"
   ]
  },
  {
   "cell_type": "code",
   "execution_count": 31,
   "metadata": {},
   "outputs": [],
   "source": [
    "pred1 = model.predict(X_test)"
   ]
  },
  {
   "cell_type": "code",
   "execution_count": 32,
   "metadata": {},
   "outputs": [
    {
     "data": {
      "text/plain": [
       "<matplotlib.collections.PathCollection at 0x24593e4bac8>"
      ]
     },
     "execution_count": 32,
     "metadata": {},
     "output_type": "execute_result"
    },
    {
     "data": {
      "image/png": "[encoded data removed]",
      "text/plain": [
       "<matplotlib.figure.Figure at 0x2459355eda0>"
      ]
     },
     "metadata": {},
     "output_type": "display_data"
    }
   ],
   "source": [
    "plt.scatter(y_test,pred1)"
   ]
  },
  {
   "cell_type": "code",
   "execution_count": 33,
   "metadata": {},
   "outputs": [],
   "source": [
    "from sklearn.cross_validation import cross_val_score\n",
    "score = cross_val_score(model,X_test,y_test,cv =10)"
   ]
  },
  {
   "cell_type": "code",
   "execution_count": 34,
   "metadata": {},
   "outputs": [
    {
     "name": "stdout",
     "output_type": "stream",
     "text": [
      "98.54332204373408\n"
     ]
    }
   ],
   "source": [
    "print(score.mean()*100)"
   ]
  },
  {
   "cell_type": "code",
   "execution_count": 36,
   "metadata": {},
   "outputs": [],
   "source": [
    "from sklearn.grid_search import GridSearchCV"
   ]
  },
  {
   "cell_type": "code",
   "execution_count": 37,
   "metadata": {},
   "outputs": [],
   "source": [
    "params = {\n",
    "        'gamma': [0.5,0.3, 1, 1.5, 2, 5],\n",
    "        'learning_rate' :[0.1,0.2,0.001]\n",
    "        }"
   ]
  },
  {
   "cell_type": "code",
   "execution_count": 38,
   "metadata": {},
   "outputs": [],
   "source": [
    "grid = GridSearchCV( XGBRegressor() , params, verbose =  3  )"
   ]
  },
  {
   "cell_type": "code",
   "execution_count": 39,
   "metadata": {},
   "outputs": [
    {
     "name": "stdout",
     "output_type": "stream",
     "text": [
      "Fitting 3 folds for each of 18 candidates, totalling 54 fits\n",
      "[CV] gamma=0.5, learning_rate=0.1 ....................................\n",
      "[CV] ........... gamma=0.5, learning_rate=0.1, score=0.992968 -   0.1s\n",
      "[CV] gamma=0.5, learning_rate=0.1 ....................................\n"
     ]
    },
    {
     "name": "stderr",
     "output_type": "stream",
     "text": [
      "[Parallel(n_jobs=1)]: Done   1 out of   1 | elapsed:    0.1s remaining:    0.0s\n"
     ]
    },
    {
     "name": "stdout",
     "output_type": "stream",
     "text": [
      "[CV] ........... gamma=0.5, learning_rate=0.1, score=0.985804 -   0.1s\n",
      "[CV] gamma=0.5, learning_rate=0.1 ....................................\n",
      "[CV] ........... gamma=0.5, learning_rate=0.1, score=0.991416 -   0.1s\n",
      "[CV] gamma=0.5, learning_rate=0.2 ....................................\n"
     ]
    },
    {
     "name": "stderr",
     "output_type": "stream",
     "text": [
      "[Parallel(n_jobs=1)]: Done   2 out of   2 | elapsed:    0.3s remaining:    0.0s\n"
     ]
    },
    {
     "name": "stdout",
     "output_type": "stream",
     "text": [
      "[CV] ........... gamma=0.5, learning_rate=0.2, score=0.995051 -   0.1s\n",
      "[CV] gamma=0.5, learning_rate=0.2 ....................................\n",
      "[CV] ........... gamma=0.5, learning_rate=0.2, score=0.988942 -   0.0s\n",
      "[CV] gamma=0.5, learning_rate=0.2 ....................................\n",
      "[CV] ........... gamma=0.5, learning_rate=0.2, score=0.994348 -   0.3s\n",
      "[CV] gamma=0.5, learning_rate=0.001 ..................................\n",
      "[CV] ........ gamma=0.5, learning_rate=0.001, score=-2.181508 -   0.1s\n",
      "[CV] gamma=0.5, learning_rate=0.001 ..................................\n",
      "[CV] ........ gamma=0.5, learning_rate=0.001, score=-2.221075 -   0.1s\n",
      "[CV] gamma=0.5, learning_rate=0.001 ..................................\n",
      "[CV] ........ gamma=0.5, learning_rate=0.001, score=-2.210999 -   0.0s\n",
      "[CV] gamma=0.3, learning_rate=0.1 ....................................\n",
      "[CV] ........... gamma=0.3, learning_rate=0.1, score=0.992968 -   0.1s\n",
      "[CV] gamma=0.3, learning_rate=0.1 ....................................\n",
      "[CV] ........... gamma=0.3, learning_rate=0.1, score=0.985804 -   0.1s\n",
      "[CV] gamma=0.3, learning_rate=0.1 ....................................\n",
      "[CV] ........... gamma=0.3, learning_rate=0.1, score=0.991416 -   0.1s\n",
      "[CV] gamma=0.3, learning_rate=0.2 ....................................\n",
      "[CV] ........... gamma=0.3, learning_rate=0.2, score=0.995051 -   0.0s\n",
      "[CV] gamma=0.3, learning_rate=0.2 ....................................\n",
      "[CV] ........... gamma=0.3, learning_rate=0.2, score=0.988942 -   0.1s\n",
      "[CV] gamma=0.3, learning_rate=0.2 ....................................\n",
      "[CV] ........... gamma=0.3, learning_rate=0.2, score=0.994348 -   0.0s\n",
      "[CV] gamma=0.3, learning_rate=0.001 ..................................\n",
      "[CV] ........ gamma=0.3, learning_rate=0.001, score=-2.181508 -   0.4s\n",
      "[CV] gamma=0.3, learning_rate=0.001 ..................................\n",
      "[CV] ........ gamma=0.3, learning_rate=0.001, score=-2.221075 -   0.3s\n",
      "[CV] gamma=0.3, learning_rate=0.001 ..................................\n",
      "[CV] ........ gamma=0.3, learning_rate=0.001, score=-2.210999 -   0.3s\n",
      "[CV] gamma=1, learning_rate=0.1 ......................................\n",
      "[CV] ............. gamma=1, learning_rate=0.1, score=0.992968 -   0.1s\n",
      "[CV] gamma=1, learning_rate=0.1 ......................................\n",
      "[CV] ............. gamma=1, learning_rate=0.1, score=0.985804 -   0.1s\n",
      "[CV] gamma=1, learning_rate=0.1 ......................................\n",
      "[CV] ............. gamma=1, learning_rate=0.1, score=0.991416 -   0.1s\n",
      "[CV] gamma=1, learning_rate=0.2 ......................................\n",
      "[CV] ............. gamma=1, learning_rate=0.2, score=0.995051 -   0.1s\n",
      "[CV] gamma=1, learning_rate=0.2 ......................................\n",
      "[CV] ............. gamma=1, learning_rate=0.2, score=0.988942 -   0.0s\n",
      "[CV] gamma=1, learning_rate=0.2 ......................................\n",
      "[CV] ............. gamma=1, learning_rate=0.2, score=0.994348 -   0.1s\n",
      "[CV] gamma=1, learning_rate=0.001 ....................................\n",
      "[CV] .......... gamma=1, learning_rate=0.001, score=-2.181508 -   0.0s\n",
      "[CV] gamma=1, learning_rate=0.001 ....................................\n",
      "[CV] .......... gamma=1, learning_rate=0.001, score=-2.221075 -   0.1s\n",
      "[CV] gamma=1, learning_rate=0.001 ....................................\n",
      "[CV] .......... gamma=1, learning_rate=0.001, score=-2.210999 -   0.0s\n",
      "[CV] gamma=1.5, learning_rate=0.1 ....................................\n",
      "[CV] ........... gamma=1.5, learning_rate=0.1, score=0.992968 -   0.1s\n",
      "[CV] gamma=1.5, learning_rate=0.1 ....................................\n",
      "[CV] ........... gamma=1.5, learning_rate=0.1, score=0.985804 -   0.0s\n",
      "[CV] gamma=1.5, learning_rate=0.1 ....................................\n",
      "[CV] ........... gamma=1.5, learning_rate=0.1, score=0.991416 -   0.0s\n",
      "[CV] gamma=1.5, learning_rate=0.2 ....................................\n",
      "[CV] ........... gamma=1.5, learning_rate=0.2, score=0.995051 -   0.1s\n",
      "[CV] gamma=1.5, learning_rate=0.2 ....................................\n",
      "[CV] ........... gamma=1.5, learning_rate=0.2, score=0.988942 -   0.1s\n",
      "[CV] gamma=1.5, learning_rate=0.2 ....................................\n",
      "[CV] ........... gamma=1.5, learning_rate=0.2, score=0.994348 -   0.0s\n",
      "[CV] gamma=1.5, learning_rate=0.001 ..................................\n",
      "[CV] ........ gamma=1.5, learning_rate=0.001, score=-2.181508 -   0.1s\n",
      "[CV] gamma=1.5, learning_rate=0.001 ..................................\n",
      "[CV] ........ gamma=1.5, learning_rate=0.001, score=-2.221075 -   0.1s\n",
      "[CV] gamma=1.5, learning_rate=0.001 ..................................\n",
      "[CV] ........ gamma=1.5, learning_rate=0.001, score=-2.210999 -   0.1s\n",
      "[CV] gamma=2, learning_rate=0.1 ......................................\n",
      "[CV] ............. gamma=2, learning_rate=0.1, score=0.992968 -   0.1s\n",
      "[CV] gamma=2, learning_rate=0.1 ......................................\n",
      "[CV] ............. gamma=2, learning_rate=0.1, score=0.985804 -   0.1s\n",
      "[CV] gamma=2, learning_rate=0.1 ......................................\n",
      "[CV] ............. gamma=2, learning_rate=0.1, score=0.991416 -   0.2s\n",
      "[CV] gamma=2, learning_rate=0.2 ......................................\n",
      "[CV] ............. gamma=2, learning_rate=0.2, score=0.995051 -   0.1s\n",
      "[CV] gamma=2, learning_rate=0.2 ......................................\n",
      "[CV] ............. gamma=2, learning_rate=0.2, score=0.988942 -   0.1s\n",
      "[CV] gamma=2, learning_rate=0.2 ......................................\n",
      "[CV] ............. gamma=2, learning_rate=0.2, score=0.994348 -   0.0s\n",
      "[CV] gamma=2, learning_rate=0.001 ....................................\n",
      "[CV] .......... gamma=2, learning_rate=0.001, score=-2.181508 -   0.1s\n",
      "[CV] gamma=2, learning_rate=0.001 ....................................\n",
      "[CV] .......... gamma=2, learning_rate=0.001, score=-2.221075 -   0.0s\n",
      "[CV] gamma=2, learning_rate=0.001 ....................................\n",
      "[CV] .......... gamma=2, learning_rate=0.001, score=-2.210999 -   0.1s\n",
      "[CV] gamma=5, learning_rate=0.1 ......................................\n",
      "[CV] ............. gamma=5, learning_rate=0.1, score=0.992968 -   0.0s\n",
      "[CV] gamma=5, learning_rate=0.1 ......................................\n",
      "[CV] ............. gamma=5, learning_rate=0.1, score=0.985804 -   0.1s\n",
      "[CV] gamma=5, learning_rate=0.1 ......................................\n",
      "[CV] ............. gamma=5, learning_rate=0.1, score=0.991416 -   0.0s\n",
      "[CV] gamma=5, learning_rate=0.2 ......................................\n",
      "[CV] ............. gamma=5, learning_rate=0.2, score=0.995051 -   0.1s\n",
      "[CV] gamma=5, learning_rate=0.2 ......................................\n",
      "[CV] ............. gamma=5, learning_rate=0.2, score=0.988942 -   0.0s\n",
      "[CV] gamma=5, learning_rate=0.2 ......................................\n",
      "[CV] ............. gamma=5, learning_rate=0.2, score=0.994348 -   0.1s\n",
      "[CV] gamma=5, learning_rate=0.001 ....................................\n",
      "[CV] .......... gamma=5, learning_rate=0.001, score=-2.181508 -   0.1s\n",
      "[CV] gamma=5, learning_rate=0.001 ....................................\n",
      "[CV] .......... gamma=5, learning_rate=0.001, score=-2.221075 -   0.1s\n",
      "[CV] gamma=5, learning_rate=0.001 ....................................\n",
      "[CV] .......... gamma=5, learning_rate=0.001, score=-2.210999 -   0.0s\n"
     ]
    },
    {
     "name": "stderr",
     "output_type": "stream",
     "text": [
      "[Parallel(n_jobs=1)]: Done  54 out of  54 | elapsed:    9.7s finished\n"
     ]
    },
    {
     "data": {
      "text/plain": [
       "GridSearchCV(cv=None, error_score='raise',\n",
       "       estimator=XGBRegressor(base_score=0.5, booster='gbtree', colsample_bylevel=1,\n",
       "       colsample_bytree=1, gamma=0, learning_rate=0.1, max_delta_step=0,\n",
       "       max_depth=3, min_child_weight=1, missing=None, n_estimators=100,\n",
       "       n_jobs=1, nthread=None, objective='reg:linear', random_state=0,\n",
       "       reg_alpha=0, reg_lambda=1, scale_pos_weight=1, seed=None,\n",
       "       silent=True, subsample=1),\n",
       "       fit_params={}, iid=True, n_jobs=1,\n",
       "       param_grid={'gamma': [0.5, 0.3, 1, 1.5, 2, 5], 'learning_rate': [0.1, 0.2, 0.001]},\n",
       "       pre_dispatch='2*n_jobs', refit=True, scoring=None, verbose=3)"
      ]
     },
     "execution_count": 39,
     "metadata": {},
     "output_type": "execute_result"
    }
   ],
   "source": [
    "grid.fit(X_train,y_train)"
   ]
  },
  {
   "cell_type": "code",
   "execution_count": 40,
   "metadata": {},
   "outputs": [],
   "source": [
    "grid_predictions = grid.predict(X_test)"
   ]
  },
  {
   "cell_type": "code",
   "execution_count": 41,
   "metadata": {},
   "outputs": [
    {
     "data": {
      "text/plain": [
       "<matplotlib.collections.PathCollection at 0x24593f6db38>"
      ]
     },
     "execution_count": 41,
     "metadata": {},
     "output_type": "execute_result"
    },
    {
     "data": {
      "image/png": "[encoded data removed]",
      "text/plain": [
       "<matplotlib.figure.Figure at 0x24593eac1d0>"
      ]
     },
     "metadata": {},
     "output_type": "display_data"
    }
   ],
   "source": [
    "plt.scatter(y_test,grid_predictions)"
   ]
  },
  {
   "cell_type": "code",
   "execution_count": 42,
   "metadata": {},
   "outputs": [],
   "source": [
    "test = pd.read_csv('gbefun.csv')"
   ]
  },
  {
   "cell_type": "code",
   "execution_count": 44,
   "metadata": {},
   "outputs": [],
   "source": [
    "test.drop('Unnamed: 0',axis = 1 ,inplace = True)"
   ]
  },
  {
   "cell_type": "code",
   "execution_count": 45,
   "metadata": {},
   "outputs": [],
   "source": [
    "prediction = grid.predict(test)"
   ]
  },
  {
   "cell_type": "code",
   "execution_count": 46,
   "metadata": {},
   "outputs": [],
   "source": [
    "dat11  =pd.read_csv('submission_price.xls')\n",
    "dat11.drop('Product_Supermarket_Sales',axis = 1 , inplace = True)\n",
    "a = pd.DataFrame({'Product_Supermarket_Sales':prediction})"
   ]
  },
  {
   "cell_type": "code",
   "execution_count": 47,
   "metadata": {},
   "outputs": [],
   "source": [
    "submitted1 = pd.concat([dat11,a],axis =1)"
   ]
  },
  {
   "cell_type": "code",
   "execution_count": 48,
   "metadata": {},
   "outputs": [],
   "source": [
    "submitted1.to_csv('kaggled4.csv',index = False)"
   ]
  },
  {
   "cell_type": "code",
   "execution_count": null,
   "metadata": {},
   "outputs": [],
   "source": []
  }
 ],
 "metadata": {
  "kernelspec": {
   "display_name": "Python 3",
   "language": "python",
   "name": "python3"
  },
  "language_info": {
   "codemirror_mode": {
    "name": "ipython",
    "version": 3
   },
   "file_extension": ".py",
   "mimetype": "text/x-python",
   "name": "python",
   "nbconvert_exporter": "python",
   "pygments_lexer": "ipython3",
   "version": "3.6.4"
  }
 },
 "nbformat": 4,
 "nbformat_minor": 2
}
