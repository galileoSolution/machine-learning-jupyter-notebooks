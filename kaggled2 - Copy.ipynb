{
 "cells": [
  {
   "cell_type": "code",
   "execution_count": 1,
   "metadata": {},
   "outputs": [],
   "source": [
    "import pandas as pd\n",
    "import numpy as np\n",
    "import matplotlib.pyplot as plt\n",
    "import seaborn as sns"
   ]
  },
  {
   "cell_type": "code",
   "execution_count": 2,
   "metadata": {},
   "outputs": [],
   "source": [
    "%matplotlib inline"
   ]
  },
  {
   "cell_type": "code",
   "execution_count": 3,
   "metadata": {},
   "outputs": [],
   "source": [
    "data = pd.read_csv('mr_data.csv')"
   ]
  },
  {
   "cell_type": "code",
   "execution_count": 4,
   "metadata": {},
   "outputs": [],
   "source": [
    "data.drop('Unnamed: 0',axis = 1 ,inplace  = True)"
   ]
  },
  {
   "cell_type": "code",
   "execution_count": 5,
   "metadata": {},
   "outputs": [
    {
     "data": {
      "text/html": [
       "<div>\n",
       "<style scoped>\n",
       "    .dataframe tbody tr th:only-of-type {\n",
       "        vertical-align: middle;\n",
       "    }\n",
       "\n",
       "    .dataframe tbody tr th {\n",
       "        vertical-align: top;\n",
       "    }\n",
       "\n",
       "    .dataframe thead th {\n",
       "        text-align: right;\n",
       "    }\n",
       "</style>\n",
       "<table border=\"1\" class=\"dataframe\">\n",
       "  <thead>\n",
       "    <tr style=\"text-align: right;\">\n",
       "      <th></th>\n",
       "      <th>Product_Weight</th>\n",
       "      <th>Product_Shelf_Visibility</th>\n",
       "      <th>Product_Price</th>\n",
       "      <th>Supermarket_Opening_Year</th>\n",
       "      <th>Supermarket _Size</th>\n",
       "      <th>Product_Supermarket_Sales</th>\n",
       "      <th>b</th>\n",
       "      <th>d</th>\n",
       "      <th>Low Fat</th>\n",
       "      <th>Normal Fat</th>\n",
       "      <th>Ultra Low fat</th>\n",
       "      <th>Cluster 1</th>\n",
       "      <th>Cluster 2</th>\n",
       "      <th>Cluster 3</th>\n",
       "      <th>Grocery Store</th>\n",
       "      <th>Supermarket Type1</th>\n",
       "      <th>Supermarket Type2</th>\n",
       "      <th>Supermarket Type3</th>\n",
       "    </tr>\n",
       "  </thead>\n",
       "  <tbody>\n",
       "    <tr>\n",
       "      <th>0</th>\n",
       "      <td>11.6</td>\n",
       "      <td>0.068535</td>\n",
       "      <td>357.54</td>\n",
       "      <td>2005</td>\n",
       "      <td>1.0</td>\n",
       "      <td>709.08</td>\n",
       "      <td>0.6</td>\n",
       "      <td>0.54</td>\n",
       "      <td>1</td>\n",
       "      <td>0</td>\n",
       "      <td>0</td>\n",
       "      <td>0</td>\n",
       "      <td>0</td>\n",
       "      <td>1</td>\n",
       "      <td>1</td>\n",
       "      <td>0</td>\n",
       "      <td>0</td>\n",
       "      <td>0</td>\n",
       "    </tr>\n",
       "    <tr>\n",
       "      <th>1</th>\n",
       "      <td>11.6</td>\n",
       "      <td>0.040912</td>\n",
       "      <td>355.79</td>\n",
       "      <td>1994</td>\n",
       "      <td>2.0</td>\n",
       "      <td>6381.69</td>\n",
       "      <td>0.6</td>\n",
       "      <td>0.79</td>\n",
       "      <td>1</td>\n",
       "      <td>0</td>\n",
       "      <td>0</td>\n",
       "      <td>0</td>\n",
       "      <td>0</td>\n",
       "      <td>1</td>\n",
       "      <td>0</td>\n",
       "      <td>1</td>\n",
       "      <td>0</td>\n",
       "      <td>0</td>\n",
       "    </tr>\n",
       "    <tr>\n",
       "      <th>2</th>\n",
       "      <td>11.6</td>\n",
       "      <td>0.041178</td>\n",
       "      <td>350.79</td>\n",
       "      <td>2014</td>\n",
       "      <td>1.0</td>\n",
       "      <td>6381.69</td>\n",
       "      <td>0.6</td>\n",
       "      <td>0.79</td>\n",
       "      <td>1</td>\n",
       "      <td>0</td>\n",
       "      <td>0</td>\n",
       "      <td>0</td>\n",
       "      <td>1</td>\n",
       "      <td>0</td>\n",
       "      <td>0</td>\n",
       "      <td>1</td>\n",
       "      <td>0</td>\n",
       "      <td>0</td>\n",
       "    </tr>\n",
       "    <tr>\n",
       "      <th>3</th>\n",
       "      <td>11.6</td>\n",
       "      <td>0.041113</td>\n",
       "      <td>355.04</td>\n",
       "      <td>2016</td>\n",
       "      <td>1.0</td>\n",
       "      <td>2127.23</td>\n",
       "      <td>0.6</td>\n",
       "      <td>0.04</td>\n",
       "      <td>1</td>\n",
       "      <td>0</td>\n",
       "      <td>0</td>\n",
       "      <td>0</td>\n",
       "      <td>0</td>\n",
       "      <td>1</td>\n",
       "      <td>0</td>\n",
       "      <td>0</td>\n",
       "      <td>1</td>\n",
       "      <td>0</td>\n",
       "    </tr>\n",
       "    <tr>\n",
       "      <th>4</th>\n",
       "      <td>11.6</td>\n",
       "      <td>0.000000</td>\n",
       "      <td>354.79</td>\n",
       "      <td>2011</td>\n",
       "      <td>0.0</td>\n",
       "      <td>2481.77</td>\n",
       "      <td>0.6</td>\n",
       "      <td>0.79</td>\n",
       "      <td>0</td>\n",
       "      <td>0</td>\n",
       "      <td>1</td>\n",
       "      <td>0</td>\n",
       "      <td>1</td>\n",
       "      <td>0</td>\n",
       "      <td>0</td>\n",
       "      <td>1</td>\n",
       "      <td>0</td>\n",
       "      <td>0</td>\n",
       "    </tr>\n",
       "  </tbody>\n",
       "</table>\n",
       "</div>"
      ],
      "text/plain": [
       "   Product_Weight  Product_Shelf_Visibility  Product_Price  \\\n",
       "0            11.6                  0.068535         357.54   \n",
       "1            11.6                  0.040912         355.79   \n",
       "2            11.6                  0.041178         350.79   \n",
       "3            11.6                  0.041113         355.04   \n",
       "4            11.6                  0.000000         354.79   \n",
       "\n",
       "   Supermarket_Opening_Year  Supermarket _Size  Product_Supermarket_Sales  \\\n",
       "0                      2005                1.0                     709.08   \n",
       "1                      1994                2.0                    6381.69   \n",
       "2                      2014                1.0                    6381.69   \n",
       "3                      2016                1.0                    2127.23   \n",
       "4                      2011                0.0                    2481.77   \n",
       "\n",
       "     b     d  Low Fat  Normal Fat  Ultra Low fat  Cluster 1  Cluster 2  \\\n",
       "0  0.6  0.54        1           0              0          0          0   \n",
       "1  0.6  0.79        1           0              0          0          0   \n",
       "2  0.6  0.79        1           0              0          0          1   \n",
       "3  0.6  0.04        1           0              0          0          0   \n",
       "4  0.6  0.79        0           0              1          0          1   \n",
       "\n",
       "   Cluster 3  Grocery Store  Supermarket Type1  Supermarket Type2  \\\n",
       "0          1              1                  0                  0   \n",
       "1          1              0                  1                  0   \n",
       "2          0              0                  1                  0   \n",
       "3          1              0                  0                  1   \n",
       "4          0              0                  1                  0   \n",
       "\n",
       "   Supermarket Type3  \n",
       "0                  0  \n",
       "1                  0  \n",
       "2                  0  \n",
       "3                  0  \n",
       "4                  0  "
      ]
     },
     "execution_count": 5,
     "metadata": {},
     "output_type": "execute_result"
    }
   ],
   "source": [
    "data.head()"
   ]
  },
  {
   "cell_type": "code",
   "execution_count": 6,
   "metadata": {},
   "outputs": [],
   "source": [
    "X = data.drop('Product_Supermarket_Sales',axis = 1)"
   ]
  },
  {
   "cell_type": "code",
   "execution_count": 7,
   "metadata": {},
   "outputs": [],
   "source": [
    "y = data['Product_Supermarket_Sales']"
   ]
  },
  {
   "cell_type": "code",
   "execution_count": 8,
   "metadata": {},
   "outputs": [
    {
     "name": "stderr",
     "output_type": "stream",
     "text": [
      "C:\\ProgramData\\Anaconda3\\lib\\site-packages\\sklearn\\cross_validation.py:41: DeprecationWarning: This module was deprecated in version 0.18 in favor of the model_selection module into which all the refactored classes and functions are moved. Also note that the interface of the new CV iterators are different from that of this module. This module will be removed in 0.20.\n",
      "  \"This module will be removed in 0.20.\", DeprecationWarning)\n"
     ]
    }
   ],
   "source": [
    "from sklearn.cross_validation import train_test_split"
   ]
  },
  {
   "cell_type": "code",
   "execution_count": 9,
   "metadata": {},
   "outputs": [],
   "source": [
    "X_train, X_test, y_train, y_test = train_test_split(X, y, test_size=0.33, random_state=42)"
   ]
  },
  {
   "cell_type": "code",
   "execution_count": 10,
   "metadata": {},
   "outputs": [],
   "source": [
    "from xgboost import XGBRegressor"
   ]
  },
  {
   "cell_type": "code",
   "execution_count": 11,
   "metadata": {},
   "outputs": [],
   "source": [
    "model = XGBRegressor()"
   ]
  },
  {
   "cell_type": "code",
   "execution_count": 12,
   "metadata": {},
   "outputs": [
    {
     "data": {
      "text/plain": [
       "XGBRegressor(base_score=0.5, booster='gbtree', colsample_bylevel=1,\n",
       "       colsample_bytree=1, gamma=0, learning_rate=0.1, max_delta_step=0,\n",
       "       max_depth=3, min_child_weight=1, missing=None, n_estimators=100,\n",
       "       n_jobs=1, nthread=None, objective='reg:linear', random_state=0,\n",
       "       reg_alpha=0, reg_lambda=1, scale_pos_weight=1, seed=None,\n",
       "       silent=True, subsample=1)"
      ]
     },
     "execution_count": 12,
     "metadata": {},
     "output_type": "execute_result"
    }
   ],
   "source": [
    "model.fit(X_train,y_train)"
   ]
  },
  {
   "cell_type": "code",
   "execution_count": 13,
   "metadata": {},
   "outputs": [],
   "source": [
    "pred1 = model.predict(X_test)"
   ]
  },
  {
   "cell_type": "code",
   "execution_count": 14,
   "metadata": {},
   "outputs": [
    {
     "data": {
      "text/plain": [
       "<matplotlib.collections.PathCollection at 0x245d3e28cc0>"
      ]
     },
     "execution_count": 14,
     "metadata": {},
     "output_type": "execute_result"
    },
    {
     "data": {
      "image/png": "[encoded data removed]",
      "text/plain": [
       "<matplotlib.figure.Figure at 0x245d3f404e0>"
      ]
     },
     "metadata": {},
     "output_type": "display_data"
    }
   ],
   "source": [
    "plt.scatter(y_test,pred1)"
   ]
  },
  {
   "cell_type": "code",
   "execution_count": 15,
   "metadata": {},
   "outputs": [],
   "source": [
    "from sklearn.cross_validation import cross_val_score\n",
    "score = cross_val_score(model,X_test,y_test,cv =10)"
   ]
  },
  {
   "cell_type": "code",
   "execution_count": 16,
   "metadata": {},
   "outputs": [
    {
     "name": "stdout",
     "output_type": "stream",
     "text": [
      "53.32259256575649\n"
     ]
    }
   ],
   "source": [
    "print(score.mean()*100)"
   ]
  },
  {
   "cell_type": "code",
   "execution_count": 17,
   "metadata": {},
   "outputs": [
    {
     "name": "stderr",
     "output_type": "stream",
     "text": [
      "C:\\ProgramData\\Anaconda3\\lib\\site-packages\\sklearn\\grid_search.py:42: DeprecationWarning: This module was deprecated in version 0.18 in favor of the model_selection module into which all the refactored classes and functions are moved. This module will be removed in 0.20.\n",
      "  DeprecationWarning)\n"
     ]
    }
   ],
   "source": [
    "from sklearn.grid_search import GridSearchCV"
   ]
  },
  {
   "cell_type": "code",
   "execution_count": 18,
   "metadata": {},
   "outputs": [],
   "source": [
    "params = {\n",
    "        'gamma': [0.5,0.3, 1, 1.5, 2, 5],\n",
    "        'learning_rate' :[0.1,0.2,0.001]\n",
    "        }"
   ]
  },
  {
   "cell_type": "code",
   "execution_count": 19,
   "metadata": {},
   "outputs": [],
   "source": [
    "grid = GridSearchCV( XGBRegressor() , params, verbose =  3  )"
   ]
  },
  {
   "cell_type": "code",
   "execution_count": 20,
   "metadata": {},
   "outputs": [
    {
     "name": "stdout",
     "output_type": "stream",
     "text": [
      "Fitting 3 folds for each of 18 candidates, totalling 54 fits\n",
      "[CV] gamma=0.5, learning_rate=0.1 ....................................\n",
      "[CV] ........... gamma=0.5, learning_rate=0.1, score=0.572791 -   0.2s\n",
      "[CV] gamma=0.5, learning_rate=0.1 ....................................\n"
     ]
    },
    {
     "name": "stderr",
     "output_type": "stream",
     "text": [
      "[Parallel(n_jobs=1)]: Done   1 out of   1 | elapsed:    0.2s remaining:    0.0s\n"
     ]
    },
    {
     "name": "stdout",
     "output_type": "stream",
     "text": [
      "[CV] ........... gamma=0.5, learning_rate=0.1, score=0.522200 -   0.2s\n",
      "[CV] gamma=0.5, learning_rate=0.1 ....................................\n"
     ]
    },
    {
     "name": "stderr",
     "output_type": "stream",
     "text": [
      "[Parallel(n_jobs=1)]: Done   2 out of   2 | elapsed:    0.5s remaining:    0.0s\n"
     ]
    },
    {
     "name": "stdout",
     "output_type": "stream",
     "text": [
      "[CV] ........... gamma=0.5, learning_rate=0.1, score=0.548872 -   0.1s\n",
      "[CV] gamma=0.5, learning_rate=0.2 ....................................\n",
      "[CV] ........... gamma=0.5, learning_rate=0.2, score=0.551708 -   0.1s\n",
      "[CV] gamma=0.5, learning_rate=0.2 ....................................\n",
      "[CV] ........... gamma=0.5, learning_rate=0.2, score=0.498667 -   0.1s\n",
      "[CV] gamma=0.5, learning_rate=0.2 ....................................\n",
      "[CV] ........... gamma=0.5, learning_rate=0.2, score=0.510682 -   0.1s\n",
      "[CV] gamma=0.5, learning_rate=0.001 ..................................\n",
      "[CV] ........ gamma=0.5, learning_rate=0.001, score=-1.387981 -   0.1s\n",
      "[CV] gamma=0.5, learning_rate=0.001 ..................................\n",
      "[CV] ........ gamma=0.5, learning_rate=0.001, score=-1.543245 -   0.1s\n",
      "[CV] gamma=0.5, learning_rate=0.001 ..................................\n",
      "[CV] ........ gamma=0.5, learning_rate=0.001, score=-1.393506 -   0.1s\n",
      "[CV] gamma=0.3, learning_rate=0.1 ....................................\n",
      "[CV] ........... gamma=0.3, learning_rate=0.1, score=0.572791 -   0.2s\n",
      "[CV] gamma=0.3, learning_rate=0.1 ....................................\n",
      "[CV] ........... gamma=0.3, learning_rate=0.1, score=0.522200 -   0.1s\n",
      "[CV] gamma=0.3, learning_rate=0.1 ....................................\n",
      "[CV] ........... gamma=0.3, learning_rate=0.1, score=0.548872 -   0.1s\n",
      "[CV] gamma=0.3, learning_rate=0.2 ....................................\n",
      "[CV] ........... gamma=0.3, learning_rate=0.2, score=0.551708 -   0.1s\n",
      "[CV] gamma=0.3, learning_rate=0.2 ....................................\n",
      "[CV] ........... gamma=0.3, learning_rate=0.2, score=0.498667 -   0.1s\n",
      "[CV] gamma=0.3, learning_rate=0.2 ....................................\n",
      "[CV] ........... gamma=0.3, learning_rate=0.2, score=0.510682 -   0.1s\n",
      "[CV] gamma=0.3, learning_rate=0.001 ..................................\n",
      "[CV] ........ gamma=0.3, learning_rate=0.001, score=-1.387981 -   0.1s\n",
      "[CV] gamma=0.3, learning_rate=0.001 ..................................\n",
      "[CV] ........ gamma=0.3, learning_rate=0.001, score=-1.543245 -   0.1s\n",
      "[CV] gamma=0.3, learning_rate=0.001 ..................................\n",
      "[CV] ........ gamma=0.3, learning_rate=0.001, score=-1.393506 -   0.1s\n",
      "[CV] gamma=1, learning_rate=0.1 ......................................\n",
      "[CV] ............. gamma=1, learning_rate=0.1, score=0.572791 -   0.1s\n",
      "[CV] gamma=1, learning_rate=0.1 ......................................\n",
      "[CV] ............. gamma=1, learning_rate=0.1, score=0.522200 -   0.1s\n",
      "[CV] gamma=1, learning_rate=0.1 ......................................\n",
      "[CV] ............. gamma=1, learning_rate=0.1, score=0.548872 -   0.3s\n",
      "[CV] gamma=1, learning_rate=0.2 ......................................\n",
      "[CV] ............. gamma=1, learning_rate=0.2, score=0.551708 -   0.5s\n",
      "[CV] gamma=1, learning_rate=0.2 ......................................\n",
      "[CV] ............. gamma=1, learning_rate=0.2, score=0.498667 -   0.5s\n",
      "[CV] gamma=1, learning_rate=0.2 ......................................\n",
      "[CV] ............. gamma=1, learning_rate=0.2, score=0.510682 -   0.6s\n",
      "[CV] gamma=1, learning_rate=0.001 ....................................\n",
      "[CV] .......... gamma=1, learning_rate=0.001, score=-1.387981 -   0.4s\n",
      "[CV] gamma=1, learning_rate=0.001 ....................................\n",
      "[CV] .......... gamma=1, learning_rate=0.001, score=-1.543245 -   0.5s\n",
      "[CV] gamma=1, learning_rate=0.001 ....................................\n",
      "[CV] .......... gamma=1, learning_rate=0.001, score=-1.393506 -   0.2s\n",
      "[CV] gamma=1.5, learning_rate=0.1 ....................................\n",
      "[CV] ........... gamma=1.5, learning_rate=0.1, score=0.572791 -   0.3s\n",
      "[CV] gamma=1.5, learning_rate=0.1 ....................................\n",
      "[CV] ........... gamma=1.5, learning_rate=0.1, score=0.522200 -   0.6s\n",
      "[CV] gamma=1.5, learning_rate=0.1 ....................................\n",
      "[CV] ........... gamma=1.5, learning_rate=0.1, score=0.548872 -   0.1s\n",
      "[CV] gamma=1.5, learning_rate=0.2 ....................................\n",
      "[CV] ........... gamma=1.5, learning_rate=0.2, score=0.551708 -   0.1s\n",
      "[CV] gamma=1.5, learning_rate=0.2 ....................................\n",
      "[CV] ........... gamma=1.5, learning_rate=0.2, score=0.498667 -   0.4s\n",
      "[CV] gamma=1.5, learning_rate=0.2 ....................................\n",
      "[CV] ........... gamma=1.5, learning_rate=0.2, score=0.510682 -   0.1s\n",
      "[CV] gamma=1.5, learning_rate=0.001 ..................................\n",
      "[CV] ........ gamma=1.5, learning_rate=0.001, score=-1.387981 -   0.3s\n",
      "[CV] gamma=1.5, learning_rate=0.001 ..................................\n",
      "[CV] ........ gamma=1.5, learning_rate=0.001, score=-1.543245 -   0.4s\n",
      "[CV] gamma=1.5, learning_rate=0.001 ..................................\n",
      "[CV] ........ gamma=1.5, learning_rate=0.001, score=-1.393506 -   0.5s\n",
      "[CV] gamma=2, learning_rate=0.1 ......................................\n",
      "[CV] ............. gamma=2, learning_rate=0.1, score=0.572791 -   0.2s\n",
      "[CV] gamma=2, learning_rate=0.1 ......................................\n",
      "[CV] ............. gamma=2, learning_rate=0.1, score=0.522200 -   0.2s\n",
      "[CV] gamma=2, learning_rate=0.1 ......................................\n",
      "[CV] ............. gamma=2, learning_rate=0.1, score=0.548872 -   0.1s\n",
      "[CV] gamma=2, learning_rate=0.2 ......................................\n",
      "[CV] ............. gamma=2, learning_rate=0.2, score=0.551708 -   0.1s\n",
      "[CV] gamma=2, learning_rate=0.2 ......................................\n",
      "[CV] ............. gamma=2, learning_rate=0.2, score=0.498667 -   0.4s\n",
      "[CV] gamma=2, learning_rate=0.2 ......................................\n",
      "[CV] ............. gamma=2, learning_rate=0.2, score=0.510682 -   0.5s\n",
      "[CV] gamma=2, learning_rate=0.001 ....................................\n",
      "[CV] .......... gamma=2, learning_rate=0.001, score=-1.387981 -   0.1s\n",
      "[CV] gamma=2, learning_rate=0.001 ....................................\n",
      "[CV] .......... gamma=2, learning_rate=0.001, score=-1.543245 -   0.2s\n",
      "[CV] gamma=2, learning_rate=0.001 ....................................\n",
      "[CV] .......... gamma=2, learning_rate=0.001, score=-1.393506 -   0.3s\n",
      "[CV] gamma=5, learning_rate=0.1 ......................................\n",
      "[CV] ............. gamma=5, learning_rate=0.1, score=0.572791 -   0.5s\n",
      "[CV] gamma=5, learning_rate=0.1 ......................................\n",
      "[CV] ............. gamma=5, learning_rate=0.1, score=0.522200 -   0.1s\n",
      "[CV] gamma=5, learning_rate=0.1 ......................................\n",
      "[CV] ............. gamma=5, learning_rate=0.1, score=0.548872 -   0.2s\n",
      "[CV] gamma=5, learning_rate=0.2 ......................................\n",
      "[CV] ............. gamma=5, learning_rate=0.2, score=0.551708 -   0.1s\n",
      "[CV] gamma=5, learning_rate=0.2 ......................................\n",
      "[CV] ............. gamma=5, learning_rate=0.2, score=0.498667 -   0.1s\n",
      "[CV] gamma=5, learning_rate=0.2 ......................................\n",
      "[CV] ............. gamma=5, learning_rate=0.2, score=0.510682 -   0.1s\n",
      "[CV] gamma=5, learning_rate=0.001 ....................................\n",
      "[CV] .......... gamma=5, learning_rate=0.001, score=-1.387981 -   0.2s\n",
      "[CV] gamma=5, learning_rate=0.001 ....................................\n",
      "[CV] .......... gamma=5, learning_rate=0.001, score=-1.543245 -   0.4s\n",
      "[CV] gamma=5, learning_rate=0.001 ....................................\n",
      "[CV] .......... gamma=5, learning_rate=0.001, score=-1.393506 -   0.4s\n"
     ]
    },
    {
     "name": "stderr",
     "output_type": "stream",
     "text": [
      "[Parallel(n_jobs=1)]: Done  54 out of  54 | elapsed:   18.5s finished\n"
     ]
    },
    {
     "data": {
      "text/plain": [
       "GridSearchCV(cv=None, error_score='raise',\n",
       "       estimator=XGBRegressor(base_score=0.5, booster='gbtree', colsample_bylevel=1,\n",
       "       colsample_bytree=1, gamma=0, learning_rate=0.1, max_delta_step=0,\n",
       "       max_depth=3, min_child_weight=1, missing=None, n_estimators=100,\n",
       "       n_jobs=1, nthread=None, objective='reg:linear', random_state=0,\n",
       "       reg_alpha=0, reg_lambda=1, scale_pos_weight=1, seed=None,\n",
       "       silent=True, subsample=1),\n",
       "       fit_params={}, iid=True, n_jobs=1,\n",
       "       param_grid={'gamma': [0.5, 0.3, 1, 1.5, 2, 5], 'learning_rate': [0.1, 0.2, 0.001]},\n",
       "       pre_dispatch='2*n_jobs', refit=True, scoring=None, verbose=3)"
      ]
     },
     "execution_count": 20,
     "metadata": {},
     "output_type": "execute_result"
    }
   ],
   "source": [
    "grid.fit(X_train,y_train)"
   ]
  },
  {
   "cell_type": "code",
   "execution_count": 21,
   "metadata": {},
   "outputs": [],
   "source": [
    "grid_predictions = grid.predict(X_test)"
   ]
  },
  {
   "cell_type": "code",
   "execution_count": 22,
   "metadata": {},
   "outputs": [
    {
     "data": {
      "text/plain": [
       "<matplotlib.collections.PathCollection at 0x245d4270390>"
      ]
     },
     "execution_count": 22,
     "metadata": {},
     "output_type": "execute_result"
    },
    {
     "data": {
      "image/png": "[encoded data removed]",
      "text/plain": [
       "<matplotlib.figure.Figure at 0x245d3e43da0>"
      ]
     },
     "metadata": {},
     "output_type": "display_data"
    }
   ],
   "source": [
    "plt.scatter(y_test,grid_predictions)"
   ]
  },
  {
   "cell_type": "code",
   "execution_count": null,
   "metadata": {},
   "outputs": [],
   "source": [
    "from sklearn.cross_validation import cross_val_score\n",
    "scored = cross_val_score(grid,X_test,y_test,cv =10)"
   ]
  },
  {
   "cell_type": "code",
   "execution_count": 24,
   "metadata": {},
   "outputs": [
    {
     "name": "stdout",
     "output_type": "stream",
     "text": [
      "53.32259256575649\n"
     ]
    }
   ],
   "source": [
    "print(scored.mean()*100)"
   ]
  },
  {
   "cell_type": "code",
   "execution_count": 25,
   "metadata": {},
   "outputs": [],
   "source": [
    "test = pd.read_csv('gbefun.csv')"
   ]
  },
  {
   "cell_type": "code",
   "execution_count": 26,
   "metadata": {},
   "outputs": [],
   "source": [
    "test.drop('Unnamed: 0',axis = 1 , inplace = True)"
   ]
  },
  {
   "cell_type": "code",
   "execution_count": 27,
   "metadata": {},
   "outputs": [],
   "source": [
    "mypred3 = grid.predict(test)"
   ]
  },
  {
   "cell_type": "code",
   "execution_count": 28,
   "metadata": {},
   "outputs": [],
   "source": [
    "dat11  =pd.read_csv('submission_price.xls')\n",
    "dat11.drop('Product_Supermarket_Sales',axis = 1 , inplace = True)\n",
    "a = pd.DataFrame({'Product_Supermarket_Sales':mypred3})"
   ]
  },
  {
   "cell_type": "code",
   "execution_count": 29,
   "metadata": {},
   "outputs": [],
   "source": [
    "submitted1 = pd.concat([dat11,a],axis =1)"
   ]
  },
  {
   "cell_type": "code",
   "execution_count": 30,
   "metadata": {},
   "outputs": [],
   "source": [
    "submitted1.to_csv('kaggled2.csv',index = False)"
   ]
  },
  {
   "cell_type": "code",
   "execution_count": 31,
   "metadata": {},
   "outputs": [
    {
     "data": {
      "text/html": [
       "<div>\n",
       "<style scoped>\n",
       "    .dataframe tbody tr th:only-of-type {\n",
       "        vertical-align: middle;\n",
       "    }\n",
       "\n",
       "    .dataframe tbody tr th {\n",
       "        vertical-align: top;\n",
       "    }\n",
       "\n",
       "    .dataframe thead th {\n",
       "        text-align: right;\n",
       "    }\n",
       "</style>\n",
       "<table border=\"1\" class=\"dataframe\">\n",
       "  <thead>\n",
       "    <tr style=\"text-align: right;\">\n",
       "      <th></th>\n",
       "      <th>Product_Weight</th>\n",
       "      <th>Product_Shelf_Visibility</th>\n",
       "      <th>Product_Price</th>\n",
       "      <th>Supermarket_Opening_Year</th>\n",
       "      <th>Supermarket _Size</th>\n",
       "      <th>Product_Supermarket_Sales</th>\n",
       "      <th>b</th>\n",
       "      <th>d</th>\n",
       "      <th>Low Fat</th>\n",
       "      <th>Normal Fat</th>\n",
       "      <th>Ultra Low fat</th>\n",
       "      <th>Cluster 1</th>\n",
       "      <th>Cluster 2</th>\n",
       "      <th>Cluster 3</th>\n",
       "      <th>Grocery Store</th>\n",
       "      <th>Supermarket Type1</th>\n",
       "      <th>Supermarket Type2</th>\n",
       "      <th>Supermarket Type3</th>\n",
       "    </tr>\n",
       "  </thead>\n",
       "  <tbody>\n",
       "    <tr>\n",
       "      <th>0</th>\n",
       "      <td>11.6</td>\n",
       "      <td>0.068535</td>\n",
       "      <td>357.54</td>\n",
       "      <td>2005</td>\n",
       "      <td>1.0</td>\n",
       "      <td>709.08</td>\n",
       "      <td>0.6</td>\n",
       "      <td>0.54</td>\n",
       "      <td>1</td>\n",
       "      <td>0</td>\n",
       "      <td>0</td>\n",
       "      <td>0</td>\n",
       "      <td>0</td>\n",
       "      <td>1</td>\n",
       "      <td>1</td>\n",
       "      <td>0</td>\n",
       "      <td>0</td>\n",
       "      <td>0</td>\n",
       "    </tr>\n",
       "    <tr>\n",
       "      <th>1</th>\n",
       "      <td>11.6</td>\n",
       "      <td>0.040912</td>\n",
       "      <td>355.79</td>\n",
       "      <td>1994</td>\n",
       "      <td>2.0</td>\n",
       "      <td>6381.69</td>\n",
       "      <td>0.6</td>\n",
       "      <td>0.79</td>\n",
       "      <td>1</td>\n",
       "      <td>0</td>\n",
       "      <td>0</td>\n",
       "      <td>0</td>\n",
       "      <td>0</td>\n",
       "      <td>1</td>\n",
       "      <td>0</td>\n",
       "      <td>1</td>\n",
       "      <td>0</td>\n",
       "      <td>0</td>\n",
       "    </tr>\n",
       "    <tr>\n",
       "      <th>2</th>\n",
       "      <td>11.6</td>\n",
       "      <td>0.041178</td>\n",
       "      <td>350.79</td>\n",
       "      <td>2014</td>\n",
       "      <td>1.0</td>\n",
       "      <td>6381.69</td>\n",
       "      <td>0.6</td>\n",
       "      <td>0.79</td>\n",
       "      <td>1</td>\n",
       "      <td>0</td>\n",
       "      <td>0</td>\n",
       "      <td>0</td>\n",
       "      <td>1</td>\n",
       "      <td>0</td>\n",
       "      <td>0</td>\n",
       "      <td>1</td>\n",
       "      <td>0</td>\n",
       "      <td>0</td>\n",
       "    </tr>\n",
       "    <tr>\n",
       "      <th>3</th>\n",
       "      <td>11.6</td>\n",
       "      <td>0.041113</td>\n",
       "      <td>355.04</td>\n",
       "      <td>2016</td>\n",
       "      <td>1.0</td>\n",
       "      <td>2127.23</td>\n",
       "      <td>0.6</td>\n",
       "      <td>0.04</td>\n",
       "      <td>1</td>\n",
       "      <td>0</td>\n",
       "      <td>0</td>\n",
       "      <td>0</td>\n",
       "      <td>0</td>\n",
       "      <td>1</td>\n",
       "      <td>0</td>\n",
       "      <td>0</td>\n",
       "      <td>1</td>\n",
       "      <td>0</td>\n",
       "    </tr>\n",
       "    <tr>\n",
       "      <th>4</th>\n",
       "      <td>11.6</td>\n",
       "      <td>0.000000</td>\n",
       "      <td>354.79</td>\n",
       "      <td>2011</td>\n",
       "      <td>0.0</td>\n",
       "      <td>2481.77</td>\n",
       "      <td>0.6</td>\n",
       "      <td>0.79</td>\n",
       "      <td>0</td>\n",
       "      <td>0</td>\n",
       "      <td>1</td>\n",
       "      <td>0</td>\n",
       "      <td>1</td>\n",
       "      <td>0</td>\n",
       "      <td>0</td>\n",
       "      <td>1</td>\n",
       "      <td>0</td>\n",
       "      <td>0</td>\n",
       "    </tr>\n",
       "  </tbody>\n",
       "</table>\n",
       "</div>"
      ],
      "text/plain": [
       "   Product_Weight  Product_Shelf_Visibility  Product_Price  \\\n",
       "0            11.6                  0.068535         357.54   \n",
       "1            11.6                  0.040912         355.79   \n",
       "2            11.6                  0.041178         350.79   \n",
       "3            11.6                  0.041113         355.04   \n",
       "4            11.6                  0.000000         354.79   \n",
       "\n",
       "   Supermarket_Opening_Year  Supermarket _Size  Product_Supermarket_Sales  \\\n",
       "0                      2005                1.0                     709.08   \n",
       "1                      1994                2.0                    6381.69   \n",
       "2                      2014                1.0                    6381.69   \n",
       "3                      2016                1.0                    2127.23   \n",
       "4                      2011                0.0                    2481.77   \n",
       "\n",
       "     b     d  Low Fat  Normal Fat  Ultra Low fat  Cluster 1  Cluster 2  \\\n",
       "0  0.6  0.54        1           0              0          0          0   \n",
       "1  0.6  0.79        1           0              0          0          0   \n",
       "2  0.6  0.79        1           0              0          0          1   \n",
       "3  0.6  0.04        1           0              0          0          0   \n",
       "4  0.6  0.79        0           0              1          0          1   \n",
       "\n",
       "   Cluster 3  Grocery Store  Supermarket Type1  Supermarket Type2  \\\n",
       "0          1              1                  0                  0   \n",
       "1          1              0                  1                  0   \n",
       "2          0              0                  1                  0   \n",
       "3          1              0                  0                  1   \n",
       "4          0              0                  1                  0   \n",
       "\n",
       "   Supermarket Type3  \n",
       "0                  0  \n",
       "1                  0  \n",
       "2                  0  \n",
       "3                  0  \n",
       "4                  0  "
      ]
     },
     "execution_count": 31,
     "metadata": {},
     "output_type": "execute_result"
    }
   ],
   "source": [
    "data.head()"
   ]
  },
  {
   "cell_type": "code",
   "execution_count": 32,
   "metadata": {},
   "outputs": [
    {
     "data": {
      "text/html": [
       "<div>\n",
       "<style scoped>\n",
       "    .dataframe tbody tr th:only-of-type {\n",
       "        vertical-align: middle;\n",
       "    }\n",
       "\n",
       "    .dataframe tbody tr th {\n",
       "        vertical-align: top;\n",
       "    }\n",
       "\n",
       "    .dataframe thead th {\n",
       "        text-align: right;\n",
       "    }\n",
       "</style>\n",
       "<table border=\"1\" class=\"dataframe\">\n",
       "  <thead>\n",
       "    <tr style=\"text-align: right;\">\n",
       "      <th></th>\n",
       "      <th>Product_Weight</th>\n",
       "      <th>Product_Shelf_Visibility</th>\n",
       "      <th>Product_Price</th>\n",
       "      <th>Supermarket_Opening_Year</th>\n",
       "      <th>Supermarket _Size</th>\n",
       "      <th>b</th>\n",
       "      <th>d</th>\n",
       "      <th>Low Fat</th>\n",
       "      <th>Normal Fat</th>\n",
       "      <th>Ultra Low fat</th>\n",
       "      <th>Cluster 1</th>\n",
       "      <th>Cluster 2</th>\n",
       "      <th>Cluster 3</th>\n",
       "      <th>Grocery Store</th>\n",
       "      <th>Supermarket Type1</th>\n",
       "      <th>Supermarket Type2</th>\n",
       "      <th>Supermarket Type3</th>\n",
       "    </tr>\n",
       "  </thead>\n",
       "  <tbody>\n",
       "    <tr>\n",
       "      <th>0</th>\n",
       "      <td>8.270</td>\n",
       "      <td>0.214125</td>\n",
       "      <td>459.98</td>\n",
       "      <td>2005</td>\n",
       "      <td>1.0</td>\n",
       "      <td>0.270</td>\n",
       "      <td>0.98</td>\n",
       "      <td>0</td>\n",
       "      <td>1</td>\n",
       "      <td>0</td>\n",
       "      <td>0</td>\n",
       "      <td>0</td>\n",
       "      <td>1</td>\n",
       "      <td>1</td>\n",
       "      <td>0</td>\n",
       "      <td>0</td>\n",
       "      <td>0</td>\n",
       "    </tr>\n",
       "    <tr>\n",
       "      <th>1</th>\n",
       "      <td>8.270</td>\n",
       "      <td>0.127821</td>\n",
       "      <td>464.98</td>\n",
       "      <td>1994</td>\n",
       "      <td>2.0</td>\n",
       "      <td>0.270</td>\n",
       "      <td>0.98</td>\n",
       "      <td>0</td>\n",
       "      <td>1</td>\n",
       "      <td>0</td>\n",
       "      <td>0</td>\n",
       "      <td>0</td>\n",
       "      <td>1</td>\n",
       "      <td>0</td>\n",
       "      <td>1</td>\n",
       "      <td>0</td>\n",
       "      <td>0</td>\n",
       "    </tr>\n",
       "    <tr>\n",
       "      <th>2</th>\n",
       "      <td>7.390</td>\n",
       "      <td>0.082171</td>\n",
       "      <td>477.38</td>\n",
       "      <td>1994</td>\n",
       "      <td>2.0</td>\n",
       "      <td>0.390</td>\n",
       "      <td>0.38</td>\n",
       "      <td>1</td>\n",
       "      <td>0</td>\n",
       "      <td>0</td>\n",
       "      <td>0</td>\n",
       "      <td>0</td>\n",
       "      <td>1</td>\n",
       "      <td>0</td>\n",
       "      <td>1</td>\n",
       "      <td>0</td>\n",
       "      <td>0</td>\n",
       "    </tr>\n",
       "    <tr>\n",
       "      <th>3</th>\n",
       "      <td>6.115</td>\n",
       "      <td>0.011791</td>\n",
       "      <td>472.63</td>\n",
       "      <td>2005</td>\n",
       "      <td>1.0</td>\n",
       "      <td>0.115</td>\n",
       "      <td>0.63</td>\n",
       "      <td>0</td>\n",
       "      <td>1</td>\n",
       "      <td>0</td>\n",
       "      <td>0</td>\n",
       "      <td>0</td>\n",
       "      <td>1</td>\n",
       "      <td>1</td>\n",
       "      <td>0</td>\n",
       "      <td>0</td>\n",
       "      <td>0</td>\n",
       "    </tr>\n",
       "    <tr>\n",
       "      <th>4</th>\n",
       "      <td>6.115</td>\n",
       "      <td>0.007038</td>\n",
       "      <td>473.13</td>\n",
       "      <td>1994</td>\n",
       "      <td>2.0</td>\n",
       "      <td>0.115</td>\n",
       "      <td>0.13</td>\n",
       "      <td>0</td>\n",
       "      <td>1</td>\n",
       "      <td>0</td>\n",
       "      <td>0</td>\n",
       "      <td>0</td>\n",
       "      <td>1</td>\n",
       "      <td>0</td>\n",
       "      <td>1</td>\n",
       "      <td>0</td>\n",
       "      <td>0</td>\n",
       "    </tr>\n",
       "  </tbody>\n",
       "</table>\n",
       "</div>"
      ],
      "text/plain": [
       "   Product_Weight  Product_Shelf_Visibility  Product_Price  \\\n",
       "0           8.270                  0.214125         459.98   \n",
       "1           8.270                  0.127821         464.98   \n",
       "2           7.390                  0.082171         477.38   \n",
       "3           6.115                  0.011791         472.63   \n",
       "4           6.115                  0.007038         473.13   \n",
       "\n",
       "   Supermarket_Opening_Year  Supermarket _Size      b     d  Low Fat  \\\n",
       "0                      2005                1.0  0.270  0.98        0   \n",
       "1                      1994                2.0  0.270  0.98        0   \n",
       "2                      1994                2.0  0.390  0.38        1   \n",
       "3                      2005                1.0  0.115  0.63        0   \n",
       "4                      1994                2.0  0.115  0.13        0   \n",
       "\n",
       "   Normal Fat  Ultra Low fat  Cluster 1  Cluster 2  Cluster 3  Grocery Store  \\\n",
       "0           1              0          0          0          1              1   \n",
       "1           1              0          0          0          1              0   \n",
       "2           0              0          0          0          1              0   \n",
       "3           1              0          0          0          1              1   \n",
       "4           1              0          0          0          1              0   \n",
       "\n",
       "   Supermarket Type1  Supermarket Type2  Supermarket Type3  \n",
       "0                  0                  0                  0  \n",
       "1                  1                  0                  0  \n",
       "2                  1                  0                  0  \n",
       "3                  0                  0                  0  \n",
       "4                  1                  0                  0  "
      ]
     },
     "execution_count": 32,
     "metadata": {},
     "output_type": "execute_result"
    }
   ],
   "source": [
    "test.head()"
   ]
  },
  {
   "cell_type": "code",
   "execution_count": 34,
   "metadata": {},
   "outputs": [],
   "source": [
    "dat = pd.read_csv('kaggled1.csv')"
   ]
  },
  {
   "cell_type": "code",
   "execution_count": 35,
   "metadata": {},
   "outputs": [
    {
     "data": {
      "text/html": [
       "<div>\n",
       "<style scoped>\n",
       "    .dataframe tbody tr th:only-of-type {\n",
       "        vertical-align: middle;\n",
       "    }\n",
       "\n",
       "    .dataframe tbody tr th {\n",
       "        vertical-align: top;\n",
       "    }\n",
       "\n",
       "    .dataframe thead th {\n",
       "        text-align: right;\n",
       "    }\n",
       "</style>\n",
       "<table border=\"1\" class=\"dataframe\">\n",
       "  <thead>\n",
       "    <tr style=\"text-align: right;\">\n",
       "      <th></th>\n",
       "      <th>Product_Supermarket_Identifier</th>\n",
       "      <th>Product_Supermarket_Sales</th>\n",
       "    </tr>\n",
       "  </thead>\n",
       "  <tbody>\n",
       "    <tr>\n",
       "      <th>0</th>\n",
       "      <td>DRA59_CHUKWUDI010</td>\n",
       "      <td>1467.0317</td>\n",
       "    </tr>\n",
       "  </tbody>\n",
       "</table>\n",
       "</div>"
      ],
      "text/plain": [
       "  Product_Supermarket_Identifier  Product_Supermarket_Sales\n",
       "0              DRA59_CHUKWUDI010                  1467.0317"
      ]
     },
     "execution_count": 35,
     "metadata": {},
     "output_type": "execute_result"
    }
   ],
   "source": [
    "dat.head(1)"
   ]
  },
  {
   "cell_type": "code",
   "execution_count": 36,
   "metadata": {},
   "outputs": [],
   "source": [
    "dat['a'] = (data['Product_Supermarket_Sales'] + dat['Product_Supermarket_Sales'])/2"
   ]
  },
  {
   "cell_type": "code",
   "execution_count": 37,
   "metadata": {},
   "outputs": [
    {
     "data": {
      "text/html": [
       "<div>\n",
       "<style scoped>\n",
       "    .dataframe tbody tr th:only-of-type {\n",
       "        vertical-align: middle;\n",
       "    }\n",
       "\n",
       "    .dataframe tbody tr th {\n",
       "        vertical-align: top;\n",
       "    }\n",
       "\n",
       "    .dataframe thead th {\n",
       "        text-align: right;\n",
       "    }\n",
       "</style>\n",
       "<table border=\"1\" class=\"dataframe\">\n",
       "  <thead>\n",
       "    <tr style=\"text-align: right;\">\n",
       "      <th></th>\n",
       "      <th>Product_Supermarket_Identifier</th>\n",
       "      <th>Product_Supermarket_Sales</th>\n",
       "      <th>a</th>\n",
       "    </tr>\n",
       "  </thead>\n",
       "  <tbody>\n",
       "    <tr>\n",
       "      <th>0</th>\n",
       "      <td>DRA59_CHUKWUDI010</td>\n",
       "      <td>1467.0317</td>\n",
       "      <td>1088.05585</td>\n",
       "    </tr>\n",
       "    <tr>\n",
       "      <th>1</th>\n",
       "      <td>DRA59_CHUKWUDI013</td>\n",
       "      <td>9107.4100</td>\n",
       "      <td>7744.55000</td>\n",
       "    </tr>\n",
       "    <tr>\n",
       "      <th>2</th>\n",
       "      <td>DRB01_CHUKWUDI013</td>\n",
       "      <td>8542.2510</td>\n",
       "      <td>7461.97050</td>\n",
       "    </tr>\n",
       "    <tr>\n",
       "      <th>3</th>\n",
       "      <td>DRB13_CHUKWUDI010</td>\n",
       "      <td>1485.2194</td>\n",
       "      <td>1806.22470</td>\n",
       "    </tr>\n",
       "    <tr>\n",
       "      <th>4</th>\n",
       "      <td>DRB13_CHUKWUDI013</td>\n",
       "      <td>8646.8530</td>\n",
       "      <td>5564.31150</td>\n",
       "    </tr>\n",
       "  </tbody>\n",
       "</table>\n",
       "</div>"
      ],
      "text/plain": [
       "  Product_Supermarket_Identifier  Product_Supermarket_Sales           a\n",
       "0              DRA59_CHUKWUDI010                  1467.0317  1088.05585\n",
       "1              DRA59_CHUKWUDI013                  9107.4100  7744.55000\n",
       "2              DRB01_CHUKWUDI013                  8542.2510  7461.97050\n",
       "3              DRB13_CHUKWUDI010                  1485.2194  1806.22470\n",
       "4              DRB13_CHUKWUDI013                  8646.8530  5564.31150"
      ]
     },
     "execution_count": 37,
     "metadata": {},
     "output_type": "execute_result"
    }
   ],
   "source": [
    "dat.head()"
   ]
  },
  {
   "cell_type": "code",
   "execution_count": 39,
   "metadata": {},
   "outputs": [],
   "source": [
    "dat['b'] = data['Product_Supermarket_Sales'] - dat['a']"
   ]
  },
  {
   "cell_type": "code",
   "execution_count": 40,
   "metadata": {},
   "outputs": [
    {
     "data": {
      "text/html": [
       "<div>\n",
       "<style scoped>\n",
       "    .dataframe tbody tr th:only-of-type {\n",
       "        vertical-align: middle;\n",
       "    }\n",
       "\n",
       "    .dataframe tbody tr th {\n",
       "        vertical-align: top;\n",
       "    }\n",
       "\n",
       "    .dataframe thead th {\n",
       "        text-align: right;\n",
       "    }\n",
       "</style>\n",
       "<table border=\"1\" class=\"dataframe\">\n",
       "  <thead>\n",
       "    <tr style=\"text-align: right;\">\n",
       "      <th></th>\n",
       "      <th>Product_Supermarket_Identifier</th>\n",
       "      <th>Product_Supermarket_Sales</th>\n",
       "      <th>a</th>\n",
       "      <th>b</th>\n",
       "    </tr>\n",
       "  </thead>\n",
       "  <tbody>\n",
       "    <tr>\n",
       "      <th>0</th>\n",
       "      <td>DRA59_CHUKWUDI010</td>\n",
       "      <td>1467.0317</td>\n",
       "      <td>1088.05585</td>\n",
       "      <td>-378.97585</td>\n",
       "    </tr>\n",
       "    <tr>\n",
       "      <th>1</th>\n",
       "      <td>DRA59_CHUKWUDI013</td>\n",
       "      <td>9107.4100</td>\n",
       "      <td>7744.55000</td>\n",
       "      <td>-1362.86000</td>\n",
       "    </tr>\n",
       "    <tr>\n",
       "      <th>2</th>\n",
       "      <td>DRB01_CHUKWUDI013</td>\n",
       "      <td>8542.2510</td>\n",
       "      <td>7461.97050</td>\n",
       "      <td>-1080.28050</td>\n",
       "    </tr>\n",
       "    <tr>\n",
       "      <th>3</th>\n",
       "      <td>DRB13_CHUKWUDI010</td>\n",
       "      <td>1485.2194</td>\n",
       "      <td>1806.22470</td>\n",
       "      <td>321.00530</td>\n",
       "    </tr>\n",
       "    <tr>\n",
       "      <th>4</th>\n",
       "      <td>DRB13_CHUKWUDI013</td>\n",
       "      <td>8646.8530</td>\n",
       "      <td>5564.31150</td>\n",
       "      <td>-3082.54150</td>\n",
       "    </tr>\n",
       "  </tbody>\n",
       "</table>\n",
       "</div>"
      ],
      "text/plain": [
       "  Product_Supermarket_Identifier  Product_Supermarket_Sales           a  \\\n",
       "0              DRA59_CHUKWUDI010                  1467.0317  1088.05585   \n",
       "1              DRA59_CHUKWUDI013                  9107.4100  7744.55000   \n",
       "2              DRB01_CHUKWUDI013                  8542.2510  7461.97050   \n",
       "3              DRB13_CHUKWUDI010                  1485.2194  1806.22470   \n",
       "4              DRB13_CHUKWUDI013                  8646.8530  5564.31150   \n",
       "\n",
       "            b  \n",
       "0  -378.97585  \n",
       "1 -1362.86000  \n",
       "2 -1080.28050  \n",
       "3   321.00530  \n",
       "4 -3082.54150  "
      ]
     },
     "execution_count": 40,
     "metadata": {},
     "output_type": "execute_result"
    }
   ],
   "source": [
    "dat.head()"
   ]
  },
  {
   "cell_type": "code",
   "execution_count": 42,
   "metadata": {},
   "outputs": [
    {
     "data": {
      "text/html": [
       "<div>\n",
       "<style scoped>\n",
       "    .dataframe tbody tr th:only-of-type {\n",
       "        vertical-align: middle;\n",
       "    }\n",
       "\n",
       "    .dataframe tbody tr th {\n",
       "        vertical-align: top;\n",
       "    }\n",
       "\n",
       "    .dataframe thead th {\n",
       "        text-align: right;\n",
       "    }\n",
       "</style>\n",
       "<table border=\"1\" class=\"dataframe\">\n",
       "  <thead>\n",
       "    <tr style=\"text-align: right;\">\n",
       "      <th></th>\n",
       "      <th>Product_Supermarket_Sales</th>\n",
       "      <th>a</th>\n",
       "      <th>b</th>\n",
       "    </tr>\n",
       "  </thead>\n",
       "  <tbody>\n",
       "    <tr>\n",
       "      <th>count</th>\n",
       "      <td>3532.000000</td>\n",
       "      <td>3532.000000</td>\n",
       "      <td>3532.000000</td>\n",
       "    </tr>\n",
       "    <tr>\n",
       "      <th>mean</th>\n",
       "      <td>4830.539510</td>\n",
       "      <td>5489.080711</td>\n",
       "      <td>658.541201</td>\n",
       "    </tr>\n",
       "    <tr>\n",
       "      <th>std</th>\n",
       "      <td>2827.863670</td>\n",
       "      <td>2644.808393</td>\n",
       "      <td>2649.510934</td>\n",
       "    </tr>\n",
       "    <tr>\n",
       "      <th>min</th>\n",
       "      <td>-644.717960</td>\n",
       "      <td>82.853663</td>\n",
       "      <td>-7275.077000</td>\n",
       "    </tr>\n",
       "    <tr>\n",
       "      <th>25%</th>\n",
       "      <td>2614.115150</td>\n",
       "      <td>3514.277250</td>\n",
       "      <td>-1158.273837</td>\n",
       "    </tr>\n",
       "    <tr>\n",
       "      <th>50%</th>\n",
       "      <td>4061.056550</td>\n",
       "      <td>5151.514825</td>\n",
       "      <td>464.117000</td>\n",
       "    </tr>\n",
       "    <tr>\n",
       "      <th>75%</th>\n",
       "      <td>7404.930825</td>\n",
       "      <td>7096.681800</td>\n",
       "      <td>2287.904475</td>\n",
       "    </tr>\n",
       "    <tr>\n",
       "      <th>max</th>\n",
       "      <td>15685.945000</td>\n",
       "      <td>16999.928500</td>\n",
       "      <td>13517.865150</td>\n",
       "    </tr>\n",
       "  </tbody>\n",
       "</table>\n",
       "</div>"
      ],
      "text/plain": [
       "       Product_Supermarket_Sales             a             b\n",
       "count                3532.000000   3532.000000   3532.000000\n",
       "mean                 4830.539510   5489.080711    658.541201\n",
       "std                  2827.863670   2644.808393   2649.510934\n",
       "min                  -644.717960     82.853663  -7275.077000\n",
       "25%                  2614.115150   3514.277250  -1158.273837\n",
       "50%                  4061.056550   5151.514825    464.117000\n",
       "75%                  7404.930825   7096.681800   2287.904475\n",
       "max                 15685.945000  16999.928500  13517.865150"
      ]
     },
     "execution_count": 42,
     "metadata": {},
     "output_type": "execute_result"
    }
   ],
   "source": [
    "dat.describe()"
   ]
  },
  {
   "cell_type": "code",
   "execution_count": 43,
   "metadata": {},
   "outputs": [],
   "source": [
    "data['Product_Supermarket_Sales'] = data['Product_Supermarket_Sales'] + 658"
   ]
  },
  {
   "cell_type": "code",
   "execution_count": 44,
   "metadata": {},
   "outputs": [
    {
     "data": {
      "text/html": [
       "<div>\n",
       "<style scoped>\n",
       "    .dataframe tbody tr th:only-of-type {\n",
       "        vertical-align: middle;\n",
       "    }\n",
       "\n",
       "    .dataframe tbody tr th {\n",
       "        vertical-align: top;\n",
       "    }\n",
       "\n",
       "    .dataframe thead th {\n",
       "        text-align: right;\n",
       "    }\n",
       "</style>\n",
       "<table border=\"1\" class=\"dataframe\">\n",
       "  <thead>\n",
       "    <tr style=\"text-align: right;\">\n",
       "      <th></th>\n",
       "      <th>Product_Weight</th>\n",
       "      <th>Product_Shelf_Visibility</th>\n",
       "      <th>Product_Price</th>\n",
       "      <th>Supermarket_Opening_Year</th>\n",
       "      <th>Supermarket _Size</th>\n",
       "      <th>Product_Supermarket_Sales</th>\n",
       "      <th>b</th>\n",
       "      <th>d</th>\n",
       "      <th>Low Fat</th>\n",
       "      <th>Normal Fat</th>\n",
       "      <th>Ultra Low fat</th>\n",
       "      <th>Cluster 1</th>\n",
       "      <th>Cluster 2</th>\n",
       "      <th>Cluster 3</th>\n",
       "      <th>Grocery Store</th>\n",
       "      <th>Supermarket Type1</th>\n",
       "      <th>Supermarket Type2</th>\n",
       "      <th>Supermarket Type3</th>\n",
       "    </tr>\n",
       "  </thead>\n",
       "  <tbody>\n",
       "    <tr>\n",
       "      <th>0</th>\n",
       "      <td>11.6</td>\n",
       "      <td>0.068535</td>\n",
       "      <td>357.54</td>\n",
       "      <td>2005</td>\n",
       "      <td>1.0</td>\n",
       "      <td>1367.08</td>\n",
       "      <td>0.6</td>\n",
       "      <td>0.54</td>\n",
       "      <td>1</td>\n",
       "      <td>0</td>\n",
       "      <td>0</td>\n",
       "      <td>0</td>\n",
       "      <td>0</td>\n",
       "      <td>1</td>\n",
       "      <td>1</td>\n",
       "      <td>0</td>\n",
       "      <td>0</td>\n",
       "      <td>0</td>\n",
       "    </tr>\n",
       "    <tr>\n",
       "      <th>1</th>\n",
       "      <td>11.6</td>\n",
       "      <td>0.040912</td>\n",
       "      <td>355.79</td>\n",
       "      <td>1994</td>\n",
       "      <td>2.0</td>\n",
       "      <td>7039.69</td>\n",
       "      <td>0.6</td>\n",
       "      <td>0.79</td>\n",
       "      <td>1</td>\n",
       "      <td>0</td>\n",
       "      <td>0</td>\n",
       "      <td>0</td>\n",
       "      <td>0</td>\n",
       "      <td>1</td>\n",
       "      <td>0</td>\n",
       "      <td>1</td>\n",
       "      <td>0</td>\n",
       "      <td>0</td>\n",
       "    </tr>\n",
       "    <tr>\n",
       "      <th>2</th>\n",
       "      <td>11.6</td>\n",
       "      <td>0.041178</td>\n",
       "      <td>350.79</td>\n",
       "      <td>2014</td>\n",
       "      <td>1.0</td>\n",
       "      <td>7039.69</td>\n",
       "      <td>0.6</td>\n",
       "      <td>0.79</td>\n",
       "      <td>1</td>\n",
       "      <td>0</td>\n",
       "      <td>0</td>\n",
       "      <td>0</td>\n",
       "      <td>1</td>\n",
       "      <td>0</td>\n",
       "      <td>0</td>\n",
       "      <td>1</td>\n",
       "      <td>0</td>\n",
       "      <td>0</td>\n",
       "    </tr>\n",
       "    <tr>\n",
       "      <th>3</th>\n",
       "      <td>11.6</td>\n",
       "      <td>0.041113</td>\n",
       "      <td>355.04</td>\n",
       "      <td>2016</td>\n",
       "      <td>1.0</td>\n",
       "      <td>2785.23</td>\n",
       "      <td>0.6</td>\n",
       "      <td>0.04</td>\n",
       "      <td>1</td>\n",
       "      <td>0</td>\n",
       "      <td>0</td>\n",
       "      <td>0</td>\n",
       "      <td>0</td>\n",
       "      <td>1</td>\n",
       "      <td>0</td>\n",
       "      <td>0</td>\n",
       "      <td>1</td>\n",
       "      <td>0</td>\n",
       "    </tr>\n",
       "    <tr>\n",
       "      <th>4</th>\n",
       "      <td>11.6</td>\n",
       "      <td>0.000000</td>\n",
       "      <td>354.79</td>\n",
       "      <td>2011</td>\n",
       "      <td>0.0</td>\n",
       "      <td>3139.77</td>\n",
       "      <td>0.6</td>\n",
       "      <td>0.79</td>\n",
       "      <td>0</td>\n",
       "      <td>0</td>\n",
       "      <td>1</td>\n",
       "      <td>0</td>\n",
       "      <td>1</td>\n",
       "      <td>0</td>\n",
       "      <td>0</td>\n",
       "      <td>1</td>\n",
       "      <td>0</td>\n",
       "      <td>0</td>\n",
       "    </tr>\n",
       "  </tbody>\n",
       "</table>\n",
       "</div>"
      ],
      "text/plain": [
       "   Product_Weight  Product_Shelf_Visibility  Product_Price  \\\n",
       "0            11.6                  0.068535         357.54   \n",
       "1            11.6                  0.040912         355.79   \n",
       "2            11.6                  0.041178         350.79   \n",
       "3            11.6                  0.041113         355.04   \n",
       "4            11.6                  0.000000         354.79   \n",
       "\n",
       "   Supermarket_Opening_Year  Supermarket _Size  Product_Supermarket_Sales  \\\n",
       "0                      2005                1.0                    1367.08   \n",
       "1                      1994                2.0                    7039.69   \n",
       "2                      2014                1.0                    7039.69   \n",
       "3                      2016                1.0                    2785.23   \n",
       "4                      2011                0.0                    3139.77   \n",
       "\n",
       "     b     d  Low Fat  Normal Fat  Ultra Low fat  Cluster 1  Cluster 2  \\\n",
       "0  0.6  0.54        1           0              0          0          0   \n",
       "1  0.6  0.79        1           0              0          0          0   \n",
       "2  0.6  0.79        1           0              0          0          1   \n",
       "3  0.6  0.04        1           0              0          0          0   \n",
       "4  0.6  0.79        0           0              1          0          1   \n",
       "\n",
       "   Cluster 3  Grocery Store  Supermarket Type1  Supermarket Type2  \\\n",
       "0          1              1                  0                  0   \n",
       "1          1              0                  1                  0   \n",
       "2          0              0                  1                  0   \n",
       "3          1              0                  0                  1   \n",
       "4          0              0                  1                  0   \n",
       "\n",
       "   Supermarket Type3  \n",
       "0                  0  \n",
       "1                  0  \n",
       "2                  0  \n",
       "3                  0  \n",
       "4                  0  "
      ]
     },
     "execution_count": 44,
     "metadata": {},
     "output_type": "execute_result"
    }
   ],
   "source": [
    "data.head()"
   ]
  },
  {
   "cell_type": "code",
   "execution_count": 45,
   "metadata": {},
   "outputs": [],
   "source": [
    "X = data.drop('Product_Supermarket_Sales',axis = 1)"
   ]
  },
  {
   "cell_type": "code",
   "execution_count": 46,
   "metadata": {},
   "outputs": [],
   "source": [
    "y = data['Product_Supermarket_Sales']"
   ]
  },
  {
   "cell_type": "code",
   "execution_count": 47,
   "metadata": {},
   "outputs": [],
   "source": [
    "from sklearn.cross_validation import train_test_split"
   ]
  },
  {
   "cell_type": "code",
   "execution_count": 48,
   "metadata": {},
   "outputs": [],
   "source": [
    "X_train, X_test, y_train, y_test = train_test_split(X, y, test_size=0.33, random_state=42)"
   ]
  },
  {
   "cell_type": "code",
   "execution_count": 49,
   "metadata": {},
   "outputs": [],
   "source": [
    "from xgboost import XGBRegressor"
   ]
  },
  {
   "cell_type": "code",
   "execution_count": 50,
   "metadata": {},
   "outputs": [],
   "source": [
    "modelll = XGBRegressor()"
   ]
  },
  {
   "cell_type": "code",
   "execution_count": 51,
   "metadata": {},
   "outputs": [
    {
     "data": {
      "text/plain": [
       "XGBRegressor(base_score=0.5, booster='gbtree', colsample_bylevel=1,\n",
       "       colsample_bytree=1, gamma=0, learning_rate=0.1, max_delta_step=0,\n",
       "       max_depth=3, min_child_weight=1, missing=None, n_estimators=100,\n",
       "       n_jobs=1, nthread=None, objective='reg:linear', random_state=0,\n",
       "       reg_alpha=0, reg_lambda=1, scale_pos_weight=1, seed=None,\n",
       "       silent=True, subsample=1)"
      ]
     },
     "execution_count": 51,
     "metadata": {},
     "output_type": "execute_result"
    }
   ],
   "source": [
    "modelll.fit(X_train,y_train)"
   ]
  },
  {
   "cell_type": "code",
   "execution_count": 54,
   "metadata": {},
   "outputs": [],
   "source": [
    "pred = modelll.predict(X_test)"
   ]
  },
  {
   "cell_type": "code",
   "execution_count": 55,
   "metadata": {},
   "outputs": [
    {
     "data": {
      "text/plain": [
       "<matplotlib.collections.PathCollection at 0x245d59396d8>"
      ]
     },
     "execution_count": 55,
     "metadata": {},
     "output_type": "execute_result"
    },
    {
     "data": {
      "image/png": "[encoded data removed]",
      "text/plain": [
       "<matplotlib.figure.Figure at 0x245d658a9e8>"
      ]
     },
     "metadata": {},
     "output_type": "display_data"
    }
   ],
   "source": [
    "plt.scatter(y_test,pred)"
   ]
  },
  {
   "cell_type": "code",
   "execution_count": 56,
   "metadata": {},
   "outputs": [],
   "source": [
    "myped = modelll.predict(test)"
   ]
  },
  {
   "cell_type": "code",
   "execution_count": 58,
   "metadata": {},
   "outputs": [],
   "source": [
    "dat11  =pd.read_csv('submission_price.xls')\n",
    "dat11.drop('Product_Supermarket_Sales',axis = 1 , inplace = True)\n",
    "a = pd.DataFrame({'Product_Supermarket_Sales':myped})"
   ]
  },
  {
   "cell_type": "code",
   "execution_count": 60,
   "metadata": {},
   "outputs": [],
   "source": [
    "submitted1 = pd.concat([dat11,a],axis =1)"
   ]
  },
  {
   "cell_type": "code",
   "execution_count": 61,
   "metadata": {},
   "outputs": [],
   "source": [
    "submitted1.to_csv('tuesday.csv',index = False)"
   ]
  },
  {
   "cell_type": "code",
   "execution_count": null,
   "metadata": {},
   "outputs": [],
   "source": []
  },
  {
   "cell_type": "code",
   "execution_count": null,
   "metadata": {},
   "outputs": [],
   "source": []
  },
  {
   "cell_type": "code",
   "execution_count": null,
   "metadata": {},
   "outputs": [],
   "source": []
  },
  {
   "cell_type": "code",
   "execution_count": null,
   "metadata": {},
   "outputs": [],
   "source": []
  },
  {
   "cell_type": "code",
   "execution_count": 34,
   "metadata": {},
   "outputs": [
    {
     "data": {
      "text/html": [
       "<div>\n",
       "<style scoped>\n",
       "    .dataframe tbody tr th:only-of-type {\n",
       "        vertical-align: middle;\n",
       "    }\n",
       "\n",
       "    .dataframe tbody tr th {\n",
       "        vertical-align: top;\n",
       "    }\n",
       "\n",
       "    .dataframe thead th {\n",
       "        text-align: right;\n",
       "    }\n",
       "</style>\n",
       "<table border=\"1\" class=\"dataframe\">\n",
       "  <thead>\n",
       "    <tr style=\"text-align: right;\">\n",
       "      <th></th>\n",
       "      <th>Product_Weight</th>\n",
       "      <th>Product_Shelf_Visibility</th>\n",
       "      <th>Product_Price</th>\n",
       "      <th>Supermarket_Opening_Year</th>\n",
       "      <th>Supermarket _Size</th>\n",
       "      <th>Product_Supermarket_Sales</th>\n",
       "      <th>b</th>\n",
       "      <th>d</th>\n",
       "      <th>Low Fat</th>\n",
       "      <th>Normal Fat</th>\n",
       "      <th>Ultra Low fat</th>\n",
       "      <th>Cluster 1</th>\n",
       "      <th>Cluster 2</th>\n",
       "      <th>Cluster 3</th>\n",
       "      <th>Grocery Store</th>\n",
       "      <th>Supermarket Type1</th>\n",
       "      <th>Supermarket Type2</th>\n",
       "      <th>Supermarket Type3</th>\n",
       "    </tr>\n",
       "  </thead>\n",
       "  <tbody>\n",
       "    <tr>\n",
       "      <th>0</th>\n",
       "      <td>11.6</td>\n",
       "      <td>0.068535</td>\n",
       "      <td>357.54</td>\n",
       "      <td>2005</td>\n",
       "      <td>1.0</td>\n",
       "      <td>709.08</td>\n",
       "      <td>0.6</td>\n",
       "      <td>0.54</td>\n",
       "      <td>1</td>\n",
       "      <td>0</td>\n",
       "      <td>0</td>\n",
       "      <td>0</td>\n",
       "      <td>0</td>\n",
       "      <td>1</td>\n",
       "      <td>1</td>\n",
       "      <td>0</td>\n",
       "      <td>0</td>\n",
       "      <td>0</td>\n",
       "    </tr>\n",
       "    <tr>\n",
       "      <th>1</th>\n",
       "      <td>11.6</td>\n",
       "      <td>0.040912</td>\n",
       "      <td>355.79</td>\n",
       "      <td>1994</td>\n",
       "      <td>2.0</td>\n",
       "      <td>6381.69</td>\n",
       "      <td>0.6</td>\n",
       "      <td>0.79</td>\n",
       "      <td>1</td>\n",
       "      <td>0</td>\n",
       "      <td>0</td>\n",
       "      <td>0</td>\n",
       "      <td>0</td>\n",
       "      <td>1</td>\n",
       "      <td>0</td>\n",
       "      <td>1</td>\n",
       "      <td>0</td>\n",
       "      <td>0</td>\n",
       "    </tr>\n",
       "    <tr>\n",
       "      <th>2</th>\n",
       "      <td>11.6</td>\n",
       "      <td>0.041178</td>\n",
       "      <td>350.79</td>\n",
       "      <td>2014</td>\n",
       "      <td>1.0</td>\n",
       "      <td>6381.69</td>\n",
       "      <td>0.6</td>\n",
       "      <td>0.79</td>\n",
       "      <td>1</td>\n",
       "      <td>0</td>\n",
       "      <td>0</td>\n",
       "      <td>0</td>\n",
       "      <td>1</td>\n",
       "      <td>0</td>\n",
       "      <td>0</td>\n",
       "      <td>1</td>\n",
       "      <td>0</td>\n",
       "      <td>0</td>\n",
       "    </tr>\n",
       "    <tr>\n",
       "      <th>3</th>\n",
       "      <td>11.6</td>\n",
       "      <td>0.041113</td>\n",
       "      <td>355.04</td>\n",
       "      <td>2016</td>\n",
       "      <td>1.0</td>\n",
       "      <td>2127.23</td>\n",
       "      <td>0.6</td>\n",
       "      <td>0.04</td>\n",
       "      <td>1</td>\n",
       "      <td>0</td>\n",
       "      <td>0</td>\n",
       "      <td>0</td>\n",
       "      <td>0</td>\n",
       "      <td>1</td>\n",
       "      <td>0</td>\n",
       "      <td>0</td>\n",
       "      <td>1</td>\n",
       "      <td>0</td>\n",
       "    </tr>\n",
       "    <tr>\n",
       "      <th>4</th>\n",
       "      <td>11.6</td>\n",
       "      <td>0.000000</td>\n",
       "      <td>354.79</td>\n",
       "      <td>2011</td>\n",
       "      <td>0.0</td>\n",
       "      <td>2481.77</td>\n",
       "      <td>0.6</td>\n",
       "      <td>0.79</td>\n",
       "      <td>0</td>\n",
       "      <td>0</td>\n",
       "      <td>1</td>\n",
       "      <td>0</td>\n",
       "      <td>1</td>\n",
       "      <td>0</td>\n",
       "      <td>0</td>\n",
       "      <td>1</td>\n",
       "      <td>0</td>\n",
       "      <td>0</td>\n",
       "    </tr>\n",
       "  </tbody>\n",
       "</table>\n",
       "</div>"
      ],
      "text/plain": [
       "   Product_Weight  Product_Shelf_Visibility  Product_Price  \\\n",
       "0            11.6                  0.068535         357.54   \n",
       "1            11.6                  0.040912         355.79   \n",
       "2            11.6                  0.041178         350.79   \n",
       "3            11.6                  0.041113         355.04   \n",
       "4            11.6                  0.000000         354.79   \n",
       "\n",
       "   Supermarket_Opening_Year  Supermarket _Size  Product_Supermarket_Sales  \\\n",
       "0                      2005                1.0                     709.08   \n",
       "1                      1994                2.0                    6381.69   \n",
       "2                      2014                1.0                    6381.69   \n",
       "3                      2016                1.0                    2127.23   \n",
       "4                      2011                0.0                    2481.77   \n",
       "\n",
       "     b     d  Low Fat  Normal Fat  Ultra Low fat  Cluster 1  Cluster 2  \\\n",
       "0  0.6  0.54        1           0              0          0          0   \n",
       "1  0.6  0.79        1           0              0          0          0   \n",
       "2  0.6  0.79        1           0              0          0          1   \n",
       "3  0.6  0.04        1           0              0          0          0   \n",
       "4  0.6  0.79        0           0              1          0          1   \n",
       "\n",
       "   Cluster 3  Grocery Store  Supermarket Type1  Supermarket Type2  \\\n",
       "0          1              1                  0                  0   \n",
       "1          1              0                  1                  0   \n",
       "2          0              0                  1                  0   \n",
       "3          1              0                  0                  1   \n",
       "4          0              0                  1                  0   \n",
       "\n",
       "   Supermarket Type3  \n",
       "0                  0  \n",
       "1                  0  \n",
       "2                  0  \n",
       "3                  0  \n",
       "4                  0  "
      ]
     },
     "execution_count": 34,
     "metadata": {},
     "output_type": "execute_result"
    }
   ],
   "source": [
    "data.head()"
   ]
  },
  {
   "cell_type": "code",
   "execution_count": 35,
   "metadata": {},
   "outputs": [],
   "source": [
    "data.drop('Product_Shelf_Visibility', axis =  1 ,inplace =True )"
   ]
  },
  {
   "cell_type": "code",
   "execution_count": 36,
   "metadata": {},
   "outputs": [
    {
     "data": {
      "text/html": [
       "<div>\n",
       "<style scoped>\n",
       "    .dataframe tbody tr th:only-of-type {\n",
       "        vertical-align: middle;\n",
       "    }\n",
       "\n",
       "    .dataframe tbody tr th {\n",
       "        vertical-align: top;\n",
       "    }\n",
       "\n",
       "    .dataframe thead th {\n",
       "        text-align: right;\n",
       "    }\n",
       "</style>\n",
       "<table border=\"1\" class=\"dataframe\">\n",
       "  <thead>\n",
       "    <tr style=\"text-align: right;\">\n",
       "      <th></th>\n",
       "      <th>Product_Weight</th>\n",
       "      <th>Product_Price</th>\n",
       "      <th>Supermarket_Opening_Year</th>\n",
       "      <th>Supermarket _Size</th>\n",
       "      <th>Product_Supermarket_Sales</th>\n",
       "      <th>b</th>\n",
       "      <th>d</th>\n",
       "      <th>Low Fat</th>\n",
       "      <th>Normal Fat</th>\n",
       "      <th>Ultra Low fat</th>\n",
       "      <th>Cluster 1</th>\n",
       "      <th>Cluster 2</th>\n",
       "      <th>Cluster 3</th>\n",
       "      <th>Grocery Store</th>\n",
       "      <th>Supermarket Type1</th>\n",
       "      <th>Supermarket Type2</th>\n",
       "      <th>Supermarket Type3</th>\n",
       "    </tr>\n",
       "  </thead>\n",
       "  <tbody>\n",
       "    <tr>\n",
       "      <th>0</th>\n",
       "      <td>11.6</td>\n",
       "      <td>357.54</td>\n",
       "      <td>2005</td>\n",
       "      <td>1.0</td>\n",
       "      <td>709.08</td>\n",
       "      <td>0.6</td>\n",
       "      <td>0.54</td>\n",
       "      <td>1</td>\n",
       "      <td>0</td>\n",
       "      <td>0</td>\n",
       "      <td>0</td>\n",
       "      <td>0</td>\n",
       "      <td>1</td>\n",
       "      <td>1</td>\n",
       "      <td>0</td>\n",
       "      <td>0</td>\n",
       "      <td>0</td>\n",
       "    </tr>\n",
       "    <tr>\n",
       "      <th>1</th>\n",
       "      <td>11.6</td>\n",
       "      <td>355.79</td>\n",
       "      <td>1994</td>\n",
       "      <td>2.0</td>\n",
       "      <td>6381.69</td>\n",
       "      <td>0.6</td>\n",
       "      <td>0.79</td>\n",
       "      <td>1</td>\n",
       "      <td>0</td>\n",
       "      <td>0</td>\n",
       "      <td>0</td>\n",
       "      <td>0</td>\n",
       "      <td>1</td>\n",
       "      <td>0</td>\n",
       "      <td>1</td>\n",
       "      <td>0</td>\n",
       "      <td>0</td>\n",
       "    </tr>\n",
       "    <tr>\n",
       "      <th>2</th>\n",
       "      <td>11.6</td>\n",
       "      <td>350.79</td>\n",
       "      <td>2014</td>\n",
       "      <td>1.0</td>\n",
       "      <td>6381.69</td>\n",
       "      <td>0.6</td>\n",
       "      <td>0.79</td>\n",
       "      <td>1</td>\n",
       "      <td>0</td>\n",
       "      <td>0</td>\n",
       "      <td>0</td>\n",
       "      <td>1</td>\n",
       "      <td>0</td>\n",
       "      <td>0</td>\n",
       "      <td>1</td>\n",
       "      <td>0</td>\n",
       "      <td>0</td>\n",
       "    </tr>\n",
       "    <tr>\n",
       "      <th>3</th>\n",
       "      <td>11.6</td>\n",
       "      <td>355.04</td>\n",
       "      <td>2016</td>\n",
       "      <td>1.0</td>\n",
       "      <td>2127.23</td>\n",
       "      <td>0.6</td>\n",
       "      <td>0.04</td>\n",
       "      <td>1</td>\n",
       "      <td>0</td>\n",
       "      <td>0</td>\n",
       "      <td>0</td>\n",
       "      <td>0</td>\n",
       "      <td>1</td>\n",
       "      <td>0</td>\n",
       "      <td>0</td>\n",
       "      <td>1</td>\n",
       "      <td>0</td>\n",
       "    </tr>\n",
       "    <tr>\n",
       "      <th>4</th>\n",
       "      <td>11.6</td>\n",
       "      <td>354.79</td>\n",
       "      <td>2011</td>\n",
       "      <td>0.0</td>\n",
       "      <td>2481.77</td>\n",
       "      <td>0.6</td>\n",
       "      <td>0.79</td>\n",
       "      <td>0</td>\n",
       "      <td>0</td>\n",
       "      <td>1</td>\n",
       "      <td>0</td>\n",
       "      <td>1</td>\n",
       "      <td>0</td>\n",
       "      <td>0</td>\n",
       "      <td>1</td>\n",
       "      <td>0</td>\n",
       "      <td>0</td>\n",
       "    </tr>\n",
       "  </tbody>\n",
       "</table>\n",
       "</div>"
      ],
      "text/plain": [
       "   Product_Weight  Product_Price  Supermarket_Opening_Year  Supermarket _Size  \\\n",
       "0            11.6         357.54                      2005                1.0   \n",
       "1            11.6         355.79                      1994                2.0   \n",
       "2            11.6         350.79                      2014                1.0   \n",
       "3            11.6         355.04                      2016                1.0   \n",
       "4            11.6         354.79                      2011                0.0   \n",
       "\n",
       "   Product_Supermarket_Sales    b     d  Low Fat  Normal Fat  Ultra Low fat  \\\n",
       "0                     709.08  0.6  0.54        1           0              0   \n",
       "1                    6381.69  0.6  0.79        1           0              0   \n",
       "2                    6381.69  0.6  0.79        1           0              0   \n",
       "3                    2127.23  0.6  0.04        1           0              0   \n",
       "4                    2481.77  0.6  0.79        0           0              1   \n",
       "\n",
       "   Cluster 1  Cluster 2  Cluster 3  Grocery Store  Supermarket Type1  \\\n",
       "0          0          0          1              1                  0   \n",
       "1          0          0          1              0                  1   \n",
       "2          0          1          0              0                  1   \n",
       "3          0          0          1              0                  0   \n",
       "4          0          1          0              0                  1   \n",
       "\n",
       "   Supermarket Type2  Supermarket Type3  \n",
       "0                  0                  0  \n",
       "1                  0                  0  \n",
       "2                  0                  0  \n",
       "3                  1                  0  \n",
       "4                  0                  0  "
      ]
     },
     "execution_count": 36,
     "metadata": {},
     "output_type": "execute_result"
    }
   ],
   "source": [
    "data.head()"
   ]
  },
  {
   "cell_type": "code",
   "execution_count": 37,
   "metadata": {},
   "outputs": [],
   "source": [
    "X = data.drop('Product_Supermarket_Sales', axis = 1)\n",
    "y = data['Product_Supermarket_Sales']"
   ]
  },
  {
   "cell_type": "code",
   "execution_count": 38,
   "metadata": {},
   "outputs": [],
   "source": [
    "from sklearn.cross_validation import train_test_split"
   ]
  },
  {
   "cell_type": "code",
   "execution_count": 39,
   "metadata": {},
   "outputs": [],
   "source": [
    "X_train, X_test, y_train, y_test = train_test_split(X, y, test_size=0.33, random_state=42)"
   ]
  },
  {
   "cell_type": "code",
   "execution_count": 40,
   "metadata": {},
   "outputs": [],
   "source": [
    "from xgboost import XGBRegressor"
   ]
  },
  {
   "cell_type": "code",
   "execution_count": 41,
   "metadata": {},
   "outputs": [],
   "source": [
    "model1 = XGBRegressor()"
   ]
  },
  {
   "cell_type": "code",
   "execution_count": 42,
   "metadata": {},
   "outputs": [
    {
     "data": {
      "text/plain": [
       "XGBRegressor(base_score=0.5, booster='gbtree', colsample_bylevel=1,\n",
       "       colsample_bytree=1, gamma=0, learning_rate=0.1, max_delta_step=0,\n",
       "       max_depth=3, min_child_weight=1, missing=None, n_estimators=100,\n",
       "       n_jobs=1, nthread=None, objective='reg:linear', random_state=0,\n",
       "       reg_alpha=0, reg_lambda=1, scale_pos_weight=1, seed=None,\n",
       "       silent=True, subsample=1)"
      ]
     },
     "execution_count": 42,
     "metadata": {},
     "output_type": "execute_result"
    }
   ],
   "source": [
    "model1.fit(X_train,y_train)"
   ]
  },
  {
   "cell_type": "code",
   "execution_count": 43,
   "metadata": {},
   "outputs": [],
   "source": [
    "from sklearn import metrics"
   ]
  },
  {
   "cell_type": "code",
   "execution_count": 44,
   "metadata": {},
   "outputs": [
    {
     "name": "stdout",
     "output_type": "stream",
     "text": [
      "8978647.037872937\n"
     ]
    }
   ],
   "source": [
    "print(metrics.mean_squared_error(y_test,grid_predictions))"
   ]
  },
  {
   "cell_type": "code",
   "execution_count": 45,
   "metadata": {},
   "outputs": [
    {
     "name": "stdout",
     "output_type": "stream",
     "text": [
      "2996.4390595960626\n"
     ]
    }
   ],
   "source": [
    "print(np.sqrt(metrics.mean_squared_error(y_test,grid_predictions)))"
   ]
  },
  {
   "cell_type": "code",
   "execution_count": 46,
   "metadata": {},
   "outputs": [
    {
     "name": "stdout",
     "output_type": "stream",
     "text": [
      "2996.4390595960626\n"
     ]
    }
   ],
   "source": [
    "print(np.sqrt(metrics.mean_squared_error(y_test,pred1)))"
   ]
  },
  {
   "cell_type": "code",
   "execution_count": 47,
   "metadata": {},
   "outputs": [],
   "source": [
    "import numpy as np\n",
    "import matplotlib.pyplot as plt\n",
    "from sklearn.tree import DecisionTreeRegressor\n",
    "from sklearn.ensemble import AdaBoostRegressor"
   ]
  },
  {
   "cell_type": "code",
   "execution_count": 48,
   "metadata": {},
   "outputs": [],
   "source": [
    "# Fit regression model\n",
    "rng = np.random.RandomState(1)\n",
    "\n",
    "regr_1 = DecisionTreeRegressor(max_depth=4)\n",
    "\n",
    "regr_2 = AdaBoostRegressor(DecisionTreeRegressor(max_depth=4),\n",
    "                          n_estimators=300, random_state=rng)"
   ]
  },
  {
   "cell_type": "code",
   "execution_count": 49,
   "metadata": {},
   "outputs": [
    {
     "data": {
      "text/plain": [
       "AdaBoostRegressor(base_estimator=DecisionTreeRegressor(criterion='mse', max_depth=4, max_features=None,\n",
       "           max_leaf_nodes=None, min_impurity_decrease=0.0,\n",
       "           min_impurity_split=None, min_samples_leaf=1,\n",
       "           min_samples_split=2, min_weight_fraction_leaf=0.0,\n",
       "           presort=False, random_state=None, splitter='best'),\n",
       "         learning_rate=1.0, loss='linear', n_estimators=300,\n",
       "         random_state=<mtrand.RandomState object at 0x00000279E9E68948>)"
      ]
     },
     "execution_count": 49,
     "metadata": {},
     "output_type": "execute_result"
    }
   ],
   "source": [
    "regr_1.fit(X_train,y_train)\n",
    "regr_2.fit(X_train, y_train)"
   ]
  },
  {
   "cell_type": "code",
   "execution_count": null,
   "metadata": {},
   "outputs": [],
   "source": []
  }
 ],
 "metadata": {
  "kernelspec": {
   "display_name": "Python 3",
   "language": "python",
   "name": "python3"
  },
  "language_info": {
   "codemirror_mode": {
    "name": "ipython",
    "version": 3
   },
   "file_extension": ".py",
   "mimetype": "text/x-python",
   "name": "python",
   "nbconvert_exporter": "python",
   "pygments_lexer": "ipython3",
   "version": "3.6.4"
  }
 },
 "nbformat": 4,
 "nbformat_minor": 2
}
