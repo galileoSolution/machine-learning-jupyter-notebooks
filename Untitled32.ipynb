{
 "cells": [
  {
   "cell_type": "code",
   "execution_count": 1,
   "metadata": {},
   "outputs": [],
   "source": [
    "import numpy as np\n",
    "import matplotlib.pyplot as plt\n",
    "import pandas as pd\n",
    "import seaborn as sns"
   ]
  },
  {
   "cell_type": "code",
   "execution_count": 6,
   "metadata": {},
   "outputs": [],
   "source": [
    "%matplotlib inline"
   ]
  },
  {
   "cell_type": "code",
   "execution_count": 7,
   "metadata": {},
   "outputs": [],
   "source": [
    "dat = pd.read_csv('train_fresh.xls')"
   ]
  },
  {
   "cell_type": "code",
   "execution_count": 8,
   "metadata": {},
   "outputs": [
    {
     "data": {
      "text/html": [
       "<div>\n",
       "<style scoped>\n",
       "    .dataframe tbody tr th:only-of-type {\n",
       "        vertical-align: middle;\n",
       "    }\n",
       "\n",
       "    .dataframe tbody tr th {\n",
       "        vertical-align: top;\n",
       "    }\n",
       "\n",
       "    .dataframe thead th {\n",
       "        text-align: right;\n",
       "    }\n",
       "</style>\n",
       "<table border=\"1\" class=\"dataframe\">\n",
       "  <thead>\n",
       "    <tr style=\"text-align: right;\">\n",
       "      <th></th>\n",
       "      <th>Product_Weight</th>\n",
       "      <th>Product_Shelf_Visibility</th>\n",
       "      <th>Product_Price</th>\n",
       "      <th>Supermarket_Opening_Year</th>\n",
       "      <th>Product_Supermarket_Sales</th>\n",
       "    </tr>\n",
       "  </thead>\n",
       "  <tbody>\n",
       "    <tr>\n",
       "      <th>count</th>\n",
       "      <td>4188.000000</td>\n",
       "      <td>4990.000000</td>\n",
       "      <td>4990.000000</td>\n",
       "      <td>4990.000000</td>\n",
       "      <td>4990.000000</td>\n",
       "    </tr>\n",
       "    <tr>\n",
       "      <th>mean</th>\n",
       "      <td>12.908838</td>\n",
       "      <td>0.066916</td>\n",
       "      <td>391.803796</td>\n",
       "      <td>2004.783567</td>\n",
       "      <td>6103.520164</td>\n",
       "    </tr>\n",
       "    <tr>\n",
       "      <th>std</th>\n",
       "      <td>4.703256</td>\n",
       "      <td>0.053058</td>\n",
       "      <td>119.378259</td>\n",
       "      <td>8.283151</td>\n",
       "      <td>4447.333835</td>\n",
       "    </tr>\n",
       "    <tr>\n",
       "      <th>min</th>\n",
       "      <td>4.555000</td>\n",
       "      <td>0.000000</td>\n",
       "      <td>78.730000</td>\n",
       "      <td>1992.000000</td>\n",
       "      <td>83.230000</td>\n",
       "    </tr>\n",
       "    <tr>\n",
       "      <th>25%</th>\n",
       "      <td>8.767500</td>\n",
       "      <td>0.027273</td>\n",
       "      <td>307.890000</td>\n",
       "      <td>1994.000000</td>\n",
       "      <td>2757.660000</td>\n",
       "    </tr>\n",
       "    <tr>\n",
       "      <th>50%</th>\n",
       "      <td>12.600000</td>\n",
       "      <td>0.053564</td>\n",
       "      <td>393.860000</td>\n",
       "      <td>2006.000000</td>\n",
       "      <td>5374.675000</td>\n",
       "    </tr>\n",
       "    <tr>\n",
       "      <th>75%</th>\n",
       "      <td>17.100000</td>\n",
       "      <td>0.095358</td>\n",
       "      <td>465.067500</td>\n",
       "      <td>2011.000000</td>\n",
       "      <td>8522.240000</td>\n",
       "    </tr>\n",
       "    <tr>\n",
       "      <th>max</th>\n",
       "      <td>21.350000</td>\n",
       "      <td>0.328391</td>\n",
       "      <td>667.220000</td>\n",
       "      <td>2016.000000</td>\n",
       "      <td>32717.410000</td>\n",
       "    </tr>\n",
       "  </tbody>\n",
       "</table>\n",
       "</div>"
      ],
      "text/plain": [
       "       Product_Weight  Product_Shelf_Visibility  Product_Price  \\\n",
       "count     4188.000000               4990.000000    4990.000000   \n",
       "mean        12.908838                  0.066916     391.803796   \n",
       "std          4.703256                  0.053058     119.378259   \n",
       "min          4.555000                  0.000000      78.730000   \n",
       "25%          8.767500                  0.027273     307.890000   \n",
       "50%         12.600000                  0.053564     393.860000   \n",
       "75%         17.100000                  0.095358     465.067500   \n",
       "max         21.350000                  0.328391     667.220000   \n",
       "\n",
       "       Supermarket_Opening_Year  Product_Supermarket_Sales  \n",
       "count               4990.000000                4990.000000  \n",
       "mean                2004.783567                6103.520164  \n",
       "std                    8.283151                4447.333835  \n",
       "min                 1992.000000                  83.230000  \n",
       "25%                 1994.000000                2757.660000  \n",
       "50%                 2006.000000                5374.675000  \n",
       "75%                 2011.000000                8522.240000  \n",
       "max                 2016.000000               32717.410000  "
      ]
     },
     "execution_count": 8,
     "metadata": {},
     "output_type": "execute_result"
    }
   ],
   "source": [
    "dat.describe()"
   ]
  },
  {
   "cell_type": "code",
   "execution_count": 9,
   "metadata": {},
   "outputs": [
    {
     "name": "stdout",
     "output_type": "stream",
     "text": [
      "<class 'pandas.core.frame.DataFrame'>\n",
      "RangeIndex: 4990 entries, 0 to 4989\n",
      "Data columns (total 13 columns):\n",
      "Product_Identifier                4990 non-null object\n",
      "Supermarket_Identifier            4990 non-null object\n",
      "Product_Supermarket_Identifier    4990 non-null object\n",
      "Product_Weight                    4188 non-null float64\n",
      "Product_Fat_Content               4990 non-null object\n",
      "Product_Shelf_Visibility          4990 non-null float64\n",
      "Product_Type                      4990 non-null object\n",
      "Product_Price                     4990 non-null float64\n",
      "Supermarket_Opening_Year          4990 non-null int64\n",
      "Supermarket _Size                 3540 non-null object\n",
      "Supermarket_Location_Type         4990 non-null object\n",
      "Supermarket_Type                  4990 non-null object\n",
      "Product_Supermarket_Sales         4990 non-null float64\n",
      "dtypes: float64(4), int64(1), object(8)\n",
      "memory usage: 506.9+ KB\n"
     ]
    }
   ],
   "source": [
    "dat.info()"
   ]
  },
  {
   "cell_type": "code",
   "execution_count": null,
   "metadata": {},
   "outputs": [],
   "source": [
    "sns.heatmap(dat.isnull(),yticklabels= True,cmap = 'viridis',cbar = False)"
   ]
  },
  {
   "cell_type": "code",
   "execution_count": null,
   "metadata": {},
   "outputs": [],
   "source": [
    "dat."
   ]
  }
 ],
 "metadata": {
  "kernelspec": {
   "display_name": "Python 3",
   "language": "python",
   "name": "python3"
  },
  "language_info": {
   "codemirror_mode": {
    "name": "ipython",
    "version": 3
   },
   "file_extension": ".py",
   "mimetype": "text/x-python",
   "name": "python",
   "nbconvert_exporter": "python",
   "pygments_lexer": "ipython3",
   "version": "3.6.4"
  }
 },
 "nbformat": 4,
 "nbformat_minor": 2
}
