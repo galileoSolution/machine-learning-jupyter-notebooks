{
 "cells": [
  {
   "cell_type": "code",
   "execution_count": 52,
   "metadata": {},
   "outputs": [],
   "source": [
    "import pandas as pd\n",
    "import numpy as np"
   ]
  },
  {
   "cell_type": "code",
   "execution_count": 53,
   "metadata": {},
   "outputs": [],
   "source": [
    "import matplotlib.pyplot as plt\n",
    "import seaborn as sns"
   ]
  },
  {
   "cell_type": "code",
   "execution_count": 54,
   "metadata": {},
   "outputs": [],
   "source": [
    "%matplotlib inline"
   ]
  },
  {
   "cell_type": "code",
   "execution_count": 55,
   "metadata": {},
   "outputs": [],
   "source": [
    "data = pd.read_csv('dat_feature.xls')"
   ]
  },
  {
   "cell_type": "code",
   "execution_count": 56,
   "metadata": {},
   "outputs": [],
   "source": [
    "data2 = pd.read_csv('test_feature.xls')"
   ]
  },
  {
   "cell_type": "code",
   "execution_count": 57,
   "metadata": {},
   "outputs": [
    {
     "data": {
      "text/html": [
       "<div>\n",
       "<style scoped>\n",
       "    .dataframe tbody tr th:only-of-type {\n",
       "        vertical-align: middle;\n",
       "    }\n",
       "\n",
       "    .dataframe tbody tr th {\n",
       "        vertical-align: top;\n",
       "    }\n",
       "\n",
       "    .dataframe thead th {\n",
       "        text-align: right;\n",
       "    }\n",
       "</style>\n",
       "<table border=\"1\" class=\"dataframe\">\n",
       "  <thead>\n",
       "    <tr style=\"text-align: right;\">\n",
       "      <th></th>\n",
       "      <th>Unnamed: 0</th>\n",
       "      <th>Product_Identifier</th>\n",
       "      <th>Supermarket_Identifier</th>\n",
       "      <th>Product_Supermarket_Identifier</th>\n",
       "      <th>Product_Weight</th>\n",
       "      <th>Product_Fat_Content</th>\n",
       "      <th>Product_Shelf_Visibility</th>\n",
       "      <th>Product_Type</th>\n",
       "      <th>Product_Price</th>\n",
       "      <th>Supermarket_Opening_Year</th>\n",
       "      <th>Supermarket _Size</th>\n",
       "      <th>Supermarket_Location_Type</th>\n",
       "      <th>Supermarket_Type</th>\n",
       "      <th>Product_Supermarket_Sales</th>\n",
       "    </tr>\n",
       "  </thead>\n",
       "  <tbody>\n",
       "    <tr>\n",
       "      <th>0</th>\n",
       "      <td>0</td>\n",
       "      <td>DRA12</td>\n",
       "      <td>CHUKWUDI010</td>\n",
       "      <td>DRA12_CHUKWUDI010</td>\n",
       "      <td>11.6</td>\n",
       "      <td>0</td>\n",
       "      <td>0.068535</td>\n",
       "      <td>Soft Drinks</td>\n",
       "      <td>357.54</td>\n",
       "      <td>2005</td>\n",
       "      <td>2.0</td>\n",
       "      <td>Cluster 3</td>\n",
       "      <td>Grocery Store</td>\n",
       "      <td>709.08</td>\n",
       "    </tr>\n",
       "    <tr>\n",
       "      <th>1</th>\n",
       "      <td>1</td>\n",
       "      <td>DRA12</td>\n",
       "      <td>CHUKWUDI013</td>\n",
       "      <td>DRA12_CHUKWUDI013</td>\n",
       "      <td>11.6</td>\n",
       "      <td>0</td>\n",
       "      <td>0.040912</td>\n",
       "      <td>Soft Drinks</td>\n",
       "      <td>355.79</td>\n",
       "      <td>1994</td>\n",
       "      <td>0.0</td>\n",
       "      <td>Cluster 3</td>\n",
       "      <td>Supermarket Type1</td>\n",
       "      <td>6381.69</td>\n",
       "    </tr>\n",
       "    <tr>\n",
       "      <th>2</th>\n",
       "      <td>2</td>\n",
       "      <td>DRA12</td>\n",
       "      <td>CHUKWUDI017</td>\n",
       "      <td>DRA12_CHUKWUDI017</td>\n",
       "      <td>11.6</td>\n",
       "      <td>0</td>\n",
       "      <td>0.041178</td>\n",
       "      <td>Soft Drinks</td>\n",
       "      <td>350.79</td>\n",
       "      <td>2014</td>\n",
       "      <td>1.0</td>\n",
       "      <td>Cluster 2</td>\n",
       "      <td>Supermarket Type1</td>\n",
       "      <td>6381.69</td>\n",
       "    </tr>\n",
       "    <tr>\n",
       "      <th>3</th>\n",
       "      <td>3</td>\n",
       "      <td>DRA12</td>\n",
       "      <td>CHUKWUDI018</td>\n",
       "      <td>DRA12_CHUKWUDI018</td>\n",
       "      <td>11.6</td>\n",
       "      <td>0</td>\n",
       "      <td>0.041113</td>\n",
       "      <td>Soft Drinks</td>\n",
       "      <td>355.04</td>\n",
       "      <td>2016</td>\n",
       "      <td>1.0</td>\n",
       "      <td>Cluster 3</td>\n",
       "      <td>Supermarket Type2</td>\n",
       "      <td>2127.23</td>\n",
       "    </tr>\n",
       "    <tr>\n",
       "      <th>4</th>\n",
       "      <td>4</td>\n",
       "      <td>DRA12</td>\n",
       "      <td>CHUKWUDI035</td>\n",
       "      <td>DRA12_CHUKWUDI035</td>\n",
       "      <td>11.6</td>\n",
       "      <td>1</td>\n",
       "      <td>0.000000</td>\n",
       "      <td>Soft Drinks</td>\n",
       "      <td>354.79</td>\n",
       "      <td>2011</td>\n",
       "      <td>2.0</td>\n",
       "      <td>Cluster 2</td>\n",
       "      <td>Supermarket Type1</td>\n",
       "      <td>2481.77</td>\n",
       "    </tr>\n",
       "  </tbody>\n",
       "</table>\n",
       "</div>"
      ],
      "text/plain": [
       "   Unnamed: 0 Product_Identifier Supermarket_Identifier  \\\n",
       "0           0              DRA12            CHUKWUDI010   \n",
       "1           1              DRA12            CHUKWUDI013   \n",
       "2           2              DRA12            CHUKWUDI017   \n",
       "3           3              DRA12            CHUKWUDI018   \n",
       "4           4              DRA12            CHUKWUDI035   \n",
       "\n",
       "  Product_Supermarket_Identifier  Product_Weight  Product_Fat_Content  \\\n",
       "0              DRA12_CHUKWUDI010            11.6                    0   \n",
       "1              DRA12_CHUKWUDI013            11.6                    0   \n",
       "2              DRA12_CHUKWUDI017            11.6                    0   \n",
       "3              DRA12_CHUKWUDI018            11.6                    0   \n",
       "4              DRA12_CHUKWUDI035            11.6                    1   \n",
       "\n",
       "   Product_Shelf_Visibility Product_Type  Product_Price  \\\n",
       "0                  0.068535  Soft Drinks         357.54   \n",
       "1                  0.040912  Soft Drinks         355.79   \n",
       "2                  0.041178  Soft Drinks         350.79   \n",
       "3                  0.041113  Soft Drinks         355.04   \n",
       "4                  0.000000  Soft Drinks         354.79   \n",
       "\n",
       "   Supermarket_Opening_Year  Supermarket _Size Supermarket_Location_Type  \\\n",
       "0                      2005                2.0                 Cluster 3   \n",
       "1                      1994                0.0                 Cluster 3   \n",
       "2                      2014                1.0                 Cluster 2   \n",
       "3                      2016                1.0                 Cluster 3   \n",
       "4                      2011                2.0                 Cluster 2   \n",
       "\n",
       "    Supermarket_Type  Product_Supermarket_Sales  \n",
       "0      Grocery Store                     709.08  \n",
       "1  Supermarket Type1                    6381.69  \n",
       "2  Supermarket Type1                    6381.69  \n",
       "3  Supermarket Type2                    2127.23  \n",
       "4  Supermarket Type1                    2481.77  "
      ]
     },
     "execution_count": 57,
     "metadata": {},
     "output_type": "execute_result"
    }
   ],
   "source": [
    "data.head()"
   ]
  },
  {
   "cell_type": "code",
   "execution_count": 58,
   "metadata": {},
   "outputs": [],
   "source": [
    "data2.drop(['Unnamed: 0','Product_Identifier','Supermarket_Identifier','Product_Supermarket_Identifier'], axis = 1, inplace = True)"
   ]
  },
  {
   "cell_type": "code",
   "execution_count": 59,
   "metadata": {},
   "outputs": [
    {
     "data": {
      "text/html": [
       "<div>\n",
       "<style scoped>\n",
       "    .dataframe tbody tr th:only-of-type {\n",
       "        vertical-align: middle;\n",
       "    }\n",
       "\n",
       "    .dataframe tbody tr th {\n",
       "        vertical-align: top;\n",
       "    }\n",
       "\n",
       "    .dataframe thead th {\n",
       "        text-align: right;\n",
       "    }\n",
       "</style>\n",
       "<table border=\"1\" class=\"dataframe\">\n",
       "  <thead>\n",
       "    <tr style=\"text-align: right;\">\n",
       "      <th></th>\n",
       "      <th>Product_Weight</th>\n",
       "      <th>Product_Fat_Content</th>\n",
       "      <th>Product_Shelf_Visibility</th>\n",
       "      <th>Product_Type</th>\n",
       "      <th>Product_Price</th>\n",
       "      <th>Supermarket_Opening_Year</th>\n",
       "      <th>Supermarket _Size</th>\n",
       "      <th>Supermarket_Location_Type</th>\n",
       "      <th>Supermarket_Type</th>\n",
       "    </tr>\n",
       "  </thead>\n",
       "  <tbody>\n",
       "    <tr>\n",
       "      <th>0</th>\n",
       "      <td>8.270</td>\n",
       "      <td>2</td>\n",
       "      <td>0.214125</td>\n",
       "      <td>Soft Drinks</td>\n",
       "      <td>459.98</td>\n",
       "      <td>2005</td>\n",
       "      <td>2.0</td>\n",
       "      <td>Cluster 3</td>\n",
       "      <td>Grocery Store</td>\n",
       "    </tr>\n",
       "    <tr>\n",
       "      <th>1</th>\n",
       "      <td>8.270</td>\n",
       "      <td>2</td>\n",
       "      <td>0.127821</td>\n",
       "      <td>Soft Drinks</td>\n",
       "      <td>464.98</td>\n",
       "      <td>1994</td>\n",
       "      <td>0.0</td>\n",
       "      <td>Cluster 3</td>\n",
       "      <td>Supermarket Type1</td>\n",
       "    </tr>\n",
       "    <tr>\n",
       "      <th>2</th>\n",
       "      <td>7.390</td>\n",
       "      <td>0</td>\n",
       "      <td>0.082171</td>\n",
       "      <td>Soft Drinks</td>\n",
       "      <td>477.38</td>\n",
       "      <td>1994</td>\n",
       "      <td>0.0</td>\n",
       "      <td>Cluster 3</td>\n",
       "      <td>Supermarket Type1</td>\n",
       "    </tr>\n",
       "    <tr>\n",
       "      <th>3</th>\n",
       "      <td>6.115</td>\n",
       "      <td>2</td>\n",
       "      <td>0.011791</td>\n",
       "      <td>Soft Drinks</td>\n",
       "      <td>472.63</td>\n",
       "      <td>2005</td>\n",
       "      <td>2.0</td>\n",
       "      <td>Cluster 3</td>\n",
       "      <td>Grocery Store</td>\n",
       "    </tr>\n",
       "    <tr>\n",
       "      <th>4</th>\n",
       "      <td>6.115</td>\n",
       "      <td>2</td>\n",
       "      <td>0.007038</td>\n",
       "      <td>Soft Drinks</td>\n",
       "      <td>473.13</td>\n",
       "      <td>1994</td>\n",
       "      <td>0.0</td>\n",
       "      <td>Cluster 3</td>\n",
       "      <td>Supermarket Type1</td>\n",
       "    </tr>\n",
       "  </tbody>\n",
       "</table>\n",
       "</div>"
      ],
      "text/plain": [
       "   Product_Weight  Product_Fat_Content  Product_Shelf_Visibility Product_Type  \\\n",
       "0           8.270                    2                  0.214125  Soft Drinks   \n",
       "1           8.270                    2                  0.127821  Soft Drinks   \n",
       "2           7.390                    0                  0.082171  Soft Drinks   \n",
       "3           6.115                    2                  0.011791  Soft Drinks   \n",
       "4           6.115                    2                  0.007038  Soft Drinks   \n",
       "\n",
       "   Product_Price  Supermarket_Opening_Year  Supermarket _Size  \\\n",
       "0         459.98                      2005                2.0   \n",
       "1         464.98                      1994                0.0   \n",
       "2         477.38                      1994                0.0   \n",
       "3         472.63                      2005                2.0   \n",
       "4         473.13                      1994                0.0   \n",
       "\n",
       "  Supermarket_Location_Type   Supermarket_Type  \n",
       "0                 Cluster 3      Grocery Store  \n",
       "1                 Cluster 3  Supermarket Type1  \n",
       "2                 Cluster 3  Supermarket Type1  \n",
       "3                 Cluster 3      Grocery Store  \n",
       "4                 Cluster 3  Supermarket Type1  "
      ]
     },
     "execution_count": 59,
     "metadata": {},
     "output_type": "execute_result"
    }
   ],
   "source": [
    "data2.head()"
   ]
  },
  {
   "cell_type": "code",
   "execution_count": 60,
   "metadata": {},
   "outputs": [
    {
     "data": {
      "text/html": [
       "<div>\n",
       "<style scoped>\n",
       "    .dataframe tbody tr th:only-of-type {\n",
       "        vertical-align: middle;\n",
       "    }\n",
       "\n",
       "    .dataframe tbody tr th {\n",
       "        vertical-align: top;\n",
       "    }\n",
       "\n",
       "    .dataframe thead th {\n",
       "        text-align: right;\n",
       "    }\n",
       "</style>\n",
       "<table border=\"1\" class=\"dataframe\">\n",
       "  <thead>\n",
       "    <tr style=\"text-align: right;\">\n",
       "      <th></th>\n",
       "      <th>Unnamed: 0</th>\n",
       "      <th>Product_Identifier</th>\n",
       "      <th>Supermarket_Identifier</th>\n",
       "      <th>Product_Supermarket_Identifier</th>\n",
       "      <th>Product_Weight</th>\n",
       "      <th>Product_Fat_Content</th>\n",
       "      <th>Product_Shelf_Visibility</th>\n",
       "      <th>Product_Type</th>\n",
       "      <th>Product_Price</th>\n",
       "      <th>Supermarket_Opening_Year</th>\n",
       "      <th>Supermarket _Size</th>\n",
       "      <th>Supermarket_Location_Type</th>\n",
       "      <th>Supermarket_Type</th>\n",
       "      <th>Product_Supermarket_Sales</th>\n",
       "    </tr>\n",
       "  </thead>\n",
       "  <tbody>\n",
       "    <tr>\n",
       "      <th>0</th>\n",
       "      <td>0</td>\n",
       "      <td>DRA12</td>\n",
       "      <td>CHUKWUDI010</td>\n",
       "      <td>DRA12_CHUKWUDI010</td>\n",
       "      <td>11.6</td>\n",
       "      <td>0</td>\n",
       "      <td>0.068535</td>\n",
       "      <td>Soft Drinks</td>\n",
       "      <td>357.54</td>\n",
       "      <td>2005</td>\n",
       "      <td>2.0</td>\n",
       "      <td>Cluster 3</td>\n",
       "      <td>Grocery Store</td>\n",
       "      <td>709.08</td>\n",
       "    </tr>\n",
       "    <tr>\n",
       "      <th>1</th>\n",
       "      <td>1</td>\n",
       "      <td>DRA12</td>\n",
       "      <td>CHUKWUDI013</td>\n",
       "      <td>DRA12_CHUKWUDI013</td>\n",
       "      <td>11.6</td>\n",
       "      <td>0</td>\n",
       "      <td>0.040912</td>\n",
       "      <td>Soft Drinks</td>\n",
       "      <td>355.79</td>\n",
       "      <td>1994</td>\n",
       "      <td>0.0</td>\n",
       "      <td>Cluster 3</td>\n",
       "      <td>Supermarket Type1</td>\n",
       "      <td>6381.69</td>\n",
       "    </tr>\n",
       "    <tr>\n",
       "      <th>2</th>\n",
       "      <td>2</td>\n",
       "      <td>DRA12</td>\n",
       "      <td>CHUKWUDI017</td>\n",
       "      <td>DRA12_CHUKWUDI017</td>\n",
       "      <td>11.6</td>\n",
       "      <td>0</td>\n",
       "      <td>0.041178</td>\n",
       "      <td>Soft Drinks</td>\n",
       "      <td>350.79</td>\n",
       "      <td>2014</td>\n",
       "      <td>1.0</td>\n",
       "      <td>Cluster 2</td>\n",
       "      <td>Supermarket Type1</td>\n",
       "      <td>6381.69</td>\n",
       "    </tr>\n",
       "    <tr>\n",
       "      <th>3</th>\n",
       "      <td>3</td>\n",
       "      <td>DRA12</td>\n",
       "      <td>CHUKWUDI018</td>\n",
       "      <td>DRA12_CHUKWUDI018</td>\n",
       "      <td>11.6</td>\n",
       "      <td>0</td>\n",
       "      <td>0.041113</td>\n",
       "      <td>Soft Drinks</td>\n",
       "      <td>355.04</td>\n",
       "      <td>2016</td>\n",
       "      <td>1.0</td>\n",
       "      <td>Cluster 3</td>\n",
       "      <td>Supermarket Type2</td>\n",
       "      <td>2127.23</td>\n",
       "    </tr>\n",
       "    <tr>\n",
       "      <th>4</th>\n",
       "      <td>4</td>\n",
       "      <td>DRA12</td>\n",
       "      <td>CHUKWUDI035</td>\n",
       "      <td>DRA12_CHUKWUDI035</td>\n",
       "      <td>11.6</td>\n",
       "      <td>1</td>\n",
       "      <td>0.000000</td>\n",
       "      <td>Soft Drinks</td>\n",
       "      <td>354.79</td>\n",
       "      <td>2011</td>\n",
       "      <td>2.0</td>\n",
       "      <td>Cluster 2</td>\n",
       "      <td>Supermarket Type1</td>\n",
       "      <td>2481.77</td>\n",
       "    </tr>\n",
       "  </tbody>\n",
       "</table>\n",
       "</div>"
      ],
      "text/plain": [
       "   Unnamed: 0 Product_Identifier Supermarket_Identifier  \\\n",
       "0           0              DRA12            CHUKWUDI010   \n",
       "1           1              DRA12            CHUKWUDI013   \n",
       "2           2              DRA12            CHUKWUDI017   \n",
       "3           3              DRA12            CHUKWUDI018   \n",
       "4           4              DRA12            CHUKWUDI035   \n",
       "\n",
       "  Product_Supermarket_Identifier  Product_Weight  Product_Fat_Content  \\\n",
       "0              DRA12_CHUKWUDI010            11.6                    0   \n",
       "1              DRA12_CHUKWUDI013            11.6                    0   \n",
       "2              DRA12_CHUKWUDI017            11.6                    0   \n",
       "3              DRA12_CHUKWUDI018            11.6                    0   \n",
       "4              DRA12_CHUKWUDI035            11.6                    1   \n",
       "\n",
       "   Product_Shelf_Visibility Product_Type  Product_Price  \\\n",
       "0                  0.068535  Soft Drinks         357.54   \n",
       "1                  0.040912  Soft Drinks         355.79   \n",
       "2                  0.041178  Soft Drinks         350.79   \n",
       "3                  0.041113  Soft Drinks         355.04   \n",
       "4                  0.000000  Soft Drinks         354.79   \n",
       "\n",
       "   Supermarket_Opening_Year  Supermarket _Size Supermarket_Location_Type  \\\n",
       "0                      2005                2.0                 Cluster 3   \n",
       "1                      1994                0.0                 Cluster 3   \n",
       "2                      2014                1.0                 Cluster 2   \n",
       "3                      2016                1.0                 Cluster 3   \n",
       "4                      2011                2.0                 Cluster 2   \n",
       "\n",
       "    Supermarket_Type  Product_Supermarket_Sales  \n",
       "0      Grocery Store                     709.08  \n",
       "1  Supermarket Type1                    6381.69  \n",
       "2  Supermarket Type1                    6381.69  \n",
       "3  Supermarket Type2                    2127.23  \n",
       "4  Supermarket Type1                    2481.77  "
      ]
     },
     "execution_count": 60,
     "metadata": {},
     "output_type": "execute_result"
    }
   ],
   "source": [
    "data.head()"
   ]
  },
  {
   "cell_type": "code",
   "execution_count": 61,
   "metadata": {},
   "outputs": [],
   "source": [
    "train_test_split = [data,data2]"
   ]
  },
  {
   "cell_type": "code",
   "execution_count": 62,
   "metadata": {},
   "outputs": [],
   "source": [
    "location = {'Cluster 3':2 , 'Cluster 2':1,'Cluster 1': 0 }\n",
    "for dataset in train_test_split:\n",
    "    dataset['Supermarket_Location_Type'] =dataset['Supermarket_Location_Type'].map(location)"
   ]
  },
  {
   "cell_type": "code",
   "execution_count": 63,
   "metadata": {},
   "outputs": [
    {
     "data": {
      "text/html": [
       "<div>\n",
       "<style scoped>\n",
       "    .dataframe tbody tr th:only-of-type {\n",
       "        vertical-align: middle;\n",
       "    }\n",
       "\n",
       "    .dataframe tbody tr th {\n",
       "        vertical-align: top;\n",
       "    }\n",
       "\n",
       "    .dataframe thead th {\n",
       "        text-align: right;\n",
       "    }\n",
       "</style>\n",
       "<table border=\"1\" class=\"dataframe\">\n",
       "  <thead>\n",
       "    <tr style=\"text-align: right;\">\n",
       "      <th></th>\n",
       "      <th>Unnamed: 0</th>\n",
       "      <th>Product_Identifier</th>\n",
       "      <th>Supermarket_Identifier</th>\n",
       "      <th>Product_Supermarket_Identifier</th>\n",
       "      <th>Product_Weight</th>\n",
       "      <th>Product_Fat_Content</th>\n",
       "      <th>Product_Shelf_Visibility</th>\n",
       "      <th>Product_Type</th>\n",
       "      <th>Product_Price</th>\n",
       "      <th>Supermarket_Opening_Year</th>\n",
       "      <th>Supermarket _Size</th>\n",
       "      <th>Supermarket_Location_Type</th>\n",
       "      <th>Supermarket_Type</th>\n",
       "      <th>Product_Supermarket_Sales</th>\n",
       "    </tr>\n",
       "  </thead>\n",
       "  <tbody>\n",
       "    <tr>\n",
       "      <th>0</th>\n",
       "      <td>0</td>\n",
       "      <td>DRA12</td>\n",
       "      <td>CHUKWUDI010</td>\n",
       "      <td>DRA12_CHUKWUDI010</td>\n",
       "      <td>11.6</td>\n",
       "      <td>0</td>\n",
       "      <td>0.068535</td>\n",
       "      <td>Soft Drinks</td>\n",
       "      <td>357.54</td>\n",
       "      <td>2005</td>\n",
       "      <td>2.0</td>\n",
       "      <td>2</td>\n",
       "      <td>Grocery Store</td>\n",
       "      <td>709.08</td>\n",
       "    </tr>\n",
       "    <tr>\n",
       "      <th>1</th>\n",
       "      <td>1</td>\n",
       "      <td>DRA12</td>\n",
       "      <td>CHUKWUDI013</td>\n",
       "      <td>DRA12_CHUKWUDI013</td>\n",
       "      <td>11.6</td>\n",
       "      <td>0</td>\n",
       "      <td>0.040912</td>\n",
       "      <td>Soft Drinks</td>\n",
       "      <td>355.79</td>\n",
       "      <td>1994</td>\n",
       "      <td>0.0</td>\n",
       "      <td>2</td>\n",
       "      <td>Supermarket Type1</td>\n",
       "      <td>6381.69</td>\n",
       "    </tr>\n",
       "    <tr>\n",
       "      <th>2</th>\n",
       "      <td>2</td>\n",
       "      <td>DRA12</td>\n",
       "      <td>CHUKWUDI017</td>\n",
       "      <td>DRA12_CHUKWUDI017</td>\n",
       "      <td>11.6</td>\n",
       "      <td>0</td>\n",
       "      <td>0.041178</td>\n",
       "      <td>Soft Drinks</td>\n",
       "      <td>350.79</td>\n",
       "      <td>2014</td>\n",
       "      <td>1.0</td>\n",
       "      <td>1</td>\n",
       "      <td>Supermarket Type1</td>\n",
       "      <td>6381.69</td>\n",
       "    </tr>\n",
       "    <tr>\n",
       "      <th>3</th>\n",
       "      <td>3</td>\n",
       "      <td>DRA12</td>\n",
       "      <td>CHUKWUDI018</td>\n",
       "      <td>DRA12_CHUKWUDI018</td>\n",
       "      <td>11.6</td>\n",
       "      <td>0</td>\n",
       "      <td>0.041113</td>\n",
       "      <td>Soft Drinks</td>\n",
       "      <td>355.04</td>\n",
       "      <td>2016</td>\n",
       "      <td>1.0</td>\n",
       "      <td>2</td>\n",
       "      <td>Supermarket Type2</td>\n",
       "      <td>2127.23</td>\n",
       "    </tr>\n",
       "    <tr>\n",
       "      <th>4</th>\n",
       "      <td>4</td>\n",
       "      <td>DRA12</td>\n",
       "      <td>CHUKWUDI035</td>\n",
       "      <td>DRA12_CHUKWUDI035</td>\n",
       "      <td>11.6</td>\n",
       "      <td>1</td>\n",
       "      <td>0.000000</td>\n",
       "      <td>Soft Drinks</td>\n",
       "      <td>354.79</td>\n",
       "      <td>2011</td>\n",
       "      <td>2.0</td>\n",
       "      <td>1</td>\n",
       "      <td>Supermarket Type1</td>\n",
       "      <td>2481.77</td>\n",
       "    </tr>\n",
       "  </tbody>\n",
       "</table>\n",
       "</div>"
      ],
      "text/plain": [
       "   Unnamed: 0 Product_Identifier Supermarket_Identifier  \\\n",
       "0           0              DRA12            CHUKWUDI010   \n",
       "1           1              DRA12            CHUKWUDI013   \n",
       "2           2              DRA12            CHUKWUDI017   \n",
       "3           3              DRA12            CHUKWUDI018   \n",
       "4           4              DRA12            CHUKWUDI035   \n",
       "\n",
       "  Product_Supermarket_Identifier  Product_Weight  Product_Fat_Content  \\\n",
       "0              DRA12_CHUKWUDI010            11.6                    0   \n",
       "1              DRA12_CHUKWUDI013            11.6                    0   \n",
       "2              DRA12_CHUKWUDI017            11.6                    0   \n",
       "3              DRA12_CHUKWUDI018            11.6                    0   \n",
       "4              DRA12_CHUKWUDI035            11.6                    1   \n",
       "\n",
       "   Product_Shelf_Visibility Product_Type  Product_Price  \\\n",
       "0                  0.068535  Soft Drinks         357.54   \n",
       "1                  0.040912  Soft Drinks         355.79   \n",
       "2                  0.041178  Soft Drinks         350.79   \n",
       "3                  0.041113  Soft Drinks         355.04   \n",
       "4                  0.000000  Soft Drinks         354.79   \n",
       "\n",
       "   Supermarket_Opening_Year  Supermarket _Size  Supermarket_Location_Type  \\\n",
       "0                      2005                2.0                          2   \n",
       "1                      1994                0.0                          2   \n",
       "2                      2014                1.0                          1   \n",
       "3                      2016                1.0                          2   \n",
       "4                      2011                2.0                          1   \n",
       "\n",
       "    Supermarket_Type  Product_Supermarket_Sales  \n",
       "0      Grocery Store                     709.08  \n",
       "1  Supermarket Type1                    6381.69  \n",
       "2  Supermarket Type1                    6381.69  \n",
       "3  Supermarket Type2                    2127.23  \n",
       "4  Supermarket Type1                    2481.77  "
      ]
     },
     "execution_count": 63,
     "metadata": {},
     "output_type": "execute_result"
    }
   ],
   "source": [
    "data.head()"
   ]
  },
  {
   "cell_type": "code",
   "execution_count": 64,
   "metadata": {},
   "outputs": [
    {
     "data": {
      "text/plain": [
       "Unnamed: 0                        0\n",
       "Product_Identifier                0\n",
       "Supermarket_Identifier            0\n",
       "Product_Supermarket_Identifier    0\n",
       "Product_Weight                    8\n",
       "Product_Fat_Content               0\n",
       "Product_Shelf_Visibility          0\n",
       "Product_Type                      0\n",
       "Product_Price                     0\n",
       "Supermarket_Opening_Year          0\n",
       "Supermarket _Size                 0\n",
       "Supermarket_Location_Type         0\n",
       "Supermarket_Type                  0\n",
       "Product_Supermarket_Sales         0\n",
       "dtype: int64"
      ]
     },
     "execution_count": 64,
     "metadata": {},
     "output_type": "execute_result"
    }
   ],
   "source": [
    "data.isnull().sum()"
   ]
  },
  {
   "cell_type": "code",
   "execution_count": 65,
   "metadata": {},
   "outputs": [
    {
     "data": {
      "text/plain": [
       "Product_Weight               0\n",
       "Product_Fat_Content          0\n",
       "Product_Shelf_Visibility     0\n",
       "Product_Type                 0\n",
       "Product_Price                0\n",
       "Supermarket_Opening_Year     0\n",
       "Supermarket _Size            0\n",
       "Supermarket_Location_Type    0\n",
       "Supermarket_Type             0\n",
       "dtype: int64"
      ]
     },
     "execution_count": 65,
     "metadata": {},
     "output_type": "execute_result"
    }
   ],
   "source": [
    "data2.isnull().sum()"
   ]
  },
  {
   "cell_type": "code",
   "execution_count": 66,
   "metadata": {},
   "outputs": [],
   "source": [
    "data['Product_Weight'].fillna(data.groupby('Product_Fat_Content')['Product_Weight'].transform('median'), inplace = True)"
   ]
  },
  {
   "cell_type": "code",
   "execution_count": 67,
   "metadata": {},
   "outputs": [
    {
     "data": {
      "text/plain": [
       "Product_Weight               0\n",
       "Product_Fat_Content          0\n",
       "Product_Shelf_Visibility     0\n",
       "Product_Type                 0\n",
       "Product_Price                0\n",
       "Supermarket_Opening_Year     0\n",
       "Supermarket _Size            0\n",
       "Supermarket_Location_Type    0\n",
       "Supermarket_Type             0\n",
       "dtype: int64"
      ]
     },
     "execution_count": 67,
     "metadata": {},
     "output_type": "execute_result"
    }
   ],
   "source": [
    "data2.isnull().sum()"
   ]
  },
  {
   "cell_type": "code",
   "execution_count": 68,
   "metadata": {},
   "outputs": [
    {
     "data": {
      "text/html": [
       "<div>\n",
       "<style scoped>\n",
       "    .dataframe tbody tr th:only-of-type {\n",
       "        vertical-align: middle;\n",
       "    }\n",
       "\n",
       "    .dataframe tbody tr th {\n",
       "        vertical-align: top;\n",
       "    }\n",
       "\n",
       "    .dataframe thead th {\n",
       "        text-align: right;\n",
       "    }\n",
       "</style>\n",
       "<table border=\"1\" class=\"dataframe\">\n",
       "  <thead>\n",
       "    <tr style=\"text-align: right;\">\n",
       "      <th></th>\n",
       "      <th>Unnamed: 0</th>\n",
       "      <th>Product_Identifier</th>\n",
       "      <th>Supermarket_Identifier</th>\n",
       "      <th>Product_Supermarket_Identifier</th>\n",
       "      <th>Product_Weight</th>\n",
       "      <th>Product_Fat_Content</th>\n",
       "      <th>Product_Shelf_Visibility</th>\n",
       "      <th>Product_Type</th>\n",
       "      <th>Product_Price</th>\n",
       "      <th>Supermarket_Opening_Year</th>\n",
       "      <th>Supermarket _Size</th>\n",
       "      <th>Supermarket_Location_Type</th>\n",
       "      <th>Supermarket_Type</th>\n",
       "      <th>Product_Supermarket_Sales</th>\n",
       "    </tr>\n",
       "  </thead>\n",
       "  <tbody>\n",
       "    <tr>\n",
       "      <th>0</th>\n",
       "      <td>0</td>\n",
       "      <td>DRA12</td>\n",
       "      <td>CHUKWUDI010</td>\n",
       "      <td>DRA12_CHUKWUDI010</td>\n",
       "      <td>11.6</td>\n",
       "      <td>0</td>\n",
       "      <td>0.068535</td>\n",
       "      <td>Soft Drinks</td>\n",
       "      <td>357.54</td>\n",
       "      <td>2005</td>\n",
       "      <td>2.0</td>\n",
       "      <td>2</td>\n",
       "      <td>Grocery Store</td>\n",
       "      <td>709.08</td>\n",
       "    </tr>\n",
       "    <tr>\n",
       "      <th>1</th>\n",
       "      <td>1</td>\n",
       "      <td>DRA12</td>\n",
       "      <td>CHUKWUDI013</td>\n",
       "      <td>DRA12_CHUKWUDI013</td>\n",
       "      <td>11.6</td>\n",
       "      <td>0</td>\n",
       "      <td>0.040912</td>\n",
       "      <td>Soft Drinks</td>\n",
       "      <td>355.79</td>\n",
       "      <td>1994</td>\n",
       "      <td>0.0</td>\n",
       "      <td>2</td>\n",
       "      <td>Supermarket Type1</td>\n",
       "      <td>6381.69</td>\n",
       "    </tr>\n",
       "    <tr>\n",
       "      <th>2</th>\n",
       "      <td>2</td>\n",
       "      <td>DRA12</td>\n",
       "      <td>CHUKWUDI017</td>\n",
       "      <td>DRA12_CHUKWUDI017</td>\n",
       "      <td>11.6</td>\n",
       "      <td>0</td>\n",
       "      <td>0.041178</td>\n",
       "      <td>Soft Drinks</td>\n",
       "      <td>350.79</td>\n",
       "      <td>2014</td>\n",
       "      <td>1.0</td>\n",
       "      <td>1</td>\n",
       "      <td>Supermarket Type1</td>\n",
       "      <td>6381.69</td>\n",
       "    </tr>\n",
       "    <tr>\n",
       "      <th>3</th>\n",
       "      <td>3</td>\n",
       "      <td>DRA12</td>\n",
       "      <td>CHUKWUDI018</td>\n",
       "      <td>DRA12_CHUKWUDI018</td>\n",
       "      <td>11.6</td>\n",
       "      <td>0</td>\n",
       "      <td>0.041113</td>\n",
       "      <td>Soft Drinks</td>\n",
       "      <td>355.04</td>\n",
       "      <td>2016</td>\n",
       "      <td>1.0</td>\n",
       "      <td>2</td>\n",
       "      <td>Supermarket Type2</td>\n",
       "      <td>2127.23</td>\n",
       "    </tr>\n",
       "    <tr>\n",
       "      <th>4</th>\n",
       "      <td>4</td>\n",
       "      <td>DRA12</td>\n",
       "      <td>CHUKWUDI035</td>\n",
       "      <td>DRA12_CHUKWUDI035</td>\n",
       "      <td>11.6</td>\n",
       "      <td>1</td>\n",
       "      <td>0.000000</td>\n",
       "      <td>Soft Drinks</td>\n",
       "      <td>354.79</td>\n",
       "      <td>2011</td>\n",
       "      <td>2.0</td>\n",
       "      <td>1</td>\n",
       "      <td>Supermarket Type1</td>\n",
       "      <td>2481.77</td>\n",
       "    </tr>\n",
       "  </tbody>\n",
       "</table>\n",
       "</div>"
      ],
      "text/plain": [
       "   Unnamed: 0 Product_Identifier Supermarket_Identifier  \\\n",
       "0           0              DRA12            CHUKWUDI010   \n",
       "1           1              DRA12            CHUKWUDI013   \n",
       "2           2              DRA12            CHUKWUDI017   \n",
       "3           3              DRA12            CHUKWUDI018   \n",
       "4           4              DRA12            CHUKWUDI035   \n",
       "\n",
       "  Product_Supermarket_Identifier  Product_Weight  Product_Fat_Content  \\\n",
       "0              DRA12_CHUKWUDI010            11.6                    0   \n",
       "1              DRA12_CHUKWUDI013            11.6                    0   \n",
       "2              DRA12_CHUKWUDI017            11.6                    0   \n",
       "3              DRA12_CHUKWUDI018            11.6                    0   \n",
       "4              DRA12_CHUKWUDI035            11.6                    1   \n",
       "\n",
       "   Product_Shelf_Visibility Product_Type  Product_Price  \\\n",
       "0                  0.068535  Soft Drinks         357.54   \n",
       "1                  0.040912  Soft Drinks         355.79   \n",
       "2                  0.041178  Soft Drinks         350.79   \n",
       "3                  0.041113  Soft Drinks         355.04   \n",
       "4                  0.000000  Soft Drinks         354.79   \n",
       "\n",
       "   Supermarket_Opening_Year  Supermarket _Size  Supermarket_Location_Type  \\\n",
       "0                      2005                2.0                          2   \n",
       "1                      1994                0.0                          2   \n",
       "2                      2014                1.0                          1   \n",
       "3                      2016                1.0                          2   \n",
       "4                      2011                2.0                          1   \n",
       "\n",
       "    Supermarket_Type  Product_Supermarket_Sales  \n",
       "0      Grocery Store                     709.08  \n",
       "1  Supermarket Type1                    6381.69  \n",
       "2  Supermarket Type1                    6381.69  \n",
       "3  Supermarket Type2                    2127.23  \n",
       "4  Supermarket Type1                    2481.77  "
      ]
     },
     "execution_count": 68,
     "metadata": {},
     "output_type": "execute_result"
    }
   ],
   "source": [
    "data.head()"
   ]
  },
  {
   "cell_type": "code",
   "execution_count": 69,
   "metadata": {},
   "outputs": [],
   "source": [
    "supermarket_type = {'Grocery Store' :1, 'Supermarket Type1':0, 'Supermarket Type2':2,'Supermarket Type3':3}\n",
    "for dataset in train_test_split:\n",
    "    dataset['Supermarket_Type'] =dataset['Supermarket_Type'].map(supermarket_type)"
   ]
  },
  {
   "cell_type": "code",
   "execution_count": 70,
   "metadata": {},
   "outputs": [
    {
     "data": {
      "text/html": [
       "<div>\n",
       "<style scoped>\n",
       "    .dataframe tbody tr th:only-of-type {\n",
       "        vertical-align: middle;\n",
       "    }\n",
       "\n",
       "    .dataframe tbody tr th {\n",
       "        vertical-align: top;\n",
       "    }\n",
       "\n",
       "    .dataframe thead th {\n",
       "        text-align: right;\n",
       "    }\n",
       "</style>\n",
       "<table border=\"1\" class=\"dataframe\">\n",
       "  <thead>\n",
       "    <tr style=\"text-align: right;\">\n",
       "      <th></th>\n",
       "      <th>Product_Weight</th>\n",
       "      <th>Product_Fat_Content</th>\n",
       "      <th>Product_Shelf_Visibility</th>\n",
       "      <th>Product_Type</th>\n",
       "      <th>Product_Price</th>\n",
       "      <th>Supermarket_Opening_Year</th>\n",
       "      <th>Supermarket _Size</th>\n",
       "      <th>Supermarket_Location_Type</th>\n",
       "      <th>Supermarket_Type</th>\n",
       "    </tr>\n",
       "  </thead>\n",
       "  <tbody>\n",
       "    <tr>\n",
       "      <th>0</th>\n",
       "      <td>8.270</td>\n",
       "      <td>2</td>\n",
       "      <td>0.214125</td>\n",
       "      <td>Soft Drinks</td>\n",
       "      <td>459.98</td>\n",
       "      <td>2005</td>\n",
       "      <td>2.0</td>\n",
       "      <td>2</td>\n",
       "      <td>1</td>\n",
       "    </tr>\n",
       "    <tr>\n",
       "      <th>1</th>\n",
       "      <td>8.270</td>\n",
       "      <td>2</td>\n",
       "      <td>0.127821</td>\n",
       "      <td>Soft Drinks</td>\n",
       "      <td>464.98</td>\n",
       "      <td>1994</td>\n",
       "      <td>0.0</td>\n",
       "      <td>2</td>\n",
       "      <td>0</td>\n",
       "    </tr>\n",
       "    <tr>\n",
       "      <th>2</th>\n",
       "      <td>7.390</td>\n",
       "      <td>0</td>\n",
       "      <td>0.082171</td>\n",
       "      <td>Soft Drinks</td>\n",
       "      <td>477.38</td>\n",
       "      <td>1994</td>\n",
       "      <td>0.0</td>\n",
       "      <td>2</td>\n",
       "      <td>0</td>\n",
       "    </tr>\n",
       "    <tr>\n",
       "      <th>3</th>\n",
       "      <td>6.115</td>\n",
       "      <td>2</td>\n",
       "      <td>0.011791</td>\n",
       "      <td>Soft Drinks</td>\n",
       "      <td>472.63</td>\n",
       "      <td>2005</td>\n",
       "      <td>2.0</td>\n",
       "      <td>2</td>\n",
       "      <td>1</td>\n",
       "    </tr>\n",
       "    <tr>\n",
       "      <th>4</th>\n",
       "      <td>6.115</td>\n",
       "      <td>2</td>\n",
       "      <td>0.007038</td>\n",
       "      <td>Soft Drinks</td>\n",
       "      <td>473.13</td>\n",
       "      <td>1994</td>\n",
       "      <td>0.0</td>\n",
       "      <td>2</td>\n",
       "      <td>0</td>\n",
       "    </tr>\n",
       "  </tbody>\n",
       "</table>\n",
       "</div>"
      ],
      "text/plain": [
       "   Product_Weight  Product_Fat_Content  Product_Shelf_Visibility Product_Type  \\\n",
       "0           8.270                    2                  0.214125  Soft Drinks   \n",
       "1           8.270                    2                  0.127821  Soft Drinks   \n",
       "2           7.390                    0                  0.082171  Soft Drinks   \n",
       "3           6.115                    2                  0.011791  Soft Drinks   \n",
       "4           6.115                    2                  0.007038  Soft Drinks   \n",
       "\n",
       "   Product_Price  Supermarket_Opening_Year  Supermarket _Size  \\\n",
       "0         459.98                      2005                2.0   \n",
       "1         464.98                      1994                0.0   \n",
       "2         477.38                      1994                0.0   \n",
       "3         472.63                      2005                2.0   \n",
       "4         473.13                      1994                0.0   \n",
       "\n",
       "   Supermarket_Location_Type  Supermarket_Type  \n",
       "0                          2                 1  \n",
       "1                          2                 0  \n",
       "2                          2                 0  \n",
       "3                          2                 1  \n",
       "4                          2                 0  "
      ]
     },
     "execution_count": 70,
     "metadata": {},
     "output_type": "execute_result"
    }
   ],
   "source": [
    "data2.head()"
   ]
  },
  {
   "cell_type": "code",
   "execution_count": 71,
   "metadata": {},
   "outputs": [
    {
     "data": {
      "text/plain": [
       "array(['Soft Drinks', 'Dairy', 'Hard Drinks', 'Canned', 'Frozen Foods',\n",
       "       'Fruits and Vegetables', 'Snack Foods', 'Baking Goods',\n",
       "       'Starchy Foods', 'Meat', 'Seafood', 'Breakfast', 'Breads',\n",
       "       'Health and Hygiene', 'Household', 'Others'], dtype=object)"
      ]
     },
     "execution_count": 71,
     "metadata": {},
     "output_type": "execute_result"
    }
   ],
   "source": [
    "data['Product_Type'].unique()"
   ]
  },
  {
   "cell_type": "code",
   "execution_count": 72,
   "metadata": {},
   "outputs": [],
   "source": [
    "data2.drop('Product_Type',axis = 1, inplace = True)"
   ]
  },
  {
   "cell_type": "code",
   "execution_count": 73,
   "metadata": {},
   "outputs": [
    {
     "data": {
      "text/html": [
       "<div>\n",
       "<style scoped>\n",
       "    .dataframe tbody tr th:only-of-type {\n",
       "        vertical-align: middle;\n",
       "    }\n",
       "\n",
       "    .dataframe tbody tr th {\n",
       "        vertical-align: top;\n",
       "    }\n",
       "\n",
       "    .dataframe thead th {\n",
       "        text-align: right;\n",
       "    }\n",
       "</style>\n",
       "<table border=\"1\" class=\"dataframe\">\n",
       "  <thead>\n",
       "    <tr style=\"text-align: right;\">\n",
       "      <th></th>\n",
       "      <th>Unnamed: 0</th>\n",
       "      <th>Product_Identifier</th>\n",
       "      <th>Supermarket_Identifier</th>\n",
       "      <th>Product_Supermarket_Identifier</th>\n",
       "      <th>Product_Weight</th>\n",
       "      <th>Product_Fat_Content</th>\n",
       "      <th>Product_Shelf_Visibility</th>\n",
       "      <th>Product_Type</th>\n",
       "      <th>Product_Price</th>\n",
       "      <th>Supermarket_Opening_Year</th>\n",
       "      <th>Supermarket _Size</th>\n",
       "      <th>Supermarket_Location_Type</th>\n",
       "      <th>Supermarket_Type</th>\n",
       "      <th>Product_Supermarket_Sales</th>\n",
       "    </tr>\n",
       "  </thead>\n",
       "  <tbody>\n",
       "    <tr>\n",
       "      <th>0</th>\n",
       "      <td>0</td>\n",
       "      <td>DRA12</td>\n",
       "      <td>CHUKWUDI010</td>\n",
       "      <td>DRA12_CHUKWUDI010</td>\n",
       "      <td>11.6</td>\n",
       "      <td>0</td>\n",
       "      <td>0.068535</td>\n",
       "      <td>Soft Drinks</td>\n",
       "      <td>357.54</td>\n",
       "      <td>2005</td>\n",
       "      <td>2.0</td>\n",
       "      <td>2</td>\n",
       "      <td>1</td>\n",
       "      <td>709.08</td>\n",
       "    </tr>\n",
       "    <tr>\n",
       "      <th>1</th>\n",
       "      <td>1</td>\n",
       "      <td>DRA12</td>\n",
       "      <td>CHUKWUDI013</td>\n",
       "      <td>DRA12_CHUKWUDI013</td>\n",
       "      <td>11.6</td>\n",
       "      <td>0</td>\n",
       "      <td>0.040912</td>\n",
       "      <td>Soft Drinks</td>\n",
       "      <td>355.79</td>\n",
       "      <td>1994</td>\n",
       "      <td>0.0</td>\n",
       "      <td>2</td>\n",
       "      <td>0</td>\n",
       "      <td>6381.69</td>\n",
       "    </tr>\n",
       "    <tr>\n",
       "      <th>2</th>\n",
       "      <td>2</td>\n",
       "      <td>DRA12</td>\n",
       "      <td>CHUKWUDI017</td>\n",
       "      <td>DRA12_CHUKWUDI017</td>\n",
       "      <td>11.6</td>\n",
       "      <td>0</td>\n",
       "      <td>0.041178</td>\n",
       "      <td>Soft Drinks</td>\n",
       "      <td>350.79</td>\n",
       "      <td>2014</td>\n",
       "      <td>1.0</td>\n",
       "      <td>1</td>\n",
       "      <td>0</td>\n",
       "      <td>6381.69</td>\n",
       "    </tr>\n",
       "    <tr>\n",
       "      <th>3</th>\n",
       "      <td>3</td>\n",
       "      <td>DRA12</td>\n",
       "      <td>CHUKWUDI018</td>\n",
       "      <td>DRA12_CHUKWUDI018</td>\n",
       "      <td>11.6</td>\n",
       "      <td>0</td>\n",
       "      <td>0.041113</td>\n",
       "      <td>Soft Drinks</td>\n",
       "      <td>355.04</td>\n",
       "      <td>2016</td>\n",
       "      <td>1.0</td>\n",
       "      <td>2</td>\n",
       "      <td>2</td>\n",
       "      <td>2127.23</td>\n",
       "    </tr>\n",
       "    <tr>\n",
       "      <th>4</th>\n",
       "      <td>4</td>\n",
       "      <td>DRA12</td>\n",
       "      <td>CHUKWUDI035</td>\n",
       "      <td>DRA12_CHUKWUDI035</td>\n",
       "      <td>11.6</td>\n",
       "      <td>1</td>\n",
       "      <td>0.000000</td>\n",
       "      <td>Soft Drinks</td>\n",
       "      <td>354.79</td>\n",
       "      <td>2011</td>\n",
       "      <td>2.0</td>\n",
       "      <td>1</td>\n",
       "      <td>0</td>\n",
       "      <td>2481.77</td>\n",
       "    </tr>\n",
       "  </tbody>\n",
       "</table>\n",
       "</div>"
      ],
      "text/plain": [
       "   Unnamed: 0 Product_Identifier Supermarket_Identifier  \\\n",
       "0           0              DRA12            CHUKWUDI010   \n",
       "1           1              DRA12            CHUKWUDI013   \n",
       "2           2              DRA12            CHUKWUDI017   \n",
       "3           3              DRA12            CHUKWUDI018   \n",
       "4           4              DRA12            CHUKWUDI035   \n",
       "\n",
       "  Product_Supermarket_Identifier  Product_Weight  Product_Fat_Content  \\\n",
       "0              DRA12_CHUKWUDI010            11.6                    0   \n",
       "1              DRA12_CHUKWUDI013            11.6                    0   \n",
       "2              DRA12_CHUKWUDI017            11.6                    0   \n",
       "3              DRA12_CHUKWUDI018            11.6                    0   \n",
       "4              DRA12_CHUKWUDI035            11.6                    1   \n",
       "\n",
       "   Product_Shelf_Visibility Product_Type  Product_Price  \\\n",
       "0                  0.068535  Soft Drinks         357.54   \n",
       "1                  0.040912  Soft Drinks         355.79   \n",
       "2                  0.041178  Soft Drinks         350.79   \n",
       "3                  0.041113  Soft Drinks         355.04   \n",
       "4                  0.000000  Soft Drinks         354.79   \n",
       "\n",
       "   Supermarket_Opening_Year  Supermarket _Size  Supermarket_Location_Type  \\\n",
       "0                      2005                2.0                          2   \n",
       "1                      1994                0.0                          2   \n",
       "2                      2014                1.0                          1   \n",
       "3                      2016                1.0                          2   \n",
       "4                      2011                2.0                          1   \n",
       "\n",
       "   Supermarket_Type  Product_Supermarket_Sales  \n",
       "0                 1                     709.08  \n",
       "1                 0                    6381.69  \n",
       "2                 0                    6381.69  \n",
       "3                 2                    2127.23  \n",
       "4                 0                    2481.77  "
      ]
     },
     "execution_count": 73,
     "metadata": {},
     "output_type": "execute_result"
    }
   ],
   "source": [
    "data.head()"
   ]
  },
  {
   "cell_type": "code",
   "execution_count": 74,
   "metadata": {},
   "outputs": [
    {
     "data": {
      "text/html": [
       "<div>\n",
       "<style scoped>\n",
       "    .dataframe tbody tr th:only-of-type {\n",
       "        vertical-align: middle;\n",
       "    }\n",
       "\n",
       "    .dataframe tbody tr th {\n",
       "        vertical-align: top;\n",
       "    }\n",
       "\n",
       "    .dataframe thead th {\n",
       "        text-align: right;\n",
       "    }\n",
       "</style>\n",
       "<table border=\"1\" class=\"dataframe\">\n",
       "  <thead>\n",
       "    <tr style=\"text-align: right;\">\n",
       "      <th></th>\n",
       "      <th>Product_Weight</th>\n",
       "      <th>Product_Fat_Content</th>\n",
       "      <th>Product_Shelf_Visibility</th>\n",
       "      <th>Product_Price</th>\n",
       "      <th>Supermarket_Opening_Year</th>\n",
       "      <th>Supermarket _Size</th>\n",
       "      <th>Supermarket_Location_Type</th>\n",
       "      <th>Supermarket_Type</th>\n",
       "    </tr>\n",
       "  </thead>\n",
       "  <tbody>\n",
       "    <tr>\n",
       "      <th>0</th>\n",
       "      <td>8.270</td>\n",
       "      <td>2</td>\n",
       "      <td>0.214125</td>\n",
       "      <td>459.98</td>\n",
       "      <td>2005</td>\n",
       "      <td>2.0</td>\n",
       "      <td>2</td>\n",
       "      <td>1</td>\n",
       "    </tr>\n",
       "    <tr>\n",
       "      <th>1</th>\n",
       "      <td>8.270</td>\n",
       "      <td>2</td>\n",
       "      <td>0.127821</td>\n",
       "      <td>464.98</td>\n",
       "      <td>1994</td>\n",
       "      <td>0.0</td>\n",
       "      <td>2</td>\n",
       "      <td>0</td>\n",
       "    </tr>\n",
       "    <tr>\n",
       "      <th>2</th>\n",
       "      <td>7.390</td>\n",
       "      <td>0</td>\n",
       "      <td>0.082171</td>\n",
       "      <td>477.38</td>\n",
       "      <td>1994</td>\n",
       "      <td>0.0</td>\n",
       "      <td>2</td>\n",
       "      <td>0</td>\n",
       "    </tr>\n",
       "    <tr>\n",
       "      <th>3</th>\n",
       "      <td>6.115</td>\n",
       "      <td>2</td>\n",
       "      <td>0.011791</td>\n",
       "      <td>472.63</td>\n",
       "      <td>2005</td>\n",
       "      <td>2.0</td>\n",
       "      <td>2</td>\n",
       "      <td>1</td>\n",
       "    </tr>\n",
       "    <tr>\n",
       "      <th>4</th>\n",
       "      <td>6.115</td>\n",
       "      <td>2</td>\n",
       "      <td>0.007038</td>\n",
       "      <td>473.13</td>\n",
       "      <td>1994</td>\n",
       "      <td>0.0</td>\n",
       "      <td>2</td>\n",
       "      <td>0</td>\n",
       "    </tr>\n",
       "  </tbody>\n",
       "</table>\n",
       "</div>"
      ],
      "text/plain": [
       "   Product_Weight  Product_Fat_Content  Product_Shelf_Visibility  \\\n",
       "0           8.270                    2                  0.214125   \n",
       "1           8.270                    2                  0.127821   \n",
       "2           7.390                    0                  0.082171   \n",
       "3           6.115                    2                  0.011791   \n",
       "4           6.115                    2                  0.007038   \n",
       "\n",
       "   Product_Price  Supermarket_Opening_Year  Supermarket _Size  \\\n",
       "0         459.98                      2005                2.0   \n",
       "1         464.98                      1994                0.0   \n",
       "2         477.38                      1994                0.0   \n",
       "3         472.63                      2005                2.0   \n",
       "4         473.13                      1994                0.0   \n",
       "\n",
       "   Supermarket_Location_Type  Supermarket_Type  \n",
       "0                          2                 1  \n",
       "1                          2                 0  \n",
       "2                          2                 0  \n",
       "3                          2                 1  \n",
       "4                          2                 0  "
      ]
     },
     "execution_count": 74,
     "metadata": {},
     "output_type": "execute_result"
    }
   ],
   "source": [
    "data2.head()"
   ]
  },
  {
   "cell_type": "code",
   "execution_count": 75,
   "metadata": {},
   "outputs": [
    {
     "data": {
      "text/plain": [
       "Index(['Unnamed: 0', 'Product_Identifier', 'Supermarket_Identifier',\n",
       "       'Product_Supermarket_Identifier', 'Product_Weight',\n",
       "       'Product_Fat_Content', 'Product_Shelf_Visibility', 'Product_Type',\n",
       "       'Product_Price', 'Supermarket_Opening_Year', 'Supermarket _Size',\n",
       "       'Supermarket_Location_Type', 'Supermarket_Type',\n",
       "       'Product_Supermarket_Sales'],\n",
       "      dtype='object')"
      ]
     },
     "execution_count": 75,
     "metadata": {},
     "output_type": "execute_result"
    }
   ],
   "source": [
    "data.columns"
   ]
  },
  {
   "cell_type": "code",
   "execution_count": 76,
   "metadata": {},
   "outputs": [],
   "source": [
    "X = data[['Product_Weight', 'Product_Fat_Content', 'Product_Shelf_Visibility','Product_Price', 'Supermarket_Opening_Year', 'Supermarket _Size','Supermarket_Location_Type', 'Supermarket_Type']]"
   ]
  },
  {
   "cell_type": "code",
   "execution_count": 77,
   "metadata": {},
   "outputs": [],
   "source": [
    "y = data['Product_Supermarket_Sales']"
   ]
  },
  {
   "cell_type": "code",
   "execution_count": 78,
   "metadata": {},
   "outputs": [],
   "source": [
    "from sklearn.cross_validation import train_test_split"
   ]
  },
  {
   "cell_type": "code",
   "execution_count": 79,
   "metadata": {},
   "outputs": [],
   "source": [
    "X_train, X_test, y_train, y_test = train_test_split(X, y, test_size=0.33, random_state=42)"
   ]
  },
  {
   "cell_type": "code",
   "execution_count": 80,
   "metadata": {},
   "outputs": [],
   "source": [
    "from sklearn.svm import SVR"
   ]
  },
  {
   "cell_type": "code",
   "execution_count": 81,
   "metadata": {},
   "outputs": [],
   "source": [
    "model = SVR()"
   ]
  },
  {
   "cell_type": "code",
   "execution_count": 82,
   "metadata": {},
   "outputs": [
    {
     "data": {
      "text/plain": [
       "SVR(C=1.0, cache_size=200, coef0=0.0, degree=3, epsilon=0.1, gamma='auto',\n",
       "  kernel='rbf', max_iter=-1, shrinking=True, tol=0.001, verbose=False)"
      ]
     },
     "execution_count": 82,
     "metadata": {},
     "output_type": "execute_result"
    }
   ],
   "source": [
    "model.fit(X_train,y_train)"
   ]
  },
  {
   "cell_type": "code",
   "execution_count": 83,
   "metadata": {},
   "outputs": [],
   "source": [
    "prediction = model.predict(X_test)"
   ]
  },
  {
   "cell_type": "code",
   "execution_count": 84,
   "metadata": {},
   "outputs": [
    {
     "data": {
      "text/plain": [
       "array([5300.05969051, 5300.41630886, 5302.8924446 , ..., 5298.41382788,\n",
       "       5300.06089167, 5302.67799706])"
      ]
     },
     "execution_count": 84,
     "metadata": {},
     "output_type": "execute_result"
    }
   ],
   "source": [
    "prediction"
   ]
  },
  {
   "cell_type": "code",
   "execution_count": 85,
   "metadata": {},
   "outputs": [
    {
     "data": {
      "text/plain": [
       "<matplotlib.collections.PathCollection at 0x15b1c141c18>"
      ]
     },
     "execution_count": 85,
     "metadata": {},
     "output_type": "execute_result"
    },
    {
     "data": {
      "image/png": "[encoded data removed]",
      "text/plain": [
       "<matplotlib.figure.Figure at 0x15b1c163780>"
      ]
     },
     "metadata": {},
     "output_type": "display_data"
    }
   ],
   "source": [
    "plt.scatter(y_test,prediction)"
   ]
  },
  {
   "cell_type": "code",
   "execution_count": 86,
   "metadata": {},
   "outputs": [],
   "source": [
    "from sklearn.grid_search import GridSearchCV"
   ]
  },
  {
   "cell_type": "code",
   "execution_count": 87,
   "metadata": {},
   "outputs": [],
   "source": [
    "param_grid = {'C':[0.1,1,10,100,1000],'gamma' : [1,0.1,0.01,0.001,0.0001]}"
   ]
  },
  {
   "cell_type": "code",
   "execution_count": 88,
   "metadata": {},
   "outputs": [],
   "source": [
    "grid = GridSearchCV( SVR() , param_grid , verbose =  3  )"
   ]
  },
  {
   "cell_type": "code",
   "execution_count": 89,
   "metadata": {},
   "outputs": [
    {
     "name": "stdout",
     "output_type": "stream",
     "text": [
      "Fitting 3 folds for each of 25 candidates, totalling 75 fits\n",
      "[CV] C=0.1, gamma=1 ..................................................\n",
      "[CV] ........................ C=0.1, gamma=1, score=-0.022004 -   0.6s\n",
      "[CV] C=0.1, gamma=1 ..................................................\n"
     ]
    },
    {
     "name": "stderr",
     "output_type": "stream",
     "text": [
      "[Parallel(n_jobs=1)]: Done   1 out of   1 | elapsed:    0.6s remaining:    0.0s\n"
     ]
    },
    {
     "name": "stdout",
     "output_type": "stream",
     "text": [
      "[CV] ........................ C=0.1, gamma=1, score=-0.044233 -   0.6s\n",
      "[CV] C=0.1, gamma=1 ..................................................\n"
     ]
    },
    {
     "name": "stderr",
     "output_type": "stream",
     "text": [
      "[Parallel(n_jobs=1)]: Done   2 out of   2 | elapsed:    1.2s remaining:    0.0s\n"
     ]
    },
    {
     "name": "stdout",
     "output_type": "stream",
     "text": [
      "[CV] ........................ C=0.1, gamma=1, score=-0.020077 -   0.6s\n",
      "[CV] C=0.1, gamma=0.1 ................................................\n",
      "[CV] ...................... C=0.1, gamma=0.1, score=-0.021981 -   0.5s\n",
      "[CV] C=0.1, gamma=0.1 ................................................\n",
      "[CV] ...................... C=0.1, gamma=0.1, score=-0.044217 -   0.5s\n",
      "[CV] C=0.1, gamma=0.1 ................................................\n",
      "[CV] ...................... C=0.1, gamma=0.1, score=-0.020062 -   0.5s\n",
      "[CV] C=0.1, gamma=0.01 ...............................................\n",
      "[CV] ..................... C=0.1, gamma=0.01, score=-0.021744 -   0.3s\n",
      "[CV] C=0.1, gamma=0.01 ...............................................\n",
      "[CV] ..................... C=0.1, gamma=0.01, score=-0.044099 -   0.3s\n",
      "[CV] C=0.1, gamma=0.01 ...............................................\n",
      "[CV] ..................... C=0.1, gamma=0.01, score=-0.019865 -   0.3s\n",
      "[CV] C=0.1, gamma=0.001 ..............................................\n",
      "[CV] .................... C=0.1, gamma=0.001, score=-0.020550 -   0.3s\n",
      "[CV] C=0.1, gamma=0.001 ..............................................\n",
      "[CV] .................... C=0.1, gamma=0.001, score=-0.042029 -   0.3s\n",
      "[CV] C=0.1, gamma=0.001 ..............................................\n",
      "[CV] .................... C=0.1, gamma=0.001, score=-0.018897 -   0.3s\n",
      "[CV] C=0.1, gamma=0.0001 .............................................\n",
      "[CV] ................... C=0.1, gamma=0.0001, score=-0.018693 -   0.2s\n",
      "[CV] C=0.1, gamma=0.0001 .............................................\n",
      "[CV] ................... C=0.1, gamma=0.0001, score=-0.039819 -   0.2s\n",
      "[CV] C=0.1, gamma=0.0001 .............................................\n",
      "[CV] ................... C=0.1, gamma=0.0001, score=-0.017239 -   0.2s\n",
      "[CV] C=1, gamma=1 ....................................................\n",
      "[CV] .......................... C=1, gamma=1, score=-0.021963 -   0.5s\n",
      "[CV] C=1, gamma=1 ....................................................\n",
      "[CV] .......................... C=1, gamma=1, score=-0.044175 -   0.6s\n",
      "[CV] C=1, gamma=1 ....................................................\n",
      "[CV] .......................... C=1, gamma=1, score=-0.020094 -   0.6s\n",
      "[CV] C=1, gamma=0.1 ..................................................\n",
      "[CV] ........................ C=1, gamma=0.1, score=-0.021739 -   0.5s\n",
      "[CV] C=1, gamma=0.1 ..................................................\n",
      "[CV] ........................ C=1, gamma=0.1, score=-0.044014 -   0.5s\n",
      "[CV] C=1, gamma=0.1 ..................................................\n",
      "[CV] ........................ C=1, gamma=0.1, score=-0.019902 -   0.5s\n",
      "[CV] C=1, gamma=0.01 .................................................\n",
      "[CV] ....................... C=1, gamma=0.01, score=-0.020480 -   0.3s\n",
      "[CV] C=1, gamma=0.01 .................................................\n",
      "[CV] ....................... C=1, gamma=0.01, score=-0.041338 -   0.3s\n",
      "[CV] C=1, gamma=0.01 .................................................\n",
      "[CV] ....................... C=1, gamma=0.01, score=-0.018021 -   0.3s\n",
      "[CV] C=1, gamma=0.001 ................................................\n",
      "[CV] ...................... C=1, gamma=0.001, score=-0.008780 -   0.3s\n",
      "[CV] C=1, gamma=0.001 ................................................\n",
      "[CV] ...................... C=1, gamma=0.001, score=-0.028371 -   0.3s\n",
      "[CV] C=1, gamma=0.001 ................................................\n",
      "[CV] ...................... C=1, gamma=0.001, score=-0.006839 -   0.3s\n",
      "[CV] C=1, gamma=0.0001 ...............................................\n",
      "[CV] ...................... C=1, gamma=0.0001, score=0.013860 -   0.2s\n",
      "[CV] C=1, gamma=0.0001 ...............................................\n",
      "[CV] ..................... C=1, gamma=0.0001, score=-0.006521 -   0.2s\n",
      "[CV] C=1, gamma=0.0001 ...............................................\n",
      "[CV] ...................... C=1, gamma=0.0001, score=0.016343 -   0.2s\n",
      "[CV] C=10, gamma=1 ...................................................\n",
      "[CV] ......................... C=10, gamma=1, score=-0.021837 -   0.6s\n",
      "[CV] C=10, gamma=1 ...................................................\n",
      "[CV] ......................... C=10, gamma=1, score=-0.044301 -   0.6s\n",
      "[CV] C=10, gamma=1 ...................................................\n",
      "[CV] ......................... C=10, gamma=1, score=-0.019879 -   0.6s\n",
      "[CV] C=10, gamma=0.1 .................................................\n",
      "[CV] ....................... C=10, gamma=0.1, score=-0.020381 -   0.5s\n",
      "[CV] C=10, gamma=0.1 .................................................\n",
      "[CV] ....................... C=10, gamma=0.1, score=-0.041640 -   0.5s\n",
      "[CV] C=10, gamma=0.1 .................................................\n",
      "[CV] ....................... C=10, gamma=0.1, score=-0.018155 -   0.5s\n",
      "[CV] C=10, gamma=0.01 ................................................\n",
      "[CV] ...................... C=10, gamma=0.01, score=-0.000774 -   0.3s\n",
      "[CV] C=10, gamma=0.01 ................................................\n",
      "[CV] ...................... C=10, gamma=0.01, score=-0.021957 -   0.3s\n",
      "[CV] C=10, gamma=0.01 ................................................\n",
      "[CV] ....................... C=10, gamma=0.01, score=0.001769 -   0.3s\n",
      "[CV] C=10, gamma=0.001 ...............................................\n",
      "[CV] ...................... C=10, gamma=0.001, score=0.070376 -   0.3s\n",
      "[CV] C=10, gamma=0.001 ...............................................\n",
      "[CV] ...................... C=10, gamma=0.001, score=0.062715 -   0.3s\n",
      "[CV] C=10, gamma=0.001 ...............................................\n",
      "[CV] ...................... C=10, gamma=0.001, score=0.067680 -   0.3s\n",
      "[CV] C=10, gamma=0.0001 ..............................................\n",
      "[CV] ..................... C=10, gamma=0.0001, score=0.153306 -   0.2s\n",
      "[CV] C=10, gamma=0.0001 ..............................................\n",
      "[CV] ..................... C=10, gamma=0.0001, score=0.149787 -   0.2s\n",
      "[CV] C=10, gamma=0.0001 ..............................................\n",
      "[CV] ..................... C=10, gamma=0.0001, score=0.140915 -   0.2s\n",
      "[CV] C=100, gamma=1 ..................................................\n",
      "[CV] ........................ C=100, gamma=1, score=-0.020818 -   0.6s\n",
      "[CV] C=100, gamma=1 ..................................................\n",
      "[CV] ........................ C=100, gamma=1, score=-0.043462 -   0.6s\n",
      "[CV] C=100, gamma=1 ..................................................\n",
      "[CV] ........................ C=100, gamma=1, score=-0.018521 -   0.6s\n",
      "[CV] C=100, gamma=0.1 ................................................\n",
      "[CV] ...................... C=100, gamma=0.1, score=-0.002472 -   0.5s\n",
      "[CV] C=100, gamma=0.1 ................................................\n",
      "[CV] ...................... C=100, gamma=0.1, score=-0.021801 -   0.7s\n",
      "[CV] C=100, gamma=0.1 ................................................\n",
      "[CV] ....................... C=100, gamma=0.1, score=0.000935 -   1.2s\n",
      "[CV] C=100, gamma=0.01 ...............................................\n",
      "[CV] ...................... C=100, gamma=0.01, score=0.103095 -   0.3s\n",
      "[CV] C=100, gamma=0.01 ...............................................\n",
      "[CV] ...................... C=100, gamma=0.01, score=0.097156 -   0.3s\n",
      "[CV] C=100, gamma=0.01 ...............................................\n",
      "[CV] ...................... C=100, gamma=0.01, score=0.090766 -   0.3s\n",
      "[CV] C=100, gamma=0.001 ..............................................\n",
      "[CV] ..................... C=100, gamma=0.001, score=0.237857 -   0.5s\n",
      "[CV] C=100, gamma=0.001 ..............................................\n",
      "[CV] ..................... C=100, gamma=0.001, score=0.233752 -   0.3s\n",
      "[CV] C=100, gamma=0.001 ..............................................\n",
      "[CV] ..................... C=100, gamma=0.001, score=0.204978 -   0.2s\n",
      "[CV] C=100, gamma=0.0001 .............................................\n",
      "[CV] .................... C=100, gamma=0.0001, score=0.271754 -   0.2s\n",
      "[CV] C=100, gamma=0.0001 .............................................\n",
      "[CV] .................... C=100, gamma=0.0001, score=0.255250 -   0.2s\n",
      "[CV] C=100, gamma=0.0001 .............................................\n",
      "[CV] .................... C=100, gamma=0.0001, score=0.240929 -   0.2s\n",
      "[CV] C=1000, gamma=1 .................................................\n"
     ]
    },
    {
     "name": "stdout",
     "output_type": "stream",
     "text": [
      "[CV] ....................... C=1000, gamma=1, score=-0.007409 -   0.6s\n",
      "[CV] C=1000, gamma=1 .................................................\n",
      "[CV] ....................... C=1000, gamma=1, score=-0.028841 -   0.6s\n",
      "[CV] C=1000, gamma=1 .................................................\n",
      "[CV] ....................... C=1000, gamma=1, score=-0.006867 -   0.6s\n",
      "[CV] C=1000, gamma=0.1 ...............................................\n",
      "[CV] ...................... C=1000, gamma=0.1, score=0.105041 -   0.5s\n",
      "[CV] C=1000, gamma=0.1 ...............................................\n",
      "[CV] ...................... C=1000, gamma=0.1, score=0.099149 -   0.5s\n",
      "[CV] C=1000, gamma=0.1 ...............................................\n",
      "[CV] ...................... C=1000, gamma=0.1, score=0.112209 -   0.5s\n",
      "[CV] C=1000, gamma=0.01 ..............................................\n",
      "[CV] ..................... C=1000, gamma=0.01, score=0.261794 -   0.3s\n",
      "[CV] C=1000, gamma=0.01 ..............................................\n",
      "[CV] ..................... C=1000, gamma=0.01, score=0.274101 -   0.3s\n",
      "[CV] C=1000, gamma=0.01 ..............................................\n",
      "[CV] ..................... C=1000, gamma=0.01, score=0.213416 -   0.3s\n",
      "[CV] C=1000, gamma=0.001 .............................................\n",
      "[CV] .................... C=1000, gamma=0.001, score=0.295261 -   0.3s\n",
      "[CV] C=1000, gamma=0.001 .............................................\n",
      "[CV] .................... C=1000, gamma=0.001, score=0.279275 -   0.2s\n",
      "[CV] C=1000, gamma=0.001 .............................................\n",
      "[CV] .................... C=1000, gamma=0.001, score=0.241889 -   0.3s\n",
      "[CV] C=1000, gamma=0.0001 ............................................\n",
      "[CV] ................... C=1000, gamma=0.0001, score=0.289076 -   0.2s\n",
      "[CV] C=1000, gamma=0.0001 ............................................\n",
      "[CV] ................... C=1000, gamma=0.0001, score=0.265841 -   0.2s\n",
      "[CV] C=1000, gamma=0.0001 ............................................\n",
      "[CV] ................... C=1000, gamma=0.0001, score=0.259592 -   0.2s\n"
     ]
    },
    {
     "name": "stderr",
     "output_type": "stream",
     "text": [
      "[Parallel(n_jobs=1)]: Done  75 out of  75 | elapsed:   36.9s finished\n"
     ]
    },
    {
     "data": {
      "text/plain": [
       "GridSearchCV(cv=None, error_score='raise',\n",
       "       estimator=SVR(C=1.0, cache_size=200, coef0=0.0, degree=3, epsilon=0.1, gamma='auto',\n",
       "  kernel='rbf', max_iter=-1, shrinking=True, tol=0.001, verbose=False),\n",
       "       fit_params={}, iid=True, n_jobs=1,\n",
       "       param_grid={'C': [0.1, 1, 10, 100, 1000], 'gamma': [1, 0.1, 0.01, 0.001, 0.0001]},\n",
       "       pre_dispatch='2*n_jobs', refit=True, scoring=None, verbose=3)"
      ]
     },
     "execution_count": 89,
     "metadata": {},
     "output_type": "execute_result"
    }
   ],
   "source": [
    "grid.fit(X_train,y_train)"
   ]
  },
  {
   "cell_type": "code",
   "execution_count": 90,
   "metadata": {},
   "outputs": [],
   "source": [
    "grid_prediction = grid.predict(X_test)"
   ]
  },
  {
   "cell_type": "code",
   "execution_count": 91,
   "metadata": {},
   "outputs": [],
   "source": [
    "from sklearn import metrics"
   ]
  },
  {
   "cell_type": "code",
   "execution_count": 92,
   "metadata": {},
   "outputs": [
    {
     "data": {
      "text/plain": [
       "2869.221673792174"
      ]
     },
     "execution_count": 92,
     "metadata": {},
     "output_type": "execute_result"
    }
   ],
   "source": [
    "metrics.mean_absolute_error(y_test,grid_prediction)"
   ]
  },
  {
   "cell_type": "code",
   "execution_count": 93,
   "metadata": {},
   "outputs": [
    {
     "data": {
      "text/plain": [
       "14460527.322782248"
      ]
     },
     "execution_count": 93,
     "metadata": {},
     "output_type": "execute_result"
    }
   ],
   "source": [
    "metrics.mean_squared_error(y_test,grid_prediction)"
   ]
  },
  {
   "cell_type": "code",
   "execution_count": 94,
   "metadata": {},
   "outputs": [
    {
     "data": {
      "text/plain": [
       "3802.7000043103913"
      ]
     },
     "execution_count": 94,
     "metadata": {},
     "output_type": "execute_result"
    }
   ],
   "source": [
    "np.sqrt(metrics.mean_squared_error(y_test,grid_prediction))"
   ]
  },
  {
   "cell_type": "code",
   "execution_count": null,
   "metadata": {},
   "outputs": [],
   "source": []
  },
  {
   "cell_type": "code",
   "execution_count": null,
   "metadata": {},
   "outputs": [],
   "source": []
  },
  {
   "cell_type": "code",
   "execution_count": null,
   "metadata": {},
   "outputs": [],
   "source": []
  },
  {
   "cell_type": "code",
   "execution_count": null,
   "metadata": {},
   "outputs": [],
   "source": []
  },
  {
   "cell_type": "code",
   "execution_count": 95,
   "metadata": {},
   "outputs": [
    {
     "data": {
      "text/plain": [
       "<matplotlib.collections.PathCollection at 0x15b1bfe7ba8>"
      ]
     },
     "execution_count": 95,
     "metadata": {},
     "output_type": "execute_result"
    },
    {
     "data": {
      "image/png": "[encoded data removed]",
      "text/plain": [
       "<matplotlib.figure.Figure at 0x15b1c1595c0>"
      ]
     },
     "metadata": {},
     "output_type": "display_data"
    }
   ],
   "source": [
    "plt.scatter(y_test,grid_prediction)"
   ]
  },
  {
   "cell_type": "code",
   "execution_count": 96,
   "metadata": {},
   "outputs": [],
   "source": [
    "grid2 = grid.predict(data2)"
   ]
  },
  {
   "cell_type": "code",
   "execution_count": 97,
   "metadata": {},
   "outputs": [
    {
     "data": {
      "text/plain": [
       "array([ 7657.64876139,  7915.63877092,  8171.99894256, ...,\n",
       "       10694.87650235,  7758.72271716,  7892.25299908])"
      ]
     },
     "execution_count": 97,
     "metadata": {},
     "output_type": "execute_result"
    }
   ],
   "source": [
    "grid2"
   ]
  },
  {
   "cell_type": "code",
   "execution_count": null,
   "metadata": {},
   "outputs": [],
   "source": []
  },
  {
   "cell_type": "code",
   "execution_count": null,
   "metadata": {},
   "outputs": [],
   "source": []
  },
  {
   "cell_type": "code",
   "execution_count": 98,
   "metadata": {},
   "outputs": [],
   "source": [
    "dat11  =pd.read_csv('submission_price.xls')"
   ]
  },
  {
   "cell_type": "code",
   "execution_count": 99,
   "metadata": {},
   "outputs": [],
   "source": [
    "dat11.drop('Product_Supermarket_Sales',axis = 1 , inplace = True)"
   ]
  },
  {
   "cell_type": "code",
   "execution_count": 100,
   "metadata": {},
   "outputs": [],
   "source": [
    "ss = pd.DataFrame({'Product_Supermarket_Sales': grid2})"
   ]
  },
  {
   "cell_type": "code",
   "execution_count": 101,
   "metadata": {},
   "outputs": [],
   "source": [
    "\n",
    "submitted1 = pd.concat([dat11,ss],axis =1)"
   ]
  },
  {
   "cell_type": "code",
   "execution_count": 102,
   "metadata": {},
   "outputs": [],
   "source": [
    "submitted1.to_csv('answer1.csv',index = False)"
   ]
  },
  {
   "cell_type": "code",
   "execution_count": 103,
   "metadata": {},
   "outputs": [],
   "source": [
    "from sklearn.cross_validation import cross_val_score"
   ]
  },
  {
   "cell_type": "code",
   "execution_count": 105,
   "metadata": {},
   "outputs": [],
   "source": [
    "from sklearn import metrics"
   ]
  },
  {
   "cell_type": "code",
   "execution_count": 106,
   "metadata": {},
   "outputs": [
    {
     "name": "stdout",
     "output_type": "stream",
     "text": [
      "14460527.322782248\n"
     ]
    }
   ],
   "source": [
    "print(metrics.mean_squared_error(y_test,grid_prediction))"
   ]
  },
  {
   "cell_type": "code",
   "execution_count": 107,
   "metadata": {},
   "outputs": [],
   "source": [
    "from sklearn.cross_validation import cross_val_score"
   ]
  },
  {
   "cell_type": "code",
   "execution_count": 108,
   "metadata": {},
   "outputs": [],
   "source": [
    "scores = cross_val_score(model,X_test,y_test,cv =10)"
   ]
  },
  {
   "cell_type": "code",
   "execution_count": 112,
   "metadata": {},
   "outputs": [
    {
     "name": "stdout",
     "output_type": "stream",
     "text": [
      "-3.4400668432760866\n"
     ]
    }
   ],
   "source": [
    "print(scores.mean()*100)"
   ]
  },
  {
   "cell_type": "code",
   "execution_count": null,
   "metadata": {},
   "outputs": [],
   "source": [
    "cross_val_score"
   ]
  },
  {
   "cell_type": "code",
   "execution_count": null,
   "metadata": {},
   "outputs": [],
   "source": []
  }
 ],
 "metadata": {
  "kernelspec": {
   "display_name": "Python 3",
   "language": "python",
   "name": "python3"
  },
  "language_info": {
   "codemirror_mode": {
    "name": "ipython",
    "version": 3
   },
   "file_extension": ".py",
   "mimetype": "text/x-python",
   "name": "python",
   "nbconvert_exporter": "python",
   "pygments_lexer": "ipython3",
   "version": "3.6.4"
  }
 },
 "nbformat": 4,
 "nbformat_minor": 2
}
