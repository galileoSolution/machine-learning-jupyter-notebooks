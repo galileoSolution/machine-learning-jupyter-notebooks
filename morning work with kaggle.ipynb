{
 "cells": [
  {
   "cell_type": "code",
   "execution_count": 1,
   "metadata": {},
   "outputs": [],
   "source": [
    "import numpy as np\n",
    "import pandas as pd\n",
    "import matplotlib.pyplot as plt\n",
    "import seaborn as sns"
   ]
  },
  {
   "cell_type": "code",
   "execution_count": 2,
   "metadata": {},
   "outputs": [],
   "source": [
    "%matplotlib inline"
   ]
  },
  {
   "cell_type": "code",
   "execution_count": 3,
   "metadata": {},
   "outputs": [],
   "source": [
    "data = pd.read_csv('train_fresh.xls')"
   ]
  },
  {
   "cell_type": "code",
   "execution_count": 4,
   "metadata": {},
   "outputs": [
    {
     "data": {
      "text/html": [
       "<div>\n",
       "<style scoped>\n",
       "    .dataframe tbody tr th:only-of-type {\n",
       "        vertical-align: middle;\n",
       "    }\n",
       "\n",
       "    .dataframe tbody tr th {\n",
       "        vertical-align: top;\n",
       "    }\n",
       "\n",
       "    .dataframe thead th {\n",
       "        text-align: right;\n",
       "    }\n",
       "</style>\n",
       "<table border=\"1\" class=\"dataframe\">\n",
       "  <thead>\n",
       "    <tr style=\"text-align: right;\">\n",
       "      <th></th>\n",
       "      <th>Product_Identifier</th>\n",
       "      <th>Supermarket_Identifier</th>\n",
       "      <th>Product_Supermarket_Identifier</th>\n",
       "      <th>Product_Weight</th>\n",
       "      <th>Product_Fat_Content</th>\n",
       "      <th>Product_Shelf_Visibility</th>\n",
       "      <th>Product_Type</th>\n",
       "      <th>Product_Price</th>\n",
       "      <th>Supermarket_Opening_Year</th>\n",
       "      <th>Supermarket _Size</th>\n",
       "      <th>Supermarket_Location_Type</th>\n",
       "      <th>Supermarket_Type</th>\n",
       "      <th>Product_Supermarket_Sales</th>\n",
       "    </tr>\n",
       "  </thead>\n",
       "  <tbody>\n",
       "    <tr>\n",
       "      <th>0</th>\n",
       "      <td>DRA12</td>\n",
       "      <td>CHUKWUDI010</td>\n",
       "      <td>DRA12_CHUKWUDI010</td>\n",
       "      <td>11.6</td>\n",
       "      <td>Low Fat</td>\n",
       "      <td>0.068535</td>\n",
       "      <td>Soft Drinks</td>\n",
       "      <td>357.54</td>\n",
       "      <td>2005</td>\n",
       "      <td>NaN</td>\n",
       "      <td>Cluster 3</td>\n",
       "      <td>Grocery Store</td>\n",
       "      <td>709.08</td>\n",
       "    </tr>\n",
       "    <tr>\n",
       "      <th>1</th>\n",
       "      <td>DRA12</td>\n",
       "      <td>CHUKWUDI013</td>\n",
       "      <td>DRA12_CHUKWUDI013</td>\n",
       "      <td>11.6</td>\n",
       "      <td>Low Fat</td>\n",
       "      <td>0.040912</td>\n",
       "      <td>Soft Drinks</td>\n",
       "      <td>355.79</td>\n",
       "      <td>1994</td>\n",
       "      <td>High</td>\n",
       "      <td>Cluster 3</td>\n",
       "      <td>Supermarket Type1</td>\n",
       "      <td>6381.69</td>\n",
       "    </tr>\n",
       "    <tr>\n",
       "      <th>2</th>\n",
       "      <td>DRA12</td>\n",
       "      <td>CHUKWUDI017</td>\n",
       "      <td>DRA12_CHUKWUDI017</td>\n",
       "      <td>11.6</td>\n",
       "      <td>Low Fat</td>\n",
       "      <td>0.041178</td>\n",
       "      <td>Soft Drinks</td>\n",
       "      <td>350.79</td>\n",
       "      <td>2014</td>\n",
       "      <td>NaN</td>\n",
       "      <td>Cluster 2</td>\n",
       "      <td>Supermarket Type1</td>\n",
       "      <td>6381.69</td>\n",
       "    </tr>\n",
       "    <tr>\n",
       "      <th>3</th>\n",
       "      <td>DRA12</td>\n",
       "      <td>CHUKWUDI018</td>\n",
       "      <td>DRA12_CHUKWUDI018</td>\n",
       "      <td>11.6</td>\n",
       "      <td>Low Fat</td>\n",
       "      <td>0.041113</td>\n",
       "      <td>Soft Drinks</td>\n",
       "      <td>355.04</td>\n",
       "      <td>2016</td>\n",
       "      <td>Medium</td>\n",
       "      <td>Cluster 3</td>\n",
       "      <td>Supermarket Type2</td>\n",
       "      <td>2127.23</td>\n",
       "    </tr>\n",
       "    <tr>\n",
       "      <th>4</th>\n",
       "      <td>DRA12</td>\n",
       "      <td>CHUKWUDI035</td>\n",
       "      <td>DRA12_CHUKWUDI035</td>\n",
       "      <td>11.6</td>\n",
       "      <td>Ultra Low fat</td>\n",
       "      <td>0.000000</td>\n",
       "      <td>Soft Drinks</td>\n",
       "      <td>354.79</td>\n",
       "      <td>2011</td>\n",
       "      <td>Small</td>\n",
       "      <td>Cluster 2</td>\n",
       "      <td>Supermarket Type1</td>\n",
       "      <td>2481.77</td>\n",
       "    </tr>\n",
       "  </tbody>\n",
       "</table>\n",
       "</div>"
      ],
      "text/plain": [
       "  Product_Identifier Supermarket_Identifier Product_Supermarket_Identifier  \\\n",
       "0              DRA12            CHUKWUDI010              DRA12_CHUKWUDI010   \n",
       "1              DRA12            CHUKWUDI013              DRA12_CHUKWUDI013   \n",
       "2              DRA12            CHUKWUDI017              DRA12_CHUKWUDI017   \n",
       "3              DRA12            CHUKWUDI018              DRA12_CHUKWUDI018   \n",
       "4              DRA12            CHUKWUDI035              DRA12_CHUKWUDI035   \n",
       "\n",
       "   Product_Weight Product_Fat_Content  Product_Shelf_Visibility Product_Type  \\\n",
       "0            11.6             Low Fat                  0.068535  Soft Drinks   \n",
       "1            11.6             Low Fat                  0.040912  Soft Drinks   \n",
       "2            11.6             Low Fat                  0.041178  Soft Drinks   \n",
       "3            11.6             Low Fat                  0.041113  Soft Drinks   \n",
       "4            11.6       Ultra Low fat                  0.000000  Soft Drinks   \n",
       "\n",
       "   Product_Price  Supermarket_Opening_Year Supermarket _Size  \\\n",
       "0         357.54                      2005               NaN   \n",
       "1         355.79                      1994              High   \n",
       "2         350.79                      2014               NaN   \n",
       "3         355.04                      2016            Medium   \n",
       "4         354.79                      2011             Small   \n",
       "\n",
       "  Supermarket_Location_Type   Supermarket_Type  Product_Supermarket_Sales  \n",
       "0                 Cluster 3      Grocery Store                     709.08  \n",
       "1                 Cluster 3  Supermarket Type1                    6381.69  \n",
       "2                 Cluster 2  Supermarket Type1                    6381.69  \n",
       "3                 Cluster 3  Supermarket Type2                    2127.23  \n",
       "4                 Cluster 2  Supermarket Type1                    2481.77  "
      ]
     },
     "execution_count": 4,
     "metadata": {},
     "output_type": "execute_result"
    }
   ],
   "source": [
    "data.head()"
   ]
  },
  {
   "cell_type": "code",
   "execution_count": 5,
   "metadata": {},
   "outputs": [
    {
     "data": {
      "text/html": [
       "<div>\n",
       "<style scoped>\n",
       "    .dataframe tbody tr th:only-of-type {\n",
       "        vertical-align: middle;\n",
       "    }\n",
       "\n",
       "    .dataframe tbody tr th {\n",
       "        vertical-align: top;\n",
       "    }\n",
       "\n",
       "    .dataframe thead th {\n",
       "        text-align: right;\n",
       "    }\n",
       "</style>\n",
       "<table border=\"1\" class=\"dataframe\">\n",
       "  <thead>\n",
       "    <tr style=\"text-align: right;\">\n",
       "      <th></th>\n",
       "      <th>Product_Weight</th>\n",
       "      <th>Product_Shelf_Visibility</th>\n",
       "      <th>Product_Price</th>\n",
       "      <th>Supermarket_Opening_Year</th>\n",
       "      <th>Product_Supermarket_Sales</th>\n",
       "    </tr>\n",
       "  </thead>\n",
       "  <tbody>\n",
       "    <tr>\n",
       "      <th>count</th>\n",
       "      <td>4188.000000</td>\n",
       "      <td>4990.000000</td>\n",
       "      <td>4990.000000</td>\n",
       "      <td>4990.000000</td>\n",
       "      <td>4990.000000</td>\n",
       "    </tr>\n",
       "    <tr>\n",
       "      <th>mean</th>\n",
       "      <td>12.908838</td>\n",
       "      <td>0.066916</td>\n",
       "      <td>391.803796</td>\n",
       "      <td>2004.783567</td>\n",
       "      <td>6103.520164</td>\n",
       "    </tr>\n",
       "    <tr>\n",
       "      <th>std</th>\n",
       "      <td>4.703256</td>\n",
       "      <td>0.053058</td>\n",
       "      <td>119.378259</td>\n",
       "      <td>8.283151</td>\n",
       "      <td>4447.333835</td>\n",
       "    </tr>\n",
       "    <tr>\n",
       "      <th>min</th>\n",
       "      <td>4.555000</td>\n",
       "      <td>0.000000</td>\n",
       "      <td>78.730000</td>\n",
       "      <td>1992.000000</td>\n",
       "      <td>83.230000</td>\n",
       "    </tr>\n",
       "    <tr>\n",
       "      <th>25%</th>\n",
       "      <td>8.767500</td>\n",
       "      <td>0.027273</td>\n",
       "      <td>307.890000</td>\n",
       "      <td>1994.000000</td>\n",
       "      <td>2757.660000</td>\n",
       "    </tr>\n",
       "    <tr>\n",
       "      <th>50%</th>\n",
       "      <td>12.600000</td>\n",
       "      <td>0.053564</td>\n",
       "      <td>393.860000</td>\n",
       "      <td>2006.000000</td>\n",
       "      <td>5374.675000</td>\n",
       "    </tr>\n",
       "    <tr>\n",
       "      <th>75%</th>\n",
       "      <td>17.100000</td>\n",
       "      <td>0.095358</td>\n",
       "      <td>465.067500</td>\n",
       "      <td>2011.000000</td>\n",
       "      <td>8522.240000</td>\n",
       "    </tr>\n",
       "    <tr>\n",
       "      <th>max</th>\n",
       "      <td>21.350000</td>\n",
       "      <td>0.328391</td>\n",
       "      <td>667.220000</td>\n",
       "      <td>2016.000000</td>\n",
       "      <td>32717.410000</td>\n",
       "    </tr>\n",
       "  </tbody>\n",
       "</table>\n",
       "</div>"
      ],
      "text/plain": [
       "       Product_Weight  Product_Shelf_Visibility  Product_Price  \\\n",
       "count     4188.000000               4990.000000    4990.000000   \n",
       "mean        12.908838                  0.066916     391.803796   \n",
       "std          4.703256                  0.053058     119.378259   \n",
       "min          4.555000                  0.000000      78.730000   \n",
       "25%          8.767500                  0.027273     307.890000   \n",
       "50%         12.600000                  0.053564     393.860000   \n",
       "75%         17.100000                  0.095358     465.067500   \n",
       "max         21.350000                  0.328391     667.220000   \n",
       "\n",
       "       Supermarket_Opening_Year  Product_Supermarket_Sales  \n",
       "count               4990.000000                4990.000000  \n",
       "mean                2004.783567                6103.520164  \n",
       "std                    8.283151                4447.333835  \n",
       "min                 1992.000000                  83.230000  \n",
       "25%                 1994.000000                2757.660000  \n",
       "50%                 2006.000000                5374.675000  \n",
       "75%                 2011.000000                8522.240000  \n",
       "max                 2016.000000               32717.410000  "
      ]
     },
     "execution_count": 5,
     "metadata": {},
     "output_type": "execute_result"
    }
   ],
   "source": [
    "data.describe()"
   ]
  },
  {
   "cell_type": "code",
   "execution_count": 6,
   "metadata": {},
   "outputs": [
    {
     "data": {
      "text/plain": [
       "Product_Identifier                   0\n",
       "Supermarket_Identifier               0\n",
       "Product_Supermarket_Identifier       0\n",
       "Product_Weight                     802\n",
       "Product_Fat_Content                  0\n",
       "Product_Shelf_Visibility             0\n",
       "Product_Type                         0\n",
       "Product_Price                        0\n",
       "Supermarket_Opening_Year             0\n",
       "Supermarket _Size                 1450\n",
       "Supermarket_Location_Type            0\n",
       "Supermarket_Type                     0\n",
       "Product_Supermarket_Sales            0\n",
       "dtype: int64"
      ]
     },
     "execution_count": 6,
     "metadata": {},
     "output_type": "execute_result"
    }
   ],
   "source": [
    "data.isnull().sum()"
   ]
  },
  {
   "cell_type": "code",
   "execution_count": 7,
   "metadata": {},
   "outputs": [],
   "source": [
    "data['Product_Weight'].fillna(data.groupby('Product_Fat_Content')['Product_Weight'].transform('mean'), inplace = True)"
   ]
  },
  {
   "cell_type": "code",
   "execution_count": 8,
   "metadata": {},
   "outputs": [
    {
     "data": {
      "text/plain": [
       "Product_Identifier                   0\n",
       "Supermarket_Identifier               0\n",
       "Product_Supermarket_Identifier       0\n",
       "Product_Weight                       0\n",
       "Product_Fat_Content                  0\n",
       "Product_Shelf_Visibility             0\n",
       "Product_Type                         0\n",
       "Product_Price                        0\n",
       "Supermarket_Opening_Year             0\n",
       "Supermarket _Size                 1450\n",
       "Supermarket_Location_Type            0\n",
       "Supermarket_Type                     0\n",
       "Product_Supermarket_Sales            0\n",
       "dtype: int64"
      ]
     },
     "execution_count": 8,
     "metadata": {},
     "output_type": "execute_result"
    }
   ],
   "source": [
    "data.isnull().sum()"
   ]
  },
  {
   "cell_type": "code",
   "execution_count": 9,
   "metadata": {},
   "outputs": [],
   "source": [
    "train_test_split = [data]\n",
    "supermarket_size = {'High': 2,'Medium': 1,'Small':0}\n",
    "for dataset in train_test_split:\n",
    "    dataset['Supermarket _Size'] =dataset['Supermarket _Size'].map(supermarket_size)"
   ]
  },
  {
   "cell_type": "code",
   "execution_count": 10,
   "metadata": {},
   "outputs": [],
   "source": [
    "data['Supermarket _Size'].fillna(data.groupby('Product_Type')['Supermarket _Size'].transform('median'), inplace = True)"
   ]
  },
  {
   "cell_type": "code",
   "execution_count": 11,
   "metadata": {},
   "outputs": [
    {
     "data": {
      "text/html": [
       "<div>\n",
       "<style scoped>\n",
       "    .dataframe tbody tr th:only-of-type {\n",
       "        vertical-align: middle;\n",
       "    }\n",
       "\n",
       "    .dataframe tbody tr th {\n",
       "        vertical-align: top;\n",
       "    }\n",
       "\n",
       "    .dataframe thead th {\n",
       "        text-align: right;\n",
       "    }\n",
       "</style>\n",
       "<table border=\"1\" class=\"dataframe\">\n",
       "  <thead>\n",
       "    <tr style=\"text-align: right;\">\n",
       "      <th></th>\n",
       "      <th>Product_Identifier</th>\n",
       "      <th>Supermarket_Identifier</th>\n",
       "      <th>Product_Supermarket_Identifier</th>\n",
       "      <th>Product_Weight</th>\n",
       "      <th>Product_Fat_Content</th>\n",
       "      <th>Product_Shelf_Visibility</th>\n",
       "      <th>Product_Type</th>\n",
       "      <th>Product_Price</th>\n",
       "      <th>Supermarket_Opening_Year</th>\n",
       "      <th>Supermarket _Size</th>\n",
       "      <th>Supermarket_Location_Type</th>\n",
       "      <th>Supermarket_Type</th>\n",
       "      <th>Product_Supermarket_Sales</th>\n",
       "    </tr>\n",
       "  </thead>\n",
       "  <tbody>\n",
       "    <tr>\n",
       "      <th>0</th>\n",
       "      <td>DRA12</td>\n",
       "      <td>CHUKWUDI010</td>\n",
       "      <td>DRA12_CHUKWUDI010</td>\n",
       "      <td>11.6</td>\n",
       "      <td>Low Fat</td>\n",
       "      <td>0.068535</td>\n",
       "      <td>Soft Drinks</td>\n",
       "      <td>357.54</td>\n",
       "      <td>2005</td>\n",
       "      <td>1.0</td>\n",
       "      <td>Cluster 3</td>\n",
       "      <td>Grocery Store</td>\n",
       "      <td>709.08</td>\n",
       "    </tr>\n",
       "    <tr>\n",
       "      <th>1</th>\n",
       "      <td>DRA12</td>\n",
       "      <td>CHUKWUDI013</td>\n",
       "      <td>DRA12_CHUKWUDI013</td>\n",
       "      <td>11.6</td>\n",
       "      <td>Low Fat</td>\n",
       "      <td>0.040912</td>\n",
       "      <td>Soft Drinks</td>\n",
       "      <td>355.79</td>\n",
       "      <td>1994</td>\n",
       "      <td>2.0</td>\n",
       "      <td>Cluster 3</td>\n",
       "      <td>Supermarket Type1</td>\n",
       "      <td>6381.69</td>\n",
       "    </tr>\n",
       "  </tbody>\n",
       "</table>\n",
       "</div>"
      ],
      "text/plain": [
       "  Product_Identifier Supermarket_Identifier Product_Supermarket_Identifier  \\\n",
       "0              DRA12            CHUKWUDI010              DRA12_CHUKWUDI010   \n",
       "1              DRA12            CHUKWUDI013              DRA12_CHUKWUDI013   \n",
       "\n",
       "   Product_Weight Product_Fat_Content  Product_Shelf_Visibility Product_Type  \\\n",
       "0            11.6             Low Fat                  0.068535  Soft Drinks   \n",
       "1            11.6             Low Fat                  0.040912  Soft Drinks   \n",
       "\n",
       "   Product_Price  Supermarket_Opening_Year  Supermarket _Size  \\\n",
       "0         357.54                      2005                1.0   \n",
       "1         355.79                      1994                2.0   \n",
       "\n",
       "  Supermarket_Location_Type   Supermarket_Type  Product_Supermarket_Sales  \n",
       "0                 Cluster 3      Grocery Store                     709.08  \n",
       "1                 Cluster 3  Supermarket Type1                    6381.69  "
      ]
     },
     "execution_count": 11,
     "metadata": {},
     "output_type": "execute_result"
    }
   ],
   "source": [
    "data.head(2)"
   ]
  },
  {
   "cell_type": "code",
   "execution_count": 12,
   "metadata": {},
   "outputs": [],
   "source": [
    "data['f'] = data.Product_Weight.astype(object)"
   ]
  },
  {
   "cell_type": "code",
   "execution_count": 13,
   "metadata": {},
   "outputs": [
    {
     "data": {
      "text/html": [
       "<div>\n",
       "<style scoped>\n",
       "    .dataframe tbody tr th:only-of-type {\n",
       "        vertical-align: middle;\n",
       "    }\n",
       "\n",
       "    .dataframe tbody tr th {\n",
       "        vertical-align: top;\n",
       "    }\n",
       "\n",
       "    .dataframe thead th {\n",
       "        text-align: right;\n",
       "    }\n",
       "</style>\n",
       "<table border=\"1\" class=\"dataframe\">\n",
       "  <thead>\n",
       "    <tr style=\"text-align: right;\">\n",
       "      <th></th>\n",
       "      <th>Product_Identifier</th>\n",
       "      <th>Supermarket_Identifier</th>\n",
       "      <th>Product_Supermarket_Identifier</th>\n",
       "      <th>Product_Weight</th>\n",
       "      <th>Product_Fat_Content</th>\n",
       "      <th>Product_Shelf_Visibility</th>\n",
       "      <th>Product_Type</th>\n",
       "      <th>Product_Price</th>\n",
       "      <th>Supermarket_Opening_Year</th>\n",
       "      <th>Supermarket _Size</th>\n",
       "      <th>Supermarket_Location_Type</th>\n",
       "      <th>Supermarket_Type</th>\n",
       "      <th>Product_Supermarket_Sales</th>\n",
       "      <th>f</th>\n",
       "    </tr>\n",
       "  </thead>\n",
       "  <tbody>\n",
       "    <tr>\n",
       "      <th>0</th>\n",
       "      <td>DRA12</td>\n",
       "      <td>CHUKWUDI010</td>\n",
       "      <td>DRA12_CHUKWUDI010</td>\n",
       "      <td>11.6</td>\n",
       "      <td>Low Fat</td>\n",
       "      <td>0.068535</td>\n",
       "      <td>Soft Drinks</td>\n",
       "      <td>357.54</td>\n",
       "      <td>2005</td>\n",
       "      <td>1.0</td>\n",
       "      <td>Cluster 3</td>\n",
       "      <td>Grocery Store</td>\n",
       "      <td>709.08</td>\n",
       "      <td>11.6</td>\n",
       "    </tr>\n",
       "    <tr>\n",
       "      <th>1</th>\n",
       "      <td>DRA12</td>\n",
       "      <td>CHUKWUDI013</td>\n",
       "      <td>DRA12_CHUKWUDI013</td>\n",
       "      <td>11.6</td>\n",
       "      <td>Low Fat</td>\n",
       "      <td>0.040912</td>\n",
       "      <td>Soft Drinks</td>\n",
       "      <td>355.79</td>\n",
       "      <td>1994</td>\n",
       "      <td>2.0</td>\n",
       "      <td>Cluster 3</td>\n",
       "      <td>Supermarket Type1</td>\n",
       "      <td>6381.69</td>\n",
       "      <td>11.6</td>\n",
       "    </tr>\n",
       "    <tr>\n",
       "      <th>2</th>\n",
       "      <td>DRA12</td>\n",
       "      <td>CHUKWUDI017</td>\n",
       "      <td>DRA12_CHUKWUDI017</td>\n",
       "      <td>11.6</td>\n",
       "      <td>Low Fat</td>\n",
       "      <td>0.041178</td>\n",
       "      <td>Soft Drinks</td>\n",
       "      <td>350.79</td>\n",
       "      <td>2014</td>\n",
       "      <td>1.0</td>\n",
       "      <td>Cluster 2</td>\n",
       "      <td>Supermarket Type1</td>\n",
       "      <td>6381.69</td>\n",
       "      <td>11.6</td>\n",
       "    </tr>\n",
       "    <tr>\n",
       "      <th>3</th>\n",
       "      <td>DRA12</td>\n",
       "      <td>CHUKWUDI018</td>\n",
       "      <td>DRA12_CHUKWUDI018</td>\n",
       "      <td>11.6</td>\n",
       "      <td>Low Fat</td>\n",
       "      <td>0.041113</td>\n",
       "      <td>Soft Drinks</td>\n",
       "      <td>355.04</td>\n",
       "      <td>2016</td>\n",
       "      <td>1.0</td>\n",
       "      <td>Cluster 3</td>\n",
       "      <td>Supermarket Type2</td>\n",
       "      <td>2127.23</td>\n",
       "      <td>11.6</td>\n",
       "    </tr>\n",
       "    <tr>\n",
       "      <th>4</th>\n",
       "      <td>DRA12</td>\n",
       "      <td>CHUKWUDI035</td>\n",
       "      <td>DRA12_CHUKWUDI035</td>\n",
       "      <td>11.6</td>\n",
       "      <td>Ultra Low fat</td>\n",
       "      <td>0.000000</td>\n",
       "      <td>Soft Drinks</td>\n",
       "      <td>354.79</td>\n",
       "      <td>2011</td>\n",
       "      <td>0.0</td>\n",
       "      <td>Cluster 2</td>\n",
       "      <td>Supermarket Type1</td>\n",
       "      <td>2481.77</td>\n",
       "      <td>11.6</td>\n",
       "    </tr>\n",
       "  </tbody>\n",
       "</table>\n",
       "</div>"
      ],
      "text/plain": [
       "  Product_Identifier Supermarket_Identifier Product_Supermarket_Identifier  \\\n",
       "0              DRA12            CHUKWUDI010              DRA12_CHUKWUDI010   \n",
       "1              DRA12            CHUKWUDI013              DRA12_CHUKWUDI013   \n",
       "2              DRA12            CHUKWUDI017              DRA12_CHUKWUDI017   \n",
       "3              DRA12            CHUKWUDI018              DRA12_CHUKWUDI018   \n",
       "4              DRA12            CHUKWUDI035              DRA12_CHUKWUDI035   \n",
       "\n",
       "   Product_Weight Product_Fat_Content  Product_Shelf_Visibility Product_Type  \\\n",
       "0            11.6             Low Fat                  0.068535  Soft Drinks   \n",
       "1            11.6             Low Fat                  0.040912  Soft Drinks   \n",
       "2            11.6             Low Fat                  0.041178  Soft Drinks   \n",
       "3            11.6             Low Fat                  0.041113  Soft Drinks   \n",
       "4            11.6       Ultra Low fat                  0.000000  Soft Drinks   \n",
       "\n",
       "   Product_Price  Supermarket_Opening_Year  Supermarket _Size  \\\n",
       "0         357.54                      2005                1.0   \n",
       "1         355.79                      1994                2.0   \n",
       "2         350.79                      2014                1.0   \n",
       "3         355.04                      2016                1.0   \n",
       "4         354.79                      2011                0.0   \n",
       "\n",
       "  Supermarket_Location_Type   Supermarket_Type  Product_Supermarket_Sales  \\\n",
       "0                 Cluster 3      Grocery Store                     709.08   \n",
       "1                 Cluster 3  Supermarket Type1                    6381.69   \n",
       "2                 Cluster 2  Supermarket Type1                    6381.69   \n",
       "3                 Cluster 3  Supermarket Type2                    2127.23   \n",
       "4                 Cluster 2  Supermarket Type1                    2481.77   \n",
       "\n",
       "      f  \n",
       "0  11.6  \n",
       "1  11.6  \n",
       "2  11.6  \n",
       "3  11.6  \n",
       "4  11.6  "
      ]
     },
     "execution_count": 13,
     "metadata": {},
     "output_type": "execute_result"
    }
   ],
   "source": [
    "data.head()"
   ]
  },
  {
   "cell_type": "code",
   "execution_count": 14,
   "metadata": {},
   "outputs": [],
   "source": [
    "data['f'] = data['f'].astype(str)"
   ]
  },
  {
   "cell_type": "code",
   "execution_count": 15,
   "metadata": {},
   "outputs": [
    {
     "data": {
      "text/html": [
       "<div>\n",
       "<style scoped>\n",
       "    .dataframe tbody tr th:only-of-type {\n",
       "        vertical-align: middle;\n",
       "    }\n",
       "\n",
       "    .dataframe tbody tr th {\n",
       "        vertical-align: top;\n",
       "    }\n",
       "\n",
       "    .dataframe thead th {\n",
       "        text-align: right;\n",
       "    }\n",
       "</style>\n",
       "<table border=\"1\" class=\"dataframe\">\n",
       "  <thead>\n",
       "    <tr style=\"text-align: right;\">\n",
       "      <th></th>\n",
       "      <th>Product_Identifier</th>\n",
       "      <th>Supermarket_Identifier</th>\n",
       "      <th>Product_Supermarket_Identifier</th>\n",
       "      <th>Product_Weight</th>\n",
       "      <th>Product_Fat_Content</th>\n",
       "      <th>Product_Shelf_Visibility</th>\n",
       "      <th>Product_Type</th>\n",
       "      <th>Product_Price</th>\n",
       "      <th>Supermarket_Opening_Year</th>\n",
       "      <th>Supermarket _Size</th>\n",
       "      <th>Supermarket_Location_Type</th>\n",
       "      <th>Supermarket_Type</th>\n",
       "      <th>Product_Supermarket_Sales</th>\n",
       "      <th>f</th>\n",
       "    </tr>\n",
       "  </thead>\n",
       "  <tbody>\n",
       "    <tr>\n",
       "      <th>0</th>\n",
       "      <td>DRA12</td>\n",
       "      <td>CHUKWUDI010</td>\n",
       "      <td>DRA12_CHUKWUDI010</td>\n",
       "      <td>11.6</td>\n",
       "      <td>Low Fat</td>\n",
       "      <td>0.068535</td>\n",
       "      <td>Soft Drinks</td>\n",
       "      <td>357.54</td>\n",
       "      <td>2005</td>\n",
       "      <td>1.0</td>\n",
       "      <td>Cluster 3</td>\n",
       "      <td>Grocery Store</td>\n",
       "      <td>709.08</td>\n",
       "      <td>11.6</td>\n",
       "    </tr>\n",
       "    <tr>\n",
       "      <th>1</th>\n",
       "      <td>DRA12</td>\n",
       "      <td>CHUKWUDI013</td>\n",
       "      <td>DRA12_CHUKWUDI013</td>\n",
       "      <td>11.6</td>\n",
       "      <td>Low Fat</td>\n",
       "      <td>0.040912</td>\n",
       "      <td>Soft Drinks</td>\n",
       "      <td>355.79</td>\n",
       "      <td>1994</td>\n",
       "      <td>2.0</td>\n",
       "      <td>Cluster 3</td>\n",
       "      <td>Supermarket Type1</td>\n",
       "      <td>6381.69</td>\n",
       "      <td>11.6</td>\n",
       "    </tr>\n",
       "    <tr>\n",
       "      <th>2</th>\n",
       "      <td>DRA12</td>\n",
       "      <td>CHUKWUDI017</td>\n",
       "      <td>DRA12_CHUKWUDI017</td>\n",
       "      <td>11.6</td>\n",
       "      <td>Low Fat</td>\n",
       "      <td>0.041178</td>\n",
       "      <td>Soft Drinks</td>\n",
       "      <td>350.79</td>\n",
       "      <td>2014</td>\n",
       "      <td>1.0</td>\n",
       "      <td>Cluster 2</td>\n",
       "      <td>Supermarket Type1</td>\n",
       "      <td>6381.69</td>\n",
       "      <td>11.6</td>\n",
       "    </tr>\n",
       "    <tr>\n",
       "      <th>3</th>\n",
       "      <td>DRA12</td>\n",
       "      <td>CHUKWUDI018</td>\n",
       "      <td>DRA12_CHUKWUDI018</td>\n",
       "      <td>11.6</td>\n",
       "      <td>Low Fat</td>\n",
       "      <td>0.041113</td>\n",
       "      <td>Soft Drinks</td>\n",
       "      <td>355.04</td>\n",
       "      <td>2016</td>\n",
       "      <td>1.0</td>\n",
       "      <td>Cluster 3</td>\n",
       "      <td>Supermarket Type2</td>\n",
       "      <td>2127.23</td>\n",
       "      <td>11.6</td>\n",
       "    </tr>\n",
       "    <tr>\n",
       "      <th>4</th>\n",
       "      <td>DRA12</td>\n",
       "      <td>CHUKWUDI035</td>\n",
       "      <td>DRA12_CHUKWUDI035</td>\n",
       "      <td>11.6</td>\n",
       "      <td>Ultra Low fat</td>\n",
       "      <td>0.000000</td>\n",
       "      <td>Soft Drinks</td>\n",
       "      <td>354.79</td>\n",
       "      <td>2011</td>\n",
       "      <td>0.0</td>\n",
       "      <td>Cluster 2</td>\n",
       "      <td>Supermarket Type1</td>\n",
       "      <td>2481.77</td>\n",
       "      <td>11.6</td>\n",
       "    </tr>\n",
       "  </tbody>\n",
       "</table>\n",
       "</div>"
      ],
      "text/plain": [
       "  Product_Identifier Supermarket_Identifier Product_Supermarket_Identifier  \\\n",
       "0              DRA12            CHUKWUDI010              DRA12_CHUKWUDI010   \n",
       "1              DRA12            CHUKWUDI013              DRA12_CHUKWUDI013   \n",
       "2              DRA12            CHUKWUDI017              DRA12_CHUKWUDI017   \n",
       "3              DRA12            CHUKWUDI018              DRA12_CHUKWUDI018   \n",
       "4              DRA12            CHUKWUDI035              DRA12_CHUKWUDI035   \n",
       "\n",
       "   Product_Weight Product_Fat_Content  Product_Shelf_Visibility Product_Type  \\\n",
       "0            11.6             Low Fat                  0.068535  Soft Drinks   \n",
       "1            11.6             Low Fat                  0.040912  Soft Drinks   \n",
       "2            11.6             Low Fat                  0.041178  Soft Drinks   \n",
       "3            11.6             Low Fat                  0.041113  Soft Drinks   \n",
       "4            11.6       Ultra Low fat                  0.000000  Soft Drinks   \n",
       "\n",
       "   Product_Price  Supermarket_Opening_Year  Supermarket _Size  \\\n",
       "0         357.54                      2005                1.0   \n",
       "1         355.79                      1994                2.0   \n",
       "2         350.79                      2014                1.0   \n",
       "3         355.04                      2016                1.0   \n",
       "4         354.79                      2011                0.0   \n",
       "\n",
       "  Supermarket_Location_Type   Supermarket_Type  Product_Supermarket_Sales  \\\n",
       "0                 Cluster 3      Grocery Store                     709.08   \n",
       "1                 Cluster 3  Supermarket Type1                    6381.69   \n",
       "2                 Cluster 2  Supermarket Type1                    6381.69   \n",
       "3                 Cluster 3  Supermarket Type2                    2127.23   \n",
       "4                 Cluster 2  Supermarket Type1                    2481.77   \n",
       "\n",
       "      f  \n",
       "0  11.6  \n",
       "1  11.6  \n",
       "2  11.6  \n",
       "3  11.6  \n",
       "4  11.6  "
      ]
     },
     "execution_count": 15,
     "metadata": {},
     "output_type": "execute_result"
    }
   ],
   "source": [
    "data.head()"
   ]
  },
  {
   "cell_type": "code",
   "execution_count": 16,
   "metadata": {},
   "outputs": [
    {
     "data": {
      "text/plain": [
       "Product_Identifier                 object\n",
       "Supermarket_Identifier             object\n",
       "Product_Supermarket_Identifier     object\n",
       "Product_Weight                    float64\n",
       "Product_Fat_Content                object\n",
       "Product_Shelf_Visibility          float64\n",
       "Product_Type                       object\n",
       "Product_Price                     float64\n",
       "Supermarket_Opening_Year            int64\n",
       "Supermarket _Size                 float64\n",
       "Supermarket_Location_Type          object\n",
       "Supermarket_Type                   object\n",
       "Product_Supermarket_Sales         float64\n",
       "f                                  object\n",
       "dtype: object"
      ]
     },
     "execution_count": 16,
     "metadata": {},
     "output_type": "execute_result"
    }
   ],
   "source": [
    "data.dtypes"
   ]
  },
  {
   "cell_type": "code",
   "execution_count": 17,
   "metadata": {},
   "outputs": [],
   "source": [
    "data['f'] = data['f'].apply(lambda x: x.split('.')[0])"
   ]
  },
  {
   "cell_type": "code",
   "execution_count": 18,
   "metadata": {},
   "outputs": [
    {
     "data": {
      "text/html": [
       "<div>\n",
       "<style scoped>\n",
       "    .dataframe tbody tr th:only-of-type {\n",
       "        vertical-align: middle;\n",
       "    }\n",
       "\n",
       "    .dataframe tbody tr th {\n",
       "        vertical-align: top;\n",
       "    }\n",
       "\n",
       "    .dataframe thead th {\n",
       "        text-align: right;\n",
       "    }\n",
       "</style>\n",
       "<table border=\"1\" class=\"dataframe\">\n",
       "  <thead>\n",
       "    <tr style=\"text-align: right;\">\n",
       "      <th></th>\n",
       "      <th>Product_Identifier</th>\n",
       "      <th>Supermarket_Identifier</th>\n",
       "      <th>Product_Supermarket_Identifier</th>\n",
       "      <th>Product_Weight</th>\n",
       "      <th>Product_Fat_Content</th>\n",
       "      <th>Product_Shelf_Visibility</th>\n",
       "      <th>Product_Type</th>\n",
       "      <th>Product_Price</th>\n",
       "      <th>Supermarket_Opening_Year</th>\n",
       "      <th>Supermarket _Size</th>\n",
       "      <th>Supermarket_Location_Type</th>\n",
       "      <th>Supermarket_Type</th>\n",
       "      <th>Product_Supermarket_Sales</th>\n",
       "      <th>f</th>\n",
       "    </tr>\n",
       "  </thead>\n",
       "  <tbody>\n",
       "    <tr>\n",
       "      <th>0</th>\n",
       "      <td>DRA12</td>\n",
       "      <td>CHUKWUDI010</td>\n",
       "      <td>DRA12_CHUKWUDI010</td>\n",
       "      <td>11.6</td>\n",
       "      <td>Low Fat</td>\n",
       "      <td>0.068535</td>\n",
       "      <td>Soft Drinks</td>\n",
       "      <td>357.54</td>\n",
       "      <td>2005</td>\n",
       "      <td>1.0</td>\n",
       "      <td>Cluster 3</td>\n",
       "      <td>Grocery Store</td>\n",
       "      <td>709.08</td>\n",
       "      <td>11</td>\n",
       "    </tr>\n",
       "    <tr>\n",
       "      <th>1</th>\n",
       "      <td>DRA12</td>\n",
       "      <td>CHUKWUDI013</td>\n",
       "      <td>DRA12_CHUKWUDI013</td>\n",
       "      <td>11.6</td>\n",
       "      <td>Low Fat</td>\n",
       "      <td>0.040912</td>\n",
       "      <td>Soft Drinks</td>\n",
       "      <td>355.79</td>\n",
       "      <td>1994</td>\n",
       "      <td>2.0</td>\n",
       "      <td>Cluster 3</td>\n",
       "      <td>Supermarket Type1</td>\n",
       "      <td>6381.69</td>\n",
       "      <td>11</td>\n",
       "    </tr>\n",
       "    <tr>\n",
       "      <th>2</th>\n",
       "      <td>DRA12</td>\n",
       "      <td>CHUKWUDI017</td>\n",
       "      <td>DRA12_CHUKWUDI017</td>\n",
       "      <td>11.6</td>\n",
       "      <td>Low Fat</td>\n",
       "      <td>0.041178</td>\n",
       "      <td>Soft Drinks</td>\n",
       "      <td>350.79</td>\n",
       "      <td>2014</td>\n",
       "      <td>1.0</td>\n",
       "      <td>Cluster 2</td>\n",
       "      <td>Supermarket Type1</td>\n",
       "      <td>6381.69</td>\n",
       "      <td>11</td>\n",
       "    </tr>\n",
       "    <tr>\n",
       "      <th>3</th>\n",
       "      <td>DRA12</td>\n",
       "      <td>CHUKWUDI018</td>\n",
       "      <td>DRA12_CHUKWUDI018</td>\n",
       "      <td>11.6</td>\n",
       "      <td>Low Fat</td>\n",
       "      <td>0.041113</td>\n",
       "      <td>Soft Drinks</td>\n",
       "      <td>355.04</td>\n",
       "      <td>2016</td>\n",
       "      <td>1.0</td>\n",
       "      <td>Cluster 3</td>\n",
       "      <td>Supermarket Type2</td>\n",
       "      <td>2127.23</td>\n",
       "      <td>11</td>\n",
       "    </tr>\n",
       "    <tr>\n",
       "      <th>4</th>\n",
       "      <td>DRA12</td>\n",
       "      <td>CHUKWUDI035</td>\n",
       "      <td>DRA12_CHUKWUDI035</td>\n",
       "      <td>11.6</td>\n",
       "      <td>Ultra Low fat</td>\n",
       "      <td>0.000000</td>\n",
       "      <td>Soft Drinks</td>\n",
       "      <td>354.79</td>\n",
       "      <td>2011</td>\n",
       "      <td>0.0</td>\n",
       "      <td>Cluster 2</td>\n",
       "      <td>Supermarket Type1</td>\n",
       "      <td>2481.77</td>\n",
       "      <td>11</td>\n",
       "    </tr>\n",
       "  </tbody>\n",
       "</table>\n",
       "</div>"
      ],
      "text/plain": [
       "  Product_Identifier Supermarket_Identifier Product_Supermarket_Identifier  \\\n",
       "0              DRA12            CHUKWUDI010              DRA12_CHUKWUDI010   \n",
       "1              DRA12            CHUKWUDI013              DRA12_CHUKWUDI013   \n",
       "2              DRA12            CHUKWUDI017              DRA12_CHUKWUDI017   \n",
       "3              DRA12            CHUKWUDI018              DRA12_CHUKWUDI018   \n",
       "4              DRA12            CHUKWUDI035              DRA12_CHUKWUDI035   \n",
       "\n",
       "   Product_Weight Product_Fat_Content  Product_Shelf_Visibility Product_Type  \\\n",
       "0            11.6             Low Fat                  0.068535  Soft Drinks   \n",
       "1            11.6             Low Fat                  0.040912  Soft Drinks   \n",
       "2            11.6             Low Fat                  0.041178  Soft Drinks   \n",
       "3            11.6             Low Fat                  0.041113  Soft Drinks   \n",
       "4            11.6       Ultra Low fat                  0.000000  Soft Drinks   \n",
       "\n",
       "   Product_Price  Supermarket_Opening_Year  Supermarket _Size  \\\n",
       "0         357.54                      2005                1.0   \n",
       "1         355.79                      1994                2.0   \n",
       "2         350.79                      2014                1.0   \n",
       "3         355.04                      2016                1.0   \n",
       "4         354.79                      2011                0.0   \n",
       "\n",
       "  Supermarket_Location_Type   Supermarket_Type  Product_Supermarket_Sales   f  \n",
       "0                 Cluster 3      Grocery Store                     709.08  11  \n",
       "1                 Cluster 3  Supermarket Type1                    6381.69  11  \n",
       "2                 Cluster 2  Supermarket Type1                    6381.69  11  \n",
       "3                 Cluster 3  Supermarket Type2                    2127.23  11  \n",
       "4                 Cluster 2  Supermarket Type1                    2481.77  11  "
      ]
     },
     "execution_count": 18,
     "metadata": {},
     "output_type": "execute_result"
    }
   ],
   "source": [
    "data.head()"
   ]
  },
  {
   "cell_type": "code",
   "execution_count": 19,
   "metadata": {},
   "outputs": [],
   "source": [
    "data['f'] = data['f'].astype(float)"
   ]
  },
  {
   "cell_type": "code",
   "execution_count": 20,
   "metadata": {},
   "outputs": [],
   "source": [
    "data['b'] =  data['Product_Weight'] - data['f']"
   ]
  },
  {
   "cell_type": "code",
   "execution_count": 21,
   "metadata": {},
   "outputs": [
    {
     "data": {
      "text/html": [
       "<div>\n",
       "<style scoped>\n",
       "    .dataframe tbody tr th:only-of-type {\n",
       "        vertical-align: middle;\n",
       "    }\n",
       "\n",
       "    .dataframe tbody tr th {\n",
       "        vertical-align: top;\n",
       "    }\n",
       "\n",
       "    .dataframe thead th {\n",
       "        text-align: right;\n",
       "    }\n",
       "</style>\n",
       "<table border=\"1\" class=\"dataframe\">\n",
       "  <thead>\n",
       "    <tr style=\"text-align: right;\">\n",
       "      <th></th>\n",
       "      <th>Product_Identifier</th>\n",
       "      <th>Supermarket_Identifier</th>\n",
       "      <th>Product_Supermarket_Identifier</th>\n",
       "      <th>Product_Weight</th>\n",
       "      <th>Product_Fat_Content</th>\n",
       "      <th>Product_Shelf_Visibility</th>\n",
       "      <th>Product_Type</th>\n",
       "      <th>Product_Price</th>\n",
       "      <th>Supermarket_Opening_Year</th>\n",
       "      <th>Supermarket _Size</th>\n",
       "      <th>Supermarket_Location_Type</th>\n",
       "      <th>Supermarket_Type</th>\n",
       "      <th>Product_Supermarket_Sales</th>\n",
       "      <th>f</th>\n",
       "      <th>b</th>\n",
       "    </tr>\n",
       "  </thead>\n",
       "  <tbody>\n",
       "    <tr>\n",
       "      <th>0</th>\n",
       "      <td>DRA12</td>\n",
       "      <td>CHUKWUDI010</td>\n",
       "      <td>DRA12_CHUKWUDI010</td>\n",
       "      <td>11.6</td>\n",
       "      <td>Low Fat</td>\n",
       "      <td>0.068535</td>\n",
       "      <td>Soft Drinks</td>\n",
       "      <td>357.54</td>\n",
       "      <td>2005</td>\n",
       "      <td>1.0</td>\n",
       "      <td>Cluster 3</td>\n",
       "      <td>Grocery Store</td>\n",
       "      <td>709.08</td>\n",
       "      <td>11.0</td>\n",
       "      <td>0.6</td>\n",
       "    </tr>\n",
       "    <tr>\n",
       "      <th>1</th>\n",
       "      <td>DRA12</td>\n",
       "      <td>CHUKWUDI013</td>\n",
       "      <td>DRA12_CHUKWUDI013</td>\n",
       "      <td>11.6</td>\n",
       "      <td>Low Fat</td>\n",
       "      <td>0.040912</td>\n",
       "      <td>Soft Drinks</td>\n",
       "      <td>355.79</td>\n",
       "      <td>1994</td>\n",
       "      <td>2.0</td>\n",
       "      <td>Cluster 3</td>\n",
       "      <td>Supermarket Type1</td>\n",
       "      <td>6381.69</td>\n",
       "      <td>11.0</td>\n",
       "      <td>0.6</td>\n",
       "    </tr>\n",
       "    <tr>\n",
       "      <th>2</th>\n",
       "      <td>DRA12</td>\n",
       "      <td>CHUKWUDI017</td>\n",
       "      <td>DRA12_CHUKWUDI017</td>\n",
       "      <td>11.6</td>\n",
       "      <td>Low Fat</td>\n",
       "      <td>0.041178</td>\n",
       "      <td>Soft Drinks</td>\n",
       "      <td>350.79</td>\n",
       "      <td>2014</td>\n",
       "      <td>1.0</td>\n",
       "      <td>Cluster 2</td>\n",
       "      <td>Supermarket Type1</td>\n",
       "      <td>6381.69</td>\n",
       "      <td>11.0</td>\n",
       "      <td>0.6</td>\n",
       "    </tr>\n",
       "    <tr>\n",
       "      <th>3</th>\n",
       "      <td>DRA12</td>\n",
       "      <td>CHUKWUDI018</td>\n",
       "      <td>DRA12_CHUKWUDI018</td>\n",
       "      <td>11.6</td>\n",
       "      <td>Low Fat</td>\n",
       "      <td>0.041113</td>\n",
       "      <td>Soft Drinks</td>\n",
       "      <td>355.04</td>\n",
       "      <td>2016</td>\n",
       "      <td>1.0</td>\n",
       "      <td>Cluster 3</td>\n",
       "      <td>Supermarket Type2</td>\n",
       "      <td>2127.23</td>\n",
       "      <td>11.0</td>\n",
       "      <td>0.6</td>\n",
       "    </tr>\n",
       "    <tr>\n",
       "      <th>4</th>\n",
       "      <td>DRA12</td>\n",
       "      <td>CHUKWUDI035</td>\n",
       "      <td>DRA12_CHUKWUDI035</td>\n",
       "      <td>11.6</td>\n",
       "      <td>Ultra Low fat</td>\n",
       "      <td>0.000000</td>\n",
       "      <td>Soft Drinks</td>\n",
       "      <td>354.79</td>\n",
       "      <td>2011</td>\n",
       "      <td>0.0</td>\n",
       "      <td>Cluster 2</td>\n",
       "      <td>Supermarket Type1</td>\n",
       "      <td>2481.77</td>\n",
       "      <td>11.0</td>\n",
       "      <td>0.6</td>\n",
       "    </tr>\n",
       "  </tbody>\n",
       "</table>\n",
       "</div>"
      ],
      "text/plain": [
       "  Product_Identifier Supermarket_Identifier Product_Supermarket_Identifier  \\\n",
       "0              DRA12            CHUKWUDI010              DRA12_CHUKWUDI010   \n",
       "1              DRA12            CHUKWUDI013              DRA12_CHUKWUDI013   \n",
       "2              DRA12            CHUKWUDI017              DRA12_CHUKWUDI017   \n",
       "3              DRA12            CHUKWUDI018              DRA12_CHUKWUDI018   \n",
       "4              DRA12            CHUKWUDI035              DRA12_CHUKWUDI035   \n",
       "\n",
       "   Product_Weight Product_Fat_Content  Product_Shelf_Visibility Product_Type  \\\n",
       "0            11.6             Low Fat                  0.068535  Soft Drinks   \n",
       "1            11.6             Low Fat                  0.040912  Soft Drinks   \n",
       "2            11.6             Low Fat                  0.041178  Soft Drinks   \n",
       "3            11.6             Low Fat                  0.041113  Soft Drinks   \n",
       "4            11.6       Ultra Low fat                  0.000000  Soft Drinks   \n",
       "\n",
       "   Product_Price  Supermarket_Opening_Year  Supermarket _Size  \\\n",
       "0         357.54                      2005                1.0   \n",
       "1         355.79                      1994                2.0   \n",
       "2         350.79                      2014                1.0   \n",
       "3         355.04                      2016                1.0   \n",
       "4         354.79                      2011                0.0   \n",
       "\n",
       "  Supermarket_Location_Type   Supermarket_Type  Product_Supermarket_Sales  \\\n",
       "0                 Cluster 3      Grocery Store                     709.08   \n",
       "1                 Cluster 3  Supermarket Type1                    6381.69   \n",
       "2                 Cluster 2  Supermarket Type1                    6381.69   \n",
       "3                 Cluster 3  Supermarket Type2                    2127.23   \n",
       "4                 Cluster 2  Supermarket Type1                    2481.77   \n",
       "\n",
       "      f    b  \n",
       "0  11.0  0.6  \n",
       "1  11.0  0.6  \n",
       "2  11.0  0.6  \n",
       "3  11.0  0.6  \n",
       "4  11.0  0.6  "
      ]
     },
     "execution_count": 21,
     "metadata": {},
     "output_type": "execute_result"
    }
   ],
   "source": [
    "data.head()"
   ]
  },
  {
   "cell_type": "code",
   "execution_count": 22,
   "metadata": {},
   "outputs": [],
   "source": [
    "data.drop(['Product_Supermarket_Identifier','Product_Identifier','Supermarket_Identifier','f'], axis =1, inplace = True)"
   ]
  },
  {
   "cell_type": "code",
   "execution_count": 23,
   "metadata": {},
   "outputs": [
    {
     "data": {
      "text/html": [
       "<div>\n",
       "<style scoped>\n",
       "    .dataframe tbody tr th:only-of-type {\n",
       "        vertical-align: middle;\n",
       "    }\n",
       "\n",
       "    .dataframe tbody tr th {\n",
       "        vertical-align: top;\n",
       "    }\n",
       "\n",
       "    .dataframe thead th {\n",
       "        text-align: right;\n",
       "    }\n",
       "</style>\n",
       "<table border=\"1\" class=\"dataframe\">\n",
       "  <thead>\n",
       "    <tr style=\"text-align: right;\">\n",
       "      <th></th>\n",
       "      <th>Product_Weight</th>\n",
       "      <th>Product_Fat_Content</th>\n",
       "      <th>Product_Shelf_Visibility</th>\n",
       "      <th>Product_Type</th>\n",
       "      <th>Product_Price</th>\n",
       "      <th>Supermarket_Opening_Year</th>\n",
       "      <th>Supermarket _Size</th>\n",
       "      <th>Supermarket_Location_Type</th>\n",
       "      <th>Supermarket_Type</th>\n",
       "      <th>Product_Supermarket_Sales</th>\n",
       "      <th>b</th>\n",
       "    </tr>\n",
       "  </thead>\n",
       "  <tbody>\n",
       "    <tr>\n",
       "      <th>0</th>\n",
       "      <td>11.6</td>\n",
       "      <td>Low Fat</td>\n",
       "      <td>0.068535</td>\n",
       "      <td>Soft Drinks</td>\n",
       "      <td>357.54</td>\n",
       "      <td>2005</td>\n",
       "      <td>1.0</td>\n",
       "      <td>Cluster 3</td>\n",
       "      <td>Grocery Store</td>\n",
       "      <td>709.08</td>\n",
       "      <td>0.6</td>\n",
       "    </tr>\n",
       "    <tr>\n",
       "      <th>1</th>\n",
       "      <td>11.6</td>\n",
       "      <td>Low Fat</td>\n",
       "      <td>0.040912</td>\n",
       "      <td>Soft Drinks</td>\n",
       "      <td>355.79</td>\n",
       "      <td>1994</td>\n",
       "      <td>2.0</td>\n",
       "      <td>Cluster 3</td>\n",
       "      <td>Supermarket Type1</td>\n",
       "      <td>6381.69</td>\n",
       "      <td>0.6</td>\n",
       "    </tr>\n",
       "    <tr>\n",
       "      <th>2</th>\n",
       "      <td>11.6</td>\n",
       "      <td>Low Fat</td>\n",
       "      <td>0.041178</td>\n",
       "      <td>Soft Drinks</td>\n",
       "      <td>350.79</td>\n",
       "      <td>2014</td>\n",
       "      <td>1.0</td>\n",
       "      <td>Cluster 2</td>\n",
       "      <td>Supermarket Type1</td>\n",
       "      <td>6381.69</td>\n",
       "      <td>0.6</td>\n",
       "    </tr>\n",
       "    <tr>\n",
       "      <th>3</th>\n",
       "      <td>11.6</td>\n",
       "      <td>Low Fat</td>\n",
       "      <td>0.041113</td>\n",
       "      <td>Soft Drinks</td>\n",
       "      <td>355.04</td>\n",
       "      <td>2016</td>\n",
       "      <td>1.0</td>\n",
       "      <td>Cluster 3</td>\n",
       "      <td>Supermarket Type2</td>\n",
       "      <td>2127.23</td>\n",
       "      <td>0.6</td>\n",
       "    </tr>\n",
       "    <tr>\n",
       "      <th>4</th>\n",
       "      <td>11.6</td>\n",
       "      <td>Ultra Low fat</td>\n",
       "      <td>0.000000</td>\n",
       "      <td>Soft Drinks</td>\n",
       "      <td>354.79</td>\n",
       "      <td>2011</td>\n",
       "      <td>0.0</td>\n",
       "      <td>Cluster 2</td>\n",
       "      <td>Supermarket Type1</td>\n",
       "      <td>2481.77</td>\n",
       "      <td>0.6</td>\n",
       "    </tr>\n",
       "  </tbody>\n",
       "</table>\n",
       "</div>"
      ],
      "text/plain": [
       "   Product_Weight Product_Fat_Content  Product_Shelf_Visibility Product_Type  \\\n",
       "0            11.6             Low Fat                  0.068535  Soft Drinks   \n",
       "1            11.6             Low Fat                  0.040912  Soft Drinks   \n",
       "2            11.6             Low Fat                  0.041178  Soft Drinks   \n",
       "3            11.6             Low Fat                  0.041113  Soft Drinks   \n",
       "4            11.6       Ultra Low fat                  0.000000  Soft Drinks   \n",
       "\n",
       "   Product_Price  Supermarket_Opening_Year  Supermarket _Size  \\\n",
       "0         357.54                      2005                1.0   \n",
       "1         355.79                      1994                2.0   \n",
       "2         350.79                      2014                1.0   \n",
       "3         355.04                      2016                1.0   \n",
       "4         354.79                      2011                0.0   \n",
       "\n",
       "  Supermarket_Location_Type   Supermarket_Type  Product_Supermarket_Sales    b  \n",
       "0                 Cluster 3      Grocery Store                     709.08  0.6  \n",
       "1                 Cluster 3  Supermarket Type1                    6381.69  0.6  \n",
       "2                 Cluster 2  Supermarket Type1                    6381.69  0.6  \n",
       "3                 Cluster 3  Supermarket Type2                    2127.23  0.6  \n",
       "4                 Cluster 2  Supermarket Type1                    2481.77  0.6  "
      ]
     },
     "execution_count": 23,
     "metadata": {},
     "output_type": "execute_result"
    }
   ],
   "source": [
    "data.head()"
   ]
  },
  {
   "cell_type": "code",
   "execution_count": 24,
   "metadata": {},
   "outputs": [],
   "source": [
    "data['a'] = data['Product_Price'].astype(str)"
   ]
  },
  {
   "cell_type": "code",
   "execution_count": 25,
   "metadata": {},
   "outputs": [
    {
     "data": {
      "text/html": [
       "<div>\n",
       "<style scoped>\n",
       "    .dataframe tbody tr th:only-of-type {\n",
       "        vertical-align: middle;\n",
       "    }\n",
       "\n",
       "    .dataframe tbody tr th {\n",
       "        vertical-align: top;\n",
       "    }\n",
       "\n",
       "    .dataframe thead th {\n",
       "        text-align: right;\n",
       "    }\n",
       "</style>\n",
       "<table border=\"1\" class=\"dataframe\">\n",
       "  <thead>\n",
       "    <tr style=\"text-align: right;\">\n",
       "      <th></th>\n",
       "      <th>Product_Weight</th>\n",
       "      <th>Product_Fat_Content</th>\n",
       "      <th>Product_Shelf_Visibility</th>\n",
       "      <th>Product_Type</th>\n",
       "      <th>Product_Price</th>\n",
       "      <th>Supermarket_Opening_Year</th>\n",
       "      <th>Supermarket _Size</th>\n",
       "      <th>Supermarket_Location_Type</th>\n",
       "      <th>Supermarket_Type</th>\n",
       "      <th>Product_Supermarket_Sales</th>\n",
       "      <th>b</th>\n",
       "      <th>a</th>\n",
       "    </tr>\n",
       "  </thead>\n",
       "  <tbody>\n",
       "    <tr>\n",
       "      <th>0</th>\n",
       "      <td>11.6</td>\n",
       "      <td>Low Fat</td>\n",
       "      <td>0.068535</td>\n",
       "      <td>Soft Drinks</td>\n",
       "      <td>357.54</td>\n",
       "      <td>2005</td>\n",
       "      <td>1.0</td>\n",
       "      <td>Cluster 3</td>\n",
       "      <td>Grocery Store</td>\n",
       "      <td>709.08</td>\n",
       "      <td>0.6</td>\n",
       "      <td>357.54</td>\n",
       "    </tr>\n",
       "    <tr>\n",
       "      <th>1</th>\n",
       "      <td>11.6</td>\n",
       "      <td>Low Fat</td>\n",
       "      <td>0.040912</td>\n",
       "      <td>Soft Drinks</td>\n",
       "      <td>355.79</td>\n",
       "      <td>1994</td>\n",
       "      <td>2.0</td>\n",
       "      <td>Cluster 3</td>\n",
       "      <td>Supermarket Type1</td>\n",
       "      <td>6381.69</td>\n",
       "      <td>0.6</td>\n",
       "      <td>355.79</td>\n",
       "    </tr>\n",
       "    <tr>\n",
       "      <th>2</th>\n",
       "      <td>11.6</td>\n",
       "      <td>Low Fat</td>\n",
       "      <td>0.041178</td>\n",
       "      <td>Soft Drinks</td>\n",
       "      <td>350.79</td>\n",
       "      <td>2014</td>\n",
       "      <td>1.0</td>\n",
       "      <td>Cluster 2</td>\n",
       "      <td>Supermarket Type1</td>\n",
       "      <td>6381.69</td>\n",
       "      <td>0.6</td>\n",
       "      <td>350.79</td>\n",
       "    </tr>\n",
       "    <tr>\n",
       "      <th>3</th>\n",
       "      <td>11.6</td>\n",
       "      <td>Low Fat</td>\n",
       "      <td>0.041113</td>\n",
       "      <td>Soft Drinks</td>\n",
       "      <td>355.04</td>\n",
       "      <td>2016</td>\n",
       "      <td>1.0</td>\n",
       "      <td>Cluster 3</td>\n",
       "      <td>Supermarket Type2</td>\n",
       "      <td>2127.23</td>\n",
       "      <td>0.6</td>\n",
       "      <td>355.04</td>\n",
       "    </tr>\n",
       "    <tr>\n",
       "      <th>4</th>\n",
       "      <td>11.6</td>\n",
       "      <td>Ultra Low fat</td>\n",
       "      <td>0.000000</td>\n",
       "      <td>Soft Drinks</td>\n",
       "      <td>354.79</td>\n",
       "      <td>2011</td>\n",
       "      <td>0.0</td>\n",
       "      <td>Cluster 2</td>\n",
       "      <td>Supermarket Type1</td>\n",
       "      <td>2481.77</td>\n",
       "      <td>0.6</td>\n",
       "      <td>354.79</td>\n",
       "    </tr>\n",
       "  </tbody>\n",
       "</table>\n",
       "</div>"
      ],
      "text/plain": [
       "   Product_Weight Product_Fat_Content  Product_Shelf_Visibility Product_Type  \\\n",
       "0            11.6             Low Fat                  0.068535  Soft Drinks   \n",
       "1            11.6             Low Fat                  0.040912  Soft Drinks   \n",
       "2            11.6             Low Fat                  0.041178  Soft Drinks   \n",
       "3            11.6             Low Fat                  0.041113  Soft Drinks   \n",
       "4            11.6       Ultra Low fat                  0.000000  Soft Drinks   \n",
       "\n",
       "   Product_Price  Supermarket_Opening_Year  Supermarket _Size  \\\n",
       "0         357.54                      2005                1.0   \n",
       "1         355.79                      1994                2.0   \n",
       "2         350.79                      2014                1.0   \n",
       "3         355.04                      2016                1.0   \n",
       "4         354.79                      2011                0.0   \n",
       "\n",
       "  Supermarket_Location_Type   Supermarket_Type  Product_Supermarket_Sales  \\\n",
       "0                 Cluster 3      Grocery Store                     709.08   \n",
       "1                 Cluster 3  Supermarket Type1                    6381.69   \n",
       "2                 Cluster 2  Supermarket Type1                    6381.69   \n",
       "3                 Cluster 3  Supermarket Type2                    2127.23   \n",
       "4                 Cluster 2  Supermarket Type1                    2481.77   \n",
       "\n",
       "     b       a  \n",
       "0  0.6  357.54  \n",
       "1  0.6  355.79  \n",
       "2  0.6  350.79  \n",
       "3  0.6  355.04  \n",
       "4  0.6  354.79  "
      ]
     },
     "execution_count": 25,
     "metadata": {},
     "output_type": "execute_result"
    }
   ],
   "source": [
    "data.head()"
   ]
  },
  {
   "cell_type": "code",
   "execution_count": 26,
   "metadata": {},
   "outputs": [],
   "source": [
    "data['f'] = data['a'].apply(lambda x: x.split('.')[0])"
   ]
  },
  {
   "cell_type": "code",
   "execution_count": 27,
   "metadata": {},
   "outputs": [
    {
     "data": {
      "text/html": [
       "<div>\n",
       "<style scoped>\n",
       "    .dataframe tbody tr th:only-of-type {\n",
       "        vertical-align: middle;\n",
       "    }\n",
       "\n",
       "    .dataframe tbody tr th {\n",
       "        vertical-align: top;\n",
       "    }\n",
       "\n",
       "    .dataframe thead th {\n",
       "        text-align: right;\n",
       "    }\n",
       "</style>\n",
       "<table border=\"1\" class=\"dataframe\">\n",
       "  <thead>\n",
       "    <tr style=\"text-align: right;\">\n",
       "      <th></th>\n",
       "      <th>Product_Weight</th>\n",
       "      <th>Product_Fat_Content</th>\n",
       "      <th>Product_Shelf_Visibility</th>\n",
       "      <th>Product_Type</th>\n",
       "      <th>Product_Price</th>\n",
       "      <th>Supermarket_Opening_Year</th>\n",
       "      <th>Supermarket _Size</th>\n",
       "      <th>Supermarket_Location_Type</th>\n",
       "      <th>Supermarket_Type</th>\n",
       "      <th>Product_Supermarket_Sales</th>\n",
       "      <th>b</th>\n",
       "      <th>a</th>\n",
       "      <th>f</th>\n",
       "    </tr>\n",
       "  </thead>\n",
       "  <tbody>\n",
       "    <tr>\n",
       "      <th>0</th>\n",
       "      <td>11.6</td>\n",
       "      <td>Low Fat</td>\n",
       "      <td>0.068535</td>\n",
       "      <td>Soft Drinks</td>\n",
       "      <td>357.54</td>\n",
       "      <td>2005</td>\n",
       "      <td>1.0</td>\n",
       "      <td>Cluster 3</td>\n",
       "      <td>Grocery Store</td>\n",
       "      <td>709.08</td>\n",
       "      <td>0.6</td>\n",
       "      <td>357.54</td>\n",
       "      <td>357</td>\n",
       "    </tr>\n",
       "    <tr>\n",
       "      <th>1</th>\n",
       "      <td>11.6</td>\n",
       "      <td>Low Fat</td>\n",
       "      <td>0.040912</td>\n",
       "      <td>Soft Drinks</td>\n",
       "      <td>355.79</td>\n",
       "      <td>1994</td>\n",
       "      <td>2.0</td>\n",
       "      <td>Cluster 3</td>\n",
       "      <td>Supermarket Type1</td>\n",
       "      <td>6381.69</td>\n",
       "      <td>0.6</td>\n",
       "      <td>355.79</td>\n",
       "      <td>355</td>\n",
       "    </tr>\n",
       "    <tr>\n",
       "      <th>2</th>\n",
       "      <td>11.6</td>\n",
       "      <td>Low Fat</td>\n",
       "      <td>0.041178</td>\n",
       "      <td>Soft Drinks</td>\n",
       "      <td>350.79</td>\n",
       "      <td>2014</td>\n",
       "      <td>1.0</td>\n",
       "      <td>Cluster 2</td>\n",
       "      <td>Supermarket Type1</td>\n",
       "      <td>6381.69</td>\n",
       "      <td>0.6</td>\n",
       "      <td>350.79</td>\n",
       "      <td>350</td>\n",
       "    </tr>\n",
       "    <tr>\n",
       "      <th>3</th>\n",
       "      <td>11.6</td>\n",
       "      <td>Low Fat</td>\n",
       "      <td>0.041113</td>\n",
       "      <td>Soft Drinks</td>\n",
       "      <td>355.04</td>\n",
       "      <td>2016</td>\n",
       "      <td>1.0</td>\n",
       "      <td>Cluster 3</td>\n",
       "      <td>Supermarket Type2</td>\n",
       "      <td>2127.23</td>\n",
       "      <td>0.6</td>\n",
       "      <td>355.04</td>\n",
       "      <td>355</td>\n",
       "    </tr>\n",
       "    <tr>\n",
       "      <th>4</th>\n",
       "      <td>11.6</td>\n",
       "      <td>Ultra Low fat</td>\n",
       "      <td>0.000000</td>\n",
       "      <td>Soft Drinks</td>\n",
       "      <td>354.79</td>\n",
       "      <td>2011</td>\n",
       "      <td>0.0</td>\n",
       "      <td>Cluster 2</td>\n",
       "      <td>Supermarket Type1</td>\n",
       "      <td>2481.77</td>\n",
       "      <td>0.6</td>\n",
       "      <td>354.79</td>\n",
       "      <td>354</td>\n",
       "    </tr>\n",
       "  </tbody>\n",
       "</table>\n",
       "</div>"
      ],
      "text/plain": [
       "   Product_Weight Product_Fat_Content  Product_Shelf_Visibility Product_Type  \\\n",
       "0            11.6             Low Fat                  0.068535  Soft Drinks   \n",
       "1            11.6             Low Fat                  0.040912  Soft Drinks   \n",
       "2            11.6             Low Fat                  0.041178  Soft Drinks   \n",
       "3            11.6             Low Fat                  0.041113  Soft Drinks   \n",
       "4            11.6       Ultra Low fat                  0.000000  Soft Drinks   \n",
       "\n",
       "   Product_Price  Supermarket_Opening_Year  Supermarket _Size  \\\n",
       "0         357.54                      2005                1.0   \n",
       "1         355.79                      1994                2.0   \n",
       "2         350.79                      2014                1.0   \n",
       "3         355.04                      2016                1.0   \n",
       "4         354.79                      2011                0.0   \n",
       "\n",
       "  Supermarket_Location_Type   Supermarket_Type  Product_Supermarket_Sales  \\\n",
       "0                 Cluster 3      Grocery Store                     709.08   \n",
       "1                 Cluster 3  Supermarket Type1                    6381.69   \n",
       "2                 Cluster 2  Supermarket Type1                    6381.69   \n",
       "3                 Cluster 3  Supermarket Type2                    2127.23   \n",
       "4                 Cluster 2  Supermarket Type1                    2481.77   \n",
       "\n",
       "     b       a    f  \n",
       "0  0.6  357.54  357  \n",
       "1  0.6  355.79  355  \n",
       "2  0.6  350.79  350  \n",
       "3  0.6  355.04  355  \n",
       "4  0.6  354.79  354  "
      ]
     },
     "execution_count": 27,
     "metadata": {},
     "output_type": "execute_result"
    }
   ],
   "source": [
    "data.head()"
   ]
  },
  {
   "cell_type": "code",
   "execution_count": 28,
   "metadata": {},
   "outputs": [],
   "source": [
    "data['f'] = data['f'].astype(float)"
   ]
  },
  {
   "cell_type": "code",
   "execution_count": 29,
   "metadata": {},
   "outputs": [],
   "source": [
    "data['d'] =  data['Product_Price'] - data['f']"
   ]
  },
  {
   "cell_type": "code",
   "execution_count": 30,
   "metadata": {},
   "outputs": [
    {
     "data": {
      "text/html": [
       "<div>\n",
       "<style scoped>\n",
       "    .dataframe tbody tr th:only-of-type {\n",
       "        vertical-align: middle;\n",
       "    }\n",
       "\n",
       "    .dataframe tbody tr th {\n",
       "        vertical-align: top;\n",
       "    }\n",
       "\n",
       "    .dataframe thead th {\n",
       "        text-align: right;\n",
       "    }\n",
       "</style>\n",
       "<table border=\"1\" class=\"dataframe\">\n",
       "  <thead>\n",
       "    <tr style=\"text-align: right;\">\n",
       "      <th></th>\n",
       "      <th>Product_Weight</th>\n",
       "      <th>Product_Fat_Content</th>\n",
       "      <th>Product_Shelf_Visibility</th>\n",
       "      <th>Product_Type</th>\n",
       "      <th>Product_Price</th>\n",
       "      <th>Supermarket_Opening_Year</th>\n",
       "      <th>Supermarket _Size</th>\n",
       "      <th>Supermarket_Location_Type</th>\n",
       "      <th>Supermarket_Type</th>\n",
       "      <th>Product_Supermarket_Sales</th>\n",
       "      <th>b</th>\n",
       "      <th>a</th>\n",
       "      <th>f</th>\n",
       "      <th>d</th>\n",
       "    </tr>\n",
       "  </thead>\n",
       "  <tbody>\n",
       "    <tr>\n",
       "      <th>0</th>\n",
       "      <td>11.6</td>\n",
       "      <td>Low Fat</td>\n",
       "      <td>0.068535</td>\n",
       "      <td>Soft Drinks</td>\n",
       "      <td>357.54</td>\n",
       "      <td>2005</td>\n",
       "      <td>1.0</td>\n",
       "      <td>Cluster 3</td>\n",
       "      <td>Grocery Store</td>\n",
       "      <td>709.08</td>\n",
       "      <td>0.6</td>\n",
       "      <td>357.54</td>\n",
       "      <td>357.0</td>\n",
       "      <td>0.54</td>\n",
       "    </tr>\n",
       "    <tr>\n",
       "      <th>1</th>\n",
       "      <td>11.6</td>\n",
       "      <td>Low Fat</td>\n",
       "      <td>0.040912</td>\n",
       "      <td>Soft Drinks</td>\n",
       "      <td>355.79</td>\n",
       "      <td>1994</td>\n",
       "      <td>2.0</td>\n",
       "      <td>Cluster 3</td>\n",
       "      <td>Supermarket Type1</td>\n",
       "      <td>6381.69</td>\n",
       "      <td>0.6</td>\n",
       "      <td>355.79</td>\n",
       "      <td>355.0</td>\n",
       "      <td>0.79</td>\n",
       "    </tr>\n",
       "    <tr>\n",
       "      <th>2</th>\n",
       "      <td>11.6</td>\n",
       "      <td>Low Fat</td>\n",
       "      <td>0.041178</td>\n",
       "      <td>Soft Drinks</td>\n",
       "      <td>350.79</td>\n",
       "      <td>2014</td>\n",
       "      <td>1.0</td>\n",
       "      <td>Cluster 2</td>\n",
       "      <td>Supermarket Type1</td>\n",
       "      <td>6381.69</td>\n",
       "      <td>0.6</td>\n",
       "      <td>350.79</td>\n",
       "      <td>350.0</td>\n",
       "      <td>0.79</td>\n",
       "    </tr>\n",
       "    <tr>\n",
       "      <th>3</th>\n",
       "      <td>11.6</td>\n",
       "      <td>Low Fat</td>\n",
       "      <td>0.041113</td>\n",
       "      <td>Soft Drinks</td>\n",
       "      <td>355.04</td>\n",
       "      <td>2016</td>\n",
       "      <td>1.0</td>\n",
       "      <td>Cluster 3</td>\n",
       "      <td>Supermarket Type2</td>\n",
       "      <td>2127.23</td>\n",
       "      <td>0.6</td>\n",
       "      <td>355.04</td>\n",
       "      <td>355.0</td>\n",
       "      <td>0.04</td>\n",
       "    </tr>\n",
       "    <tr>\n",
       "      <th>4</th>\n",
       "      <td>11.6</td>\n",
       "      <td>Ultra Low fat</td>\n",
       "      <td>0.000000</td>\n",
       "      <td>Soft Drinks</td>\n",
       "      <td>354.79</td>\n",
       "      <td>2011</td>\n",
       "      <td>0.0</td>\n",
       "      <td>Cluster 2</td>\n",
       "      <td>Supermarket Type1</td>\n",
       "      <td>2481.77</td>\n",
       "      <td>0.6</td>\n",
       "      <td>354.79</td>\n",
       "      <td>354.0</td>\n",
       "      <td>0.79</td>\n",
       "    </tr>\n",
       "  </tbody>\n",
       "</table>\n",
       "</div>"
      ],
      "text/plain": [
       "   Product_Weight Product_Fat_Content  Product_Shelf_Visibility Product_Type  \\\n",
       "0            11.6             Low Fat                  0.068535  Soft Drinks   \n",
       "1            11.6             Low Fat                  0.040912  Soft Drinks   \n",
       "2            11.6             Low Fat                  0.041178  Soft Drinks   \n",
       "3            11.6             Low Fat                  0.041113  Soft Drinks   \n",
       "4            11.6       Ultra Low fat                  0.000000  Soft Drinks   \n",
       "\n",
       "   Product_Price  Supermarket_Opening_Year  Supermarket _Size  \\\n",
       "0         357.54                      2005                1.0   \n",
       "1         355.79                      1994                2.0   \n",
       "2         350.79                      2014                1.0   \n",
       "3         355.04                      2016                1.0   \n",
       "4         354.79                      2011                0.0   \n",
       "\n",
       "  Supermarket_Location_Type   Supermarket_Type  Product_Supermarket_Sales  \\\n",
       "0                 Cluster 3      Grocery Store                     709.08   \n",
       "1                 Cluster 3  Supermarket Type1                    6381.69   \n",
       "2                 Cluster 2  Supermarket Type1                    6381.69   \n",
       "3                 Cluster 3  Supermarket Type2                    2127.23   \n",
       "4                 Cluster 2  Supermarket Type1                    2481.77   \n",
       "\n",
       "     b       a      f     d  \n",
       "0  0.6  357.54  357.0  0.54  \n",
       "1  0.6  355.79  355.0  0.79  \n",
       "2  0.6  350.79  350.0  0.79  \n",
       "3  0.6  355.04  355.0  0.04  \n",
       "4  0.6  354.79  354.0  0.79  "
      ]
     },
     "execution_count": 30,
     "metadata": {},
     "output_type": "execute_result"
    }
   ],
   "source": [
    "data.head()"
   ]
  },
  {
   "cell_type": "code",
   "execution_count": 31,
   "metadata": {},
   "outputs": [],
   "source": [
    "data.drop(['a','f'],axis = 1, inplace = True)"
   ]
  },
  {
   "cell_type": "code",
   "execution_count": 32,
   "metadata": {},
   "outputs": [
    {
     "data": {
      "text/html": [
       "<div>\n",
       "<style scoped>\n",
       "    .dataframe tbody tr th:only-of-type {\n",
       "        vertical-align: middle;\n",
       "    }\n",
       "\n",
       "    .dataframe tbody tr th {\n",
       "        vertical-align: top;\n",
       "    }\n",
       "\n",
       "    .dataframe thead th {\n",
       "        text-align: right;\n",
       "    }\n",
       "</style>\n",
       "<table border=\"1\" class=\"dataframe\">\n",
       "  <thead>\n",
       "    <tr style=\"text-align: right;\">\n",
       "      <th></th>\n",
       "      <th>Product_Weight</th>\n",
       "      <th>Product_Fat_Content</th>\n",
       "      <th>Product_Shelf_Visibility</th>\n",
       "      <th>Product_Type</th>\n",
       "      <th>Product_Price</th>\n",
       "      <th>Supermarket_Opening_Year</th>\n",
       "      <th>Supermarket _Size</th>\n",
       "      <th>Supermarket_Location_Type</th>\n",
       "      <th>Supermarket_Type</th>\n",
       "      <th>Product_Supermarket_Sales</th>\n",
       "      <th>b</th>\n",
       "      <th>d</th>\n",
       "    </tr>\n",
       "  </thead>\n",
       "  <tbody>\n",
       "    <tr>\n",
       "      <th>0</th>\n",
       "      <td>11.6</td>\n",
       "      <td>Low Fat</td>\n",
       "      <td>0.068535</td>\n",
       "      <td>Soft Drinks</td>\n",
       "      <td>357.54</td>\n",
       "      <td>2005</td>\n",
       "      <td>1.0</td>\n",
       "      <td>Cluster 3</td>\n",
       "      <td>Grocery Store</td>\n",
       "      <td>709.08</td>\n",
       "      <td>0.6</td>\n",
       "      <td>0.54</td>\n",
       "    </tr>\n",
       "    <tr>\n",
       "      <th>1</th>\n",
       "      <td>11.6</td>\n",
       "      <td>Low Fat</td>\n",
       "      <td>0.040912</td>\n",
       "      <td>Soft Drinks</td>\n",
       "      <td>355.79</td>\n",
       "      <td>1994</td>\n",
       "      <td>2.0</td>\n",
       "      <td>Cluster 3</td>\n",
       "      <td>Supermarket Type1</td>\n",
       "      <td>6381.69</td>\n",
       "      <td>0.6</td>\n",
       "      <td>0.79</td>\n",
       "    </tr>\n",
       "    <tr>\n",
       "      <th>2</th>\n",
       "      <td>11.6</td>\n",
       "      <td>Low Fat</td>\n",
       "      <td>0.041178</td>\n",
       "      <td>Soft Drinks</td>\n",
       "      <td>350.79</td>\n",
       "      <td>2014</td>\n",
       "      <td>1.0</td>\n",
       "      <td>Cluster 2</td>\n",
       "      <td>Supermarket Type1</td>\n",
       "      <td>6381.69</td>\n",
       "      <td>0.6</td>\n",
       "      <td>0.79</td>\n",
       "    </tr>\n",
       "    <tr>\n",
       "      <th>3</th>\n",
       "      <td>11.6</td>\n",
       "      <td>Low Fat</td>\n",
       "      <td>0.041113</td>\n",
       "      <td>Soft Drinks</td>\n",
       "      <td>355.04</td>\n",
       "      <td>2016</td>\n",
       "      <td>1.0</td>\n",
       "      <td>Cluster 3</td>\n",
       "      <td>Supermarket Type2</td>\n",
       "      <td>2127.23</td>\n",
       "      <td>0.6</td>\n",
       "      <td>0.04</td>\n",
       "    </tr>\n",
       "    <tr>\n",
       "      <th>4</th>\n",
       "      <td>11.6</td>\n",
       "      <td>Ultra Low fat</td>\n",
       "      <td>0.000000</td>\n",
       "      <td>Soft Drinks</td>\n",
       "      <td>354.79</td>\n",
       "      <td>2011</td>\n",
       "      <td>0.0</td>\n",
       "      <td>Cluster 2</td>\n",
       "      <td>Supermarket Type1</td>\n",
       "      <td>2481.77</td>\n",
       "      <td>0.6</td>\n",
       "      <td>0.79</td>\n",
       "    </tr>\n",
       "  </tbody>\n",
       "</table>\n",
       "</div>"
      ],
      "text/plain": [
       "   Product_Weight Product_Fat_Content  Product_Shelf_Visibility Product_Type  \\\n",
       "0            11.6             Low Fat                  0.068535  Soft Drinks   \n",
       "1            11.6             Low Fat                  0.040912  Soft Drinks   \n",
       "2            11.6             Low Fat                  0.041178  Soft Drinks   \n",
       "3            11.6             Low Fat                  0.041113  Soft Drinks   \n",
       "4            11.6       Ultra Low fat                  0.000000  Soft Drinks   \n",
       "\n",
       "   Product_Price  Supermarket_Opening_Year  Supermarket _Size  \\\n",
       "0         357.54                      2005                1.0   \n",
       "1         355.79                      1994                2.0   \n",
       "2         350.79                      2014                1.0   \n",
       "3         355.04                      2016                1.0   \n",
       "4         354.79                      2011                0.0   \n",
       "\n",
       "  Supermarket_Location_Type   Supermarket_Type  Product_Supermarket_Sales  \\\n",
       "0                 Cluster 3      Grocery Store                     709.08   \n",
       "1                 Cluster 3  Supermarket Type1                    6381.69   \n",
       "2                 Cluster 2  Supermarket Type1                    6381.69   \n",
       "3                 Cluster 3  Supermarket Type2                    2127.23   \n",
       "4                 Cluster 2  Supermarket Type1                    2481.77   \n",
       "\n",
       "     b     d  \n",
       "0  0.6  0.54  \n",
       "1  0.6  0.79  \n",
       "2  0.6  0.79  \n",
       "3  0.6  0.04  \n",
       "4  0.6  0.79  "
      ]
     },
     "execution_count": 32,
     "metadata": {},
     "output_type": "execute_result"
    }
   ],
   "source": [
    "data.head()"
   ]
  },
  {
   "cell_type": "code",
   "execution_count": 33,
   "metadata": {},
   "outputs": [],
   "source": [
    "dumm1 = pd.get_dummies(data['Product_Fat_Content'])\n",
    "dumm2 = pd.get_dummies(data['Supermarket_Location_Type'])\n",
    "dumm3 = pd.get_dummies(data['Supermarket_Type'])"
   ]
  },
  {
   "cell_type": "code",
   "execution_count": 34,
   "metadata": {},
   "outputs": [],
   "source": [
    "data.drop(['Supermarket_Location_Type','Product_Fat_Content','Supermarket_Type','Product_Type'],axis = 1, inplace = True)"
   ]
  },
  {
   "cell_type": "code",
   "execution_count": 35,
   "metadata": {},
   "outputs": [
    {
     "data": {
      "text/html": [
       "<div>\n",
       "<style scoped>\n",
       "    .dataframe tbody tr th:only-of-type {\n",
       "        vertical-align: middle;\n",
       "    }\n",
       "\n",
       "    .dataframe tbody tr th {\n",
       "        vertical-align: top;\n",
       "    }\n",
       "\n",
       "    .dataframe thead th {\n",
       "        text-align: right;\n",
       "    }\n",
       "</style>\n",
       "<table border=\"1\" class=\"dataframe\">\n",
       "  <thead>\n",
       "    <tr style=\"text-align: right;\">\n",
       "      <th></th>\n",
       "      <th>Product_Weight</th>\n",
       "      <th>Product_Shelf_Visibility</th>\n",
       "      <th>Product_Price</th>\n",
       "      <th>Supermarket_Opening_Year</th>\n",
       "      <th>Supermarket _Size</th>\n",
       "      <th>Product_Supermarket_Sales</th>\n",
       "      <th>b</th>\n",
       "      <th>d</th>\n",
       "    </tr>\n",
       "  </thead>\n",
       "  <tbody>\n",
       "    <tr>\n",
       "      <th>0</th>\n",
       "      <td>11.6</td>\n",
       "      <td>0.068535</td>\n",
       "      <td>357.54</td>\n",
       "      <td>2005</td>\n",
       "      <td>1.0</td>\n",
       "      <td>709.08</td>\n",
       "      <td>0.6</td>\n",
       "      <td>0.54</td>\n",
       "    </tr>\n",
       "    <tr>\n",
       "      <th>1</th>\n",
       "      <td>11.6</td>\n",
       "      <td>0.040912</td>\n",
       "      <td>355.79</td>\n",
       "      <td>1994</td>\n",
       "      <td>2.0</td>\n",
       "      <td>6381.69</td>\n",
       "      <td>0.6</td>\n",
       "      <td>0.79</td>\n",
       "    </tr>\n",
       "    <tr>\n",
       "      <th>2</th>\n",
       "      <td>11.6</td>\n",
       "      <td>0.041178</td>\n",
       "      <td>350.79</td>\n",
       "      <td>2014</td>\n",
       "      <td>1.0</td>\n",
       "      <td>6381.69</td>\n",
       "      <td>0.6</td>\n",
       "      <td>0.79</td>\n",
       "    </tr>\n",
       "    <tr>\n",
       "      <th>3</th>\n",
       "      <td>11.6</td>\n",
       "      <td>0.041113</td>\n",
       "      <td>355.04</td>\n",
       "      <td>2016</td>\n",
       "      <td>1.0</td>\n",
       "      <td>2127.23</td>\n",
       "      <td>0.6</td>\n",
       "      <td>0.04</td>\n",
       "    </tr>\n",
       "    <tr>\n",
       "      <th>4</th>\n",
       "      <td>11.6</td>\n",
       "      <td>0.000000</td>\n",
       "      <td>354.79</td>\n",
       "      <td>2011</td>\n",
       "      <td>0.0</td>\n",
       "      <td>2481.77</td>\n",
       "      <td>0.6</td>\n",
       "      <td>0.79</td>\n",
       "    </tr>\n",
       "  </tbody>\n",
       "</table>\n",
       "</div>"
      ],
      "text/plain": [
       "   Product_Weight  Product_Shelf_Visibility  Product_Price  \\\n",
       "0            11.6                  0.068535         357.54   \n",
       "1            11.6                  0.040912         355.79   \n",
       "2            11.6                  0.041178         350.79   \n",
       "3            11.6                  0.041113         355.04   \n",
       "4            11.6                  0.000000         354.79   \n",
       "\n",
       "   Supermarket_Opening_Year  Supermarket _Size  Product_Supermarket_Sales  \\\n",
       "0                      2005                1.0                     709.08   \n",
       "1                      1994                2.0                    6381.69   \n",
       "2                      2014                1.0                    6381.69   \n",
       "3                      2016                1.0                    2127.23   \n",
       "4                      2011                0.0                    2481.77   \n",
       "\n",
       "     b     d  \n",
       "0  0.6  0.54  \n",
       "1  0.6  0.79  \n",
       "2  0.6  0.79  \n",
       "3  0.6  0.04  \n",
       "4  0.6  0.79  "
      ]
     },
     "execution_count": 35,
     "metadata": {},
     "output_type": "execute_result"
    }
   ],
   "source": [
    "data.head()"
   ]
  },
  {
   "cell_type": "code",
   "execution_count": 36,
   "metadata": {},
   "outputs": [],
   "source": [
    "data = pd.concat([data,dumm1,dumm2,dumm3],axis = 1)"
   ]
  },
  {
   "cell_type": "code",
   "execution_count": 37,
   "metadata": {},
   "outputs": [
    {
     "data": {
      "text/html": [
       "<div>\n",
       "<style scoped>\n",
       "    .dataframe tbody tr th:only-of-type {\n",
       "        vertical-align: middle;\n",
       "    }\n",
       "\n",
       "    .dataframe tbody tr th {\n",
       "        vertical-align: top;\n",
       "    }\n",
       "\n",
       "    .dataframe thead th {\n",
       "        text-align: right;\n",
       "    }\n",
       "</style>\n",
       "<table border=\"1\" class=\"dataframe\">\n",
       "  <thead>\n",
       "    <tr style=\"text-align: right;\">\n",
       "      <th></th>\n",
       "      <th>Product_Weight</th>\n",
       "      <th>Product_Shelf_Visibility</th>\n",
       "      <th>Product_Price</th>\n",
       "      <th>Supermarket_Opening_Year</th>\n",
       "      <th>Supermarket _Size</th>\n",
       "      <th>Product_Supermarket_Sales</th>\n",
       "      <th>b</th>\n",
       "      <th>d</th>\n",
       "      <th>Low Fat</th>\n",
       "      <th>Normal Fat</th>\n",
       "      <th>Ultra Low fat</th>\n",
       "      <th>Cluster 1</th>\n",
       "      <th>Cluster 2</th>\n",
       "      <th>Cluster 3</th>\n",
       "      <th>Grocery Store</th>\n",
       "      <th>Supermarket Type1</th>\n",
       "      <th>Supermarket Type2</th>\n",
       "      <th>Supermarket Type3</th>\n",
       "    </tr>\n",
       "  </thead>\n",
       "  <tbody>\n",
       "    <tr>\n",
       "      <th>0</th>\n",
       "      <td>11.6</td>\n",
       "      <td>0.068535</td>\n",
       "      <td>357.54</td>\n",
       "      <td>2005</td>\n",
       "      <td>1.0</td>\n",
       "      <td>709.08</td>\n",
       "      <td>0.6</td>\n",
       "      <td>0.54</td>\n",
       "      <td>1</td>\n",
       "      <td>0</td>\n",
       "      <td>0</td>\n",
       "      <td>0</td>\n",
       "      <td>0</td>\n",
       "      <td>1</td>\n",
       "      <td>1</td>\n",
       "      <td>0</td>\n",
       "      <td>0</td>\n",
       "      <td>0</td>\n",
       "    </tr>\n",
       "    <tr>\n",
       "      <th>1</th>\n",
       "      <td>11.6</td>\n",
       "      <td>0.040912</td>\n",
       "      <td>355.79</td>\n",
       "      <td>1994</td>\n",
       "      <td>2.0</td>\n",
       "      <td>6381.69</td>\n",
       "      <td>0.6</td>\n",
       "      <td>0.79</td>\n",
       "      <td>1</td>\n",
       "      <td>0</td>\n",
       "      <td>0</td>\n",
       "      <td>0</td>\n",
       "      <td>0</td>\n",
       "      <td>1</td>\n",
       "      <td>0</td>\n",
       "      <td>1</td>\n",
       "      <td>0</td>\n",
       "      <td>0</td>\n",
       "    </tr>\n",
       "    <tr>\n",
       "      <th>2</th>\n",
       "      <td>11.6</td>\n",
       "      <td>0.041178</td>\n",
       "      <td>350.79</td>\n",
       "      <td>2014</td>\n",
       "      <td>1.0</td>\n",
       "      <td>6381.69</td>\n",
       "      <td>0.6</td>\n",
       "      <td>0.79</td>\n",
       "      <td>1</td>\n",
       "      <td>0</td>\n",
       "      <td>0</td>\n",
       "      <td>0</td>\n",
       "      <td>1</td>\n",
       "      <td>0</td>\n",
       "      <td>0</td>\n",
       "      <td>1</td>\n",
       "      <td>0</td>\n",
       "      <td>0</td>\n",
       "    </tr>\n",
       "    <tr>\n",
       "      <th>3</th>\n",
       "      <td>11.6</td>\n",
       "      <td>0.041113</td>\n",
       "      <td>355.04</td>\n",
       "      <td>2016</td>\n",
       "      <td>1.0</td>\n",
       "      <td>2127.23</td>\n",
       "      <td>0.6</td>\n",
       "      <td>0.04</td>\n",
       "      <td>1</td>\n",
       "      <td>0</td>\n",
       "      <td>0</td>\n",
       "      <td>0</td>\n",
       "      <td>0</td>\n",
       "      <td>1</td>\n",
       "      <td>0</td>\n",
       "      <td>0</td>\n",
       "      <td>1</td>\n",
       "      <td>0</td>\n",
       "    </tr>\n",
       "    <tr>\n",
       "      <th>4</th>\n",
       "      <td>11.6</td>\n",
       "      <td>0.000000</td>\n",
       "      <td>354.79</td>\n",
       "      <td>2011</td>\n",
       "      <td>0.0</td>\n",
       "      <td>2481.77</td>\n",
       "      <td>0.6</td>\n",
       "      <td>0.79</td>\n",
       "      <td>0</td>\n",
       "      <td>0</td>\n",
       "      <td>1</td>\n",
       "      <td>0</td>\n",
       "      <td>1</td>\n",
       "      <td>0</td>\n",
       "      <td>0</td>\n",
       "      <td>1</td>\n",
       "      <td>0</td>\n",
       "      <td>0</td>\n",
       "    </tr>\n",
       "  </tbody>\n",
       "</table>\n",
       "</div>"
      ],
      "text/plain": [
       "   Product_Weight  Product_Shelf_Visibility  Product_Price  \\\n",
       "0            11.6                  0.068535         357.54   \n",
       "1            11.6                  0.040912         355.79   \n",
       "2            11.6                  0.041178         350.79   \n",
       "3            11.6                  0.041113         355.04   \n",
       "4            11.6                  0.000000         354.79   \n",
       "\n",
       "   Supermarket_Opening_Year  Supermarket _Size  Product_Supermarket_Sales  \\\n",
       "0                      2005                1.0                     709.08   \n",
       "1                      1994                2.0                    6381.69   \n",
       "2                      2014                1.0                    6381.69   \n",
       "3                      2016                1.0                    2127.23   \n",
       "4                      2011                0.0                    2481.77   \n",
       "\n",
       "     b     d  Low Fat  Normal Fat  Ultra Low fat  Cluster 1  Cluster 2  \\\n",
       "0  0.6  0.54        1           0              0          0          0   \n",
       "1  0.6  0.79        1           0              0          0          0   \n",
       "2  0.6  0.79        1           0              0          0          1   \n",
       "3  0.6  0.04        1           0              0          0          0   \n",
       "4  0.6  0.79        0           0              1          0          1   \n",
       "\n",
       "   Cluster 3  Grocery Store  Supermarket Type1  Supermarket Type2  \\\n",
       "0          1              1                  0                  0   \n",
       "1          1              0                  1                  0   \n",
       "2          0              0                  1                  0   \n",
       "3          1              0                  0                  1   \n",
       "4          0              0                  1                  0   \n",
       "\n",
       "   Supermarket Type3  \n",
       "0                  0  \n",
       "1                  0  \n",
       "2                  0  \n",
       "3                  0  \n",
       "4                  0  "
      ]
     },
     "execution_count": 37,
     "metadata": {},
     "output_type": "execute_result"
    }
   ],
   "source": [
    "data.head()"
   ]
  },
  {
   "cell_type": "code",
   "execution_count": 38,
   "metadata": {},
   "outputs": [
    {
     "data": {
      "text/html": [
       "<div>\n",
       "<style scoped>\n",
       "    .dataframe tbody tr th:only-of-type {\n",
       "        vertical-align: middle;\n",
       "    }\n",
       "\n",
       "    .dataframe tbody tr th {\n",
       "        vertical-align: top;\n",
       "    }\n",
       "\n",
       "    .dataframe thead th {\n",
       "        text-align: right;\n",
       "    }\n",
       "</style>\n",
       "<table border=\"1\" class=\"dataframe\">\n",
       "  <thead>\n",
       "    <tr style=\"text-align: right;\">\n",
       "      <th></th>\n",
       "      <th>Product_Weight</th>\n",
       "      <th>Product_Shelf_Visibility</th>\n",
       "      <th>Product_Price</th>\n",
       "      <th>Supermarket_Opening_Year</th>\n",
       "      <th>Supermarket _Size</th>\n",
       "      <th>Product_Supermarket_Sales</th>\n",
       "      <th>b</th>\n",
       "      <th>d</th>\n",
       "      <th>Low Fat</th>\n",
       "      <th>Normal Fat</th>\n",
       "      <th>Ultra Low fat</th>\n",
       "      <th>Cluster 1</th>\n",
       "      <th>Cluster 2</th>\n",
       "      <th>Cluster 3</th>\n",
       "      <th>Grocery Store</th>\n",
       "      <th>Supermarket Type1</th>\n",
       "      <th>Supermarket Type2</th>\n",
       "      <th>Supermarket Type3</th>\n",
       "    </tr>\n",
       "  </thead>\n",
       "  <tbody>\n",
       "    <tr>\n",
       "      <th>0</th>\n",
       "      <td>11.6</td>\n",
       "      <td>0.068535</td>\n",
       "      <td>357.54</td>\n",
       "      <td>2005</td>\n",
       "      <td>1.0</td>\n",
       "      <td>709.08</td>\n",
       "      <td>0.6</td>\n",
       "      <td>0.54</td>\n",
       "      <td>1</td>\n",
       "      <td>0</td>\n",
       "      <td>0</td>\n",
       "      <td>0</td>\n",
       "      <td>0</td>\n",
       "      <td>1</td>\n",
       "      <td>1</td>\n",
       "      <td>0</td>\n",
       "      <td>0</td>\n",
       "      <td>0</td>\n",
       "    </tr>\n",
       "    <tr>\n",
       "      <th>1</th>\n",
       "      <td>11.6</td>\n",
       "      <td>0.040912</td>\n",
       "      <td>355.79</td>\n",
       "      <td>1994</td>\n",
       "      <td>2.0</td>\n",
       "      <td>6381.69</td>\n",
       "      <td>0.6</td>\n",
       "      <td>0.79</td>\n",
       "      <td>1</td>\n",
       "      <td>0</td>\n",
       "      <td>0</td>\n",
       "      <td>0</td>\n",
       "      <td>0</td>\n",
       "      <td>1</td>\n",
       "      <td>0</td>\n",
       "      <td>1</td>\n",
       "      <td>0</td>\n",
       "      <td>0</td>\n",
       "    </tr>\n",
       "    <tr>\n",
       "      <th>2</th>\n",
       "      <td>11.6</td>\n",
       "      <td>0.041178</td>\n",
       "      <td>350.79</td>\n",
       "      <td>2014</td>\n",
       "      <td>1.0</td>\n",
       "      <td>6381.69</td>\n",
       "      <td>0.6</td>\n",
       "      <td>0.79</td>\n",
       "      <td>1</td>\n",
       "      <td>0</td>\n",
       "      <td>0</td>\n",
       "      <td>0</td>\n",
       "      <td>1</td>\n",
       "      <td>0</td>\n",
       "      <td>0</td>\n",
       "      <td>1</td>\n",
       "      <td>0</td>\n",
       "      <td>0</td>\n",
       "    </tr>\n",
       "    <tr>\n",
       "      <th>3</th>\n",
       "      <td>11.6</td>\n",
       "      <td>0.041113</td>\n",
       "      <td>355.04</td>\n",
       "      <td>2016</td>\n",
       "      <td>1.0</td>\n",
       "      <td>2127.23</td>\n",
       "      <td>0.6</td>\n",
       "      <td>0.04</td>\n",
       "      <td>1</td>\n",
       "      <td>0</td>\n",
       "      <td>0</td>\n",
       "      <td>0</td>\n",
       "      <td>0</td>\n",
       "      <td>1</td>\n",
       "      <td>0</td>\n",
       "      <td>0</td>\n",
       "      <td>1</td>\n",
       "      <td>0</td>\n",
       "    </tr>\n",
       "    <tr>\n",
       "      <th>4</th>\n",
       "      <td>11.6</td>\n",
       "      <td>0.000000</td>\n",
       "      <td>354.79</td>\n",
       "      <td>2011</td>\n",
       "      <td>0.0</td>\n",
       "      <td>2481.77</td>\n",
       "      <td>0.6</td>\n",
       "      <td>0.79</td>\n",
       "      <td>0</td>\n",
       "      <td>0</td>\n",
       "      <td>1</td>\n",
       "      <td>0</td>\n",
       "      <td>1</td>\n",
       "      <td>0</td>\n",
       "      <td>0</td>\n",
       "      <td>1</td>\n",
       "      <td>0</td>\n",
       "      <td>0</td>\n",
       "    </tr>\n",
       "  </tbody>\n",
       "</table>\n",
       "</div>"
      ],
      "text/plain": [
       "   Product_Weight  Product_Shelf_Visibility  Product_Price  \\\n",
       "0            11.6                  0.068535         357.54   \n",
       "1            11.6                  0.040912         355.79   \n",
       "2            11.6                  0.041178         350.79   \n",
       "3            11.6                  0.041113         355.04   \n",
       "4            11.6                  0.000000         354.79   \n",
       "\n",
       "   Supermarket_Opening_Year  Supermarket _Size  Product_Supermarket_Sales  \\\n",
       "0                      2005                1.0                     709.08   \n",
       "1                      1994                2.0                    6381.69   \n",
       "2                      2014                1.0                    6381.69   \n",
       "3                      2016                1.0                    2127.23   \n",
       "4                      2011                0.0                    2481.77   \n",
       "\n",
       "     b     d  Low Fat  Normal Fat  Ultra Low fat  Cluster 1  Cluster 2  \\\n",
       "0  0.6  0.54        1           0              0          0          0   \n",
       "1  0.6  0.79        1           0              0          0          0   \n",
       "2  0.6  0.79        1           0              0          0          1   \n",
       "3  0.6  0.04        1           0              0          0          0   \n",
       "4  0.6  0.79        0           0              1          0          1   \n",
       "\n",
       "   Cluster 3  Grocery Store  Supermarket Type1  Supermarket Type2  \\\n",
       "0          1              1                  0                  0   \n",
       "1          1              0                  1                  0   \n",
       "2          0              0                  1                  0   \n",
       "3          1              0                  0                  1   \n",
       "4          0              0                  1                  0   \n",
       "\n",
       "   Supermarket Type3  \n",
       "0                  0  \n",
       "1                  0  \n",
       "2                  0  \n",
       "3                  0  \n",
       "4                  0  "
      ]
     },
     "execution_count": 38,
     "metadata": {},
     "output_type": "execute_result"
    }
   ],
   "source": [
    "data.head()"
   ]
  },
  {
   "cell_type": "code",
   "execution_count": 39,
   "metadata": {},
   "outputs": [],
   "source": [
    "data.to_csv('mr_data.csv')"
   ]
  },
  {
   "cell_type": "code",
   "execution_count": null,
   "metadata": {},
   "outputs": [],
   "source": []
  },
  {
   "cell_type": "code",
   "execution_count": null,
   "metadata": {},
   "outputs": [],
   "source": []
  },
  {
   "cell_type": "code",
   "execution_count": null,
   "metadata": {},
   "outputs": [],
   "source": []
  },
  {
   "cell_type": "code",
   "execution_count": 40,
   "metadata": {},
   "outputs": [],
   "source": [
    "X = data.drop('Product_Supermarket_Sales',axis =1)"
   ]
  },
  {
   "cell_type": "code",
   "execution_count": 41,
   "metadata": {},
   "outputs": [],
   "source": [
    "y = data['Product_Supermarket_Sales']"
   ]
  },
  {
   "cell_type": "code",
   "execution_count": 42,
   "metadata": {},
   "outputs": [
    {
     "name": "stderr",
     "output_type": "stream",
     "text": [
      "C:\\ProgramData\\Anaconda3\\lib\\site-packages\\sklearn\\cross_validation.py:41: DeprecationWarning: This module was deprecated in version 0.18 in favor of the model_selection module into which all the refactored classes and functions are moved. Also note that the interface of the new CV iterators are different from that of this module. This module will be removed in 0.20.\n",
      "  \"This module will be removed in 0.20.\", DeprecationWarning)\n"
     ]
    }
   ],
   "source": [
    "from sklearn.cross_validation import train_test_split"
   ]
  },
  {
   "cell_type": "code",
   "execution_count": 43,
   "metadata": {},
   "outputs": [],
   "source": [
    "X_train, X_test, y_train, y_test = train_test_split(X, y, test_size=0.3, random_state=42)"
   ]
  },
  {
   "cell_type": "code",
   "execution_count": 44,
   "metadata": {},
   "outputs": [],
   "source": [
    "from xgboost import XGBRegressor"
   ]
  },
  {
   "cell_type": "code",
   "execution_count": 45,
   "metadata": {},
   "outputs": [],
   "source": [
    "model1 = XGBRegressor()"
   ]
  },
  {
   "cell_type": "code",
   "execution_count": 46,
   "metadata": {},
   "outputs": [
    {
     "data": {
      "text/plain": [
       "XGBRegressor(base_score=0.5, booster='gbtree', colsample_bylevel=1,\n",
       "       colsample_bytree=1, gamma=0, learning_rate=0.1, max_delta_step=0,\n",
       "       max_depth=3, min_child_weight=1, missing=None, n_estimators=100,\n",
       "       n_jobs=1, nthread=None, objective='reg:linear', random_state=0,\n",
       "       reg_alpha=0, reg_lambda=1, scale_pos_weight=1, seed=None,\n",
       "       silent=True, subsample=1)"
      ]
     },
     "execution_count": 46,
     "metadata": {},
     "output_type": "execute_result"
    }
   ],
   "source": [
    "model1.fit(X_train,y_train)"
   ]
  },
  {
   "cell_type": "code",
   "execution_count": 47,
   "metadata": {},
   "outputs": [],
   "source": [
    "prediction1 = model1.predict(X_test)"
   ]
  },
  {
   "cell_type": "code",
   "execution_count": 48,
   "metadata": {},
   "outputs": [
    {
     "data": {
      "text/plain": [
       "<matplotlib.collections.PathCollection at 0x158d817f3c8>"
      ]
     },
     "execution_count": 48,
     "metadata": {},
     "output_type": "execute_result"
    },
    {
     "data": {
      "image/png": "[encoded data removed]",
      "text/plain": [
       "<matplotlib.figure.Figure at 0x158d8141e10>"
      ]
     },
     "metadata": {},
     "output_type": "display_data"
    }
   ],
   "source": [
    "plt.scatter(y_test,prediction1)"
   ]
  },
  {
   "cell_type": "code",
   "execution_count": 49,
   "metadata": {},
   "outputs": [],
   "source": [
    "from sklearn.cross_validation import cross_val_score\n",
    "score = cross_val_score(model1,X_test,y_test,cv =10)"
   ]
  },
  {
   "cell_type": "code",
   "execution_count": 50,
   "metadata": {},
   "outputs": [
    {
     "name": "stdout",
     "output_type": "stream",
     "text": [
      "52.485314091606284\n"
     ]
    }
   ],
   "source": [
    "print(score.mean()*100)"
   ]
  },
  {
   "cell_type": "code",
   "execution_count": null,
   "metadata": {},
   "outputs": [],
   "source": []
  },
  {
   "cell_type": "code",
   "execution_count": 51,
   "metadata": {},
   "outputs": [
    {
     "name": "stderr",
     "output_type": "stream",
     "text": [
      "C:\\ProgramData\\Anaconda3\\lib\\site-packages\\sklearn\\grid_search.py:42: DeprecationWarning: This module was deprecated in version 0.18 in favor of the model_selection module into which all the refactored classes and functions are moved. This module will be removed in 0.20.\n",
      "  DeprecationWarning)\n"
     ]
    }
   ],
   "source": [
    "from sklearn.grid_search import GridSearchCV"
   ]
  },
  {
   "cell_type": "code",
   "execution_count": 52,
   "metadata": {},
   "outputs": [],
   "source": [
    "params = {\n",
    "        'gamma': [0.5,0.3, 1, 1.5, 2, 5],\n",
    "        'learning_rate' :[0.1,0.2,0.001]\n",
    "        }"
   ]
  },
  {
   "cell_type": "code",
   "execution_count": 53,
   "metadata": {},
   "outputs": [],
   "source": [
    "grid = GridSearchCV( XGBRegressor() , params, verbose =  3  )"
   ]
  },
  {
   "cell_type": "code",
   "execution_count": 54,
   "metadata": {},
   "outputs": [
    {
     "name": "stdout",
     "output_type": "stream",
     "text": [
      "Fitting 3 folds for each of 18 candidates, totalling 54 fits\n",
      "[CV] gamma=0.5, learning_rate=0.1 ....................................\n",
      "[CV] ........... gamma=0.5, learning_rate=0.1, score=0.561654 -   0.8s\n",
      "[CV] gamma=0.5, learning_rate=0.1 ....................................\n"
     ]
    },
    {
     "name": "stderr",
     "output_type": "stream",
     "text": [
      "[Parallel(n_jobs=1)]: Done   1 out of   1 | elapsed:    0.8s remaining:    0.0s\n"
     ]
    },
    {
     "name": "stdout",
     "output_type": "stream",
     "text": [
      "[CV] ........... gamma=0.5, learning_rate=0.1, score=0.540792 -   0.5s\n",
      "[CV] gamma=0.5, learning_rate=0.1 ....................................\n"
     ]
    },
    {
     "name": "stderr",
     "output_type": "stream",
     "text": [
      "[Parallel(n_jobs=1)]: Done   2 out of   2 | elapsed:    1.4s remaining:    0.0s\n"
     ]
    },
    {
     "name": "stdout",
     "output_type": "stream",
     "text": [
      "[CV] ........... gamma=0.5, learning_rate=0.1, score=0.538457 -   0.3s\n",
      "[CV] gamma=0.5, learning_rate=0.2 ....................................\n",
      "[CV] ........... gamma=0.5, learning_rate=0.2, score=0.536892 -   0.3s\n",
      "[CV] gamma=0.5, learning_rate=0.2 ....................................\n",
      "[CV] ........... gamma=0.5, learning_rate=0.2, score=0.512584 -   0.3s\n",
      "[CV] gamma=0.5, learning_rate=0.2 ....................................\n",
      "[CV] ........... gamma=0.5, learning_rate=0.2, score=0.515463 -   0.5s\n",
      "[CV] gamma=0.5, learning_rate=0.001 ..................................\n",
      "[CV] ........ gamma=0.5, learning_rate=0.001, score=-1.377118 -   0.6s\n",
      "[CV] gamma=0.5, learning_rate=0.001 ..................................\n",
      "[CV] ........ gamma=0.5, learning_rate=0.001, score=-1.500202 -   0.2s\n",
      "[CV] gamma=0.5, learning_rate=0.001 ..................................\n",
      "[CV] ........ gamma=0.5, learning_rate=0.001, score=-1.417128 -   0.2s\n",
      "[CV] gamma=0.3, learning_rate=0.1 ....................................\n",
      "[CV] ........... gamma=0.3, learning_rate=0.1, score=0.561654 -   0.2s\n",
      "[CV] gamma=0.3, learning_rate=0.1 ....................................\n",
      "[CV] ........... gamma=0.3, learning_rate=0.1, score=0.540792 -   0.2s\n",
      "[CV] gamma=0.3, learning_rate=0.1 ....................................\n",
      "[CV] ........... gamma=0.3, learning_rate=0.1, score=0.538457 -   0.2s\n",
      "[CV] gamma=0.3, learning_rate=0.2 ....................................\n",
      "[CV] ........... gamma=0.3, learning_rate=0.2, score=0.536892 -   0.4s\n",
      "[CV] gamma=0.3, learning_rate=0.2 ....................................\n",
      "[CV] ........... gamma=0.3, learning_rate=0.2, score=0.512584 -   0.4s\n",
      "[CV] gamma=0.3, learning_rate=0.2 ....................................\n",
      "[CV] ........... gamma=0.3, learning_rate=0.2, score=0.515463 -   0.4s\n",
      "[CV] gamma=0.3, learning_rate=0.001 ..................................\n",
      "[CV] ........ gamma=0.3, learning_rate=0.001, score=-1.377118 -   0.5s\n",
      "[CV] gamma=0.3, learning_rate=0.001 ..................................\n",
      "[CV] ........ gamma=0.3, learning_rate=0.001, score=-1.500202 -   0.4s\n",
      "[CV] gamma=0.3, learning_rate=0.001 ..................................\n",
      "[CV] ........ gamma=0.3, learning_rate=0.001, score=-1.417128 -   0.4s\n",
      "[CV] gamma=1, learning_rate=0.1 ......................................\n",
      "[CV] ............. gamma=1, learning_rate=0.1, score=0.561654 -   0.4s\n",
      "[CV] gamma=1, learning_rate=0.1 ......................................\n",
      "[CV] ............. gamma=1, learning_rate=0.1, score=0.540792 -   0.4s\n",
      "[CV] gamma=1, learning_rate=0.1 ......................................\n",
      "[CV] ............. gamma=1, learning_rate=0.1, score=0.538457 -   0.3s\n",
      "[CV] gamma=1, learning_rate=0.2 ......................................\n",
      "[CV] ............. gamma=1, learning_rate=0.2, score=0.536892 -   0.4s\n",
      "[CV] gamma=1, learning_rate=0.2 ......................................\n",
      "[CV] ............. gamma=1, learning_rate=0.2, score=0.512584 -   0.4s\n",
      "[CV] gamma=1, learning_rate=0.2 ......................................\n",
      "[CV] ............. gamma=1, learning_rate=0.2, score=0.515463 -   0.4s\n",
      "[CV] gamma=1, learning_rate=0.001 ....................................\n",
      "[CV] .......... gamma=1, learning_rate=0.001, score=-1.377118 -   0.4s\n",
      "[CV] gamma=1, learning_rate=0.001 ....................................\n",
      "[CV] .......... gamma=1, learning_rate=0.001, score=-1.500202 -   0.4s\n",
      "[CV] gamma=1, learning_rate=0.001 ....................................\n",
      "[CV] .......... gamma=1, learning_rate=0.001, score=-1.417128 -   0.4s\n",
      "[CV] gamma=1.5, learning_rate=0.1 ....................................\n",
      "[CV] ........... gamma=1.5, learning_rate=0.1, score=0.561654 -   0.5s\n",
      "[CV] gamma=1.5, learning_rate=0.1 ....................................\n",
      "[CV] ........... gamma=1.5, learning_rate=0.1, score=0.540792 -   0.4s\n",
      "[CV] gamma=1.5, learning_rate=0.1 ....................................\n",
      "[CV] ........... gamma=1.5, learning_rate=0.1, score=0.538457 -   0.4s\n",
      "[CV] gamma=1.5, learning_rate=0.2 ....................................\n",
      "[CV] ........... gamma=1.5, learning_rate=0.2, score=0.536892 -   0.4s\n",
      "[CV] gamma=1.5, learning_rate=0.2 ....................................\n",
      "[CV] ........... gamma=1.5, learning_rate=0.2, score=0.512584 -   0.4s\n",
      "[CV] gamma=1.5, learning_rate=0.2 ....................................\n",
      "[CV] ........... gamma=1.5, learning_rate=0.2, score=0.515463 -   0.4s\n",
      "[CV] gamma=1.5, learning_rate=0.001 ..................................\n",
      "[CV] ........ gamma=1.5, learning_rate=0.001, score=-1.377118 -   0.4s\n",
      "[CV] gamma=1.5, learning_rate=0.001 ..................................\n",
      "[CV] ........ gamma=1.5, learning_rate=0.001, score=-1.500202 -   0.4s\n",
      "[CV] gamma=1.5, learning_rate=0.001 ..................................\n",
      "[CV] ........ gamma=1.5, learning_rate=0.001, score=-1.417128 -   0.4s\n",
      "[CV] gamma=2, learning_rate=0.1 ......................................\n",
      "[CV] ............. gamma=2, learning_rate=0.1, score=0.561654 -   0.4s\n",
      "[CV] gamma=2, learning_rate=0.1 ......................................\n",
      "[CV] ............. gamma=2, learning_rate=0.1, score=0.540792 -   0.4s\n",
      "[CV] gamma=2, learning_rate=0.1 ......................................\n",
      "[CV] ............. gamma=2, learning_rate=0.1, score=0.538457 -   0.4s\n",
      "[CV] gamma=2, learning_rate=0.2 ......................................\n",
      "[CV] ............. gamma=2, learning_rate=0.2, score=0.536892 -   0.5s\n",
      "[CV] gamma=2, learning_rate=0.2 ......................................\n",
      "[CV] ............. gamma=2, learning_rate=0.2, score=0.512584 -   0.5s\n",
      "[CV] gamma=2, learning_rate=0.2 ......................................\n",
      "[CV] ............. gamma=2, learning_rate=0.2, score=0.515463 -   0.4s\n",
      "[CV] gamma=2, learning_rate=0.001 ....................................\n",
      "[CV] .......... gamma=2, learning_rate=0.001, score=-1.377118 -   0.3s\n",
      "[CV] gamma=2, learning_rate=0.001 ....................................\n",
      "[CV] .......... gamma=2, learning_rate=0.001, score=-1.500202 -   0.3s\n",
      "[CV] gamma=2, learning_rate=0.001 ....................................\n",
      "[CV] .......... gamma=2, learning_rate=0.001, score=-1.417128 -   0.3s\n",
      "[CV] gamma=5, learning_rate=0.1 ......................................\n",
      "[CV] ............. gamma=5, learning_rate=0.1, score=0.561654 -   0.3s\n",
      "[CV] gamma=5, learning_rate=0.1 ......................................\n",
      "[CV] ............. gamma=5, learning_rate=0.1, score=0.540792 -   0.3s\n",
      "[CV] gamma=5, learning_rate=0.1 ......................................\n",
      "[CV] ............. gamma=5, learning_rate=0.1, score=0.538457 -   0.3s\n",
      "[CV] gamma=5, learning_rate=0.2 ......................................\n",
      "[CV] ............. gamma=5, learning_rate=0.2, score=0.536892 -   0.3s\n",
      "[CV] gamma=5, learning_rate=0.2 ......................................\n",
      "[CV] ............. gamma=5, learning_rate=0.2, score=0.512584 -   0.3s\n",
      "[CV] gamma=5, learning_rate=0.2 ......................................\n",
      "[CV] ............. gamma=5, learning_rate=0.2, score=0.515463 -   0.3s\n",
      "[CV] gamma=5, learning_rate=0.001 ....................................\n",
      "[CV] .......... gamma=5, learning_rate=0.001, score=-1.377118 -   0.3s\n",
      "[CV] gamma=5, learning_rate=0.001 ....................................\n",
      "[CV] .......... gamma=5, learning_rate=0.001, score=-1.500202 -   0.3s\n",
      "[CV] gamma=5, learning_rate=0.001 ....................................\n",
      "[CV] .......... gamma=5, learning_rate=0.001, score=-1.417128 -   0.3s\n"
     ]
    },
    {
     "name": "stderr",
     "output_type": "stream",
     "text": [
      "[Parallel(n_jobs=1)]: Done  54 out of  54 | elapsed:   25.7s finished\n"
     ]
    },
    {
     "data": {
      "text/plain": [
       "GridSearchCV(cv=None, error_score='raise',\n",
       "       estimator=XGBRegressor(base_score=0.5, booster='gbtree', colsample_bylevel=1,\n",
       "       colsample_bytree=1, gamma=0, learning_rate=0.1, max_delta_step=0,\n",
       "       max_depth=3, min_child_weight=1, missing=None, n_estimators=100,\n",
       "       n_jobs=1, nthread=None, objective='reg:linear', random_state=0,\n",
       "       reg_alpha=0, reg_lambda=1, scale_pos_weight=1, seed=None,\n",
       "       silent=True, subsample=1),\n",
       "       fit_params={}, iid=True, n_jobs=1,\n",
       "       param_grid={'gamma': [0.5, 0.3, 1, 1.5, 2, 5], 'learning_rate': [0.1, 0.2, 0.001]},\n",
       "       pre_dispatch='2*n_jobs', refit=True, scoring=None, verbose=3)"
      ]
     },
     "execution_count": 54,
     "metadata": {},
     "output_type": "execute_result"
    }
   ],
   "source": [
    "grid.fit(X_train,y_train)"
   ]
  },
  {
   "cell_type": "code",
   "execution_count": 55,
   "metadata": {},
   "outputs": [
    {
     "data": {
      "text/plain": [
       "XGBRegressor(base_score=0.5, booster='gbtree', colsample_bylevel=1,\n",
       "       colsample_bytree=1, gamma=0.5, learning_rate=0.1, max_delta_step=0,\n",
       "       max_depth=3, min_child_weight=1, missing=None, n_estimators=100,\n",
       "       n_jobs=1, nthread=None, objective='reg:linear', random_state=0,\n",
       "       reg_alpha=0, reg_lambda=1, scale_pos_weight=1, seed=None,\n",
       "       silent=True, subsample=1)"
      ]
     },
     "execution_count": 55,
     "metadata": {},
     "output_type": "execute_result"
    }
   ],
   "source": [
    "grid.best_estimator_"
   ]
  },
  {
   "cell_type": "code",
   "execution_count": 56,
   "metadata": {},
   "outputs": [],
   "source": [
    "gri = grid.predict(X_test)"
   ]
  },
  {
   "cell_type": "code",
   "execution_count": 57,
   "metadata": {},
   "outputs": [
    {
     "data": {
      "text/plain": [
       "<matplotlib.collections.PathCollection at 0x158d83cd748>"
      ]
     },
     "execution_count": 57,
     "metadata": {},
     "output_type": "execute_result"
    },
    {
     "data": {
      "image/png": "[encoded data removed]",
      "text/plain": [
       "<matplotlib.figure.Figure at 0x158d81aa278>"
      ]
     },
     "metadata": {},
     "output_type": "display_data"
    }
   ],
   "source": [
    "plt.scatter(y_test,gri)"
   ]
  },
  {
   "cell_type": "code",
   "execution_count": 58,
   "metadata": {},
   "outputs": [],
   "source": [
    "test = pd.read_csv('gbefun.csv')"
   ]
  },
  {
   "cell_type": "code",
   "execution_count": 59,
   "metadata": {},
   "outputs": [],
   "source": [
    "test.drop('Unnamed: 0',axis = 1, inplace = True)\n"
   ]
  },
  {
   "cell_type": "code",
   "execution_count": 60,
   "metadata": {},
   "outputs": [
    {
     "data": {
      "text/html": [
       "<div>\n",
       "<style scoped>\n",
       "    .dataframe tbody tr th:only-of-type {\n",
       "        vertical-align: middle;\n",
       "    }\n",
       "\n",
       "    .dataframe tbody tr th {\n",
       "        vertical-align: top;\n",
       "    }\n",
       "\n",
       "    .dataframe thead th {\n",
       "        text-align: right;\n",
       "    }\n",
       "</style>\n",
       "<table border=\"1\" class=\"dataframe\">\n",
       "  <thead>\n",
       "    <tr style=\"text-align: right;\">\n",
       "      <th></th>\n",
       "      <th>Product_Weight</th>\n",
       "      <th>Product_Shelf_Visibility</th>\n",
       "      <th>Product_Price</th>\n",
       "      <th>Supermarket_Opening_Year</th>\n",
       "      <th>Supermarket _Size</th>\n",
       "      <th>b</th>\n",
       "      <th>d</th>\n",
       "      <th>Low Fat</th>\n",
       "      <th>Normal Fat</th>\n",
       "      <th>Ultra Low fat</th>\n",
       "      <th>Cluster 1</th>\n",
       "      <th>Cluster 2</th>\n",
       "      <th>Cluster 3</th>\n",
       "      <th>Grocery Store</th>\n",
       "      <th>Supermarket Type1</th>\n",
       "      <th>Supermarket Type2</th>\n",
       "      <th>Supermarket Type3</th>\n",
       "    </tr>\n",
       "  </thead>\n",
       "  <tbody>\n",
       "    <tr>\n",
       "      <th>0</th>\n",
       "      <td>8.270</td>\n",
       "      <td>0.214125</td>\n",
       "      <td>459.98</td>\n",
       "      <td>2005</td>\n",
       "      <td>1.0</td>\n",
       "      <td>0.270</td>\n",
       "      <td>0.98</td>\n",
       "      <td>0</td>\n",
       "      <td>1</td>\n",
       "      <td>0</td>\n",
       "      <td>0</td>\n",
       "      <td>0</td>\n",
       "      <td>1</td>\n",
       "      <td>1</td>\n",
       "      <td>0</td>\n",
       "      <td>0</td>\n",
       "      <td>0</td>\n",
       "    </tr>\n",
       "    <tr>\n",
       "      <th>1</th>\n",
       "      <td>8.270</td>\n",
       "      <td>0.127821</td>\n",
       "      <td>464.98</td>\n",
       "      <td>1994</td>\n",
       "      <td>2.0</td>\n",
       "      <td>0.270</td>\n",
       "      <td>0.98</td>\n",
       "      <td>0</td>\n",
       "      <td>1</td>\n",
       "      <td>0</td>\n",
       "      <td>0</td>\n",
       "      <td>0</td>\n",
       "      <td>1</td>\n",
       "      <td>0</td>\n",
       "      <td>1</td>\n",
       "      <td>0</td>\n",
       "      <td>0</td>\n",
       "    </tr>\n",
       "    <tr>\n",
       "      <th>2</th>\n",
       "      <td>7.390</td>\n",
       "      <td>0.082171</td>\n",
       "      <td>477.38</td>\n",
       "      <td>1994</td>\n",
       "      <td>2.0</td>\n",
       "      <td>0.390</td>\n",
       "      <td>0.38</td>\n",
       "      <td>1</td>\n",
       "      <td>0</td>\n",
       "      <td>0</td>\n",
       "      <td>0</td>\n",
       "      <td>0</td>\n",
       "      <td>1</td>\n",
       "      <td>0</td>\n",
       "      <td>1</td>\n",
       "      <td>0</td>\n",
       "      <td>0</td>\n",
       "    </tr>\n",
       "    <tr>\n",
       "      <th>3</th>\n",
       "      <td>6.115</td>\n",
       "      <td>0.011791</td>\n",
       "      <td>472.63</td>\n",
       "      <td>2005</td>\n",
       "      <td>1.0</td>\n",
       "      <td>0.115</td>\n",
       "      <td>0.63</td>\n",
       "      <td>0</td>\n",
       "      <td>1</td>\n",
       "      <td>0</td>\n",
       "      <td>0</td>\n",
       "      <td>0</td>\n",
       "      <td>1</td>\n",
       "      <td>1</td>\n",
       "      <td>0</td>\n",
       "      <td>0</td>\n",
       "      <td>0</td>\n",
       "    </tr>\n",
       "    <tr>\n",
       "      <th>4</th>\n",
       "      <td>6.115</td>\n",
       "      <td>0.007038</td>\n",
       "      <td>473.13</td>\n",
       "      <td>1994</td>\n",
       "      <td>2.0</td>\n",
       "      <td>0.115</td>\n",
       "      <td>0.13</td>\n",
       "      <td>0</td>\n",
       "      <td>1</td>\n",
       "      <td>0</td>\n",
       "      <td>0</td>\n",
       "      <td>0</td>\n",
       "      <td>1</td>\n",
       "      <td>0</td>\n",
       "      <td>1</td>\n",
       "      <td>0</td>\n",
       "      <td>0</td>\n",
       "    </tr>\n",
       "  </tbody>\n",
       "</table>\n",
       "</div>"
      ],
      "text/plain": [
       "   Product_Weight  Product_Shelf_Visibility  Product_Price  \\\n",
       "0           8.270                  0.214125         459.98   \n",
       "1           8.270                  0.127821         464.98   \n",
       "2           7.390                  0.082171         477.38   \n",
       "3           6.115                  0.011791         472.63   \n",
       "4           6.115                  0.007038         473.13   \n",
       "\n",
       "   Supermarket_Opening_Year  Supermarket _Size      b     d  Low Fat  \\\n",
       "0                      2005                1.0  0.270  0.98        0   \n",
       "1                      1994                2.0  0.270  0.98        0   \n",
       "2                      1994                2.0  0.390  0.38        1   \n",
       "3                      2005                1.0  0.115  0.63        0   \n",
       "4                      1994                2.0  0.115  0.13        0   \n",
       "\n",
       "   Normal Fat  Ultra Low fat  Cluster 1  Cluster 2  Cluster 3  Grocery Store  \\\n",
       "0           1              0          0          0          1              1   \n",
       "1           1              0          0          0          1              0   \n",
       "2           0              0          0          0          1              0   \n",
       "3           1              0          0          0          1              1   \n",
       "4           1              0          0          0          1              0   \n",
       "\n",
       "   Supermarket Type1  Supermarket Type2  Supermarket Type3  \n",
       "0                  0                  0                  0  \n",
       "1                  1                  0                  0  \n",
       "2                  1                  0                  0  \n",
       "3                  0                  0                  0  \n",
       "4                  1                  0                  0  "
      ]
     },
     "execution_count": 60,
     "metadata": {},
     "output_type": "execute_result"
    }
   ],
   "source": [
    "test.head()"
   ]
  },
  {
   "cell_type": "code",
   "execution_count": 61,
   "metadata": {},
   "outputs": [],
   "source": [
    "mypred1 = grid.predict(test)"
   ]
  },
  {
   "cell_type": "code",
   "execution_count": 62,
   "metadata": {},
   "outputs": [],
   "source": [
    "dat11  =pd.read_csv('submission_price.xls')\n",
    "dat11.drop('Product_Supermarket_Sales',axis = 1 , inplace = True)\n",
    "a = pd.DataFrame({'Product_Supermarket_Sales':mypred1})"
   ]
  },
  {
   "cell_type": "code",
   "execution_count": 63,
   "metadata": {},
   "outputs": [],
   "source": [
    "submitted1 = pd.concat([dat11,a],axis =1)"
   ]
  },
  {
   "cell_type": "code",
   "execution_count": 64,
   "metadata": {},
   "outputs": [],
   "source": [
    "submitted1.to_csv('kaggle1_it.csv',index = False)"
   ]
  },
  {
   "cell_type": "code",
   "execution_count": 65,
   "metadata": {},
   "outputs": [],
   "source": [
    "from sklearn import metrics"
   ]
  },
  {
   "cell_type": "code",
   "execution_count": 66,
   "metadata": {},
   "outputs": [
    {
     "name": "stdout",
     "output_type": "stream",
     "text": [
      "8850016.387287602\n"
     ]
    }
   ],
   "source": [
    "print(metrics.mean_squared_error(y_test,gri))"
   ]
  },
  {
   "cell_type": "code",
   "execution_count": 67,
   "metadata": {},
   "outputs": [
    {
     "name": "stdout",
     "output_type": "stream",
     "text": [
      "2974.897710390662\n"
     ]
    }
   ],
   "source": [
    "print(np.sqrt(metrics.mean_squared_error(y_test,gri)))"
   ]
  },
  {
   "cell_type": "code",
   "execution_count": null,
   "metadata": {},
   "outputs": [],
   "source": []
  },
  {
   "cell_type": "code",
   "execution_count": 68,
   "metadata": {},
   "outputs": [],
   "source": [
    "from sklearn.linear_model import LinearRegression"
   ]
  },
  {
   "cell_type": "code",
   "execution_count": 69,
   "metadata": {},
   "outputs": [],
   "source": [
    "model2 = LinearRegression()"
   ]
  },
  {
   "cell_type": "code",
   "execution_count": 70,
   "metadata": {},
   "outputs": [
    {
     "data": {
      "text/plain": [
       "LinearRegression(copy_X=True, fit_intercept=True, n_jobs=1, normalize=False)"
      ]
     },
     "execution_count": 70,
     "metadata": {},
     "output_type": "execute_result"
    }
   ],
   "source": [
    "model2.fit(X_train,y_train)"
   ]
  },
  {
   "cell_type": "code",
   "execution_count": 71,
   "metadata": {},
   "outputs": [],
   "source": [
    "prediction2 = model2.predict(X_test)"
   ]
  },
  {
   "cell_type": "code",
   "execution_count": 72,
   "metadata": {},
   "outputs": [
    {
     "data": {
      "text/plain": [
       "<matplotlib.collections.PathCollection at 0x158d9868048>"
      ]
     },
     "execution_count": 72,
     "metadata": {},
     "output_type": "execute_result"
    },
    {
     "data": {
      "image/png": "[encoded data removed]",
      "text/plain": [
       "<matplotlib.figure.Figure at 0x158d9838860>"
      ]
     },
     "metadata": {},
     "output_type": "display_data"
    }
   ],
   "source": [
    "plt.scatter(y_test,prediction2)"
   ]
  },
  {
   "cell_type": "code",
   "execution_count": 73,
   "metadata": {},
   "outputs": [],
   "source": [
    "from sklearn.cross_validation import cross_val_score\n",
    "yy = cross_val_score(model2,X_test,y_test,cv =10)"
   ]
  },
  {
   "cell_type": "code",
   "execution_count": 74,
   "metadata": {},
   "outputs": [
    {
     "name": "stdout",
     "output_type": "stream",
     "text": [
      "53.805814036287394\n"
     ]
    }
   ],
   "source": [
    "print(yy.mean()*100)"
   ]
  },
  {
   "cell_type": "code",
   "execution_count": 75,
   "metadata": {},
   "outputs": [],
   "source": [
    "mypred2 = model2.predict(test)"
   ]
  },
  {
   "cell_type": "code",
   "execution_count": 76,
   "metadata": {},
   "outputs": [],
   "source": [
    "dat1  =pd.read_csv('submission_price.xls')\n",
    "dat1.drop('Product_Supermarket_Sales',axis = 1 , inplace = True)\n",
    "b = pd.DataFrame({'Product_Supermarket_Sales':mypred2})"
   ]
  },
  {
   "cell_type": "code",
   "execution_count": 77,
   "metadata": {},
   "outputs": [],
   "source": [
    "submitted = pd.concat([dat1,b],axis =1)"
   ]
  },
  {
   "cell_type": "code",
   "execution_count": 78,
   "metadata": {},
   "outputs": [],
   "source": [
    "submitted.to_csv('kag.csv',index = False)"
   ]
  },
  {
   "cell_type": "code",
   "execution_count": null,
   "metadata": {},
   "outputs": [],
   "source": []
  },
  {
   "cell_type": "code",
   "execution_count": null,
   "metadata": {},
   "outputs": [],
   "source": []
  },
  {
   "cell_type": "code",
   "execution_count": 79,
   "metadata": {},
   "outputs": [],
   "source": [
    "from sklearn.neighbors import KNeighborsRegressor"
   ]
  },
  {
   "cell_type": "code",
   "execution_count": 80,
   "metadata": {},
   "outputs": [],
   "source": [
    "knn = KNeighborsRegressor(n_neighbors= 1)"
   ]
  },
  {
   "cell_type": "code",
   "execution_count": 81,
   "metadata": {},
   "outputs": [
    {
     "data": {
      "text/plain": [
       "KNeighborsRegressor(algorithm='auto', leaf_size=30, metric='minkowski',\n",
       "          metric_params=None, n_jobs=1, n_neighbors=1, p=2,\n",
       "          weights='uniform')"
      ]
     },
     "execution_count": 81,
     "metadata": {},
     "output_type": "execute_result"
    }
   ],
   "source": [
    "knn.fit(X_train,y_train)"
   ]
  },
  {
   "cell_type": "code",
   "execution_count": 82,
   "metadata": {},
   "outputs": [],
   "source": [
    "pred3 = knn.predict(X_test)"
   ]
  },
  {
   "cell_type": "code",
   "execution_count": 83,
   "metadata": {},
   "outputs": [
    {
     "data": {
      "text/plain": [
       "<matplotlib.collections.PathCollection at 0x158d9cd7128>"
      ]
     },
     "execution_count": 83,
     "metadata": {},
     "output_type": "execute_result"
    },
    {
     "data": {
      "image/png": "[encoded data removed]",
      "text/plain": [
       "<matplotlib.figure.Figure at 0x158d84d55f8>"
      ]
     },
     "metadata": {},
     "output_type": "display_data"
    }
   ],
   "source": [
    "plt.scatter(y_test,pred3)"
   ]
  },
  {
   "cell_type": "code",
   "execution_count": 84,
   "metadata": {},
   "outputs": [],
   "source": [
    "error_rate = []\n",
    "\n",
    "for i in range(1,40):\n",
    "    knn = KNeighborsRegressor(n_neighbors = i)\n",
    "    knn.fit(X_train,y_train)\n",
    "    pred_i = knn.predict(X_test)\n",
    "    error_rate.append(np.mean(pred_i != y_test))\n"
   ]
  },
  {
   "cell_type": "code",
   "execution_count": 85,
   "metadata": {},
   "outputs": [
    {
     "data": {
      "text/plain": [
       "Text(0,0.5,'error')"
      ]
     },
     "execution_count": 85,
     "metadata": {},
     "output_type": "execute_result"
    },
    {
     "data": {
      "image/png": "[encoded data removed]",
      "text/plain": [
       "<matplotlib.figure.Figure at 0x158d9cfc7b8>"
      ]
     },
     "metadata": {},
     "output_type": "display_data"
    }
   ],
   "source": [
    "plt.figure(figsize = (10,6))\n",
    "plt.plot(range(1,40),error_rate,color = 'blue',linestyle = 'dashed', marker  = 'o',\n",
    "        markerfacecolor = 'red', markersize = 10)\n",
    "plt.title('error rate vs k vale')\n",
    "plt.xlabel('K')\n",
    "plt.ylabel('error')"
   ]
  },
  {
   "cell_type": "code",
   "execution_count": 86,
   "metadata": {},
   "outputs": [],
   "source": [
    "myed3 = knn.predict(test)"
   ]
  },
  {
   "cell_type": "code",
   "execution_count": 87,
   "metadata": {},
   "outputs": [],
   "source": [
    "f = pd.DataFrame({'Product_Supermarket_Sales':myed3})"
   ]
  },
  {
   "cell_type": "code",
   "execution_count": 88,
   "metadata": {},
   "outputs": [],
   "source": [
    "submi = pd.concat([dat1,f],axis =1)"
   ]
  },
  {
   "cell_type": "code",
   "execution_count": 89,
   "metadata": {},
   "outputs": [],
   "source": [
    "submi.to_csv('kagg1.csv',index = False)"
   ]
  },
  {
   "cell_type": "code",
   "execution_count": null,
   "metadata": {},
   "outputs": [],
   "source": []
  },
  {
   "cell_type": "code",
   "execution_count": 90,
   "metadata": {},
   "outputs": [],
   "source": [
    "from sklearn.ensemble import RandomForestRegressor"
   ]
  },
  {
   "cell_type": "code",
   "execution_count": 91,
   "metadata": {},
   "outputs": [],
   "source": [
    "rfc = RandomForestRegressor(n_estimators= 1000,random_state=42,max_depth=3)"
   ]
  },
  {
   "cell_type": "code",
   "execution_count": 92,
   "metadata": {},
   "outputs": [
    {
     "data": {
      "text/plain": [
       "RandomForestRegressor(bootstrap=True, criterion='mse', max_depth=3,\n",
       "           max_features='auto', max_leaf_nodes=None,\n",
       "           min_impurity_decrease=0.0, min_impurity_split=None,\n",
       "           min_samples_leaf=1, min_samples_split=2,\n",
       "           min_weight_fraction_leaf=0.0, n_estimators=1000, n_jobs=1,\n",
       "           oob_score=False, random_state=42, verbose=0, warm_start=False)"
      ]
     },
     "execution_count": 92,
     "metadata": {},
     "output_type": "execute_result"
    }
   ],
   "source": [
    "rfc.fit(X_train,y_train)"
   ]
  },
  {
   "cell_type": "code",
   "execution_count": null,
   "metadata": {},
   "outputs": [],
   "source": []
  },
  {
   "cell_type": "code",
   "execution_count": null,
   "metadata": {},
   "outputs": [],
   "source": []
  },
  {
   "cell_type": "code",
   "execution_count": null,
   "metadata": {},
   "outputs": [],
   "source": []
  },
  {
   "cell_type": "code",
   "execution_count": null,
   "metadata": {},
   "outputs": [],
   "source": []
  },
  {
   "cell_type": "code",
   "execution_count": 93,
   "metadata": {},
   "outputs": [
    {
     "ename": "NameError",
     "evalue": "name 'rfc_pred' is not defined",
     "output_type": "error",
     "traceback": [
      "\u001b[1;31m---------------------------------------------------------------------------\u001b[0m",
      "\u001b[1;31mNameError\u001b[0m                                 Traceback (most recent call last)",
      "\u001b[1;32m<ipython-input-93-b11b6f4f826d>\u001b[0m in \u001b[0;36m<module>\u001b[1;34m()\u001b[0m\n\u001b[1;32m----> 1\u001b[1;33m \u001b[0mplt\u001b[0m\u001b[1;33m.\u001b[0m\u001b[0mscatter\u001b[0m\u001b[1;33m(\u001b[0m\u001b[0my_test\u001b[0m\u001b[1;33m,\u001b[0m\u001b[0mrfc_pred\u001b[0m\u001b[1;33m)\u001b[0m\u001b[1;33m\u001b[0m\u001b[0m\n\u001b[0m",
      "\u001b[1;31mNameError\u001b[0m: name 'rfc_pred' is not defined"
     ]
    }
   ],
   "source": [
    "plt.scatter(y_test,rfc_pred)"
   ]
  },
  {
   "cell_type": "code",
   "execution_count": null,
   "metadata": {},
   "outputs": [],
   "source": [
    "peed = rfc.predict(test)"
   ]
  },
  {
   "cell_type": "code",
   "execution_count": null,
   "metadata": {},
   "outputs": [],
   "source": [
    "h = pd.DataFrame({'Product_Supermarket_Sales':peed})"
   ]
  },
  {
   "cell_type": "code",
   "execution_count": null,
   "metadata": {},
   "outputs": [],
   "source": [
    "suooo = pd.concat([dat1,h],axis =1)"
   ]
  },
  {
   "cell_type": "code",
   "execution_count": null,
   "metadata": {},
   "outputs": [],
   "source": [
    "suooo.to_csv('mykag2.csv',index = False)"
   ]
  },
  {
   "cell_type": "code",
   "execution_count": null,
   "metadata": {},
   "outputs": [],
   "source": [
    "from sklearn.grid_search import GridSearchCV"
   ]
  },
  {
   "cell_type": "code",
   "execution_count": null,
   "metadata": {},
   "outputs": [],
   "source": [
    "param_grid = {'n_estimators':[10,20,100,500,1000],\n",
    "              'max_depth': [1,3,5,10,15,20,25,30],\n",
    "              'min_samples_leaf': [1,2,4,6,8,10]}"
   ]
  },
  {
   "cell_type": "code",
   "execution_count": null,
   "metadata": {},
   "outputs": [],
   "source": [
    "grid = GridSearchCV( RandomForestRegressor() , param_grid , verbose =  3  )"
   ]
  },
  {
   "cell_type": "code",
   "execution_count": null,
   "metadata": {},
   "outputs": [],
   "source": [
    "grid.fit(X_train,y_train)"
   ]
  },
  {
   "cell_type": "code",
   "execution_count": null,
   "metadata": {},
   "outputs": [],
   "source": [
    "grid.best_estimator_"
   ]
  },
  {
   "cell_type": "code",
   "execution_count": null,
   "metadata": {},
   "outputs": [],
   "source": [
    "prd = grid.predict(X_test)"
   ]
  },
  {
   "cell_type": "code",
   "execution_count": null,
   "metadata": {},
   "outputs": [],
   "source": [
    "plt.scatter(y_test,prd)"
   ]
  },
  {
   "cell_type": "code",
   "execution_count": null,
   "metadata": {},
   "outputs": [],
   "source": [
    "pee = rfc.predict(test)"
   ]
  },
  {
   "cell_type": "code",
   "execution_count": null,
   "metadata": {},
   "outputs": [],
   "source": [
    "v = pd.DataFrame({'Product_Supermarket_Sales':pee})"
   ]
  },
  {
   "cell_type": "code",
   "execution_count": null,
   "metadata": {},
   "outputs": [],
   "source": [
    "suooo = pd.concat([dat1,v],axis =1)"
   ]
  },
  {
   "cell_type": "code",
   "execution_count": null,
   "metadata": {},
   "outputs": [],
   "source": [
    "suooo.to_csv('mykag3.csv',index = False)"
   ]
  },
  {
   "cell_type": "code",
   "execution_count": null,
   "metadata": {},
   "outputs": [],
   "source": []
  }
 ],
 "metadata": {
  "kernelspec": {
   "display_name": "Python 3",
   "language": "python",
   "name": "python3"
  },
  "language_info": {
   "codemirror_mode": {
    "name": "ipython",
    "version": 3
   },
   "file_extension": ".py",
   "mimetype": "text/x-python",
   "name": "python",
   "nbconvert_exporter": "python",
   "pygments_lexer": "ipython3",
   "version": "3.6.4"
  }
 },
 "nbformat": 4,
 "nbformat_minor": 2
}
