{
 "cells": [
  {
   "cell_type": "code",
   "execution_count": 2,
   "metadata": {},
   "outputs": [],
   "source": [
    "import pandas as pd\n",
    "import numpy as np\n",
    "import matplotlib.pyplot as plt\n",
    "import seaborn as sns"
   ]
  },
  {
   "cell_type": "code",
   "execution_count": 3,
   "metadata": {},
   "outputs": [],
   "source": [
    "%matplotlib inline"
   ]
  },
  {
   "cell_type": "code",
   "execution_count": 5,
   "metadata": {},
   "outputs": [],
   "source": [
    "data = pd.read_csv('angry.xls')"
   ]
  },
  {
   "cell_type": "code",
   "execution_count": 8,
   "metadata": {},
   "outputs": [],
   "source": [
    "data.drop(['Unnamed: 0','Product_Type'],axis = 1 ,inplace  = True)"
   ]
  },
  {
   "cell_type": "code",
   "execution_count": 9,
   "metadata": {},
   "outputs": [
    {
     "data": {
      "text/html": [
       "<div>\n",
       "<style scoped>\n",
       "    .dataframe tbody tr th:only-of-type {\n",
       "        vertical-align: middle;\n",
       "    }\n",
       "\n",
       "    .dataframe tbody tr th {\n",
       "        vertical-align: top;\n",
       "    }\n",
       "\n",
       "    .dataframe thead th {\n",
       "        text-align: right;\n",
       "    }\n",
       "</style>\n",
       "<table border=\"1\" class=\"dataframe\">\n",
       "  <thead>\n",
       "    <tr style=\"text-align: right;\">\n",
       "      <th></th>\n",
       "      <th>Product_Weight</th>\n",
       "      <th>Product_Fat_Content</th>\n",
       "      <th>Product_Shelf_Visibility</th>\n",
       "      <th>Product_Price</th>\n",
       "      <th>Supermarket_Opening_Year</th>\n",
       "      <th>Supermarket _Size</th>\n",
       "      <th>Supermarket_Location_Type</th>\n",
       "      <th>Supermarket_Type</th>\n",
       "      <th>Product_Supermarket_Sales</th>\n",
       "    </tr>\n",
       "  </thead>\n",
       "  <tbody>\n",
       "    <tr>\n",
       "      <th>0</th>\n",
       "      <td>11.6</td>\n",
       "      <td>Low Fat</td>\n",
       "      <td>0.068535</td>\n",
       "      <td>357.54</td>\n",
       "      <td>2005</td>\n",
       "      <td>1.0</td>\n",
       "      <td>Cluster 3</td>\n",
       "      <td>Grocery Store</td>\n",
       "      <td>709.08</td>\n",
       "    </tr>\n",
       "    <tr>\n",
       "      <th>1</th>\n",
       "      <td>11.6</td>\n",
       "      <td>Low Fat</td>\n",
       "      <td>0.040912</td>\n",
       "      <td>355.79</td>\n",
       "      <td>1994</td>\n",
       "      <td>2.0</td>\n",
       "      <td>Cluster 3</td>\n",
       "      <td>Supermarket Type1</td>\n",
       "      <td>6381.69</td>\n",
       "    </tr>\n",
       "    <tr>\n",
       "      <th>2</th>\n",
       "      <td>11.6</td>\n",
       "      <td>Low Fat</td>\n",
       "      <td>0.041178</td>\n",
       "      <td>350.79</td>\n",
       "      <td>2014</td>\n",
       "      <td>1.0</td>\n",
       "      <td>Cluster 2</td>\n",
       "      <td>Supermarket Type1</td>\n",
       "      <td>6381.69</td>\n",
       "    </tr>\n",
       "    <tr>\n",
       "      <th>3</th>\n",
       "      <td>11.6</td>\n",
       "      <td>Low Fat</td>\n",
       "      <td>0.041113</td>\n",
       "      <td>355.04</td>\n",
       "      <td>2016</td>\n",
       "      <td>1.0</td>\n",
       "      <td>Cluster 3</td>\n",
       "      <td>Supermarket Type2</td>\n",
       "      <td>2127.23</td>\n",
       "    </tr>\n",
       "    <tr>\n",
       "      <th>4</th>\n",
       "      <td>11.6</td>\n",
       "      <td>Ultra Low fat</td>\n",
       "      <td>0.000000</td>\n",
       "      <td>354.79</td>\n",
       "      <td>2011</td>\n",
       "      <td>0.0</td>\n",
       "      <td>Cluster 2</td>\n",
       "      <td>Supermarket Type1</td>\n",
       "      <td>2481.77</td>\n",
       "    </tr>\n",
       "  </tbody>\n",
       "</table>\n",
       "</div>"
      ],
      "text/plain": [
       "   Product_Weight Product_Fat_Content  Product_Shelf_Visibility  \\\n",
       "0            11.6             Low Fat                  0.068535   \n",
       "1            11.6             Low Fat                  0.040912   \n",
       "2            11.6             Low Fat                  0.041178   \n",
       "3            11.6             Low Fat                  0.041113   \n",
       "4            11.6       Ultra Low fat                  0.000000   \n",
       "\n",
       "   Product_Price  Supermarket_Opening_Year  Supermarket _Size  \\\n",
       "0         357.54                      2005                1.0   \n",
       "1         355.79                      1994                2.0   \n",
       "2         350.79                      2014                1.0   \n",
       "3         355.04                      2016                1.0   \n",
       "4         354.79                      2011                0.0   \n",
       "\n",
       "  Supermarket_Location_Type   Supermarket_Type  Product_Supermarket_Sales  \n",
       "0                 Cluster 3      Grocery Store                     709.08  \n",
       "1                 Cluster 3  Supermarket Type1                    6381.69  \n",
       "2                 Cluster 2  Supermarket Type1                    6381.69  \n",
       "3                 Cluster 3  Supermarket Type2                    2127.23  \n",
       "4                 Cluster 2  Supermarket Type1                    2481.77  "
      ]
     },
     "execution_count": 9,
     "metadata": {},
     "output_type": "execute_result"
    }
   ],
   "source": [
    "data.head()"
   ]
  },
  {
   "cell_type": "code",
   "execution_count": 11,
   "metadata": {},
   "outputs": [
    {
     "data": {
      "text/plain": [
       "Product_Weight               0\n",
       "Product_Fat_Content          0\n",
       "Product_Shelf_Visibility     0\n",
       "Product_Price                0\n",
       "Supermarket_Opening_Year     0\n",
       "Supermarket _Size            0\n",
       "Supermarket_Location_Type    0\n",
       "Supermarket_Type             0\n",
       "Product_Supermarket_Sales    0\n",
       "dtype: int64"
      ]
     },
     "execution_count": 11,
     "metadata": {},
     "output_type": "execute_result"
    }
   ],
   "source": [
    "data.isnull().sum()"
   ]
  },
  {
   "cell_type": "code",
   "execution_count": 13,
   "metadata": {},
   "outputs": [],
   "source": [
    "dum1 = pd.get_dummies(data['Product_Fat_Content'])\n",
    "dum2 = pd.get_dummies(data['Supermarket_Location_Type'])\n",
    "dun3 = pd.get_dummies(data['Supermarket_Type'])\n",
    "data = pd.concat([data,dum1,dum2,dun3],axis =1)"
   ]
  },
  {
   "cell_type": "code",
   "execution_count": 14,
   "metadata": {},
   "outputs": [
    {
     "data": {
      "text/html": [
       "<div>\n",
       "<style scoped>\n",
       "    .dataframe tbody tr th:only-of-type {\n",
       "        vertical-align: middle;\n",
       "    }\n",
       "\n",
       "    .dataframe tbody tr th {\n",
       "        vertical-align: top;\n",
       "    }\n",
       "\n",
       "    .dataframe thead th {\n",
       "        text-align: right;\n",
       "    }\n",
       "</style>\n",
       "<table border=\"1\" class=\"dataframe\">\n",
       "  <thead>\n",
       "    <tr style=\"text-align: right;\">\n",
       "      <th></th>\n",
       "      <th>Product_Weight</th>\n",
       "      <th>Product_Fat_Content</th>\n",
       "      <th>Product_Shelf_Visibility</th>\n",
       "      <th>Product_Price</th>\n",
       "      <th>Supermarket_Opening_Year</th>\n",
       "      <th>Supermarket _Size</th>\n",
       "      <th>Supermarket_Location_Type</th>\n",
       "      <th>Supermarket_Type</th>\n",
       "      <th>Product_Supermarket_Sales</th>\n",
       "      <th>Low Fat</th>\n",
       "      <th>Normal Fat</th>\n",
       "      <th>Ultra Low fat</th>\n",
       "      <th>Cluster 1</th>\n",
       "      <th>Cluster 2</th>\n",
       "      <th>Cluster 3</th>\n",
       "      <th>Grocery Store</th>\n",
       "      <th>Supermarket Type1</th>\n",
       "      <th>Supermarket Type2</th>\n",
       "      <th>Supermarket Type3</th>\n",
       "    </tr>\n",
       "  </thead>\n",
       "  <tbody>\n",
       "    <tr>\n",
       "      <th>0</th>\n",
       "      <td>11.6</td>\n",
       "      <td>Low Fat</td>\n",
       "      <td>0.068535</td>\n",
       "      <td>357.54</td>\n",
       "      <td>2005</td>\n",
       "      <td>1.0</td>\n",
       "      <td>Cluster 3</td>\n",
       "      <td>Grocery Store</td>\n",
       "      <td>709.08</td>\n",
       "      <td>1</td>\n",
       "      <td>0</td>\n",
       "      <td>0</td>\n",
       "      <td>0</td>\n",
       "      <td>0</td>\n",
       "      <td>1</td>\n",
       "      <td>1</td>\n",
       "      <td>0</td>\n",
       "      <td>0</td>\n",
       "      <td>0</td>\n",
       "    </tr>\n",
       "    <tr>\n",
       "      <th>1</th>\n",
       "      <td>11.6</td>\n",
       "      <td>Low Fat</td>\n",
       "      <td>0.040912</td>\n",
       "      <td>355.79</td>\n",
       "      <td>1994</td>\n",
       "      <td>2.0</td>\n",
       "      <td>Cluster 3</td>\n",
       "      <td>Supermarket Type1</td>\n",
       "      <td>6381.69</td>\n",
       "      <td>1</td>\n",
       "      <td>0</td>\n",
       "      <td>0</td>\n",
       "      <td>0</td>\n",
       "      <td>0</td>\n",
       "      <td>1</td>\n",
       "      <td>0</td>\n",
       "      <td>1</td>\n",
       "      <td>0</td>\n",
       "      <td>0</td>\n",
       "    </tr>\n",
       "    <tr>\n",
       "      <th>2</th>\n",
       "      <td>11.6</td>\n",
       "      <td>Low Fat</td>\n",
       "      <td>0.041178</td>\n",
       "      <td>350.79</td>\n",
       "      <td>2014</td>\n",
       "      <td>1.0</td>\n",
       "      <td>Cluster 2</td>\n",
       "      <td>Supermarket Type1</td>\n",
       "      <td>6381.69</td>\n",
       "      <td>1</td>\n",
       "      <td>0</td>\n",
       "      <td>0</td>\n",
       "      <td>0</td>\n",
       "      <td>1</td>\n",
       "      <td>0</td>\n",
       "      <td>0</td>\n",
       "      <td>1</td>\n",
       "      <td>0</td>\n",
       "      <td>0</td>\n",
       "    </tr>\n",
       "    <tr>\n",
       "      <th>3</th>\n",
       "      <td>11.6</td>\n",
       "      <td>Low Fat</td>\n",
       "      <td>0.041113</td>\n",
       "      <td>355.04</td>\n",
       "      <td>2016</td>\n",
       "      <td>1.0</td>\n",
       "      <td>Cluster 3</td>\n",
       "      <td>Supermarket Type2</td>\n",
       "      <td>2127.23</td>\n",
       "      <td>1</td>\n",
       "      <td>0</td>\n",
       "      <td>0</td>\n",
       "      <td>0</td>\n",
       "      <td>0</td>\n",
       "      <td>1</td>\n",
       "      <td>0</td>\n",
       "      <td>0</td>\n",
       "      <td>1</td>\n",
       "      <td>0</td>\n",
       "    </tr>\n",
       "    <tr>\n",
       "      <th>4</th>\n",
       "      <td>11.6</td>\n",
       "      <td>Ultra Low fat</td>\n",
       "      <td>0.000000</td>\n",
       "      <td>354.79</td>\n",
       "      <td>2011</td>\n",
       "      <td>0.0</td>\n",
       "      <td>Cluster 2</td>\n",
       "      <td>Supermarket Type1</td>\n",
       "      <td>2481.77</td>\n",
       "      <td>0</td>\n",
       "      <td>0</td>\n",
       "      <td>1</td>\n",
       "      <td>0</td>\n",
       "      <td>1</td>\n",
       "      <td>0</td>\n",
       "      <td>0</td>\n",
       "      <td>1</td>\n",
       "      <td>0</td>\n",
       "      <td>0</td>\n",
       "    </tr>\n",
       "  </tbody>\n",
       "</table>\n",
       "</div>"
      ],
      "text/plain": [
       "   Product_Weight Product_Fat_Content  Product_Shelf_Visibility  \\\n",
       "0            11.6             Low Fat                  0.068535   \n",
       "1            11.6             Low Fat                  0.040912   \n",
       "2            11.6             Low Fat                  0.041178   \n",
       "3            11.6             Low Fat                  0.041113   \n",
       "4            11.6       Ultra Low fat                  0.000000   \n",
       "\n",
       "   Product_Price  Supermarket_Opening_Year  Supermarket _Size  \\\n",
       "0         357.54                      2005                1.0   \n",
       "1         355.79                      1994                2.0   \n",
       "2         350.79                      2014                1.0   \n",
       "3         355.04                      2016                1.0   \n",
       "4         354.79                      2011                0.0   \n",
       "\n",
       "  Supermarket_Location_Type   Supermarket_Type  Product_Supermarket_Sales  \\\n",
       "0                 Cluster 3      Grocery Store                     709.08   \n",
       "1                 Cluster 3  Supermarket Type1                    6381.69   \n",
       "2                 Cluster 2  Supermarket Type1                    6381.69   \n",
       "3                 Cluster 3  Supermarket Type2                    2127.23   \n",
       "4                 Cluster 2  Supermarket Type1                    2481.77   \n",
       "\n",
       "   Low Fat  Normal Fat  Ultra Low fat  Cluster 1  Cluster 2  Cluster 3  \\\n",
       "0        1           0              0          0          0          1   \n",
       "1        1           0              0          0          0          1   \n",
       "2        1           0              0          0          1          0   \n",
       "3        1           0              0          0          0          1   \n",
       "4        0           0              1          0          1          0   \n",
       "\n",
       "   Grocery Store  Supermarket Type1  Supermarket Type2  Supermarket Type3  \n",
       "0              1                  0                  0                  0  \n",
       "1              0                  1                  0                  0  \n",
       "2              0                  1                  0                  0  \n",
       "3              0                  0                  1                  0  \n",
       "4              0                  1                  0                  0  "
      ]
     },
     "execution_count": 14,
     "metadata": {},
     "output_type": "execute_result"
    }
   ],
   "source": [
    "data.head()"
   ]
  },
  {
   "cell_type": "code",
   "execution_count": 15,
   "metadata": {},
   "outputs": [],
   "source": [
    "data.drop(['Product_Fat_Content','Supermarket_Location_Type','Supermarket_Type','Supermarket _Size'],axis = 1 ,inplace = True)"
   ]
  },
  {
   "cell_type": "code",
   "execution_count": 16,
   "metadata": {},
   "outputs": [
    {
     "data": {
      "text/html": [
       "<div>\n",
       "<style scoped>\n",
       "    .dataframe tbody tr th:only-of-type {\n",
       "        vertical-align: middle;\n",
       "    }\n",
       "\n",
       "    .dataframe tbody tr th {\n",
       "        vertical-align: top;\n",
       "    }\n",
       "\n",
       "    .dataframe thead th {\n",
       "        text-align: right;\n",
       "    }\n",
       "</style>\n",
       "<table border=\"1\" class=\"dataframe\">\n",
       "  <thead>\n",
       "    <tr style=\"text-align: right;\">\n",
       "      <th></th>\n",
       "      <th>Product_Weight</th>\n",
       "      <th>Product_Shelf_Visibility</th>\n",
       "      <th>Product_Price</th>\n",
       "      <th>Supermarket_Opening_Year</th>\n",
       "      <th>Product_Supermarket_Sales</th>\n",
       "      <th>Low Fat</th>\n",
       "      <th>Normal Fat</th>\n",
       "      <th>Ultra Low fat</th>\n",
       "      <th>Cluster 1</th>\n",
       "      <th>Cluster 2</th>\n",
       "      <th>Cluster 3</th>\n",
       "      <th>Grocery Store</th>\n",
       "      <th>Supermarket Type1</th>\n",
       "      <th>Supermarket Type2</th>\n",
       "      <th>Supermarket Type3</th>\n",
       "    </tr>\n",
       "  </thead>\n",
       "  <tbody>\n",
       "    <tr>\n",
       "      <th>0</th>\n",
       "      <td>11.6</td>\n",
       "      <td>0.068535</td>\n",
       "      <td>357.54</td>\n",
       "      <td>2005</td>\n",
       "      <td>709.08</td>\n",
       "      <td>1</td>\n",
       "      <td>0</td>\n",
       "      <td>0</td>\n",
       "      <td>0</td>\n",
       "      <td>0</td>\n",
       "      <td>1</td>\n",
       "      <td>1</td>\n",
       "      <td>0</td>\n",
       "      <td>0</td>\n",
       "      <td>0</td>\n",
       "    </tr>\n",
       "    <tr>\n",
       "      <th>1</th>\n",
       "      <td>11.6</td>\n",
       "      <td>0.040912</td>\n",
       "      <td>355.79</td>\n",
       "      <td>1994</td>\n",
       "      <td>6381.69</td>\n",
       "      <td>1</td>\n",
       "      <td>0</td>\n",
       "      <td>0</td>\n",
       "      <td>0</td>\n",
       "      <td>0</td>\n",
       "      <td>1</td>\n",
       "      <td>0</td>\n",
       "      <td>1</td>\n",
       "      <td>0</td>\n",
       "      <td>0</td>\n",
       "    </tr>\n",
       "    <tr>\n",
       "      <th>2</th>\n",
       "      <td>11.6</td>\n",
       "      <td>0.041178</td>\n",
       "      <td>350.79</td>\n",
       "      <td>2014</td>\n",
       "      <td>6381.69</td>\n",
       "      <td>1</td>\n",
       "      <td>0</td>\n",
       "      <td>0</td>\n",
       "      <td>0</td>\n",
       "      <td>1</td>\n",
       "      <td>0</td>\n",
       "      <td>0</td>\n",
       "      <td>1</td>\n",
       "      <td>0</td>\n",
       "      <td>0</td>\n",
       "    </tr>\n",
       "    <tr>\n",
       "      <th>3</th>\n",
       "      <td>11.6</td>\n",
       "      <td>0.041113</td>\n",
       "      <td>355.04</td>\n",
       "      <td>2016</td>\n",
       "      <td>2127.23</td>\n",
       "      <td>1</td>\n",
       "      <td>0</td>\n",
       "      <td>0</td>\n",
       "      <td>0</td>\n",
       "      <td>0</td>\n",
       "      <td>1</td>\n",
       "      <td>0</td>\n",
       "      <td>0</td>\n",
       "      <td>1</td>\n",
       "      <td>0</td>\n",
       "    </tr>\n",
       "    <tr>\n",
       "      <th>4</th>\n",
       "      <td>11.6</td>\n",
       "      <td>0.000000</td>\n",
       "      <td>354.79</td>\n",
       "      <td>2011</td>\n",
       "      <td>2481.77</td>\n",
       "      <td>0</td>\n",
       "      <td>0</td>\n",
       "      <td>1</td>\n",
       "      <td>0</td>\n",
       "      <td>1</td>\n",
       "      <td>0</td>\n",
       "      <td>0</td>\n",
       "      <td>1</td>\n",
       "      <td>0</td>\n",
       "      <td>0</td>\n",
       "    </tr>\n",
       "  </tbody>\n",
       "</table>\n",
       "</div>"
      ],
      "text/plain": [
       "   Product_Weight  Product_Shelf_Visibility  Product_Price  \\\n",
       "0            11.6                  0.068535         357.54   \n",
       "1            11.6                  0.040912         355.79   \n",
       "2            11.6                  0.041178         350.79   \n",
       "3            11.6                  0.041113         355.04   \n",
       "4            11.6                  0.000000         354.79   \n",
       "\n",
       "   Supermarket_Opening_Year  Product_Supermarket_Sales  Low Fat  Normal Fat  \\\n",
       "0                      2005                     709.08        1           0   \n",
       "1                      1994                    6381.69        1           0   \n",
       "2                      2014                    6381.69        1           0   \n",
       "3                      2016                    2127.23        1           0   \n",
       "4                      2011                    2481.77        0           0   \n",
       "\n",
       "   Ultra Low fat  Cluster 1  Cluster 2  Cluster 3  Grocery Store  \\\n",
       "0              0          0          0          1              1   \n",
       "1              0          0          0          1              0   \n",
       "2              0          0          1          0              0   \n",
       "3              0          0          0          1              0   \n",
       "4              1          0          1          0              0   \n",
       "\n",
       "   Supermarket Type1  Supermarket Type2  Supermarket Type3  \n",
       "0                  0                  0                  0  \n",
       "1                  1                  0                  0  \n",
       "2                  1                  0                  0  \n",
       "3                  0                  1                  0  \n",
       "4                  1                  0                  0  "
      ]
     },
     "execution_count": 16,
     "metadata": {},
     "output_type": "execute_result"
    }
   ],
   "source": [
    "data.head()"
   ]
  },
  {
   "cell_type": "code",
   "execution_count": 17,
   "metadata": {},
   "outputs": [],
   "source": [
    "data['f'] = data.Product_Weight.astype(str)"
   ]
  },
  {
   "cell_type": "code",
   "execution_count": 18,
   "metadata": {},
   "outputs": [],
   "source": [
    "data['f'] = data['f'].apply(lambda x: x.split('.')[0])"
   ]
  },
  {
   "cell_type": "code",
   "execution_count": 19,
   "metadata": {},
   "outputs": [],
   "source": [
    "data['f'] = data['f'].astype(float)"
   ]
  },
  {
   "cell_type": "code",
   "execution_count": 20,
   "metadata": {},
   "outputs": [],
   "source": [
    "data['f'] =  data['Product_Weight'] - data['f']"
   ]
  },
  {
   "cell_type": "code",
   "execution_count": 39,
   "metadata": {},
   "outputs": [],
   "source": [
    "data.drop('f',axis =1 ,inplace  =True)"
   ]
  },
  {
   "cell_type": "code",
   "execution_count": 40,
   "metadata": {},
   "outputs": [],
   "source": [
    "X = data.drop('Product_Supermarket_Sales',axis =1)"
   ]
  },
  {
   "cell_type": "code",
   "execution_count": 41,
   "metadata": {},
   "outputs": [],
   "source": [
    "y = data['Product_Supermarket_Sales']"
   ]
  },
  {
   "cell_type": "code",
   "execution_count": 42,
   "metadata": {},
   "outputs": [],
   "source": [
    "from sklearn.cross_validation import train_test_split"
   ]
  },
  {
   "cell_type": "code",
   "execution_count": 43,
   "metadata": {},
   "outputs": [],
   "source": [
    "X_train, X_test, y_train, y_test = train_test_split(X, y, test_size=0.3, random_state=42)"
   ]
  },
  {
   "cell_type": "code",
   "execution_count": 44,
   "metadata": {},
   "outputs": [],
   "source": [
    "from xgboost import XGBRegressor"
   ]
  },
  {
   "cell_type": "code",
   "execution_count": 45,
   "metadata": {},
   "outputs": [],
   "source": [
    "model  = XGBRegressor()"
   ]
  },
  {
   "cell_type": "code",
   "execution_count": 46,
   "metadata": {},
   "outputs": [
    {
     "data": {
      "text/plain": [
       "XGBRegressor(base_score=0.5, booster='gbtree', colsample_bylevel=1,\n",
       "       colsample_bytree=1, gamma=0, learning_rate=0.1, max_delta_step=0,\n",
       "       max_depth=3, min_child_weight=1, missing=None, n_estimators=100,\n",
       "       n_jobs=1, nthread=None, objective='reg:linear', random_state=0,\n",
       "       reg_alpha=0, reg_lambda=1, scale_pos_weight=1, seed=None,\n",
       "       silent=True, subsample=1)"
      ]
     },
     "execution_count": 46,
     "metadata": {},
     "output_type": "execute_result"
    }
   ],
   "source": [
    "model.fit(X_train,y_train)"
   ]
  },
  {
   "cell_type": "code",
   "execution_count": 47,
   "metadata": {},
   "outputs": [],
   "source": [
    "pred = model.predict(X_test)"
   ]
  },
  {
   "cell_type": "code",
   "execution_count": 48,
   "metadata": {},
   "outputs": [],
   "source": [
    "from sklearn.cross_validation import cross_val_score\n",
    "scored = cross_val_score(model,X_test,y_test,cv =10)"
   ]
  },
  {
   "cell_type": "code",
   "execution_count": 49,
   "metadata": {},
   "outputs": [
    {
     "name": "stdout",
     "output_type": "stream",
     "text": [
      "53.095476130306096\n"
     ]
    }
   ],
   "source": [
    "print(scored.mean()*100)"
   ]
  },
  {
   "cell_type": "code",
   "execution_count": 50,
   "metadata": {},
   "outputs": [
    {
     "data": {
      "text/plain": [
       "<matplotlib.collections.PathCollection at 0x21379dfa860>"
      ]
     },
     "execution_count": 50,
     "metadata": {},
     "output_type": "execute_result"
    },
    {
     "data": {
      "image/png": "[encoded data removed]",
      "text/plain": [
       "<matplotlib.figure.Figure at 0x21379cf91d0>"
      ]
     },
     "metadata": {},
     "output_type": "display_data"
    }
   ],
   "source": [
    "plt.scatter(y_test,pred)"
   ]
  },
  {
   "cell_type": "code",
   "execution_count": 51,
   "metadata": {},
   "outputs": [],
   "source": [
    "from sklearn.grid_search import GridSearchCV"
   ]
  },
  {
   "cell_type": "code",
   "execution_count": 52,
   "metadata": {},
   "outputs": [],
   "source": [
    "param_grid ={\n",
    "        'gamma': [0.5, 1, 1.5, 2, 5],\n",
    "        }"
   ]
  },
  {
   "cell_type": "code",
   "execution_count": 53,
   "metadata": {},
   "outputs": [],
   "source": [
    "grid = GridSearchCV( XGBRegressor() , param_grid , verbose =  3  )"
   ]
  },
  {
   "cell_type": "code",
   "execution_count": 54,
   "metadata": {},
   "outputs": [
    {
     "name": "stdout",
     "output_type": "stream",
     "text": [
      "Fitting 3 folds for each of 5 candidates, totalling 15 fits\n",
      "[CV] gamma=0.5 .......................................................\n",
      "[CV] .............................. gamma=0.5, score=0.565247 -   0.2s\n",
      "[CV] gamma=0.5 .......................................................\n",
      "[CV] .............................. gamma=0.5, score=0.536229 -   0.1s\n",
      "[CV] gamma=0.5 .......................................................\n"
     ]
    },
    {
     "name": "stderr",
     "output_type": "stream",
     "text": [
      "[Parallel(n_jobs=1)]: Done   1 out of   1 | elapsed:    0.2s remaining:    0.0s\n",
      "[Parallel(n_jobs=1)]: Done   2 out of   2 | elapsed:    0.4s remaining:    0.0s\n"
     ]
    },
    {
     "name": "stdout",
     "output_type": "stream",
     "text": [
      "[CV] .............................. gamma=0.5, score=0.533202 -   0.1s\n",
      "[CV] gamma=1 .........................................................\n",
      "[CV] ................................ gamma=1, score=0.565247 -   0.4s\n",
      "[CV] gamma=1 .........................................................\n",
      "[CV] ................................ gamma=1, score=0.536229 -   0.1s\n",
      "[CV] gamma=1 .........................................................\n",
      "[CV] ................................ gamma=1, score=0.533202 -   0.1s\n",
      "[CV] gamma=1.5 .......................................................\n",
      "[CV] .............................. gamma=1.5, score=0.565247 -   0.3s\n",
      "[CV] gamma=1.5 .......................................................\n",
      "[CV] .............................. gamma=1.5, score=0.536229 -   0.2s\n",
      "[CV] gamma=1.5 .......................................................\n",
      "[CV] .............................. gamma=1.5, score=0.533202 -   0.1s\n",
      "[CV] gamma=2 .........................................................\n",
      "[CV] ................................ gamma=2, score=0.565247 -   0.1s\n",
      "[CV] gamma=2 .........................................................\n",
      "[CV] ................................ gamma=2, score=0.536229 -   0.1s\n",
      "[CV] gamma=2 .........................................................\n",
      "[CV] ................................ gamma=2, score=0.533202 -   0.4s\n",
      "[CV] gamma=5 .........................................................\n",
      "[CV] ................................ gamma=5, score=0.565247 -   0.1s\n",
      "[CV] gamma=5 .........................................................\n",
      "[CV] ................................ gamma=5, score=0.536229 -   0.1s\n",
      "[CV] gamma=5 .........................................................\n",
      "[CV] ................................ gamma=5, score=0.533202 -   0.1s\n"
     ]
    },
    {
     "name": "stderr",
     "output_type": "stream",
     "text": [
      "[Parallel(n_jobs=1)]: Done  15 out of  15 | elapsed:    4.0s finished\n"
     ]
    },
    {
     "data": {
      "text/plain": [
       "GridSearchCV(cv=None, error_score='raise',\n",
       "       estimator=XGBRegressor(base_score=0.5, booster='gbtree', colsample_bylevel=1,\n",
       "       colsample_bytree=1, gamma=0, learning_rate=0.1, max_delta_step=0,\n",
       "       max_depth=3, min_child_weight=1, missing=None, n_estimators=100,\n",
       "       n_jobs=1, nthread=None, objective='reg:linear', random_state=0,\n",
       "       reg_alpha=0, reg_lambda=1, scale_pos_weight=1, seed=None,\n",
       "       silent=True, subsample=1),\n",
       "       fit_params={}, iid=True, n_jobs=1,\n",
       "       param_grid={'gamma': [0.5, 1, 1.5, 2, 5]}, pre_dispatch='2*n_jobs',\n",
       "       refit=True, scoring=None, verbose=3)"
      ]
     },
     "execution_count": 54,
     "metadata": {},
     "output_type": "execute_result"
    }
   ],
   "source": [
    "grid.fit(X_train,y_train)"
   ]
  },
  {
   "cell_type": "code",
   "execution_count": 55,
   "metadata": {},
   "outputs": [],
   "source": [
    "x = grid.predict(X_test)"
   ]
  },
  {
   "cell_type": "code",
   "execution_count": 56,
   "metadata": {},
   "outputs": [
    {
     "data": {
      "text/plain": [
       "<matplotlib.collections.PathCollection at 0x21379e49b38>"
      ]
     },
     "execution_count": 56,
     "metadata": {},
     "output_type": "execute_result"
    },
    {
     "data": {
      "image/png": "[encoded data removed]",
      "text/plain": [
       "<matplotlib.figure.Figure at 0x21379e17240>"
      ]
     },
     "metadata": {},
     "output_type": "display_data"
    }
   ],
   "source": [
    "plt.scatter(y_test,x)"
   ]
  },
  {
   "cell_type": "code",
   "execution_count": 57,
   "metadata": {},
   "outputs": [
    {
     "name": "stdout",
     "output_type": "stream",
     "text": [
      "Fitting 3 folds for each of 5 candidates, totalling 15 fits\n",
      "[CV] gamma=0.5 .......................................................\n",
      "[CV] .............................. gamma=0.5, score=0.503220 -   0.0s\n",
      "[CV] gamma=0.5 .......................................................\n",
      "[CV] .............................. gamma=0.5, score=0.513167 -   0.0s\n"
     ]
    },
    {
     "name": "stderr",
     "output_type": "stream",
     "text": [
      "[Parallel(n_jobs=1)]: Done   1 out of   1 | elapsed:    0.0s remaining:    0.0s\n",
      "[Parallel(n_jobs=1)]: Done   2 out of   2 | elapsed:    0.1s remaining:    0.0s\n"
     ]
    },
    {
     "name": "stdout",
     "output_type": "stream",
     "text": [
      "[CV] gamma=0.5 .......................................................\n",
      "[CV] .............................. gamma=0.5, score=0.552971 -   0.1s\n",
      "[CV] gamma=1 .........................................................\n",
      "[CV] ................................ gamma=1, score=0.503220 -   0.1s\n",
      "[CV] gamma=1 .........................................................\n",
      "[CV] ................................ gamma=1, score=0.513167 -   0.0s\n",
      "[CV] gamma=1 .........................................................\n",
      "[CV] ................................ gamma=1, score=0.552971 -   0.0s\n",
      "[CV] gamma=1.5 .......................................................\n",
      "[CV] .............................. gamma=1.5, score=0.503220 -   0.0s\n",
      "[CV] gamma=1.5 .......................................................\n",
      "[CV] .............................. gamma=1.5, score=0.513167 -   0.0s\n",
      "[CV] gamma=1.5 .......................................................\n",
      "[CV] .............................. gamma=1.5, score=0.552971 -   0.0s\n",
      "[CV] gamma=2 .........................................................\n",
      "[CV] ................................ gamma=2, score=0.503220 -   0.0s\n",
      "[CV] gamma=2 .........................................................\n",
      "[CV] ................................ gamma=2, score=0.513167 -   0.4s\n",
      "[CV] gamma=2 .........................................................\n",
      "[CV] ................................ gamma=2, score=0.552971 -   0.0s\n",
      "[CV] gamma=5 .........................................................\n",
      "[CV] ................................ gamma=5, score=0.503220 -   0.0s\n",
      "[CV] gamma=5 .........................................................\n",
      "[CV] ................................ gamma=5, score=0.513167 -   0.0s\n",
      "[CV] gamma=5 .........................................................\n",
      "[CV] ................................ gamma=5, score=0.552971 -   0.0s\n",
      "Fitting 3 folds for each of 5 candidates, totalling 15 fits\n",
      "[CV] gamma=0.5 .......................................................\n"
     ]
    },
    {
     "name": "stderr",
     "output_type": "stream",
     "text": [
      "[Parallel(n_jobs=1)]: Done  15 out of  15 | elapsed:    2.0s finished\n"
     ]
    },
    {
     "name": "stdout",
     "output_type": "stream",
     "text": [
      "[CV] .............................. gamma=0.5, score=0.485011 -   0.2s\n",
      "[CV] gamma=0.5 .......................................................\n"
     ]
    },
    {
     "name": "stderr",
     "output_type": "stream",
     "text": [
      "[Parallel(n_jobs=1)]: Done   1 out of   1 | elapsed:    0.2s remaining:    0.0s\n"
     ]
    },
    {
     "name": "stdout",
     "output_type": "stream",
     "text": [
      "[CV] .............................. gamma=0.5, score=0.531804 -   0.1s\n",
      "[CV] gamma=0.5 .......................................................\n",
      "[CV] .............................. gamma=0.5, score=0.531929 -   0.0s\n",
      "[CV] gamma=1 .........................................................\n"
     ]
    },
    {
     "name": "stderr",
     "output_type": "stream",
     "text": [
      "[Parallel(n_jobs=1)]: Done   2 out of   2 | elapsed:    0.4s remaining:    0.0s\n"
     ]
    },
    {
     "name": "stdout",
     "output_type": "stream",
     "text": [
      "[CV] ................................ gamma=1, score=0.485011 -   0.0s\n",
      "[CV] gamma=1 .........................................................\n",
      "[CV] ................................ gamma=1, score=0.531804 -   0.0s\n",
      "[CV] gamma=1 .........................................................\n",
      "[CV] ................................ gamma=1, score=0.531929 -   0.0s\n",
      "[CV] gamma=1.5 .......................................................\n",
      "[CV] .............................. gamma=1.5, score=0.485011 -   0.0s\n",
      "[CV] gamma=1.5 .......................................................\n",
      "[CV] .............................. gamma=1.5, score=0.531804 -   0.0s\n",
      "[CV] gamma=1.5 .......................................................\n",
      "[CV] .............................. gamma=1.5, score=0.531929 -   0.0s\n",
      "[CV] gamma=2 .........................................................\n",
      "[CV] ................................ gamma=2, score=0.485011 -   0.0s\n",
      "[CV] gamma=2 .........................................................\n",
      "[CV] ................................ gamma=2, score=0.531804 -   0.1s\n",
      "[CV] gamma=2 .........................................................\n",
      "[CV] ................................ gamma=2, score=0.531929 -   0.0s\n",
      "[CV] gamma=5 .........................................................\n",
      "[CV] ................................ gamma=5, score=0.485011 -   0.0s\n",
      "[CV] gamma=5 .........................................................\n",
      "[CV] ................................ gamma=5, score=0.531804 -   0.0s\n",
      "[CV] gamma=5 .........................................................\n",
      "[CV] ................................ gamma=5, score=0.531929 -   0.0s\n"
     ]
    },
    {
     "name": "stderr",
     "output_type": "stream",
     "text": [
      "[Parallel(n_jobs=1)]: Done  15 out of  15 | elapsed:    1.9s finished\n"
     ]
    },
    {
     "name": "stdout",
     "output_type": "stream",
     "text": [
      "Fitting 3 folds for each of 5 candidates, totalling 15 fits\n",
      "[CV] gamma=0.5 .......................................................\n",
      "[CV] .............................. gamma=0.5, score=0.517056 -   0.0s\n",
      "[CV] gamma=0.5 .......................................................\n",
      "[CV] .............................. gamma=0.5, score=0.518542 -   0.0s\n",
      "[CV] gamma=0.5 .......................................................\n"
     ]
    },
    {
     "name": "stderr",
     "output_type": "stream",
     "text": [
      "[Parallel(n_jobs=1)]: Done   1 out of   1 | elapsed:    0.0s remaining:    0.0s\n",
      "[Parallel(n_jobs=1)]: Done   2 out of   2 | elapsed:    0.1s remaining:    0.0s\n"
     ]
    },
    {
     "name": "stdout",
     "output_type": "stream",
     "text": [
      "[CV] .............................. gamma=0.5, score=0.549004 -   0.1s\n",
      "[CV] gamma=1 .........................................................\n",
      "[CV] ................................ gamma=1, score=0.517056 -   0.3s\n",
      "[CV] gamma=1 .........................................................\n",
      "[CV] ................................ gamma=1, score=0.518542 -   0.1s\n",
      "[CV] gamma=1 .........................................................\n",
      "[CV] ................................ gamma=1, score=0.549004 -   0.0s\n",
      "[CV] gamma=1.5 .......................................................\n",
      "[CV] .............................. gamma=1.5, score=0.517056 -   0.1s\n",
      "[CV] gamma=1.5 .......................................................\n",
      "[CV] .............................. gamma=1.5, score=0.518542 -   0.2s\n",
      "[CV] gamma=1.5 .......................................................\n",
      "[CV] .............................. gamma=1.5, score=0.549004 -   0.1s\n",
      "[CV] gamma=2 .........................................................\n",
      "[CV] ................................ gamma=2, score=0.517056 -   0.1s\n",
      "[CV] gamma=2 .........................................................\n",
      "[CV] ................................ gamma=2, score=0.518542 -   0.0s\n",
      "[CV] gamma=2 .........................................................\n",
      "[CV] ................................ gamma=2, score=0.549004 -   0.0s\n",
      "[CV] gamma=5 .........................................................\n",
      "[CV] ................................ gamma=5, score=0.517056 -   0.0s\n",
      "[CV] gamma=5 .........................................................\n",
      "[CV] ................................ gamma=5, score=0.518542 -   0.0s\n",
      "[CV] gamma=5 .........................................................\n",
      "[CV] ................................ gamma=5, score=0.549004 -   0.0s\n"
     ]
    },
    {
     "name": "stderr",
     "output_type": "stream",
     "text": [
      "[Parallel(n_jobs=1)]: Done  15 out of  15 | elapsed:    2.4s finished\n"
     ]
    },
    {
     "name": "stdout",
     "output_type": "stream",
     "text": [
      "Fitting 3 folds for each of 5 candidates, totalling 15 fits\n",
      "[CV] gamma=0.5 .......................................................\n",
      "[CV] .............................. gamma=0.5, score=0.533293 -   0.0s\n",
      "[CV] gamma=0.5 .......................................................\n",
      "[CV] .............................. gamma=0.5, score=0.532293 -   0.0s\n",
      "[CV] gamma=0.5 .......................................................\n"
     ]
    },
    {
     "name": "stderr",
     "output_type": "stream",
     "text": [
      "[Parallel(n_jobs=1)]: Done   1 out of   1 | elapsed:    0.0s remaining:    0.0s\n",
      "[Parallel(n_jobs=1)]: Done   2 out of   2 | elapsed:    0.1s remaining:    0.0s\n"
     ]
    },
    {
     "name": "stdout",
     "output_type": "stream",
     "text": [
      "[CV] .............................. gamma=0.5, score=0.522524 -   0.2s\n",
      "[CV] gamma=1 .........................................................\n",
      "[CV] ................................ gamma=1, score=0.533293 -   0.0s\n",
      "[CV] gamma=1 .........................................................\n",
      "[CV] ................................ gamma=1, score=0.532293 -   0.0s\n",
      "[CV] gamma=1 .........................................................\n",
      "[CV] ................................ gamma=1, score=0.522524 -   0.0s\n",
      "[CV] gamma=1.5 .......................................................\n",
      "[CV] .............................. gamma=1.5, score=0.533293 -   0.0s\n",
      "[CV] gamma=1.5 .......................................................\n",
      "[CV] .............................. gamma=1.5, score=0.532293 -   0.0s\n",
      "[CV] gamma=1.5 .......................................................\n",
      "[CV] .............................. gamma=1.5, score=0.522524 -   0.0s\n",
      "[CV] gamma=2 .........................................................\n",
      "[CV] ................................ gamma=2, score=0.533293 -   0.0s\n",
      "[CV] gamma=2 .........................................................\n",
      "[CV] ................................ gamma=2, score=0.532293 -   0.0s\n",
      "[CV] gamma=2 .........................................................\n",
      "[CV] ................................ gamma=2, score=0.522524 -   0.0s\n",
      "[CV] gamma=5 .........................................................\n",
      "[CV] ................................ gamma=5, score=0.533293 -   0.0s\n",
      "[CV] gamma=5 .........................................................\n",
      "[CV] ................................ gamma=5, score=0.532293 -   0.0s\n",
      "[CV] gamma=5 .........................................................\n",
      "[CV] ................................ gamma=5, score=0.522524 -   0.0s\n"
     ]
    },
    {
     "name": "stderr",
     "output_type": "stream",
     "text": [
      "[Parallel(n_jobs=1)]: Done  15 out of  15 | elapsed:    1.4s finished\n"
     ]
    },
    {
     "name": "stdout",
     "output_type": "stream",
     "text": [
      "Fitting 3 folds for each of 5 candidates, totalling 15 fits\n",
      "[CV] gamma=0.5 .......................................................\n",
      "[CV] .............................. gamma=0.5, score=0.534158 -   0.2s\n",
      "[CV] gamma=0.5 .......................................................\n"
     ]
    },
    {
     "name": "stderr",
     "output_type": "stream",
     "text": [
      "[Parallel(n_jobs=1)]: Done   1 out of   1 | elapsed:    0.2s remaining:    0.0s\n"
     ]
    },
    {
     "name": "stdout",
     "output_type": "stream",
     "text": [
      "[CV] .............................. gamma=0.5, score=0.503046 -   0.4s\n",
      "[CV] gamma=0.5 .......................................................\n"
     ]
    },
    {
     "name": "stderr",
     "output_type": "stream",
     "text": [
      "[Parallel(n_jobs=1)]: Done   2 out of   2 | elapsed:    0.7s remaining:    0.0s\n"
     ]
    },
    {
     "name": "stdout",
     "output_type": "stream",
     "text": [
      "[CV] .............................. gamma=0.5, score=0.550536 -   0.3s\n",
      "[CV] gamma=1 .........................................................\n",
      "[CV] ................................ gamma=1, score=0.534158 -   0.1s\n",
      "[CV] gamma=1 .........................................................\n",
      "[CV] ................................ gamma=1, score=0.503046 -   0.1s\n",
      "[CV] gamma=1 .........................................................\n",
      "[CV] ................................ gamma=1, score=0.550536 -   0.0s\n",
      "[CV] gamma=1.5 .......................................................\n",
      "[CV] .............................. gamma=1.5, score=0.534158 -   0.0s\n",
      "[CV] gamma=1.5 .......................................................\n",
      "[CV] .............................. gamma=1.5, score=0.503046 -   0.0s\n",
      "[CV] gamma=1.5 .......................................................\n",
      "[CV] .............................. gamma=1.5, score=0.550536 -   0.0s\n",
      "[CV] gamma=2 .........................................................\n",
      "[CV] ................................ gamma=2, score=0.534158 -   0.0s\n",
      "[CV] gamma=2 .........................................................\n",
      "[CV] ................................ gamma=2, score=0.503046 -   0.0s\n",
      "[CV] gamma=2 .........................................................\n",
      "[CV] ................................ gamma=2, score=0.550536 -   0.0s\n",
      "[CV] gamma=5 .........................................................\n",
      "[CV] ................................ gamma=5, score=0.534158 -   0.0s\n",
      "[CV] gamma=5 .........................................................\n",
      "[CV] ................................ gamma=5, score=0.503046 -   0.0s\n",
      "[CV] gamma=5 .........................................................\n",
      "[CV] ................................ gamma=5, score=0.550536 -   0.3s\n"
     ]
    },
    {
     "name": "stderr",
     "output_type": "stream",
     "text": [
      "[Parallel(n_jobs=1)]: Done  15 out of  15 | elapsed:    2.7s finished\n"
     ]
    },
    {
     "name": "stdout",
     "output_type": "stream",
     "text": [
      "Fitting 3 folds for each of 5 candidates, totalling 15 fits\n",
      "[CV] gamma=0.5 .......................................................\n",
      "[CV] .............................. gamma=0.5, score=0.559364 -   0.0s\n",
      "[CV] gamma=0.5 .......................................................\n",
      "[CV] .............................. gamma=0.5, score=0.540776 -   0.0s\n",
      "[CV] gamma=0.5 .......................................................\n"
     ]
    },
    {
     "name": "stderr",
     "output_type": "stream",
     "text": [
      "[Parallel(n_jobs=1)]: Done   1 out of   1 | elapsed:    0.0s remaining:    0.0s\n",
      "[Parallel(n_jobs=1)]: Done   2 out of   2 | elapsed:    0.1s remaining:    0.0s\n"
     ]
    },
    {
     "name": "stdout",
     "output_type": "stream",
     "text": [
      "[CV] .............................. gamma=0.5, score=0.556705 -   0.0s\n",
      "[CV] gamma=1 .........................................................\n",
      "[CV] ................................ gamma=1, score=0.559364 -   0.0s\n",
      "[CV] gamma=1 .........................................................\n",
      "[CV] ................................ gamma=1, score=0.540776 -   0.0s\n",
      "[CV] gamma=1 .........................................................\n",
      "[CV] ................................ gamma=1, score=0.556705 -   0.0s\n",
      "[CV] gamma=1.5 .......................................................\n",
      "[CV] .............................. gamma=1.5, score=0.559364 -   0.0s\n",
      "[CV] gamma=1.5 .......................................................\n",
      "[CV] .............................. gamma=1.5, score=0.540776 -   0.0s\n",
      "[CV] gamma=1.5 .......................................................\n",
      "[CV] .............................. gamma=1.5, score=0.556705 -   0.0s\n",
      "[CV] gamma=2 .........................................................\n",
      "[CV] ................................ gamma=2, score=0.559364 -   0.0s\n",
      "[CV] gamma=2 .........................................................\n",
      "[CV] ................................ gamma=2, score=0.540776 -   0.0s\n",
      "[CV] gamma=2 .........................................................\n",
      "[CV] ................................ gamma=2, score=0.556705 -   0.0s\n",
      "[CV] gamma=5 .........................................................\n",
      "[CV] ................................ gamma=5, score=0.559364 -   0.0s\n",
      "[CV] gamma=5 .........................................................\n",
      "[CV] ................................ gamma=5, score=0.540776 -   0.0s\n",
      "[CV] gamma=5 .........................................................\n",
      "[CV] ................................ gamma=5, score=0.556705 -   0.0s\n"
     ]
    },
    {
     "name": "stderr",
     "output_type": "stream",
     "text": [
      "[Parallel(n_jobs=1)]: Done  15 out of  15 | elapsed:    1.3s finished\n"
     ]
    },
    {
     "name": "stdout",
     "output_type": "stream",
     "text": [
      "Fitting 3 folds for each of 5 candidates, totalling 15 fits\n",
      "[CV] gamma=0.5 .......................................................\n",
      "[CV] .............................. gamma=0.5, score=0.543948 -   0.0s\n",
      "[CV] gamma=0.5 .......................................................\n",
      "[CV] .............................. gamma=0.5, score=0.501905 -   0.0s\n",
      "[CV] gamma=0.5 .......................................................\n"
     ]
    },
    {
     "name": "stderr",
     "output_type": "stream",
     "text": [
      "[Parallel(n_jobs=1)]: Done   1 out of   1 | elapsed:    0.0s remaining:    0.0s\n",
      "[Parallel(n_jobs=1)]: Done   2 out of   2 | elapsed:    0.1s remaining:    0.0s\n"
     ]
    },
    {
     "name": "stdout",
     "output_type": "stream",
     "text": [
      "[CV] .............................. gamma=0.5, score=0.553583 -   0.0s\n",
      "[CV] gamma=1 .........................................................\n",
      "[CV] ................................ gamma=1, score=0.543948 -   0.0s\n",
      "[CV] gamma=1 .........................................................\n",
      "[CV] ................................ gamma=1, score=0.501905 -   0.0s\n",
      "[CV] gamma=1 .........................................................\n",
      "[CV] ................................ gamma=1, score=0.553583 -   0.0s\n",
      "[CV] gamma=1.5 .......................................................\n",
      "[CV] .............................. gamma=1.5, score=0.543948 -   0.0s\n",
      "[CV] gamma=1.5 .......................................................\n",
      "[CV] .............................. gamma=1.5, score=0.501905 -   0.0s\n",
      "[CV] gamma=1.5 .......................................................\n",
      "[CV] .............................. gamma=1.5, score=0.553583 -   0.0s\n",
      "[CV] gamma=2 .........................................................\n",
      "[CV] ................................ gamma=2, score=0.543948 -   0.0s\n",
      "[CV] gamma=2 .........................................................\n",
      "[CV] ................................ gamma=2, score=0.501905 -   0.0s\n",
      "[CV] gamma=2 .........................................................\n",
      "[CV] ................................ gamma=2, score=0.553583 -   0.0s\n",
      "[CV] gamma=5 .........................................................\n",
      "[CV] ................................ gamma=5, score=0.543948 -   0.0s\n",
      "[CV] gamma=5 .........................................................\n",
      "[CV] ................................ gamma=5, score=0.501905 -   0.0s\n",
      "[CV] gamma=5 .........................................................\n",
      "[CV] ................................ gamma=5, score=0.553583 -   0.0s\n"
     ]
    },
    {
     "name": "stderr",
     "output_type": "stream",
     "text": [
      "[Parallel(n_jobs=1)]: Done  15 out of  15 | elapsed:    1.3s finished\n"
     ]
    },
    {
     "name": "stdout",
     "output_type": "stream",
     "text": [
      "Fitting 3 folds for each of 5 candidates, totalling 15 fits\n",
      "[CV] gamma=0.5 .......................................................\n",
      "[CV] .............................. gamma=0.5, score=0.554428 -   0.1s\n",
      "[CV] gamma=0.5 .......................................................\n"
     ]
    },
    {
     "name": "stderr",
     "output_type": "stream",
     "text": [
      "[Parallel(n_jobs=1)]: Done   1 out of   1 | elapsed:    0.1s remaining:    0.0s\n"
     ]
    },
    {
     "name": "stdout",
     "output_type": "stream",
     "text": [
      "[CV] .............................. gamma=0.5, score=0.505914 -   0.5s\n",
      "[CV] gamma=0.5 .......................................................\n",
      "[CV] .............................. gamma=0.5, score=0.560500 -   0.0s\n",
      "[CV] gamma=1 .........................................................\n"
     ]
    },
    {
     "name": "stderr",
     "output_type": "stream",
     "text": [
      "[Parallel(n_jobs=1)]: Done   2 out of   2 | elapsed:    0.7s remaining:    0.0s\n"
     ]
    },
    {
     "name": "stdout",
     "output_type": "stream",
     "text": [
      "[CV] ................................ gamma=1, score=0.554428 -   0.0s\n",
      "[CV] gamma=1 .........................................................\n",
      "[CV] ................................ gamma=1, score=0.505914 -   0.1s\n",
      "[CV] gamma=1 .........................................................\n",
      "[CV] ................................ gamma=1, score=0.560500 -   0.0s\n",
      "[CV] gamma=1.5 .......................................................\n",
      "[CV] .............................. gamma=1.5, score=0.554428 -   0.1s\n",
      "[CV] gamma=1.5 .......................................................\n",
      "[CV] .............................. gamma=1.5, score=0.505914 -   0.0s\n",
      "[CV] gamma=1.5 .......................................................\n",
      "[CV] .............................. gamma=1.5, score=0.560500 -   0.1s\n",
      "[CV] gamma=2 .........................................................\n",
      "[CV] ................................ gamma=2, score=0.554428 -   0.0s\n",
      "[CV] gamma=2 .........................................................\n",
      "[CV] ................................ gamma=2, score=0.505914 -   0.0s\n",
      "[CV] gamma=2 .........................................................\n",
      "[CV] ................................ gamma=2, score=0.560500 -   0.0s\n",
      "[CV] gamma=5 .........................................................\n",
      "[CV] ................................ gamma=5, score=0.554428 -   0.0s\n",
      "[CV] gamma=5 .........................................................\n",
      "[CV] ................................ gamma=5, score=0.505914 -   0.0s\n",
      "[CV] gamma=5 .........................................................\n",
      "[CV] ................................ gamma=5, score=0.560500 -   0.0s\n",
      "Fitting 3 folds for each of 5 candidates, totalling 15 fits\n",
      "[CV] gamma=0.5 .......................................................\n"
     ]
    },
    {
     "name": "stderr",
     "output_type": "stream",
     "text": [
      "[Parallel(n_jobs=1)]: Done  15 out of  15 | elapsed:    2.3s finished\n"
     ]
    },
    {
     "name": "stdout",
     "output_type": "stream",
     "text": [
      "[CV] .............................. gamma=0.5, score=0.551776 -   0.0s\n",
      "[CV] gamma=0.5 .......................................................\n",
      "[CV] .............................. gamma=0.5, score=0.517846 -   0.0s\n",
      "[CV] gamma=0.5 .......................................................\n"
     ]
    },
    {
     "name": "stderr",
     "output_type": "stream",
     "text": [
      "[Parallel(n_jobs=1)]: Done   1 out of   1 | elapsed:    0.0s remaining:    0.0s\n",
      "[Parallel(n_jobs=1)]: Done   2 out of   2 | elapsed:    0.1s remaining:    0.0s\n"
     ]
    },
    {
     "name": "stdout",
     "output_type": "stream",
     "text": [
      "[CV] .............................. gamma=0.5, score=0.559153 -   0.0s\n",
      "[CV] gamma=1 .........................................................\n",
      "[CV] ................................ gamma=1, score=0.551776 -   0.0s\n",
      "[CV] gamma=1 .........................................................\n",
      "[CV] ................................ gamma=1, score=0.517846 -   0.0s\n",
      "[CV] gamma=1 .........................................................\n",
      "[CV] ................................ gamma=1, score=0.559153 -   0.0s\n",
      "[CV] gamma=1.5 .......................................................\n",
      "[CV] .............................. gamma=1.5, score=0.551776 -   0.0s\n",
      "[CV] gamma=1.5 .......................................................\n",
      "[CV] .............................. gamma=1.5, score=0.517846 -   0.0s\n",
      "[CV] gamma=1.5 .......................................................\n",
      "[CV] .............................. gamma=1.5, score=0.559153 -   0.0s\n",
      "[CV] gamma=2 .........................................................\n",
      "[CV] ................................ gamma=2, score=0.551776 -   0.0s\n",
      "[CV] gamma=2 .........................................................\n",
      "[CV] ................................ gamma=2, score=0.517846 -   0.0s\n",
      "[CV] gamma=2 .........................................................\n",
      "[CV] ................................ gamma=2, score=0.559153 -   0.0s\n",
      "[CV] gamma=5 .........................................................\n",
      "[CV] ................................ gamma=5, score=0.551776 -   0.0s\n",
      "[CV] gamma=5 .........................................................\n",
      "[CV] ................................ gamma=5, score=0.517846 -   0.0s\n",
      "[CV] gamma=5 .........................................................\n",
      "[CV] ................................ gamma=5, score=0.559153 -   0.0s\n"
     ]
    },
    {
     "name": "stderr",
     "output_type": "stream",
     "text": [
      "[Parallel(n_jobs=1)]: Done  15 out of  15 | elapsed:    1.5s finished\n"
     ]
    },
    {
     "name": "stdout",
     "output_type": "stream",
     "text": [
      "Fitting 3 folds for each of 5 candidates, totalling 15 fits\n",
      "[CV] gamma=0.5 .......................................................\n",
      "[CV] .............................. gamma=0.5, score=0.545611 -   0.0s\n",
      "[CV] gamma=0.5 .......................................................\n"
     ]
    },
    {
     "name": "stderr",
     "output_type": "stream",
     "text": [
      "[Parallel(n_jobs=1)]: Done   1 out of   1 | elapsed:    0.0s remaining:    0.0s\n",
      "[Parallel(n_jobs=1)]: Done   2 out of   2 | elapsed:    0.1s remaining:    0.0s\n"
     ]
    },
    {
     "name": "stdout",
     "output_type": "stream",
     "text": [
      "[CV] .............................. gamma=0.5, score=0.507982 -   0.0s\n",
      "[CV] gamma=0.5 .......................................................\n",
      "[CV] .............................. gamma=0.5, score=0.588336 -   0.0s\n",
      "[CV] gamma=1 .........................................................\n",
      "[CV] ................................ gamma=1, score=0.545611 -   0.0s\n",
      "[CV] gamma=1 .........................................................\n",
      "[CV] ................................ gamma=1, score=0.507982 -   0.0s\n",
      "[CV] gamma=1 .........................................................\n",
      "[CV] ................................ gamma=1, score=0.588336 -   0.0s\n",
      "[CV] gamma=1.5 .......................................................\n",
      "[CV] .............................. gamma=1.5, score=0.545611 -   0.0s\n",
      "[CV] gamma=1.5 .......................................................\n",
      "[CV] .............................. gamma=1.5, score=0.507982 -   0.0s\n",
      "[CV] gamma=1.5 .......................................................\n",
      "[CV] .............................. gamma=1.5, score=0.588336 -   0.0s\n",
      "[CV] gamma=2 .........................................................\n",
      "[CV] ................................ gamma=2, score=0.545611 -   0.0s\n",
      "[CV] gamma=2 .........................................................\n",
      "[CV] ................................ gamma=2, score=0.507982 -   0.0s\n",
      "[CV] gamma=2 .........................................................\n",
      "[CV] ................................ gamma=2, score=0.588336 -   0.0s\n",
      "[CV] gamma=5 .........................................................\n",
      "[CV] ................................ gamma=5, score=0.545611 -   0.0s\n",
      "[CV] gamma=5 .........................................................\n",
      "[CV] ................................ gamma=5, score=0.507982 -   0.0s\n",
      "[CV] gamma=5 .........................................................\n",
      "[CV] ................................ gamma=5, score=0.588336 -   0.0s\n"
     ]
    },
    {
     "name": "stderr",
     "output_type": "stream",
     "text": [
      "[Parallel(n_jobs=1)]: Done  15 out of  15 | elapsed:    1.5s finished\n"
     ]
    }
   ],
   "source": [
    "from sklearn.cross_validation import cross_val_score\n",
    "scor = cross_val_score(grid,X_test,y_test,cv =10)"
   ]
  },
  {
   "cell_type": "code",
   "execution_count": 58,
   "metadata": {},
   "outputs": [
    {
     "name": "stdout",
     "output_type": "stream",
     "text": [
      "53.095476130306096\n"
     ]
    }
   ],
   "source": [
    "print(scor.mean()*100)"
   ]
  },
  {
   "cell_type": "code",
   "execution_count": 59,
   "metadata": {},
   "outputs": [],
   "source": [
    "tes = pd.read_csv('test_stop.xls')"
   ]
  },
  {
   "cell_type": "code",
   "execution_count": 62,
   "metadata": {},
   "outputs": [],
   "source": [
    "tes.drop('Unnamed: 0',axis =1,inplace = True)"
   ]
  },
  {
   "cell_type": "code",
   "execution_count": 63,
   "metadata": {},
   "outputs": [],
   "source": [
    "preddd = grid.predict(tes)"
   ]
  },
  {
   "cell_type": "code",
   "execution_count": 64,
   "metadata": {},
   "outputs": [],
   "source": [
    "dat11  =pd.read_csv('submission_price.xls')\n",
    "dat11.drop('Product_Supermarket_Sales',axis = 1 , inplace = True)"
   ]
  },
  {
   "cell_type": "code",
   "execution_count": 65,
   "metadata": {},
   "outputs": [],
   "source": [
    "a = pd.DataFrame({'Product_Supermarket_Sales':preddd})"
   ]
  },
  {
   "cell_type": "code",
   "execution_count": 69,
   "metadata": {},
   "outputs": [],
   "source": [
    "submitted1 = pd.concat([dat11,a],axis =1)"
   ]
  },
  {
   "cell_type": "code",
   "execution_count": 70,
   "metadata": {},
   "outputs": [],
   "source": [
    "submitted1.to_csv('ccc.csv',index = False)"
   ]
  },
  {
   "cell_type": "code",
   "execution_count": 72,
   "metadata": {},
   "outputs": [],
   "source": [
    "submitted1.to_csv('sub8.csv',index = False)"
   ]
  },
  {
   "cell_type": "code",
   "execution_count": null,
   "metadata": {},
   "outputs": [],
   "source": []
  }
 ],
 "metadata": {
  "kernelspec": {
   "display_name": "Python 3",
   "language": "python",
   "name": "python3"
  },
  "language_info": {
   "codemirror_mode": {
    "name": "ipython",
    "version": 3
   },
   "file_extension": ".py",
   "mimetype": "text/x-python",
   "name": "python",
   "nbconvert_exporter": "python",
   "pygments_lexer": "ipython3",
   "version": "3.6.4"
  }
 },
 "nbformat": 4,
 "nbformat_minor": 2
}
